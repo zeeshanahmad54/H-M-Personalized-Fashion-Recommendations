{
  "cells": [
    {
      "cell_type": "markdown",
      "metadata": {
        "id": "view-in-github",
        "colab_type": "text"
      },
      "source": [
        "<a href=\"https://colab.research.google.com/github/zeeshanahmad54/H-M-Personalized-Fashion-Recommendations/blob/main/CSCI567_team72_H_and_M_fashion_Item_Similarities_with_prices.ipynb\" target=\"_parent\"><img src=\"https://colab.research.google.com/assets/colab-badge.svg\" alt=\"Open In Colab\"/></a>"
      ]
    },
    {
      "cell_type": "markdown",
      "source": [
        "## Imports and DF Setup"
      ],
      "metadata": {
        "id": "GbgKjwqHxla8"
      }
    },
    {
      "cell_type": "code",
      "execution_count": null,
      "metadata": {
        "id": "vAmWMYmhGI1N"
      },
      "outputs": [],
      "source": [
        "from IPython.display import HTML, display\n",
        "\n",
        "def set_css():\n",
        "  display(HTML('''\n",
        "  <style>\n",
        "    pre {\n",
        "        white-space: pre-wrap;\n",
        "    }\n",
        "  </style>\n",
        "  '''))\n",
        "get_ipython().events.register('pre_run_cell', set_css)"
      ]
    },
    {
      "cell_type": "code",
      "execution_count": null,
      "metadata": {
        "colab": {
          "base_uri": "https://localhost:8080/"
        },
        "id": "qYElx1fjlR_S",
        "outputId": "0870eada-9849-4cce-fb89-01d81341cc9b"
      },
      "outputs": [
        {
          "output_type": "display_data",
          "data": {
            "text/plain": [
              "<IPython.core.display.HTML object>"
            ],
            "text/html": [
              "\n",
              "  <style>\n",
              "    pre {\n",
              "        white-space: pre-wrap;\n",
              "    }\n",
              "  </style>\n",
              "  "
            ]
          },
          "metadata": {}
        },
        {
          "output_type": "stream",
          "name": "stdout",
          "text": [
            "Requirement already satisfied: ipython-autotime in /usr/local/lib/python3.7/dist-packages (0.3.1)\n",
            "Requirement already satisfied: ipython in /usr/local/lib/python3.7/dist-packages (from ipython-autotime) (5.5.0)\n",
            "Requirement already satisfied: decorator in /usr/local/lib/python3.7/dist-packages (from ipython->ipython-autotime) (4.4.2)\n",
            "Requirement already satisfied: simplegeneric>0.8 in /usr/local/lib/python3.7/dist-packages (from ipython->ipython-autotime) (0.8.1)\n",
            "Requirement already satisfied: prompt-toolkit<2.0.0,>=1.0.4 in /usr/local/lib/python3.7/dist-packages (from ipython->ipython-autotime) (1.0.18)\n",
            "Requirement already satisfied: traitlets>=4.2 in /usr/local/lib/python3.7/dist-packages (from ipython->ipython-autotime) (5.1.1)\n",
            "Requirement already satisfied: pexpect in /usr/local/lib/python3.7/dist-packages (from ipython->ipython-autotime) (4.8.0)\n",
            "Requirement already satisfied: setuptools>=18.5 in /usr/local/lib/python3.7/dist-packages (from ipython->ipython-autotime) (57.4.0)\n",
            "Requirement already satisfied: pygments in /usr/local/lib/python3.7/dist-packages (from ipython->ipython-autotime) (2.6.1)\n",
            "Requirement already satisfied: pickleshare in /usr/local/lib/python3.7/dist-packages (from ipython->ipython-autotime) (0.7.5)\n",
            "Requirement already satisfied: six>=1.9.0 in /usr/local/lib/python3.7/dist-packages (from prompt-toolkit<2.0.0,>=1.0.4->ipython->ipython-autotime) (1.15.0)\n",
            "Requirement already satisfied: wcwidth in /usr/local/lib/python3.7/dist-packages (from prompt-toolkit<2.0.0,>=1.0.4->ipython->ipython-autotime) (0.2.5)\n",
            "Requirement already satisfied: ptyprocess>=0.5 in /usr/local/lib/python3.7/dist-packages (from pexpect->ipython->ipython-autotime) (0.7.0)\n",
            "time: 231 µs (started: 2022-05-04 23:12:34 +00:00)\n"
          ]
        }
      ],
      "source": [
        "!pip install ipython-autotime\n",
        "%load_ext autotime"
      ]
    },
    {
      "cell_type": "code",
      "execution_count": null,
      "metadata": {
        "colab": {
          "base_uri": "https://localhost:8080/"
        },
        "id": "wMcOtkhEFO0R",
        "outputId": "1a8d993c-d739-4c3c-a1db-d8b845dfad85"
      },
      "outputs": [
        {
          "output_type": "display_data",
          "data": {
            "text/plain": [
              "<IPython.core.display.HTML object>"
            ],
            "text/html": [
              "\n",
              "  <style>\n",
              "    pre {\n",
              "        white-space: pre-wrap;\n",
              "    }\n",
              "  </style>\n",
              "  "
            ]
          },
          "metadata": {}
        },
        {
          "output_type": "stream",
          "name": "stdout",
          "text": [
            "Requirement already satisfied: kaggle in /usr/local/lib/python3.7/dist-packages (1.5.12)\n",
            "Requirement already satisfied: six>=1.10 in /usr/local/lib/python3.7/dist-packages (from kaggle) (1.15.0)\n",
            "Requirement already satisfied: requests in /usr/local/lib/python3.7/dist-packages (from kaggle) (2.23.0)\n",
            "Requirement already satisfied: python-slugify in /usr/local/lib/python3.7/dist-packages (from kaggle) (6.1.2)\n",
            "Requirement already satisfied: tqdm in /usr/local/lib/python3.7/dist-packages (from kaggle) (4.64.0)\n",
            "Requirement already satisfied: certifi in /usr/local/lib/python3.7/dist-packages (from kaggle) (2021.10.8)\n",
            "Requirement already satisfied: urllib3 in /usr/local/lib/python3.7/dist-packages (from kaggle) (1.24.3)\n",
            "Requirement already satisfied: python-dateutil in /usr/local/lib/python3.7/dist-packages (from kaggle) (2.8.2)\n",
            "Requirement already satisfied: text-unidecode>=1.3 in /usr/local/lib/python3.7/dist-packages (from python-slugify->kaggle) (1.3)\n",
            "Requirement already satisfied: chardet<4,>=3.0.2 in /usr/local/lib/python3.7/dist-packages (from requests->kaggle) (3.0.4)\n",
            "Requirement already satisfied: idna<3,>=2.5 in /usr/local/lib/python3.7/dist-packages (from requests->kaggle) (2.10)\n",
            "Requirement already satisfied: sentence_transformers in /usr/local/lib/python3.7/dist-packages (2.2.0)\n",
            "Requirement already satisfied: simcse in /usr/local/lib/python3.7/dist-packages (0.4)\n",
            "Requirement already satisfied: scipy in /usr/local/lib/python3.7/dist-packages (from sentence_transformers) (1.5.4)\n",
            "Requirement already satisfied: huggingface-hub in /usr/local/lib/python3.7/dist-packages (from sentence_transformers) (0.5.1)\n",
            "Requirement already satisfied: scikit-learn in /usr/local/lib/python3.7/dist-packages (from sentence_transformers) (1.0.2)\n",
            "Requirement already satisfied: nltk in /usr/local/lib/python3.7/dist-packages (from sentence_transformers) (3.2.5)\n",
            "Requirement already satisfied: transformers<5.0.0,>=4.6.0 in /usr/local/lib/python3.7/dist-packages (from sentence_transformers) (4.18.0)\n",
            "Requirement already satisfied: torch>=1.6.0 in /usr/local/lib/python3.7/dist-packages (from sentence_transformers) (1.11.0+cu113)\n",
            "Requirement already satisfied: numpy in /usr/local/lib/python3.7/dist-packages (from sentence_transformers) (1.19.5)\n",
            "Requirement already satisfied: sentencepiece in /usr/local/lib/python3.7/dist-packages (from sentence_transformers) (0.1.96)\n",
            "Requirement already satisfied: tqdm in /usr/local/lib/python3.7/dist-packages (from sentence_transformers) (4.64.0)\n",
            "Requirement already satisfied: torchvision in /usr/local/lib/python3.7/dist-packages (from sentence_transformers) (0.12.0+cu113)\n",
            "Requirement already satisfied: typing-extensions in /usr/local/lib/python3.7/dist-packages (from torch>=1.6.0->sentence_transformers) (4.2.0)\n",
            "Requirement already satisfied: filelock in /usr/local/lib/python3.7/dist-packages (from transformers<5.0.0,>=4.6.0->sentence_transformers) (3.6.0)\n",
            "Requirement already satisfied: importlib-metadata in /usr/local/lib/python3.7/dist-packages (from transformers<5.0.0,>=4.6.0->sentence_transformers) (4.11.3)\n",
            "Requirement already satisfied: regex!=2019.12.17 in /usr/local/lib/python3.7/dist-packages (from transformers<5.0.0,>=4.6.0->sentence_transformers) (2019.12.20)\n",
            "Requirement already satisfied: sacremoses in /usr/local/lib/python3.7/dist-packages (from transformers<5.0.0,>=4.6.0->sentence_transformers) (0.0.53)\n",
            "Requirement already satisfied: requests in /usr/local/lib/python3.7/dist-packages (from transformers<5.0.0,>=4.6.0->sentence_transformers) (2.23.0)\n",
            "Requirement already satisfied: packaging>=20.0 in /usr/local/lib/python3.7/dist-packages (from transformers<5.0.0,>=4.6.0->sentence_transformers) (21.3)\n",
            "Requirement already satisfied: pyyaml>=5.1 in /usr/local/lib/python3.7/dist-packages (from transformers<5.0.0,>=4.6.0->sentence_transformers) (6.0)\n",
            "Requirement already satisfied: tokenizers!=0.11.3,<0.13,>=0.11.1 in /usr/local/lib/python3.7/dist-packages (from transformers<5.0.0,>=4.6.0->sentence_transformers) (0.12.1)\n",
            "Requirement already satisfied: pyparsing!=3.0.5,>=2.0.2 in /usr/local/lib/python3.7/dist-packages (from packaging>=20.0->transformers<5.0.0,>=4.6.0->sentence_transformers) (3.0.8)\n",
            "Requirement already satisfied: setuptools in /usr/local/lib/python3.7/dist-packages (from simcse) (57.4.0)\n",
            "Requirement already satisfied: zipp>=0.5 in /usr/local/lib/python3.7/dist-packages (from importlib-metadata->transformers<5.0.0,>=4.6.0->sentence_transformers) (3.8.0)\n",
            "Requirement already satisfied: six in /usr/local/lib/python3.7/dist-packages (from nltk->sentence_transformers) (1.15.0)\n",
            "Requirement already satisfied: chardet<4,>=3.0.2 in /usr/local/lib/python3.7/dist-packages (from requests->transformers<5.0.0,>=4.6.0->sentence_transformers) (3.0.4)\n",
            "Requirement already satisfied: idna<3,>=2.5 in /usr/local/lib/python3.7/dist-packages (from requests->transformers<5.0.0,>=4.6.0->sentence_transformers) (2.10)\n",
            "Requirement already satisfied: urllib3!=1.25.0,!=1.25.1,<1.26,>=1.21.1 in /usr/local/lib/python3.7/dist-packages (from requests->transformers<5.0.0,>=4.6.0->sentence_transformers) (1.24.3)\n",
            "Requirement already satisfied: certifi>=2017.4.17 in /usr/local/lib/python3.7/dist-packages (from requests->transformers<5.0.0,>=4.6.0->sentence_transformers) (2021.10.8)\n",
            "Requirement already satisfied: click in /usr/local/lib/python3.7/dist-packages (from sacremoses->transformers<5.0.0,>=4.6.0->sentence_transformers) (7.1.2)\n",
            "Requirement already satisfied: joblib in /usr/local/lib/python3.7/dist-packages (from sacremoses->transformers<5.0.0,>=4.6.0->sentence_transformers) (1.1.0)\n",
            "Requirement already satisfied: threadpoolctl>=2.0.0 in /usr/local/lib/python3.7/dist-packages (from scikit-learn->sentence_transformers) (3.1.0)\n",
            "Requirement already satisfied: pillow!=8.3.*,>=5.3.0 in /usr/local/lib/python3.7/dist-packages (from torchvision->sentence_transformers) (7.1.2)\n",
            "time: 8.06 s (started: 2022-05-04 23:12:34 +00:00)\n"
          ]
        }
      ],
      "source": [
        "!pip install kaggle\n",
        "!pip install sentence_transformers simcse"
      ]
    },
    {
      "cell_type": "code",
      "execution_count": null,
      "metadata": {
        "colab": {
          "base_uri": "https://localhost:8080/"
        },
        "id": "kIZir2TRGSvJ",
        "outputId": "74a58580-be90-4d14-d559-c4c306f5c3db"
      },
      "outputs": [
        {
          "output_type": "display_data",
          "data": {
            "text/plain": [
              "<IPython.core.display.HTML object>"
            ],
            "text/html": [
              "\n",
              "  <style>\n",
              "    pre {\n",
              "        white-space: pre-wrap;\n",
              "    }\n",
              "  </style>\n",
              "  "
            ]
          },
          "metadata": {}
        },
        {
          "output_type": "stream",
          "name": "stdout",
          "text": [
            "Drive already mounted at /content/drive; to attempt to forcibly remount, call drive.mount(\"/content/drive\", force_remount=True).\n",
            "time: 922 ms (started: 2022-05-04 23:12:42 +00:00)\n"
          ]
        }
      ],
      "source": [
        "from google.colab import drive\n",
        "drive.mount('/content/drive')"
      ]
    },
    {
      "cell_type": "code",
      "execution_count": null,
      "metadata": {
        "colab": {
          "base_uri": "https://localhost:8080/"
        },
        "id": "uTEa6FxxGfKj",
        "outputId": "5df0a96f-72c9-41b1-bf2e-3e34e94f8949"
      },
      "outputs": [
        {
          "output_type": "display_data",
          "data": {
            "text/plain": [
              "<IPython.core.display.HTML object>"
            ],
            "text/html": [
              "\n",
              "  <style>\n",
              "    pre {\n",
              "        white-space: pre-wrap;\n",
              "    }\n",
              "  </style>\n",
              "  "
            ]
          },
          "metadata": {}
        },
        {
          "output_type": "stream",
          "name": "stdout",
          "text": [
            "time: 1.86 ms (started: 2022-05-04 23:12:43 +00:00)\n"
          ]
        }
      ],
      "source": [
        "# from google.colab import files\n",
        "\n",
        "# uploaded = files.upload()\n",
        "\n",
        "# for fn in uploaded.keys():\n",
        "#   print('User uploaded file \"{name}\" with length {length} bytes'.format(\n",
        "#       name=fn, length=len(uploaded[fn])))\n",
        "  \n",
        "# # Then move kaggle.json into the folder where the API expects to find it.\n",
        "# !mkdir -p ~/.kaggle/ && mv kaggle.json ~/.kaggle/ && chmod 600 ~/.kaggle/kaggle.json"
      ]
    },
    {
      "cell_type": "code",
      "execution_count": null,
      "metadata": {
        "colab": {
          "base_uri": "https://localhost:8080/"
        },
        "id": "WGBdNQ0sUz_6",
        "outputId": "52bd0a4d-97a9-4bdc-81ab-fca53e3d64e8"
      },
      "outputs": [
        {
          "output_type": "display_data",
          "data": {
            "text/plain": [
              "<IPython.core.display.HTML object>"
            ],
            "text/html": [
              "\n",
              "  <style>\n",
              "    pre {\n",
              "        white-space: pre-wrap;\n",
              "    }\n",
              "  </style>\n",
              "  "
            ]
          },
          "metadata": {}
        },
        {
          "output_type": "stream",
          "name": "stdout",
          "text": [
            "time: 29.6 s (started: 2022-05-04 23:12:43 +00:00)\n"
          ]
        },
        {
          "output_type": "stream",
          "name": "stderr",
          "text": [
            "/usr/local/lib/python3.7/dist-packages/ipykernel_launcher.py:29: FutureWarning: Passing a negative integer is deprecated in version 1.0 and will not be supported in future version. Instead, use None to not limit the column width.\n"
          ]
        }
      ],
      "source": [
        "import pandas as pd\n",
        "import numpy as np\n",
        "import seaborn as sns\n",
        "from matplotlib import pyplot as plt\n",
        "from tqdm.notebook import tqdm\n",
        "\n",
        "import matplotlib.pyplot as plt\n",
        "%matplotlib inline\n",
        "import sklearn\n",
        "from sklearn.preprocessing import StandardScaler\n",
        "from sklearn.cluster import KMeans\n",
        "from sklearn import metrics\n",
        "from sklearn.cluster import AgglomerativeClustering\n",
        "\n",
        "from sentence_transformers import SentenceTransformer, util\n",
        "import spacy\n",
        "import pandas as pd\n",
        "import plotly\n",
        "import plotly.graph_objs as go\n",
        "import matplotlib.pyplot as plt\n",
        "from tqdm import tqdm\n",
        "tqdm.pandas()\n",
        "import numpy as np\n",
        "import heapq\n",
        "\n",
        "\n",
        "model = SentenceTransformer('stsb-roberta-large', device='cuda')\n",
        "\n",
        "pd.set_option('display.max_colwidth', -1)\n",
        "pd.set_option('display.max_columns', None)\n"
      ]
    },
    {
      "cell_type": "markdown",
      "metadata": {
        "id": "YkZS8HKjU8SM"
      },
      "source": [
        "## Load DFs"
      ]
    },
    {
      "cell_type": "code",
      "execution_count": null,
      "metadata": {
        "colab": {
          "base_uri": "https://localhost:8080/",
          "height": 35
        },
        "id": "7hYYmLgSU1a7",
        "outputId": "34b04439-fded-40d8-deed-63c3d6339636"
      },
      "outputs": [
        {
          "output_type": "display_data",
          "data": {
            "text/plain": [
              "<IPython.core.display.HTML object>"
            ],
            "text/html": [
              "\n",
              "  <style>\n",
              "    pre {\n",
              "        white-space: pre-wrap;\n",
              "    }\n",
              "  </style>\n",
              "  "
            ]
          },
          "metadata": {}
        },
        {
          "output_type": "stream",
          "name": "stdout",
          "text": [
            "time: 36.3 s (started: 2022-05-04 11:50:33 +00:00)\n"
          ]
        }
      ],
      "source": [
        "customer_df = pd.read_csv(\"/content/drive/MyDrive/CSCI_567_ML/Data/customers.csv\")"
      ]
    },
    {
      "cell_type": "code",
      "source": [
        "article_df = pd.read_csv(\"/content/drive/MyDrive/CSCI_567_ML/Data/articles.csv\")"
      ],
      "metadata": {
        "id": "V1KYAibKIkAo"
      },
      "execution_count": null,
      "outputs": []
    },
    {
      "cell_type": "code",
      "source": [
        "transaction_df = pd.read_csv(\"/content/drive/MyDrive/CSCI_567_ML/Data/transactions_train.csv\")"
      ],
      "metadata": {
        "colab": {
          "base_uri": "https://localhost:8080/"
        },
        "id": "9LHy0QjoIlWW",
        "outputId": "4c1c9c6d-9dbc-4a4f-f37c-8ac9b82d6831"
      },
      "execution_count": null,
      "outputs": [
        {
          "output_type": "display_data",
          "data": {
            "text/plain": [
              "<IPython.core.display.HTML object>"
            ],
            "text/html": [
              "\n",
              "  <style>\n",
              "    pre {\n",
              "        white-space: pre-wrap;\n",
              "    }\n",
              "  </style>\n",
              "  "
            ]
          },
          "metadata": {}
        },
        {
          "output_type": "stream",
          "name": "stdout",
          "text": [
            "time: 1min 3s (started: 2022-05-04 22:46:19 +00:00)\n"
          ]
        }
      ]
    },
    {
      "cell_type": "code",
      "source": [
        "images_folder = \"/content/drive/MyDrive/CSCI_567_ML/Data/images\""
      ],
      "metadata": {
        "colab": {
          "base_uri": "https://localhost:8080/",
          "height": 35
        },
        "id": "UIGxlrIrImTi",
        "outputId": "24647a83-7783-45db-c1eb-2d37fffd2d5f"
      },
      "execution_count": null,
      "outputs": [
        {
          "output_type": "display_data",
          "data": {
            "text/plain": [
              "<IPython.core.display.HTML object>"
            ],
            "text/html": [
              "\n",
              "  <style>\n",
              "    pre {\n",
              "        white-space: pre-wrap;\n",
              "    }\n",
              "  </style>\n",
              "  "
            ]
          },
          "metadata": {}
        },
        {
          "output_type": "stream",
          "name": "stdout",
          "text": [
            "time: 1.02 ms (started: 2022-05-04 12:55:20 +00:00)\n"
          ]
        }
      ]
    },
    {
      "cell_type": "markdown",
      "metadata": {
        "id": "JiNFA70T575s"
      },
      "source": [
        "## Customers"
      ]
    },
    {
      "cell_type": "code",
      "execution_count": null,
      "metadata": {
        "colab": {
          "base_uri": "https://localhost:8080/"
        },
        "id": "4fZlt-fh56Qw",
        "outputId": "9382e703-3317-4cdd-c270-ab8bfc5f95cc"
      },
      "outputs": [
        {
          "output_type": "display_data",
          "data": {
            "text/plain": [
              "<IPython.core.display.HTML object>"
            ],
            "text/html": [
              "\n",
              "  <style>\n",
              "    pre {\n",
              "        white-space: pre-wrap;\n",
              "    }\n",
              "  </style>\n",
              "  "
            ]
          },
          "metadata": {}
        },
        {
          "output_type": "display_data",
          "data": {
            "text/plain": [
              "<IPython.core.display.HTML object>"
            ],
            "text/html": [
              "\n",
              "  <style>\n",
              "    pre {\n",
              "        white-space: pre-wrap;\n",
              "    }\n",
              "  </style>\n",
              "  "
            ]
          },
          "metadata": {}
        },
        {
          "output_type": "stream",
          "name": "stdout",
          "text": [
            "time: 1.69 ms (started: 2022-05-04 10:38:05 +00:00)\n"
          ]
        }
      ],
      "source": [
        "# customer_id : A unique identifier of every customer\n",
        "# FN : 1 or missed\n",
        "# Active : 1 or missed\n",
        "# club_member_status : Status in club\n",
        "# fashion_news_frequency : How often H&M may send news to customer\n",
        "# age : The current age\n",
        "# postal_code : Postal code of customer"
      ]
    },
    {
      "cell_type": "code",
      "execution_count": null,
      "metadata": {
        "colab": {
          "base_uri": "https://localhost:8080/"
        },
        "id": "LcpKr_u4VKvH",
        "outputId": "eca685d0-62ba-4348-9b05-1c2591ab54c1"
      },
      "outputs": [
        {
          "output_type": "display_data",
          "data": {
            "text/plain": [
              "<IPython.core.display.HTML object>"
            ],
            "text/html": [
              "\n",
              "  <style>\n",
              "    pre {\n",
              "        white-space: pre-wrap;\n",
              "    }\n",
              "  </style>\n",
              "  "
            ]
          },
          "metadata": {}
        },
        {
          "output_type": "display_data",
          "data": {
            "text/plain": [
              "<IPython.core.display.HTML object>"
            ],
            "text/html": [
              "\n",
              "  <style>\n",
              "    pre {\n",
              "        white-space: pre-wrap;\n",
              "    }\n",
              "  </style>\n",
              "  "
            ]
          },
          "metadata": {}
        },
        {
          "output_type": "execute_result",
          "data": {
            "text/plain": [
              "                                                        customer_id   FN  \\\n",
              "0  00000dbacae5abe5e23885899a1fa44253a17956c6d1c3d25f88aa139fdfc657 NaN    \n",
              "1  0000423b00ade91418cceaf3b26c6af3dd342b51fd051eec9c12fb36984420fa NaN    \n",
              "2  000058a12d5b43e67d225668fa1f8d618c13dc232df0cad8ffe7ad4a1091e318 NaN    \n",
              "3  00005ca1c9ed5f5146b52ac8639a40ca9d57aeff4d1bd2c5feb1ca5dff07c43e NaN    \n",
              "4  00006413d8573cd20ed7128e53b7b13819fe5cfc2d801fe7fc0f26dd8d65a85a  1.0   \n",
              "\n",
              "   Active club_member_status fashion_news_frequency   age  \\\n",
              "0 NaN      ACTIVE             NONE                   49.0   \n",
              "1 NaN      ACTIVE             NONE                   25.0   \n",
              "2 NaN      ACTIVE             NONE                   24.0   \n",
              "3 NaN      ACTIVE             NONE                   54.0   \n",
              "4  1.0     ACTIVE             Regularly              52.0   \n",
              "\n",
              "                                                        postal_code  \n",
              "0  52043ee2162cf5aa7ee79974281641c6f11a68d276429a91f8ca0d4b6efa8100  \n",
              "1  2973abc54daa8a5f8ccfe9362140c63247c5eee03f1d93f4c830291c32bc3057  \n",
              "2  64f17e6a330a85798e4998f62d0930d14db8db1c054af6c9090f7dd3e38380dc  \n",
              "3  5d36574f52495e81f019b680c843c443bd343d5ca5b1c222539af5973a23ae6d  \n",
              "4  25fa5ddee9aac01b35208d01736e57942317d756b32ddd4564743b005a805b1d  "
            ],
            "text/html": [
              "\n",
              "  <div id=\"df-6ed345ff-a8e6-4e5f-9410-3c5ad0d4c372\">\n",
              "    <div class=\"colab-df-container\">\n",
              "      <div>\n",
              "<style scoped>\n",
              "    .dataframe tbody tr th:only-of-type {\n",
              "        vertical-align: middle;\n",
              "    }\n",
              "\n",
              "    .dataframe tbody tr th {\n",
              "        vertical-align: top;\n",
              "    }\n",
              "\n",
              "    .dataframe thead th {\n",
              "        text-align: right;\n",
              "    }\n",
              "</style>\n",
              "<table border=\"1\" class=\"dataframe\">\n",
              "  <thead>\n",
              "    <tr style=\"text-align: right;\">\n",
              "      <th></th>\n",
              "      <th>customer_id</th>\n",
              "      <th>FN</th>\n",
              "      <th>Active</th>\n",
              "      <th>club_member_status</th>\n",
              "      <th>fashion_news_frequency</th>\n",
              "      <th>age</th>\n",
              "      <th>postal_code</th>\n",
              "    </tr>\n",
              "  </thead>\n",
              "  <tbody>\n",
              "    <tr>\n",
              "      <th>0</th>\n",
              "      <td>00000dbacae5abe5e23885899a1fa44253a17956c6d1c3d25f88aa139fdfc657</td>\n",
              "      <td>NaN</td>\n",
              "      <td>NaN</td>\n",
              "      <td>ACTIVE</td>\n",
              "      <td>NONE</td>\n",
              "      <td>49.0</td>\n",
              "      <td>52043ee2162cf5aa7ee79974281641c6f11a68d276429a91f8ca0d4b6efa8100</td>\n",
              "    </tr>\n",
              "    <tr>\n",
              "      <th>1</th>\n",
              "      <td>0000423b00ade91418cceaf3b26c6af3dd342b51fd051eec9c12fb36984420fa</td>\n",
              "      <td>NaN</td>\n",
              "      <td>NaN</td>\n",
              "      <td>ACTIVE</td>\n",
              "      <td>NONE</td>\n",
              "      <td>25.0</td>\n",
              "      <td>2973abc54daa8a5f8ccfe9362140c63247c5eee03f1d93f4c830291c32bc3057</td>\n",
              "    </tr>\n",
              "    <tr>\n",
              "      <th>2</th>\n",
              "      <td>000058a12d5b43e67d225668fa1f8d618c13dc232df0cad8ffe7ad4a1091e318</td>\n",
              "      <td>NaN</td>\n",
              "      <td>NaN</td>\n",
              "      <td>ACTIVE</td>\n",
              "      <td>NONE</td>\n",
              "      <td>24.0</td>\n",
              "      <td>64f17e6a330a85798e4998f62d0930d14db8db1c054af6c9090f7dd3e38380dc</td>\n",
              "    </tr>\n",
              "    <tr>\n",
              "      <th>3</th>\n",
              "      <td>00005ca1c9ed5f5146b52ac8639a40ca9d57aeff4d1bd2c5feb1ca5dff07c43e</td>\n",
              "      <td>NaN</td>\n",
              "      <td>NaN</td>\n",
              "      <td>ACTIVE</td>\n",
              "      <td>NONE</td>\n",
              "      <td>54.0</td>\n",
              "      <td>5d36574f52495e81f019b680c843c443bd343d5ca5b1c222539af5973a23ae6d</td>\n",
              "    </tr>\n",
              "    <tr>\n",
              "      <th>4</th>\n",
              "      <td>00006413d8573cd20ed7128e53b7b13819fe5cfc2d801fe7fc0f26dd8d65a85a</td>\n",
              "      <td>1.0</td>\n",
              "      <td>1.0</td>\n",
              "      <td>ACTIVE</td>\n",
              "      <td>Regularly</td>\n",
              "      <td>52.0</td>\n",
              "      <td>25fa5ddee9aac01b35208d01736e57942317d756b32ddd4564743b005a805b1d</td>\n",
              "    </tr>\n",
              "  </tbody>\n",
              "</table>\n",
              "</div>\n",
              "      <button class=\"colab-df-convert\" onclick=\"convertToInteractive('df-6ed345ff-a8e6-4e5f-9410-3c5ad0d4c372')\"\n",
              "              title=\"Convert this dataframe to an interactive table.\"\n",
              "              style=\"display:none;\">\n",
              "        \n",
              "  <svg xmlns=\"http://www.w3.org/2000/svg\" height=\"24px\"viewBox=\"0 0 24 24\"\n",
              "       width=\"24px\">\n",
              "    <path d=\"M0 0h24v24H0V0z\" fill=\"none\"/>\n",
              "    <path d=\"M18.56 5.44l.94 2.06.94-2.06 2.06-.94-2.06-.94-.94-2.06-.94 2.06-2.06.94zm-11 1L8.5 8.5l.94-2.06 2.06-.94-2.06-.94L8.5 2.5l-.94 2.06-2.06.94zm10 10l.94 2.06.94-2.06 2.06-.94-2.06-.94-.94-2.06-.94 2.06-2.06.94z\"/><path d=\"M17.41 7.96l-1.37-1.37c-.4-.4-.92-.59-1.43-.59-.52 0-1.04.2-1.43.59L10.3 9.45l-7.72 7.72c-.78.78-.78 2.05 0 2.83L4 21.41c.39.39.9.59 1.41.59.51 0 1.02-.2 1.41-.59l7.78-7.78 2.81-2.81c.8-.78.8-2.07 0-2.86zM5.41 20L4 18.59l7.72-7.72 1.47 1.35L5.41 20z\"/>\n",
              "  </svg>\n",
              "      </button>\n",
              "      \n",
              "  <style>\n",
              "    .colab-df-container {\n",
              "      display:flex;\n",
              "      flex-wrap:wrap;\n",
              "      gap: 12px;\n",
              "    }\n",
              "\n",
              "    .colab-df-convert {\n",
              "      background-color: #E8F0FE;\n",
              "      border: none;\n",
              "      border-radius: 50%;\n",
              "      cursor: pointer;\n",
              "      display: none;\n",
              "      fill: #1967D2;\n",
              "      height: 32px;\n",
              "      padding: 0 0 0 0;\n",
              "      width: 32px;\n",
              "    }\n",
              "\n",
              "    .colab-df-convert:hover {\n",
              "      background-color: #E2EBFA;\n",
              "      box-shadow: 0px 1px 2px rgba(60, 64, 67, 0.3), 0px 1px 3px 1px rgba(60, 64, 67, 0.15);\n",
              "      fill: #174EA6;\n",
              "    }\n",
              "\n",
              "    [theme=dark] .colab-df-convert {\n",
              "      background-color: #3B4455;\n",
              "      fill: #D2E3FC;\n",
              "    }\n",
              "\n",
              "    [theme=dark] .colab-df-convert:hover {\n",
              "      background-color: #434B5C;\n",
              "      box-shadow: 0px 1px 3px 1px rgba(0, 0, 0, 0.15);\n",
              "      filter: drop-shadow(0px 1px 2px rgba(0, 0, 0, 0.3));\n",
              "      fill: #FFFFFF;\n",
              "    }\n",
              "  </style>\n",
              "\n",
              "      <script>\n",
              "        const buttonEl =\n",
              "          document.querySelector('#df-6ed345ff-a8e6-4e5f-9410-3c5ad0d4c372 button.colab-df-convert');\n",
              "        buttonEl.style.display =\n",
              "          google.colab.kernel.accessAllowed ? 'block' : 'none';\n",
              "\n",
              "        async function convertToInteractive(key) {\n",
              "          const element = document.querySelector('#df-6ed345ff-a8e6-4e5f-9410-3c5ad0d4c372');\n",
              "          const dataTable =\n",
              "            await google.colab.kernel.invokeFunction('convertToInteractive',\n",
              "                                                     [key], {});\n",
              "          if (!dataTable) return;\n",
              "\n",
              "          const docLinkHtml = 'Like what you see? Visit the ' +\n",
              "            '<a target=\"_blank\" href=https://colab.research.google.com/notebooks/data_table.ipynb>data table notebook</a>'\n",
              "            + ' to learn more about interactive tables.';\n",
              "          element.innerHTML = '';\n",
              "          dataTable['output_type'] = 'display_data';\n",
              "          await google.colab.output.renderOutput(dataTable, element);\n",
              "          const docLink = document.createElement('div');\n",
              "          docLink.innerHTML = docLinkHtml;\n",
              "          element.appendChild(docLink);\n",
              "        }\n",
              "      </script>\n",
              "    </div>\n",
              "  </div>\n",
              "  "
            ]
          },
          "metadata": {},
          "execution_count": 10
        },
        {
          "output_type": "stream",
          "name": "stdout",
          "text": [
            "time: 18.1 ms (started: 2022-05-04 10:38:05 +00:00)\n"
          ]
        }
      ],
      "source": [
        "customer_df.head()"
      ]
    },
    {
      "cell_type": "code",
      "source": [
        "data_postal = customer_df.groupby('postal_code', as_index=False).count().sort_values('customer_id', ascending=False)\n",
        "data_postal.head()"
      ],
      "metadata": {
        "colab": {
          "base_uri": "https://localhost:8080/"
        },
        "id": "5K4UA3-ACxYq",
        "outputId": "1bebf451-a8c1-4207-ce25-86e66523033f"
      },
      "execution_count": null,
      "outputs": [
        {
          "output_type": "display_data",
          "data": {
            "text/plain": [
              "<IPython.core.display.HTML object>"
            ],
            "text/html": [
              "\n",
              "  <style>\n",
              "    pre {\n",
              "        white-space: pre-wrap;\n",
              "    }\n",
              "  </style>\n",
              "  "
            ]
          },
          "metadata": {}
        },
        {
          "output_type": "display_data",
          "data": {
            "text/plain": [
              "<IPython.core.display.HTML object>"
            ],
            "text/html": [
              "\n",
              "  <style>\n",
              "    pre {\n",
              "        white-space: pre-wrap;\n",
              "    }\n",
              "  </style>\n",
              "  "
            ]
          },
          "metadata": {}
        },
        {
          "output_type": "execute_result",
          "data": {
            "text/plain": [
              "                                                             postal_code  \\\n",
              "61034   2c29ae653a9282cce4151bd87643c907644e09541abc28ae87dea0d1f6603b1c   \n",
              "281937  cc4ed85e30f4977dae47662ddc468cd2eec11472de6fac5ec985080fd92243c8   \n",
              "156090  714976379549eb90aae4a71bca6c7402cc646ae7c40f6c1cb91d4b5a18623fc1   \n",
              "171208  7c1fa3b0ec1d37ce2c3f34f63bd792f3b4494f324b6be5d1e4ba6a75456b96a7   \n",
              "126228  5b7eb31eabebd3277de632b82267286d847fd5d44287ee150bb4206b48439145   \n",
              "\n",
              "        customer_id     FN  Active  club_member_status  \\\n",
              "61034   120303       42874  39886   118281               \n",
              "281937  261          109    104     261                  \n",
              "156090  159          90     88      159                  \n",
              "171208  157          55     54      157                  \n",
              "126228  156          42     41      156                  \n",
              "\n",
              "        fashion_news_frequency     age  \n",
              "61034   114377                  118002  \n",
              "281937  261                     260     \n",
              "156090  159                     158     \n",
              "171208  156                     156     \n",
              "126228  156                     155     "
            ],
            "text/html": [
              "\n",
              "  <div id=\"df-6933ee30-aaa0-4de9-b54f-cc03cfc97849\">\n",
              "    <div class=\"colab-df-container\">\n",
              "      <div>\n",
              "<style scoped>\n",
              "    .dataframe tbody tr th:only-of-type {\n",
              "        vertical-align: middle;\n",
              "    }\n",
              "\n",
              "    .dataframe tbody tr th {\n",
              "        vertical-align: top;\n",
              "    }\n",
              "\n",
              "    .dataframe thead th {\n",
              "        text-align: right;\n",
              "    }\n",
              "</style>\n",
              "<table border=\"1\" class=\"dataframe\">\n",
              "  <thead>\n",
              "    <tr style=\"text-align: right;\">\n",
              "      <th></th>\n",
              "      <th>postal_code</th>\n",
              "      <th>customer_id</th>\n",
              "      <th>FN</th>\n",
              "      <th>Active</th>\n",
              "      <th>club_member_status</th>\n",
              "      <th>fashion_news_frequency</th>\n",
              "      <th>age</th>\n",
              "    </tr>\n",
              "  </thead>\n",
              "  <tbody>\n",
              "    <tr>\n",
              "      <th>61034</th>\n",
              "      <td>2c29ae653a9282cce4151bd87643c907644e09541abc28ae87dea0d1f6603b1c</td>\n",
              "      <td>120303</td>\n",
              "      <td>42874</td>\n",
              "      <td>39886</td>\n",
              "      <td>118281</td>\n",
              "      <td>114377</td>\n",
              "      <td>118002</td>\n",
              "    </tr>\n",
              "    <tr>\n",
              "      <th>281937</th>\n",
              "      <td>cc4ed85e30f4977dae47662ddc468cd2eec11472de6fac5ec985080fd92243c8</td>\n",
              "      <td>261</td>\n",
              "      <td>109</td>\n",
              "      <td>104</td>\n",
              "      <td>261</td>\n",
              "      <td>261</td>\n",
              "      <td>260</td>\n",
              "    </tr>\n",
              "    <tr>\n",
              "      <th>156090</th>\n",
              "      <td>714976379549eb90aae4a71bca6c7402cc646ae7c40f6c1cb91d4b5a18623fc1</td>\n",
              "      <td>159</td>\n",
              "      <td>90</td>\n",
              "      <td>88</td>\n",
              "      <td>159</td>\n",
              "      <td>159</td>\n",
              "      <td>158</td>\n",
              "    </tr>\n",
              "    <tr>\n",
              "      <th>171208</th>\n",
              "      <td>7c1fa3b0ec1d37ce2c3f34f63bd792f3b4494f324b6be5d1e4ba6a75456b96a7</td>\n",
              "      <td>157</td>\n",
              "      <td>55</td>\n",
              "      <td>54</td>\n",
              "      <td>157</td>\n",
              "      <td>156</td>\n",
              "      <td>156</td>\n",
              "    </tr>\n",
              "    <tr>\n",
              "      <th>126228</th>\n",
              "      <td>5b7eb31eabebd3277de632b82267286d847fd5d44287ee150bb4206b48439145</td>\n",
              "      <td>156</td>\n",
              "      <td>42</td>\n",
              "      <td>41</td>\n",
              "      <td>156</td>\n",
              "      <td>156</td>\n",
              "      <td>155</td>\n",
              "    </tr>\n",
              "  </tbody>\n",
              "</table>\n",
              "</div>\n",
              "      <button class=\"colab-df-convert\" onclick=\"convertToInteractive('df-6933ee30-aaa0-4de9-b54f-cc03cfc97849')\"\n",
              "              title=\"Convert this dataframe to an interactive table.\"\n",
              "              style=\"display:none;\">\n",
              "        \n",
              "  <svg xmlns=\"http://www.w3.org/2000/svg\" height=\"24px\"viewBox=\"0 0 24 24\"\n",
              "       width=\"24px\">\n",
              "    <path d=\"M0 0h24v24H0V0z\" fill=\"none\"/>\n",
              "    <path d=\"M18.56 5.44l.94 2.06.94-2.06 2.06-.94-2.06-.94-.94-2.06-.94 2.06-2.06.94zm-11 1L8.5 8.5l.94-2.06 2.06-.94-2.06-.94L8.5 2.5l-.94 2.06-2.06.94zm10 10l.94 2.06.94-2.06 2.06-.94-2.06-.94-.94-2.06-.94 2.06-2.06.94z\"/><path d=\"M17.41 7.96l-1.37-1.37c-.4-.4-.92-.59-1.43-.59-.52 0-1.04.2-1.43.59L10.3 9.45l-7.72 7.72c-.78.78-.78 2.05 0 2.83L4 21.41c.39.39.9.59 1.41.59.51 0 1.02-.2 1.41-.59l7.78-7.78 2.81-2.81c.8-.78.8-2.07 0-2.86zM5.41 20L4 18.59l7.72-7.72 1.47 1.35L5.41 20z\"/>\n",
              "  </svg>\n",
              "      </button>\n",
              "      \n",
              "  <style>\n",
              "    .colab-df-container {\n",
              "      display:flex;\n",
              "      flex-wrap:wrap;\n",
              "      gap: 12px;\n",
              "    }\n",
              "\n",
              "    .colab-df-convert {\n",
              "      background-color: #E8F0FE;\n",
              "      border: none;\n",
              "      border-radius: 50%;\n",
              "      cursor: pointer;\n",
              "      display: none;\n",
              "      fill: #1967D2;\n",
              "      height: 32px;\n",
              "      padding: 0 0 0 0;\n",
              "      width: 32px;\n",
              "    }\n",
              "\n",
              "    .colab-df-convert:hover {\n",
              "      background-color: #E2EBFA;\n",
              "      box-shadow: 0px 1px 2px rgba(60, 64, 67, 0.3), 0px 1px 3px 1px rgba(60, 64, 67, 0.15);\n",
              "      fill: #174EA6;\n",
              "    }\n",
              "\n",
              "    [theme=dark] .colab-df-convert {\n",
              "      background-color: #3B4455;\n",
              "      fill: #D2E3FC;\n",
              "    }\n",
              "\n",
              "    [theme=dark] .colab-df-convert:hover {\n",
              "      background-color: #434B5C;\n",
              "      box-shadow: 0px 1px 3px 1px rgba(0, 0, 0, 0.15);\n",
              "      filter: drop-shadow(0px 1px 2px rgba(0, 0, 0, 0.3));\n",
              "      fill: #FFFFFF;\n",
              "    }\n",
              "  </style>\n",
              "\n",
              "      <script>\n",
              "        const buttonEl =\n",
              "          document.querySelector('#df-6933ee30-aaa0-4de9-b54f-cc03cfc97849 button.colab-df-convert');\n",
              "        buttonEl.style.display =\n",
              "          google.colab.kernel.accessAllowed ? 'block' : 'none';\n",
              "\n",
              "        async function convertToInteractive(key) {\n",
              "          const element = document.querySelector('#df-6933ee30-aaa0-4de9-b54f-cc03cfc97849');\n",
              "          const dataTable =\n",
              "            await google.colab.kernel.invokeFunction('convertToInteractive',\n",
              "                                                     [key], {});\n",
              "          if (!dataTable) return;\n",
              "\n",
              "          const docLinkHtml = 'Like what you see? Visit the ' +\n",
              "            '<a target=\"_blank\" href=https://colab.research.google.com/notebooks/data_table.ipynb>data table notebook</a>'\n",
              "            + ' to learn more about interactive tables.';\n",
              "          element.innerHTML = '';\n",
              "          dataTable['output_type'] = 'display_data';\n",
              "          await google.colab.output.renderOutput(dataTable, element);\n",
              "          const docLink = document.createElement('div');\n",
              "          docLink.innerHTML = docLinkHtml;\n",
              "          element.appendChild(docLink);\n",
              "        }\n",
              "      </script>\n",
              "    </div>\n",
              "  </div>\n",
              "  "
            ]
          },
          "metadata": {},
          "execution_count": 11
        },
        {
          "output_type": "stream",
          "name": "stdout",
          "text": [
            "time: 1.87 s (started: 2022-05-04 10:38:05 +00:00)\n"
          ]
        }
      ]
    },
    {
      "cell_type": "code",
      "source": [
        "len(data_postal)"
      ],
      "metadata": {
        "colab": {
          "base_uri": "https://localhost:8080/"
        },
        "id": "Bji-11ptC6KT",
        "outputId": "fbd58c38-22ec-4419-9423-df1b2172c6c6"
      },
      "execution_count": null,
      "outputs": [
        {
          "output_type": "display_data",
          "data": {
            "text/plain": [
              "<IPython.core.display.HTML object>"
            ],
            "text/html": [
              "\n",
              "  <style>\n",
              "    pre {\n",
              "        white-space: pre-wrap;\n",
              "    }\n",
              "  </style>\n",
              "  "
            ]
          },
          "metadata": {}
        },
        {
          "output_type": "display_data",
          "data": {
            "text/plain": [
              "<IPython.core.display.HTML object>"
            ],
            "text/html": [
              "\n",
              "  <style>\n",
              "    pre {\n",
              "        white-space: pre-wrap;\n",
              "    }\n",
              "  </style>\n",
              "  "
            ]
          },
          "metadata": {}
        },
        {
          "output_type": "execute_result",
          "data": {
            "text/plain": [
              "352899"
            ]
          },
          "metadata": {},
          "execution_count": 12
        },
        {
          "output_type": "stream",
          "name": "stdout",
          "text": [
            "time: 2.96 ms (started: 2022-05-04 10:38:07 +00:00)\n"
          ]
        }
      ]
    },
    {
      "cell_type": "code",
      "source": [
        "import seaborn as sns\n",
        "from matplotlib import pyplot as plt\n",
        "sns.set_style(\"darkgrid\")\n",
        "f, ax = plt.subplots(figsize=(10,5))\n",
        "ax = sns.histplot(data=customer_df, x='age', bins=50, color='orange')\n",
        "ax.set_xlabel('Distribution of the customers age')\n",
        "plt.show()"
      ],
      "metadata": {
        "colab": {
          "base_uri": "https://localhost:8080/"
        },
        "id": "nFF_PxIUDVRX",
        "outputId": "fc691a95-5758-4460-82b9-5379b65a0976"
      },
      "execution_count": null,
      "outputs": [
        {
          "output_type": "display_data",
          "data": {
            "text/plain": [
              "<IPython.core.display.HTML object>"
            ],
            "text/html": [
              "\n",
              "  <style>\n",
              "    pre {\n",
              "        white-space: pre-wrap;\n",
              "    }\n",
              "  </style>\n",
              "  "
            ]
          },
          "metadata": {}
        },
        {
          "output_type": "display_data",
          "data": {
            "text/plain": [
              "<IPython.core.display.HTML object>"
            ],
            "text/html": [
              "\n",
              "  <style>\n",
              "    pre {\n",
              "        white-space: pre-wrap;\n",
              "    }\n",
              "  </style>\n",
              "  "
            ]
          },
          "metadata": {}
        },
        {
          "output_type": "display_data",
          "data": {
            "text/plain": [
              "<Figure size 720x360 with 1 Axes>"
            ],
            "image/png": "[encoded data removed]"
          },
          "metadata": {}
        },
        {
          "output_type": "stream",
          "name": "stdout",
          "text": [
            "time: 626 ms (started: 2022-05-04 10:38:07 +00:00)\n"
          ]
        }
      ]
    },
    {
      "cell_type": "markdown",
      "metadata": {
        "id": "YxS2_qxA590_"
      },
      "source": [
        "## Articles"
      ]
    },
    {
      "cell_type": "code",
      "execution_count": null,
      "metadata": {
        "colab": {
          "base_uri": "https://localhost:8080/"
        },
        "id": "lAzsp3BC3Sro",
        "outputId": "a251273a-66f2-4ae8-82e1-fed83063abd2"
      },
      "outputs": [
        {
          "output_type": "display_data",
          "data": {
            "text/plain": [
              "<IPython.core.display.HTML object>"
            ],
            "text/html": [
              "\n",
              "  <style>\n",
              "    pre {\n",
              "        white-space: pre-wrap;\n",
              "    }\n",
              "  </style>\n",
              "  "
            ]
          },
          "metadata": {}
        },
        {
          "output_type": "display_data",
          "data": {
            "text/plain": [
              "<IPython.core.display.HTML object>"
            ],
            "text/html": [
              "\n",
              "  <style>\n",
              "    pre {\n",
              "        white-space: pre-wrap;\n",
              "    }\n",
              "  </style>\n",
              "  "
            ]
          },
          "metadata": {}
        },
        {
          "output_type": "stream",
          "name": "stdout",
          "text": [
            "time: 2.85 ms (started: 2022-05-04 10:38:07 +00:00)\n"
          ]
        }
      ],
      "source": [
        "# article_id : A unique identifier of every article.\n",
        "# product_code, prod_name : A unique identifier of every product and its name (not the same).\n",
        "# product_type, product_type_name : The group of product_code and its name\n",
        "# graphical_appearance_no, graphical_appearance_name : The group of graphics and its name\n",
        "# colour_group_code, colour_group_name : The group of color and its name\n",
        "# perceived_colour_value_id, perceived_colour_value_name, perceived_colour_master_id, perceived_colour_master_name : The added color info\n",
        "# department_no, department_name: : A unique identifier of every dep and its name\n",
        "# index_code, index_name: : A unique identifier of every index and its name\n",
        "# index_group_no, index_group_name: : A group of indeces and its name\n",
        "# section_no, section_name: : A unique identifier of every section and its name\n",
        "# garment_group_no, garment_group_name: : A unique identifier of every garment and its name\n",
        "# detail_desc: : Details"
      ]
    },
    {
      "cell_type": "code",
      "execution_count": null,
      "metadata": {
        "colab": {
          "base_uri": "https://localhost:8080/"
        },
        "id": "jySvUnEiemR3",
        "outputId": "1309c50b-84eb-4c9e-a99f-964edb01e102"
      },
      "outputs": [
        {
          "output_type": "display_data",
          "data": {
            "text/plain": [
              "<IPython.core.display.HTML object>"
            ],
            "text/html": [
              "\n",
              "  <style>\n",
              "    pre {\n",
              "        white-space: pre-wrap;\n",
              "    }\n",
              "  </style>\n",
              "  "
            ]
          },
          "metadata": {}
        },
        {
          "output_type": "display_data",
          "data": {
            "text/plain": [
              "<IPython.core.display.HTML object>"
            ],
            "text/html": [
              "\n",
              "  <style>\n",
              "    pre {\n",
              "        white-space: pre-wrap;\n",
              "    }\n",
              "  </style>\n",
              "  "
            ]
          },
          "metadata": {}
        },
        {
          "output_type": "execute_result",
          "data": {
            "text/plain": [
              "   article_id  product_code          prod_name  product_type_no  \\\n",
              "0  108775015   108775        Strap top          253               \n",
              "1  108775044   108775        Strap top          253               \n",
              "2  108775051   108775        Strap top (1)      253               \n",
              "3  110065001   110065        OP T-shirt (Idro)  306               \n",
              "4  110065002   110065        OP T-shirt (Idro)  306               \n",
              "\n",
              "  product_type_name  product_group_name  graphical_appearance_no  \\\n",
              "0  Vest top          Garment Upper body  1010016                   \n",
              "1  Vest top          Garment Upper body  1010016                   \n",
              "2  Vest top          Garment Upper body  1010017                   \n",
              "3  Bra               Underwear           1010016                   \n",
              "4  Bra               Underwear           1010016                   \n",
              "\n",
              "  graphical_appearance_name  colour_group_code colour_group_name  \\\n",
              "0  Solid                     9                  Black              \n",
              "1  Solid                     10                 White              \n",
              "2  Stripe                    11                 Off White          \n",
              "3  Solid                     9                  Black              \n",
              "4  Solid                     10                 White              \n",
              "\n",
              "   perceived_colour_value_id perceived_colour_value_name  \\\n",
              "0  4                          Dark                         \n",
              "1  3                          Light                        \n",
              "2  1                          Dusty Light                  \n",
              "3  4                          Dark                         \n",
              "4  3                          Light                        \n",
              "\n",
              "   perceived_colour_master_id perceived_colour_master_name  department_no  \\\n",
              "0  5                           Black                        1676            \n",
              "1  9                           White                        1676            \n",
              "2  9                           White                        1676            \n",
              "3  5                           Black                        1339            \n",
              "4  9                           White                        1339            \n",
              "\n",
              "  department_name index_code        index_name  index_group_no  \\\n",
              "0  Jersey Basic    A          Ladieswear        1                \n",
              "1  Jersey Basic    A          Ladieswear        1                \n",
              "2  Jersey Basic    A          Ladieswear        1                \n",
              "3  Clean Lingerie  B          Lingeries/Tights  1                \n",
              "4  Clean Lingerie  B          Lingeries/Tights  1                \n",
              "\n",
              "  index_group_name  section_no            section_name  garment_group_no  \\\n",
              "0  Ladieswear       16          Womens Everyday Basics  1002               \n",
              "1  Ladieswear       16          Womens Everyday Basics  1002               \n",
              "2  Ladieswear       16          Womens Everyday Basics  1002               \n",
              "3  Ladieswear       61          Womens Lingerie         1017               \n",
              "4  Ladieswear       61          Womens Lingerie         1017               \n",
              "\n",
              "  garment_group_name  \\\n",
              "0  Jersey Basic        \n",
              "1  Jersey Basic        \n",
              "2  Jersey Basic        \n",
              "3  Under-, Nightwear   \n",
              "4  Under-, Nightwear   \n",
              "\n",
              "                                                                                                                                                                                                                                        detail_desc  \n",
              "0  Jersey top with narrow shoulder straps.                                                                                                                                                                                                           \n",
              "1  Jersey top with narrow shoulder straps.                                                                                                                                                                                                           \n",
              "2  Jersey top with narrow shoulder straps.                                                                                                                                                                                                           \n",
              "3  Microfibre T-shirt bra with underwired, moulded, lightly padded cups that shape the bust and provide good support. Narrow adjustable shoulder straps and a narrow hook-and-eye fastening at the back. Without visible seams for greater comfort.  \n",
              "4  Microfibre T-shirt bra with underwired, moulded, lightly padded cups that shape the bust and provide good support. Narrow adjustable shoulder straps and a narrow hook-and-eye fastening at the back. Without visible seams for greater comfort.  "
            ],
            "text/html": [
              "\n",
              "  <div id=\"df-2b064fe9-2db6-4cb1-aa66-b33477fa8520\">\n",
              "    <div class=\"colab-df-container\">\n",
              "      <div>\n",
              "<style scoped>\n",
              "    .dataframe tbody tr th:only-of-type {\n",
              "        vertical-align: middle;\n",
              "    }\n",
              "\n",
              "    .dataframe tbody tr th {\n",
              "        vertical-align: top;\n",
              "    }\n",
              "\n",
              "    .dataframe thead th {\n",
              "        text-align: right;\n",
              "    }\n",
              "</style>\n",
              "<table border=\"1\" class=\"dataframe\">\n",
              "  <thead>\n",
              "    <tr style=\"text-align: right;\">\n",
              "      <th></th>\n",
              "      <th>article_id</th>\n",
              "      <th>product_code</th>\n",
              "      <th>prod_name</th>\n",
              "      <th>product_type_no</th>\n",
              "      <th>product_type_name</th>\n",
              "      <th>product_group_name</th>\n",
              "      <th>graphical_appearance_no</th>\n",
              "      <th>graphical_appearance_name</th>\n",
              "      <th>colour_group_code</th>\n",
              "      <th>colour_group_name</th>\n",
              "      <th>perceived_colour_value_id</th>\n",
              "      <th>perceived_colour_value_name</th>\n",
              "      <th>perceived_colour_master_id</th>\n",
              "      <th>perceived_colour_master_name</th>\n",
              "      <th>department_no</th>\n",
              "      <th>department_name</th>\n",
              "      <th>index_code</th>\n",
              "      <th>index_name</th>\n",
              "      <th>index_group_no</th>\n",
              "      <th>index_group_name</th>\n",
              "      <th>section_no</th>\n",
              "      <th>section_name</th>\n",
              "      <th>garment_group_no</th>\n",
              "      <th>garment_group_name</th>\n",
              "      <th>detail_desc</th>\n",
              "    </tr>\n",
              "  </thead>\n",
              "  <tbody>\n",
              "    <tr>\n",
              "      <th>0</th>\n",
              "      <td>108775015</td>\n",
              "      <td>108775</td>\n",
              "      <td>Strap top</td>\n",
              "      <td>253</td>\n",
              "      <td>Vest top</td>\n",
              "      <td>Garment Upper body</td>\n",
              "      <td>1010016</td>\n",
              "      <td>Solid</td>\n",
              "      <td>9</td>\n",
              "      <td>Black</td>\n",
              "      <td>4</td>\n",
              "      <td>Dark</td>\n",
              "      <td>5</td>\n",
              "      <td>Black</td>\n",
              "      <td>1676</td>\n",
              "      <td>Jersey Basic</td>\n",
              "      <td>A</td>\n",
              "      <td>Ladieswear</td>\n",
              "      <td>1</td>\n",
              "      <td>Ladieswear</td>\n",
              "      <td>16</td>\n",
              "      <td>Womens Everyday Basics</td>\n",
              "      <td>1002</td>\n",
              "      <td>Jersey Basic</td>\n",
              "      <td>Jersey top with narrow shoulder straps.</td>\n",
              "    </tr>\n",
              "    <tr>\n",
              "      <th>1</th>\n",
              "      <td>108775044</td>\n",
              "      <td>108775</td>\n",
              "      <td>Strap top</td>\n",
              "      <td>253</td>\n",
              "      <td>Vest top</td>\n",
              "      <td>Garment Upper body</td>\n",
              "      <td>1010016</td>\n",
              "      <td>Solid</td>\n",
              "      <td>10</td>\n",
              "      <td>White</td>\n",
              "      <td>3</td>\n",
              "      <td>Light</td>\n",
              "      <td>9</td>\n",
              "      <td>White</td>\n",
              "      <td>1676</td>\n",
              "      <td>Jersey Basic</td>\n",
              "      <td>A</td>\n",
              "      <td>Ladieswear</td>\n",
              "      <td>1</td>\n",
              "      <td>Ladieswear</td>\n",
              "      <td>16</td>\n",
              "      <td>Womens Everyday Basics</td>\n",
              "      <td>1002</td>\n",
              "      <td>Jersey Basic</td>\n",
              "      <td>Jersey top with narrow shoulder straps.</td>\n",
              "    </tr>\n",
              "    <tr>\n",
              "      <th>2</th>\n",
              "      <td>108775051</td>\n",
              "      <td>108775</td>\n",
              "      <td>Strap top (1)</td>\n",
              "      <td>253</td>\n",
              "      <td>Vest top</td>\n",
              "      <td>Garment Upper body</td>\n",
              "      <td>1010017</td>\n",
              "      <td>Stripe</td>\n",
              "      <td>11</td>\n",
              "      <td>Off White</td>\n",
              "      <td>1</td>\n",
              "      <td>Dusty Light</td>\n",
              "      <td>9</td>\n",
              "      <td>White</td>\n",
              "      <td>1676</td>\n",
              "      <td>Jersey Basic</td>\n",
              "      <td>A</td>\n",
              "      <td>Ladieswear</td>\n",
              "      <td>1</td>\n",
              "      <td>Ladieswear</td>\n",
              "      <td>16</td>\n",
              "      <td>Womens Everyday Basics</td>\n",
              "      <td>1002</td>\n",
              "      <td>Jersey Basic</td>\n",
              "      <td>Jersey top with narrow shoulder straps.</td>\n",
              "    </tr>\n",
              "    <tr>\n",
              "      <th>3</th>\n",
              "      <td>110065001</td>\n",
              "      <td>110065</td>\n",
              "      <td>OP T-shirt (Idro)</td>\n",
              "      <td>306</td>\n",
              "      <td>Bra</td>\n",
              "      <td>Underwear</td>\n",
              "      <td>1010016</td>\n",
              "      <td>Solid</td>\n",
              "      <td>9</td>\n",
              "      <td>Black</td>\n",
              "      <td>4</td>\n",
              "      <td>Dark</td>\n",
              "      <td>5</td>\n",
              "      <td>Black</td>\n",
              "      <td>1339</td>\n",
              "      <td>Clean Lingerie</td>\n",
              "      <td>B</td>\n",
              "      <td>Lingeries/Tights</td>\n",
              "      <td>1</td>\n",
              "      <td>Ladieswear</td>\n",
              "      <td>61</td>\n",
              "      <td>Womens Lingerie</td>\n",
              "      <td>1017</td>\n",
              "      <td>Under-, Nightwear</td>\n",
              "      <td>Microfibre T-shirt bra with underwired, moulded, lightly padded cups that shape the bust and provide good support. Narrow adjustable shoulder straps and a narrow hook-and-eye fastening at the back. Without visible seams for greater comfort.</td>\n",
              "    </tr>\n",
              "    <tr>\n",
              "      <th>4</th>\n",
              "      <td>110065002</td>\n",
              "      <td>110065</td>\n",
              "      <td>OP T-shirt (Idro)</td>\n",
              "      <td>306</td>\n",
              "      <td>Bra</td>\n",
              "      <td>Underwear</td>\n",
              "      <td>1010016</td>\n",
              "      <td>Solid</td>\n",
              "      <td>10</td>\n",
              "      <td>White</td>\n",
              "      <td>3</td>\n",
              "      <td>Light</td>\n",
              "      <td>9</td>\n",
              "      <td>White</td>\n",
              "      <td>1339</td>\n",
              "      <td>Clean Lingerie</td>\n",
              "      <td>B</td>\n",
              "      <td>Lingeries/Tights</td>\n",
              "      <td>1</td>\n",
              "      <td>Ladieswear</td>\n",
              "      <td>61</td>\n",
              "      <td>Womens Lingerie</td>\n",
              "      <td>1017</td>\n",
              "      <td>Under-, Nightwear</td>\n",
              "      <td>Microfibre T-shirt bra with underwired, moulded, lightly padded cups that shape the bust and provide good support. Narrow adjustable shoulder straps and a narrow hook-and-eye fastening at the back. Without visible seams for greater comfort.</td>\n",
              "    </tr>\n",
              "  </tbody>\n",
              "</table>\n",
              "</div>\n",
              "      <button class=\"colab-df-convert\" onclick=\"convertToInteractive('df-2b064fe9-2db6-4cb1-aa66-b33477fa8520')\"\n",
              "              title=\"Convert this dataframe to an interactive table.\"\n",
              "              style=\"display:none;\">\n",
              "        \n",
              "  <svg xmlns=\"http://www.w3.org/2000/svg\" height=\"24px\"viewBox=\"0 0 24 24\"\n",
              "       width=\"24px\">\n",
              "    <path d=\"M0 0h24v24H0V0z\" fill=\"none\"/>\n",
              "    <path d=\"M18.56 5.44l.94 2.06.94-2.06 2.06-.94-2.06-.94-.94-2.06-.94 2.06-2.06.94zm-11 1L8.5 8.5l.94-2.06 2.06-.94-2.06-.94L8.5 2.5l-.94 2.06-2.06.94zm10 10l.94 2.06.94-2.06 2.06-.94-2.06-.94-.94-2.06-.94 2.06-2.06.94z\"/><path d=\"M17.41 7.96l-1.37-1.37c-.4-.4-.92-.59-1.43-.59-.52 0-1.04.2-1.43.59L10.3 9.45l-7.72 7.72c-.78.78-.78 2.05 0 2.83L4 21.41c.39.39.9.59 1.41.59.51 0 1.02-.2 1.41-.59l7.78-7.78 2.81-2.81c.8-.78.8-2.07 0-2.86zM5.41 20L4 18.59l7.72-7.72 1.47 1.35L5.41 20z\"/>\n",
              "  </svg>\n",
              "      </button>\n",
              "      \n",
              "  <style>\n",
              "    .colab-df-container {\n",
              "      display:flex;\n",
              "      flex-wrap:wrap;\n",
              "      gap: 12px;\n",
              "    }\n",
              "\n",
              "    .colab-df-convert {\n",
              "      background-color: #E8F0FE;\n",
              "      border: none;\n",
              "      border-radius: 50%;\n",
              "      cursor: pointer;\n",
              "      display: none;\n",
              "      fill: #1967D2;\n",
              "      height: 32px;\n",
              "      padding: 0 0 0 0;\n",
              "      width: 32px;\n",
              "    }\n",
              "\n",
              "    .colab-df-convert:hover {\n",
              "      background-color: #E2EBFA;\n",
              "      box-shadow: 0px 1px 2px rgba(60, 64, 67, 0.3), 0px 1px 3px 1px rgba(60, 64, 67, 0.15);\n",
              "      fill: #174EA6;\n",
              "    }\n",
              "\n",
              "    [theme=dark] .colab-df-convert {\n",
              "      background-color: #3B4455;\n",
              "      fill: #D2E3FC;\n",
              "    }\n",
              "\n",
              "    [theme=dark] .colab-df-convert:hover {\n",
              "      background-color: #434B5C;\n",
              "      box-shadow: 0px 1px 3px 1px rgba(0, 0, 0, 0.15);\n",
              "      filter: drop-shadow(0px 1px 2px rgba(0, 0, 0, 0.3));\n",
              "      fill: #FFFFFF;\n",
              "    }\n",
              "  </style>\n",
              "\n",
              "      <script>\n",
              "        const buttonEl =\n",
              "          document.querySelector('#df-2b064fe9-2db6-4cb1-aa66-b33477fa8520 button.colab-df-convert');\n",
              "        buttonEl.style.display =\n",
              "          google.colab.kernel.accessAllowed ? 'block' : 'none';\n",
              "\n",
              "        async function convertToInteractive(key) {\n",
              "          const element = document.querySelector('#df-2b064fe9-2db6-4cb1-aa66-b33477fa8520');\n",
              "          const dataTable =\n",
              "            await google.colab.kernel.invokeFunction('convertToInteractive',\n",
              "                                                     [key], {});\n",
              "          if (!dataTable) return;\n",
              "\n",
              "          const docLinkHtml = 'Like what you see? Visit the ' +\n",
              "            '<a target=\"_blank\" href=https://colab.research.google.com/notebooks/data_table.ipynb>data table notebook</a>'\n",
              "            + ' to learn more about interactive tables.';\n",
              "          element.innerHTML = '';\n",
              "          dataTable['output_type'] = 'display_data';\n",
              "          await google.colab.output.renderOutput(dataTable, element);\n",
              "          const docLink = document.createElement('div');\n",
              "          docLink.innerHTML = docLinkHtml;\n",
              "          element.appendChild(docLink);\n",
              "        }\n",
              "      </script>\n",
              "    </div>\n",
              "  </div>\n",
              "  "
            ]
          },
          "metadata": {},
          "execution_count": 15
        },
        {
          "output_type": "stream",
          "name": "stdout",
          "text": [
            "time: 17.6 ms (started: 2022-05-04 10:38:07 +00:00)\n"
          ]
        }
      ],
      "source": [
        "article_df.head()"
      ]
    },
    {
      "cell_type": "markdown",
      "metadata": {
        "id": "pxCSbmsy72o2"
      },
      "source": [
        "### Item (index_name) frequencies\n"
      ]
    },
    {
      "cell_type": "code",
      "execution_count": null,
      "metadata": {
        "colab": {
          "base_uri": "https://localhost:8080/"
        },
        "id": "9apbixwD7xqY",
        "outputId": "596736be-1a43-4e14-c40e-7ca89dd27755"
      },
      "outputs": [
        {
          "output_type": "display_data",
          "data": {
            "text/plain": [
              "<IPython.core.display.HTML object>"
            ],
            "text/html": [
              "\n",
              "  <style>\n",
              "    pre {\n",
              "        white-space: pre-wrap;\n",
              "    }\n",
              "  </style>\n",
              "  "
            ]
          },
          "metadata": {}
        },
        {
          "output_type": "display_data",
          "data": {
            "text/plain": [
              "<IPython.core.display.HTML object>"
            ],
            "text/html": [
              "\n",
              "  <style>\n",
              "    pre {\n",
              "        white-space: pre-wrap;\n",
              "    }\n",
              "  </style>\n",
              "  "
            ]
          },
          "metadata": {}
        },
        {
          "output_type": "display_data",
          "data": {
            "text/plain": [
              "<Figure size 1080x504 with 1 Axes>"
            ],
            "image/png": "[encoded data removed]"
          },
          "metadata": {}
        },
        {
          "output_type": "stream",
          "name": "stdout",
          "text": [
            "time: 361 ms (started: 2022-05-04 10:38:07 +00:00)\n"
          ]
        }
      ],
      "source": [
        "f, ax = plt.subplots(figsize=(15, 7))\n",
        "ax = sns.histplot(data=article_df, y='index_name', color='orange')\n",
        "ax.set_xlabel('count by index name')\n",
        "ax.set_ylabel('index name')\n",
        "plt.show()"
      ]
    },
    {
      "cell_type": "markdown",
      "metadata": {
        "id": "-FFnhVnN8Qce"
      },
      "source": [
        "### Garment group frequencies"
      ]
    },
    {
      "cell_type": "code",
      "execution_count": null,
      "metadata": {
        "colab": {
          "base_uri": "https://localhost:8080/"
        },
        "id": "tbSXQ4DL8Mg5",
        "outputId": "7ea10387-6d9f-4d03-841b-20c1b1837e5f"
      },
      "outputs": [
        {
          "output_type": "display_data",
          "data": {
            "text/plain": [
              "<IPython.core.display.HTML object>"
            ],
            "text/html": [
              "\n",
              "  <style>\n",
              "    pre {\n",
              "        white-space: pre-wrap;\n",
              "    }\n",
              "  </style>\n",
              "  "
            ]
          },
          "metadata": {}
        },
        {
          "output_type": "display_data",
          "data": {
            "text/plain": [
              "<IPython.core.display.HTML object>"
            ],
            "text/html": [
              "\n",
              "  <style>\n",
              "    pre {\n",
              "        white-space: pre-wrap;\n",
              "    }\n",
              "  </style>\n",
              "  "
            ]
          },
          "metadata": {}
        },
        {
          "output_type": "display_data",
          "data": {
            "text/plain": [
              "<Figure size 1080x504 with 1 Axes>"
            ],
            "image/png": "[encoded data removed]"
          },
          "metadata": {}
        },
        {
          "output_type": "stream",
          "name": "stdout",
          "text": [
            "time: 717 ms (started: 2022-05-04 10:38:08 +00:00)\n"
          ]
        }
      ],
      "source": [
        "f, ax = plt.subplots(figsize=(15, 7))\n",
        "ax = sns.histplot(data=article_df, y='garment_group_name', color='orange', hue='index_group_name', multiple=\"stack\")\n",
        "ax.set_xlabel('count by garment group')\n",
        "ax.set_ylabel('garment group')\n",
        "plt.show()"
      ]
    },
    {
      "cell_type": "code",
      "execution_count": null,
      "metadata": {
        "colab": {
          "base_uri": "https://localhost:8080/"
        },
        "id": "qU243rwc8W_X",
        "outputId": "e6bb67c7-40fe-4d21-fa74-b67b770acbdf"
      },
      "outputs": [
        {
          "output_type": "display_data",
          "data": {
            "text/plain": [
              "<IPython.core.display.HTML object>"
            ],
            "text/html": [
              "\n",
              "  <style>\n",
              "    pre {\n",
              "        white-space: pre-wrap;\n",
              "    }\n",
              "  </style>\n",
              "  "
            ]
          },
          "metadata": {}
        },
        {
          "output_type": "display_data",
          "data": {
            "text/plain": [
              "<IPython.core.display.HTML object>"
            ],
            "text/html": [
              "\n",
              "  <style>\n",
              "    pre {\n",
              "        white-space: pre-wrap;\n",
              "    }\n",
              "  </style>\n",
              "  "
            ]
          },
          "metadata": {}
        },
        {
          "output_type": "execute_result",
          "data": {
            "text/plain": [
              "index_group_name  index_name                    \n",
              "Baby/Children     Baby Sizes 50-98                  8875 \n",
              "                  Children Accessories, Swimwear    4615 \n",
              "                  Children Sizes 134-170            9214 \n",
              "                  Children Sizes 92-140             12007\n",
              "Divided           Divided                           15149\n",
              "Ladieswear        Ladies Accessories                6961 \n",
              "                  Ladieswear                        26001\n",
              "                  Lingeries/Tights                  6775 \n",
              "Menswear          Menswear                          12553\n",
              "Sport             Sport                             3392 \n",
              "Name: article_id, dtype: int64"
            ]
          },
          "metadata": {},
          "execution_count": 18
        },
        {
          "output_type": "stream",
          "name": "stdout",
          "text": [
            "time: 107 ms (started: 2022-05-04 10:38:09 +00:00)\n"
          ]
        }
      ],
      "source": [
        "article_df.groupby(['index_group_name', 'index_name']).count()['article_id']\n"
      ]
    },
    {
      "cell_type": "markdown",
      "metadata": {
        "id": "NHAa2fRF8jHH"
      },
      "source": [
        "### product group-product structure"
      ]
    },
    {
      "cell_type": "code",
      "execution_count": null,
      "metadata": {
        "colab": {
          "base_uri": "https://localhost:8080/"
        },
        "id": "EGEsVhU68if-",
        "outputId": "d894347a-3768-4e57-aaee-518ca9302078"
      },
      "outputs": [
        {
          "output_type": "display_data",
          "data": {
            "text/plain": [
              "<IPython.core.display.HTML object>"
            ],
            "text/html": [
              "\n",
              "  <style>\n",
              "    pre {\n",
              "        white-space: pre-wrap;\n",
              "    }\n",
              "  </style>\n",
              "  "
            ]
          },
          "metadata": {}
        },
        {
          "output_type": "display_data",
          "data": {
            "text/plain": [
              "<IPython.core.display.HTML object>"
            ],
            "text/html": [
              "\n",
              "  <style>\n",
              "    pre {\n",
              "        white-space: pre-wrap;\n",
              "    }\n",
              "  </style>\n",
              "  "
            ]
          },
          "metadata": {}
        },
        {
          "output_type": "execute_result",
          "data": {
            "text/plain": [
              "product_group_name     product_type_name       \n",
              "Accessories            Accessories set             7    \n",
              "                       Alice band                  6    \n",
              "                       Baby Bib                    3    \n",
              "                       Bag                         1280 \n",
              "                       Beanie                      56   \n",
              "                       Belt                        458  \n",
              "                       Bracelet                    180  \n",
              "                       Braces                      3    \n",
              "                       Bucket hat                  7    \n",
              "                       Cap                         13   \n",
              "                       Cap/peaked                  573  \n",
              "                       Dog Wear                    20   \n",
              "                       Earring                     1159 \n",
              "                       Earrings                    11   \n",
              "                       Eyeglasses                  2    \n",
              "                       Felt hat                    10   \n",
              "                       Giftbox                     15   \n",
              "                       Gloves                      367  \n",
              "                       Hair clip                   244  \n",
              "                       Hair string                 238  \n",
              "                       Hair ties                   24   \n",
              "                       Hair/alice band             854  \n",
              "                       Hairband                    2    \n",
              "                       Hat/beanie                  1349 \n",
              "                       Hat/brim                    396  \n",
              "                       Headband                    1    \n",
              "                       Necklace                    581  \n",
              "                       Other accessories           1034 \n",
              "                       Ring                        240  \n",
              "                       Scarf                       1013 \n",
              "                       Soft Toys                   46   \n",
              "                       Straw hat                   6    \n",
              "                       Sunglasses                  621  \n",
              "                       Tie                         141  \n",
              "                       Umbrella                    26   \n",
              "                       Wallet                      77   \n",
              "                       Watch                       73   \n",
              "                       Waterbottle                 22   \n",
              "Bags                   Backpack                    6    \n",
              "                       Bumbag                      1    \n",
              "                       Cross-body bag              5    \n",
              "                       Shoulder bag                2    \n",
              "                       Tote bag                    2    \n",
              "                       Weekend/Gym bag             9    \n",
              "Cosmetic               Chem. cosmetics             3    \n",
              "                       Fine cosmetics              46   \n",
              "Fun                    Toy                         2    \n",
              "Furniture              Side table                  13   \n",
              "Garment Full body      Costumes                    90   \n",
              "                       Dress                       10362\n",
              "                       Dungarees                   309  \n",
              "                       Garment Set                 1320 \n",
              "                       Jumpsuit/Playsuit           1147 \n",
              "                       Outdoor overall             64   \n",
              "Garment Lower body     Leggings/Tights             1878 \n",
              "                       Outdoor trousers            130  \n",
              "                       Shorts                      3939 \n",
              "                       Skirt                       2696 \n",
              "                       Trousers                    11169\n",
              "Garment Upper body     Blazer                      1110 \n",
              "                       Blouse                      3979 \n",
              "                       Bodysuit                    913  \n",
              "                       Cardigan                    1550 \n",
              "                       Coat                        460  \n",
              "                       Hoodie                      2356 \n",
              "                       Jacket                      3940 \n",
              "                       Outdoor Waistcoat           154  \n",
              "                       Polo shirt                  449  \n",
              "                       Shirt                       3405 \n",
              "                       Sweater                     9302 \n",
              "                       T-shirt                     7904 \n",
              "                       Tailored Waistcoat          73   \n",
              "                       Top                         4155 \n",
              "                       Vest top                    2991 \n",
              "Garment and Shoe care  Clothing mist               1    \n",
              "                       Sewing kit                  1    \n",
              "                       Stain remover spray         2    \n",
              "                       Washing bag                 1    \n",
              "                       Wood balls                  1    \n",
              "                       Zipper head                 3    \n",
              "Interior textile       Blanket                     1    \n",
              "                       Cushion                     1    \n",
              "                       Towel                       1    \n",
              "Items                  Dog wear                    7    \n",
              "                       Keychain                    1    \n",
              "                       Mobile case                 4    \n",
              "                       Umbrella                    3    \n",
              "                       Wireless earphone case      2    \n",
              "Nightwear              Night gown                  171  \n",
              "                       Pyjama bottom               220  \n",
              "                       Pyjama jumpsuit/playsuit    388  \n",
              "                       Pyjama set                  1120 \n",
              "Shoes                  Ballerinas                  372  \n",
              "                       Bootie                      31   \n",
              "                       Boots                       1028 \n",
              "                       Flat shoe                   165  \n",
              "                       Flat shoes                  10   \n",
              "                       Flip flop                   125  \n",
              "                       Heeled sandals              202  \n",
              "                       Heels                       22   \n",
              "                       Moccasins                   4    \n",
              "                       Other shoe                  395  \n",
              "                       Pre-walkers                 1    \n",
              "                       Pumps                       188  \n",
              "                       Sandals                     757  \n",
              "                       Slippers                    249  \n",
              "                       Sneakers                    1621 \n",
              "                       Wedge                       113  \n",
              "Socks & Tights         Leg warmers                 7    \n",
              "                       Socks                       1889 \n",
              "                       Underwear Tights            546  \n",
              "Stationery             Marker pen                  5    \n",
              "Swimwear               Bikini top                  850  \n",
              "                       Sarong                      66   \n",
              "                       Swimsuit                    662  \n",
              "                       Swimwear bottom             1307 \n",
              "                       Swimwear set                192  \n",
              "                       Swimwear top                50   \n",
              "Underwear              Bra                         2212 \n",
              "                       Bra extender                1    \n",
              "                       Kids Underwear top          96   \n",
              "                       Long John                   30   \n",
              "                       Nipple covers               19   \n",
              "                       Robe                        136  \n",
              "                       Underdress                  20   \n",
              "                       Underwear body              174  \n",
              "                       Underwear bottom            2748 \n",
              "                       Underwear corset            7    \n",
              "                       Underwear set               47   \n",
              "Underwear/nightwear    Sleep Bag                   6    \n",
              "                       Sleeping sack               48   \n",
              "Unknown                Unknown                     121  \n",
              "Name: article_id, dtype: int64"
            ]
          },
          "metadata": {},
          "execution_count": 19
        },
        {
          "output_type": "stream",
          "name": "stdout",
          "text": [
            "time: 114 ms (started: 2022-05-04 10:38:09 +00:00)\n"
          ]
        }
      ],
      "source": [
        "pd.options.display.max_rows = None\n",
        "article_df.groupby(['product_group_name', 'product_type_name']).count()['article_id']"
      ]
    },
    {
      "cell_type": "code",
      "execution_count": null,
      "metadata": {
        "colab": {
          "base_uri": "https://localhost:8080/"
        },
        "id": "NI-Ean5d5psn",
        "outputId": "d1274fc6-a736-40c7-ff1b-84ae55854991"
      },
      "outputs": [
        {
          "output_type": "display_data",
          "data": {
            "text/plain": [
              "<IPython.core.display.HTML object>"
            ],
            "text/html": [
              "\n",
              "  <style>\n",
              "    pre {\n",
              "        white-space: pre-wrap;\n",
              "    }\n",
              "  </style>\n",
              "  "
            ]
          },
          "metadata": {}
        },
        {
          "output_type": "display_data",
          "data": {
            "text/plain": [
              "<IPython.core.display.HTML object>"
            ],
            "text/html": [
              "\n",
              "  <style>\n",
              "    pre {\n",
              "        white-space: pre-wrap;\n",
              "    }\n",
              "  </style>\n",
              "  "
            ]
          },
          "metadata": {}
        },
        {
          "output_type": "stream",
          "name": "stdout",
          "text": [
            "n of unique prod_name: 45875\n",
            "n of unique product_type_name: 131\n",
            "n of unique product_group_name: 19\n",
            "n of unique graphical_appearance_name: 30\n",
            "n of unique colour_group_name: 50\n",
            "n of unique perceived_colour_value_name: 8\n",
            "n of unique perceived_colour_master_name: 20\n",
            "n of unique department_name: 250\n",
            "n of unique index_name: 10\n",
            "n of unique index_group_name: 5\n",
            "n of unique section_name: 56\n",
            "n of unique garment_group_name: 21\n",
            "n of unique detail_desc: 43404\n",
            "time: 104 ms (started: 2022-05-04 10:38:09 +00:00)\n"
          ]
        }
      ],
      "source": [
        "# unique values in columns\n",
        "\n",
        "for col in article_df.columns:\n",
        "    if not 'no' in col and not 'code' in col and not 'id' in col:\n",
        "        un_n = article_df[col].nunique()\n",
        "        print(f'n of unique {col}: {un_n}')"
      ]
    },
    {
      "cell_type": "markdown",
      "metadata": {
        "id": "40GYSJjPn5uA"
      },
      "source": [
        "### Product Similarities"
      ]
    },
    {
      "cell_type": "code",
      "execution_count": null,
      "metadata": {
        "colab": {
          "base_uri": "https://localhost:8080/"
        },
        "id": "gUb-Dyp_n4jb",
        "outputId": "32de4b07-8753-42e3-aff2-36e6b0000a6d"
      },
      "outputs": [
        {
          "output_type": "display_data",
          "data": {
            "text/plain": [
              "<IPython.core.display.HTML object>"
            ],
            "text/html": [
              "\n",
              "  <style>\n",
              "    pre {\n",
              "        white-space: pre-wrap;\n",
              "    }\n",
              "  </style>\n",
              "  "
            ]
          },
          "metadata": {}
        },
        {
          "output_type": "display_data",
          "data": {
            "text/plain": [
              "<IPython.core.display.HTML object>"
            ],
            "text/html": [
              "\n",
              "  <style>\n",
              "    pre {\n",
              "        white-space: pre-wrap;\n",
              "    }\n",
              "  </style>\n",
              "  "
            ]
          },
          "metadata": {}
        },
        {
          "output_type": "execute_result",
          "data": {
            "text/plain": [
              "Index(['article_id', 'product_code', 'prod_name', 'product_type_no',\n",
              "       'product_type_name', 'product_group_name', 'graphical_appearance_no',\n",
              "       'graphical_appearance_name', 'colour_group_code', 'colour_group_name',\n",
              "       'perceived_colour_value_id', 'perceived_colour_value_name',\n",
              "       'perceived_colour_master_id', 'perceived_colour_master_name',\n",
              "       'department_no', 'department_name', 'index_code', 'index_name',\n",
              "       'index_group_no', 'index_group_name', 'section_no', 'section_name',\n",
              "       'garment_group_no', 'garment_group_name', 'detail_desc'],\n",
              "      dtype='object')"
            ]
          },
          "metadata": {},
          "execution_count": 21
        },
        {
          "output_type": "stream",
          "name": "stdout",
          "text": [
            "time: 4.6 ms (started: 2022-05-04 10:38:09 +00:00)\n"
          ]
        }
      ],
      "source": [
        "article_df.columns"
      ]
    },
    {
      "cell_type": "code",
      "execution_count": null,
      "metadata": {
        "colab": {
          "base_uri": "https://localhost:8080/"
        },
        "id": "lAXIYgHzRFEr",
        "outputId": "4406500d-48b6-40d7-ce67-2c2fa771b859"
      },
      "outputs": [
        {
          "output_type": "display_data",
          "data": {
            "text/plain": [
              "<IPython.core.display.HTML object>"
            ],
            "text/html": [
              "\n",
              "  <style>\n",
              "    pre {\n",
              "        white-space: pre-wrap;\n",
              "    }\n",
              "  </style>\n",
              "  "
            ]
          },
          "metadata": {}
        },
        {
          "output_type": "display_data",
          "data": {
            "text/plain": [
              "<IPython.core.display.HTML object>"
            ],
            "text/html": [
              "\n",
              "  <style>\n",
              "    pre {\n",
              "        white-space: pre-wrap;\n",
              "    }\n",
              "  </style>\n",
              "  "
            ]
          },
          "metadata": {}
        },
        {
          "output_type": "stream",
          "name": "stdout",
          "text": [
            "['Accessories set' 'Alice band' 'Baby Bib' 'Backpack' 'Bag' 'Ballerinas'\n",
            " 'Beanie' 'Belt' 'Bikini top' 'Blanket' 'Blazer' 'Blouse' 'Bodysuit'\n",
            " 'Bootie' 'Boots' 'Bra' 'Bra extender' 'Bracelet' 'Braces' 'Bucket hat'\n",
            " 'Bumbag' 'Cap' 'Cap/peaked' 'Cardigan' 'Chem. cosmetics' 'Clothing mist'\n",
            " 'Coat' 'Costumes' 'Cross-body bag' 'Cushion' 'Dog Wear' 'Dog wear'\n",
            " 'Dress' 'Dungarees' 'Earring' 'Earrings' 'Eyeglasses' 'Felt hat'\n",
            " 'Fine cosmetics' 'Flat shoe' 'Flat shoes' 'Flip flop' 'Garment Set'\n",
            " 'Giftbox' 'Gloves' 'Hair clip' 'Hair string' 'Hair ties'\n",
            " 'Hair/alice band' 'Hairband' 'Hat/beanie' 'Hat/brim' 'Headband'\n",
            " 'Heeled sandals' 'Heels' 'Hoodie' 'Jacket' 'Jumpsuit/Playsuit' 'Keychain'\n",
            " 'Kids Underwear top' 'Leg warmers' 'Leggings/Tights' 'Long John'\n",
            " 'Marker pen' 'Mobile case' 'Moccasins' 'Necklace' 'Night gown'\n",
            " 'Nipple covers' 'Other accessories' 'Other shoe' 'Outdoor Waistcoat'\n",
            " 'Outdoor overall' 'Outdoor trousers' 'Polo shirt' 'Pre-walkers' 'Pumps'\n",
            " 'Pyjama bottom' 'Pyjama jumpsuit/playsuit' 'Pyjama set' 'Ring' 'Robe'\n",
            " 'Sandals' 'Sarong' 'Scarf' 'Sewing kit' 'Shirt' 'Shorts' 'Shoulder bag'\n",
            " 'Side table' 'Skirt' 'Sleep Bag' 'Sleeping sack' 'Slippers' 'Sneakers'\n",
            " 'Socks' 'Soft Toys' 'Stain remover spray' 'Straw hat' 'Sunglasses'\n",
            " 'Sweater' 'Swimsuit' 'Swimwear bottom' 'Swimwear set' 'Swimwear top'\n",
            " 'T-shirt' 'Tailored Waistcoat' 'Tie' 'Top' 'Tote bag' 'Towel' 'Toy'\n",
            " 'Trousers' 'Umbrella' 'Underdress' 'Underwear Tights' 'Underwear body'\n",
            " 'Underwear bottom' 'Underwear corset' 'Underwear set' 'Unknown'\n",
            " 'Vest top' 'Wallet' 'Washing bag' 'Watch' 'Waterbottle' 'Wedge'\n",
            " 'Weekend/Gym bag' 'Wireless earphone case' 'Wood balls' 'Zipper head']\n",
            "time: 9.88 ms (started: 2022-05-04 10:38:09 +00:00)\n"
          ]
        }
      ],
      "source": [
        "print(np.sort(article_df['product_type_name'].unique()))"
      ]
    },
    {
      "cell_type": "code",
      "execution_count": null,
      "metadata": {
        "colab": {
          "base_uri": "https://localhost:8080/"
        },
        "id": "F6jZpNo3SPme",
        "outputId": "fa485f61-28dc-4cb6-c735-8af0e5a99ddf"
      },
      "outputs": [
        {
          "output_type": "display_data",
          "data": {
            "text/plain": [
              "<IPython.core.display.HTML object>"
            ],
            "text/html": [
              "\n",
              "  <style>\n",
              "    pre {\n",
              "        white-space: pre-wrap;\n",
              "    }\n",
              "  </style>\n",
              "  "
            ]
          },
          "metadata": {}
        },
        {
          "output_type": "display_data",
          "data": {
            "text/plain": [
              "<IPython.core.display.HTML object>"
            ],
            "text/html": [
              "\n",
              "  <style>\n",
              "    pre {\n",
              "        white-space: pre-wrap;\n",
              "    }\n",
              "  </style>\n",
              "  "
            ]
          },
          "metadata": {}
        },
        {
          "output_type": "stream",
          "name": "stdout",
          "text": [
            "time: 1.12 ms (started: 2022-05-04 10:38:09 +00:00)\n"
          ]
        },
        {
          "output_type": "stream",
          "name": "stderr",
          "text": [
            "/usr/local/lib/python3.7/dist-packages/ipykernel_launcher.py:1: FutureWarning: Passing a negative integer is deprecated in version 1.0 and will not be supported in future version. Instead, use None to not limit the column width.\n",
            "  \"\"\"Entry point for launching an IPython kernel.\n"
          ]
        }
      ],
      "source": [
        "pd.set_option('display.max_colwidth', -1)\n"
      ]
    },
    {
      "cell_type": "markdown",
      "metadata": {
        "id": "YaEdEpzI5_wg"
      },
      "source": [
        "## Transactions"
      ]
    },
    {
      "cell_type": "code",
      "execution_count": null,
      "metadata": {
        "colab": {
          "base_uri": "https://localhost:8080/",
          "height": 35
        },
        "id": "QYRXwJws6qLO",
        "outputId": "a86efbd7-cef3-41cb-b767-3f78a994649b"
      },
      "outputs": [
        {
          "output_type": "display_data",
          "data": {
            "text/plain": [
              "<IPython.core.display.HTML object>"
            ],
            "text/html": [
              "\n",
              "  <style>\n",
              "    pre {\n",
              "        white-space: pre-wrap;\n",
              "    }\n",
              "  </style>\n",
              "  "
            ]
          },
          "metadata": {}
        },
        {
          "output_type": "display_data",
          "data": {
            "text/plain": [
              "<IPython.core.display.HTML object>"
            ],
            "text/html": [
              "\n",
              "  <style>\n",
              "    pre {\n",
              "        white-space: pre-wrap;\n",
              "    }\n",
              "  </style>\n",
              "  "
            ]
          },
          "metadata": {}
        },
        {
          "output_type": "stream",
          "name": "stdout",
          "text": [
            "time: 743 µs (started: 2022-05-04 10:38:09 +00:00)\n"
          ]
        }
      ],
      "source": [
        "# t_dat : A unique identifier of every customer\n",
        "# customer_id : A unique identifier of every customer (in customers table)\n",
        "# article_id : A unique identifier of every article (in articles table)\n",
        "# price : Price of purchase\n",
        "# sales_channel_id : 1 or 2"
      ]
    },
    {
      "cell_type": "code",
      "execution_count": null,
      "metadata": {
        "colab": {
          "base_uri": "https://localhost:8080/",
          "height": 726
        },
        "id": "GDKPUF8reoFj",
        "outputId": "443d525b-1ad9-468b-b1d3-330a3373d358"
      },
      "outputs": [
        {
          "output_type": "display_data",
          "data": {
            "text/plain": [
              "<IPython.core.display.HTML object>"
            ],
            "text/html": [
              "\n",
              "  <style>\n",
              "    pre {\n",
              "        white-space: pre-wrap;\n",
              "    }\n",
              "  </style>\n",
              "  "
            ]
          },
          "metadata": {}
        },
        {
          "output_type": "display_data",
          "data": {
            "text/plain": [
              "<IPython.core.display.HTML object>"
            ],
            "text/html": [
              "\n",
              "  <style>\n",
              "    pre {\n",
              "        white-space: pre-wrap;\n",
              "    }\n",
              "  </style>\n",
              "  "
            ]
          },
          "metadata": {}
        },
        {
          "output_type": "execute_result",
          "data": {
            "text/plain": [
              "               t_dat  \\\n",
              "4212358   2018-12-27   \n",
              "4212359   2018-12-27   \n",
              "4212360   2018-12-27   \n",
              "9663224   2019-05-02   \n",
              "10754876  2019-05-25   \n",
              "10754877  2019-05-25   \n",
              "14479578  2019-07-25   \n",
              "14479579  2019-07-25   \n",
              "16728347  2019-09-18   \n",
              "17074660  2019-09-28   \n",
              "17074661  2019-09-28   \n",
              "19160879  2019-11-22   \n",
              "19357364  2019-11-28   \n",
              "19357365  2019-11-28   \n",
              "19357366  2019-11-28   \n",
              "23574620  2020-03-21   \n",
              "23574621  2020-03-21   \n",
              "23574622  2020-03-21   \n",
              "23574623  2020-03-21   \n",
              "23574624  2020-03-21   \n",
              "31140481  2020-09-05   \n",
              "\n",
              "                                                               customer_id  \\\n",
              "4212358   00000dbacae5abe5e23885899a1fa44253a17956c6d1c3d25f88aa139fdfc657   \n",
              "4212359   00000dbacae5abe5e23885899a1fa44253a17956c6d1c3d25f88aa139fdfc657   \n",
              "4212360   00000dbacae5abe5e23885899a1fa44253a17956c6d1c3d25f88aa139fdfc657   \n",
              "9663224   00000dbacae5abe5e23885899a1fa44253a17956c6d1c3d25f88aa139fdfc657   \n",
              "10754876  00000dbacae5abe5e23885899a1fa44253a17956c6d1c3d25f88aa139fdfc657   \n",
              "10754877  00000dbacae5abe5e23885899a1fa44253a17956c6d1c3d25f88aa139fdfc657   \n",
              "14479578  00000dbacae5abe5e23885899a1fa44253a17956c6d1c3d25f88aa139fdfc657   \n",
              "14479579  00000dbacae5abe5e23885899a1fa44253a17956c6d1c3d25f88aa139fdfc657   \n",
              "16728347  00000dbacae5abe5e23885899a1fa44253a17956c6d1c3d25f88aa139fdfc657   \n",
              "17074660  00000dbacae5abe5e23885899a1fa44253a17956c6d1c3d25f88aa139fdfc657   \n",
              "17074661  00000dbacae5abe5e23885899a1fa44253a17956c6d1c3d25f88aa139fdfc657   \n",
              "19160879  00000dbacae5abe5e23885899a1fa44253a17956c6d1c3d25f88aa139fdfc657   \n",
              "19357364  00000dbacae5abe5e23885899a1fa44253a17956c6d1c3d25f88aa139fdfc657   \n",
              "19357365  00000dbacae5abe5e23885899a1fa44253a17956c6d1c3d25f88aa139fdfc657   \n",
              "19357366  00000dbacae5abe5e23885899a1fa44253a17956c6d1c3d25f88aa139fdfc657   \n",
              "23574620  00000dbacae5abe5e23885899a1fa44253a17956c6d1c3d25f88aa139fdfc657   \n",
              "23574621  00000dbacae5abe5e23885899a1fa44253a17956c6d1c3d25f88aa139fdfc657   \n",
              "23574622  00000dbacae5abe5e23885899a1fa44253a17956c6d1c3d25f88aa139fdfc657   \n",
              "23574623  00000dbacae5abe5e23885899a1fa44253a17956c6d1c3d25f88aa139fdfc657   \n",
              "23574624  00000dbacae5abe5e23885899a1fa44253a17956c6d1c3d25f88aa139fdfc657   \n",
              "31140481  00000dbacae5abe5e23885899a1fa44253a17956c6d1c3d25f88aa139fdfc657   \n",
              "\n",
              "          article_id     price  sales_channel_id  \n",
              "4212358   625548001   0.044051  1                 \n",
              "4212359   176209023   0.035576  1                 \n",
              "4212360   627759010   0.030492  1                 \n",
              "9663224   697138006   0.010153  2                 \n",
              "10754876  568601006   0.050831  2                 \n",
              "10754877  568601006   0.050831  2                 \n",
              "14479578  607642008   0.012695  1                 \n",
              "14479579  745232001   0.021169  1                 \n",
              "16728347  656719005   0.044051  2                 \n",
              "17074660  797065001   0.054220  2                 \n",
              "17074661  797065001   0.054220  2                 \n",
              "19160879  785186005   0.016932  2                 \n",
              "19357364  694736004   0.018288  1                 \n",
              "19357365  785710001   0.024407  1                 \n",
              "19357366  812683013   0.036593  1                 \n",
              "23574620  841260003   0.011508  2                 \n",
              "23574621  887593002   0.021593  2                 \n",
              "23574622  890498002   0.031763  2                 \n",
              "23574623  795440001   0.014390  2                 \n",
              "23574624  859416011   0.014390  2                 \n",
              "31140481  568601043   0.050831  1                 "
            ],
            "text/html": [
              "\n",
              "  <div id=\"df-2d430cd6-0d9d-41df-97d9-880ea2eafdd2\">\n",
              "    <div class=\"colab-df-container\">\n",
              "      <div>\n",
              "<style scoped>\n",
              "    .dataframe tbody tr th:only-of-type {\n",
              "        vertical-align: middle;\n",
              "    }\n",
              "\n",
              "    .dataframe tbody tr th {\n",
              "        vertical-align: top;\n",
              "    }\n",
              "\n",
              "    .dataframe thead th {\n",
              "        text-align: right;\n",
              "    }\n",
              "</style>\n",
              "<table border=\"1\" class=\"dataframe\">\n",
              "  <thead>\n",
              "    <tr style=\"text-align: right;\">\n",
              "      <th></th>\n",
              "      <th>t_dat</th>\n",
              "      <th>customer_id</th>\n",
              "      <th>article_id</th>\n",
              "      <th>price</th>\n",
              "      <th>sales_channel_id</th>\n",
              "    </tr>\n",
              "  </thead>\n",
              "  <tbody>\n",
              "    <tr>\n",
              "      <th>4212358</th>\n",
              "      <td>2018-12-27</td>\n",
              "      <td>00000dbacae5abe5e23885899a1fa44253a17956c6d1c3d25f88aa139fdfc657</td>\n",
              "      <td>625548001</td>\n",
              "      <td>0.044051</td>\n",
              "      <td>1</td>\n",
              "    </tr>\n",
              "    <tr>\n",
              "      <th>4212359</th>\n",
              "      <td>2018-12-27</td>\n",
              "      <td>00000dbacae5abe5e23885899a1fa44253a17956c6d1c3d25f88aa139fdfc657</td>\n",
              "      <td>176209023</td>\n",
              "      <td>0.035576</td>\n",
              "      <td>1</td>\n",
              "    </tr>\n",
              "    <tr>\n",
              "      <th>4212360</th>\n",
              "      <td>2018-12-27</td>\n",
              "      <td>00000dbacae5abe5e23885899a1fa44253a17956c6d1c3d25f88aa139fdfc657</td>\n",
              "      <td>627759010</td>\n",
              "      <td>0.030492</td>\n",
              "      <td>1</td>\n",
              "    </tr>\n",
              "    <tr>\n",
              "      <th>9663224</th>\n",
              "      <td>2019-05-02</td>\n",
              "      <td>00000dbacae5abe5e23885899a1fa44253a17956c6d1c3d25f88aa139fdfc657</td>\n",
              "      <td>697138006</td>\n",
              "      <td>0.010153</td>\n",
              "      <td>2</td>\n",
              "    </tr>\n",
              "    <tr>\n",
              "      <th>10754876</th>\n",
              "      <td>2019-05-25</td>\n",
              "      <td>00000dbacae5abe5e23885899a1fa44253a17956c6d1c3d25f88aa139fdfc657</td>\n",
              "      <td>568601006</td>\n",
              "      <td>0.050831</td>\n",
              "      <td>2</td>\n",
              "    </tr>\n",
              "    <tr>\n",
              "      <th>10754877</th>\n",
              "      <td>2019-05-25</td>\n",
              "      <td>00000dbacae5abe5e23885899a1fa44253a17956c6d1c3d25f88aa139fdfc657</td>\n",
              "      <td>568601006</td>\n",
              "      <td>0.050831</td>\n",
              "      <td>2</td>\n",
              "    </tr>\n",
              "    <tr>\n",
              "      <th>14479578</th>\n",
              "      <td>2019-07-25</td>\n",
              "      <td>00000dbacae5abe5e23885899a1fa44253a17956c6d1c3d25f88aa139fdfc657</td>\n",
              "      <td>607642008</td>\n",
              "      <td>0.012695</td>\n",
              "      <td>1</td>\n",
              "    </tr>\n",
              "    <tr>\n",
              "      <th>14479579</th>\n",
              "      <td>2019-07-25</td>\n",
              "      <td>00000dbacae5abe5e23885899a1fa44253a17956c6d1c3d25f88aa139fdfc657</td>\n",
              "      <td>745232001</td>\n",
              "      <td>0.021169</td>\n",
              "      <td>1</td>\n",
              "    </tr>\n",
              "    <tr>\n",
              "      <th>16728347</th>\n",
              "      <td>2019-09-18</td>\n",
              "      <td>00000dbacae5abe5e23885899a1fa44253a17956c6d1c3d25f88aa139fdfc657</td>\n",
              "      <td>656719005</td>\n",
              "      <td>0.044051</td>\n",
              "      <td>2</td>\n",
              "    </tr>\n",
              "    <tr>\n",
              "      <th>17074660</th>\n",
              "      <td>2019-09-28</td>\n",
              "      <td>00000dbacae5abe5e23885899a1fa44253a17956c6d1c3d25f88aa139fdfc657</td>\n",
              "      <td>797065001</td>\n",
              "      <td>0.054220</td>\n",
              "      <td>2</td>\n",
              "    </tr>\n",
              "    <tr>\n",
              "      <th>17074661</th>\n",
              "      <td>2019-09-28</td>\n",
              "      <td>00000dbacae5abe5e23885899a1fa44253a17956c6d1c3d25f88aa139fdfc657</td>\n",
              "      <td>797065001</td>\n",
              "      <td>0.054220</td>\n",
              "      <td>2</td>\n",
              "    </tr>\n",
              "    <tr>\n",
              "      <th>19160879</th>\n",
              "      <td>2019-11-22</td>\n",
              "      <td>00000dbacae5abe5e23885899a1fa44253a17956c6d1c3d25f88aa139fdfc657</td>\n",
              "      <td>785186005</td>\n",
              "      <td>0.016932</td>\n",
              "      <td>2</td>\n",
              "    </tr>\n",
              "    <tr>\n",
              "      <th>19357364</th>\n",
              "      <td>2019-11-28</td>\n",
              "      <td>00000dbacae5abe5e23885899a1fa44253a17956c6d1c3d25f88aa139fdfc657</td>\n",
              "      <td>694736004</td>\n",
              "      <td>0.018288</td>\n",
              "      <td>1</td>\n",
              "    </tr>\n",
              "    <tr>\n",
              "      <th>19357365</th>\n",
              "      <td>2019-11-28</td>\n",
              "      <td>00000dbacae5abe5e23885899a1fa44253a17956c6d1c3d25f88aa139fdfc657</td>\n",
              "      <td>785710001</td>\n",
              "      <td>0.024407</td>\n",
              "      <td>1</td>\n",
              "    </tr>\n",
              "    <tr>\n",
              "      <th>19357366</th>\n",
              "      <td>2019-11-28</td>\n",
              "      <td>00000dbacae5abe5e23885899a1fa44253a17956c6d1c3d25f88aa139fdfc657</td>\n",
              "      <td>812683013</td>\n",
              "      <td>0.036593</td>\n",
              "      <td>1</td>\n",
              "    </tr>\n",
              "    <tr>\n",
              "      <th>23574620</th>\n",
              "      <td>2020-03-21</td>\n",
              "      <td>00000dbacae5abe5e23885899a1fa44253a17956c6d1c3d25f88aa139fdfc657</td>\n",
              "      <td>841260003</td>\n",
              "      <td>0.011508</td>\n",
              "      <td>2</td>\n",
              "    </tr>\n",
              "    <tr>\n",
              "      <th>23574621</th>\n",
              "      <td>2020-03-21</td>\n",
              "      <td>00000dbacae5abe5e23885899a1fa44253a17956c6d1c3d25f88aa139fdfc657</td>\n",
              "      <td>887593002</td>\n",
              "      <td>0.021593</td>\n",
              "      <td>2</td>\n",
              "    </tr>\n",
              "    <tr>\n",
              "      <th>23574622</th>\n",
              "      <td>2020-03-21</td>\n",
              "      <td>00000dbacae5abe5e23885899a1fa44253a17956c6d1c3d25f88aa139fdfc657</td>\n",
              "      <td>890498002</td>\n",
              "      <td>0.031763</td>\n",
              "      <td>2</td>\n",
              "    </tr>\n",
              "    <tr>\n",
              "      <th>23574623</th>\n",
              "      <td>2020-03-21</td>\n",
              "      <td>00000dbacae5abe5e23885899a1fa44253a17956c6d1c3d25f88aa139fdfc657</td>\n",
              "      <td>795440001</td>\n",
              "      <td>0.014390</td>\n",
              "      <td>2</td>\n",
              "    </tr>\n",
              "    <tr>\n",
              "      <th>23574624</th>\n",
              "      <td>2020-03-21</td>\n",
              "      <td>00000dbacae5abe5e23885899a1fa44253a17956c6d1c3d25f88aa139fdfc657</td>\n",
              "      <td>859416011</td>\n",
              "      <td>0.014390</td>\n",
              "      <td>2</td>\n",
              "    </tr>\n",
              "    <tr>\n",
              "      <th>31140481</th>\n",
              "      <td>2020-09-05</td>\n",
              "      <td>00000dbacae5abe5e23885899a1fa44253a17956c6d1c3d25f88aa139fdfc657</td>\n",
              "      <td>568601043</td>\n",
              "      <td>0.050831</td>\n",
              "      <td>1</td>\n",
              "    </tr>\n",
              "  </tbody>\n",
              "</table>\n",
              "</div>\n",
              "      <button class=\"colab-df-convert\" onclick=\"convertToInteractive('df-2d430cd6-0d9d-41df-97d9-880ea2eafdd2')\"\n",
              "              title=\"Convert this dataframe to an interactive table.\"\n",
              "              style=\"display:none;\">\n",
              "        \n",
              "  <svg xmlns=\"http://www.w3.org/2000/svg\" height=\"24px\"viewBox=\"0 0 24 24\"\n",
              "       width=\"24px\">\n",
              "    <path d=\"M0 0h24v24H0V0z\" fill=\"none\"/>\n",
              "    <path d=\"M18.56 5.44l.94 2.06.94-2.06 2.06-.94-2.06-.94-.94-2.06-.94 2.06-2.06.94zm-11 1L8.5 8.5l.94-2.06 2.06-.94-2.06-.94L8.5 2.5l-.94 2.06-2.06.94zm10 10l.94 2.06.94-2.06 2.06-.94-2.06-.94-.94-2.06-.94 2.06-2.06.94z\"/><path d=\"M17.41 7.96l-1.37-1.37c-.4-.4-.92-.59-1.43-.59-.52 0-1.04.2-1.43.59L10.3 9.45l-7.72 7.72c-.78.78-.78 2.05 0 2.83L4 21.41c.39.39.9.59 1.41.59.51 0 1.02-.2 1.41-.59l7.78-7.78 2.81-2.81c.8-.78.8-2.07 0-2.86zM5.41 20L4 18.59l7.72-7.72 1.47 1.35L5.41 20z\"/>\n",
              "  </svg>\n",
              "      </button>\n",
              "      \n",
              "  <style>\n",
              "    .colab-df-container {\n",
              "      display:flex;\n",
              "      flex-wrap:wrap;\n",
              "      gap: 12px;\n",
              "    }\n",
              "\n",
              "    .colab-df-convert {\n",
              "      background-color: #E8F0FE;\n",
              "      border: none;\n",
              "      border-radius: 50%;\n",
              "      cursor: pointer;\n",
              "      display: none;\n",
              "      fill: #1967D2;\n",
              "      height: 32px;\n",
              "      padding: 0 0 0 0;\n",
              "      width: 32px;\n",
              "    }\n",
              "\n",
              "    .colab-df-convert:hover {\n",
              "      background-color: #E2EBFA;\n",
              "      box-shadow: 0px 1px 2px rgba(60, 64, 67, 0.3), 0px 1px 3px 1px rgba(60, 64, 67, 0.15);\n",
              "      fill: #174EA6;\n",
              "    }\n",
              "\n",
              "    [theme=dark] .colab-df-convert {\n",
              "      background-color: #3B4455;\n",
              "      fill: #D2E3FC;\n",
              "    }\n",
              "\n",
              "    [theme=dark] .colab-df-convert:hover {\n",
              "      background-color: #434B5C;\n",
              "      box-shadow: 0px 1px 3px 1px rgba(0, 0, 0, 0.15);\n",
              "      filter: drop-shadow(0px 1px 2px rgba(0, 0, 0, 0.3));\n",
              "      fill: #FFFFFF;\n",
              "    }\n",
              "  </style>\n",
              "\n",
              "      <script>\n",
              "        const buttonEl =\n",
              "          document.querySelector('#df-2d430cd6-0d9d-41df-97d9-880ea2eafdd2 button.colab-df-convert');\n",
              "        buttonEl.style.display =\n",
              "          google.colab.kernel.accessAllowed ? 'block' : 'none';\n",
              "\n",
              "        async function convertToInteractive(key) {\n",
              "          const element = document.querySelector('#df-2d430cd6-0d9d-41df-97d9-880ea2eafdd2');\n",
              "          const dataTable =\n",
              "            await google.colab.kernel.invokeFunction('convertToInteractive',\n",
              "                                                     [key], {});\n",
              "          if (!dataTable) return;\n",
              "\n",
              "          const docLinkHtml = 'Like what you see? Visit the ' +\n",
              "            '<a target=\"_blank\" href=https://colab.research.google.com/notebooks/data_table.ipynb>data table notebook</a>'\n",
              "            + ' to learn more about interactive tables.';\n",
              "          element.innerHTML = '';\n",
              "          dataTable['output_type'] = 'display_data';\n",
              "          await google.colab.output.renderOutput(dataTable, element);\n",
              "          const docLink = document.createElement('div');\n",
              "          docLink.innerHTML = docLinkHtml;\n",
              "          element.appendChild(docLink);\n",
              "        }\n",
              "      </script>\n",
              "    </div>\n",
              "  </div>\n",
              "  "
            ]
          },
          "metadata": {},
          "execution_count": 25
        },
        {
          "output_type": "stream",
          "name": "stdout",
          "text": [
            "time: 1.83 s (started: 2022-05-04 10:38:09 +00:00)\n"
          ]
        }
      ],
      "source": [
        "transaction_df.loc[transaction_df['customer_id'] == customer_df.iloc[0]['customer_id']]\n",
        "# transaction_df[transaction_df['customer_id'].str.contains(\"000058a12d5b43e67d225668fa1f8d618c13dc232df0ca\")]"
      ]
    },
    {
      "cell_type": "code",
      "execution_count": null,
      "metadata": {
        "colab": {
          "base_uri": "https://localhost:8080/",
          "height": 53
        },
        "id": "6AVl1vWiVOp2",
        "outputId": "93aebd22-6ffd-4bf7-cfbf-ea37c588907e"
      },
      "outputs": [
        {
          "output_type": "display_data",
          "data": {
            "text/plain": [
              "<IPython.core.display.HTML object>"
            ],
            "text/html": [
              "\n",
              "  <style>\n",
              "    pre {\n",
              "        white-space: pre-wrap;\n",
              "    }\n",
              "  </style>\n",
              "  "
            ]
          },
          "metadata": {}
        },
        {
          "output_type": "display_data",
          "data": {
            "text/plain": [
              "<IPython.core.display.HTML object>"
            ],
            "text/html": [
              "\n",
              "  <style>\n",
              "    pre {\n",
              "        white-space: pre-wrap;\n",
              "    }\n",
              "  </style>\n",
              "  "
            ]
          },
          "metadata": {}
        },
        {
          "output_type": "stream",
          "name": "stdout",
          "text": [
            "31788324\n",
            "time: 1.24 ms (started: 2022-05-04 10:38:11 +00:00)\n"
          ]
        }
      ],
      "source": [
        "print(len(transaction_df))"
      ]
    },
    {
      "cell_type": "code",
      "execution_count": null,
      "metadata": {
        "colab": {
          "base_uri": "https://localhost:8080/",
          "height": 35
        },
        "id": "Y0QW2Z9vVKNq",
        "outputId": "6c47b7ec-dac4-4cb2-e50c-f3b873263072"
      },
      "outputs": [
        {
          "output_type": "display_data",
          "data": {
            "text/plain": [
              "<IPython.core.display.HTML object>"
            ],
            "text/html": [
              "\n",
              "  <style>\n",
              "    pre {\n",
              "        white-space: pre-wrap;\n",
              "    }\n",
              "  </style>\n",
              "  "
            ]
          },
          "metadata": {}
        },
        {
          "output_type": "display_data",
          "data": {
            "text/plain": [
              "<IPython.core.display.HTML object>"
            ],
            "text/html": [
              "\n",
              "  <style>\n",
              "    pre {\n",
              "        white-space: pre-wrap;\n",
              "    }\n",
              "  </style>\n",
              "  "
            ]
          },
          "metadata": {}
        },
        {
          "output_type": "stream",
          "name": "stdout",
          "text": [
            "time: 1.16 s (started: 2022-05-04 10:38:11 +00:00)\n"
          ]
        }
      ],
      "source": [
        "pairs = np.load('/content/drive/MyDrive/CSCI_567_ML/Data/pairs_cudf.npy',allow_pickle=True).item()"
      ]
    },
    {
      "cell_type": "code",
      "execution_count": null,
      "metadata": {
        "colab": {
          "base_uri": "https://localhost:8080/",
          "height": 53
        },
        "id": "u4rrT55QVLQL",
        "outputId": "5bd3ee3a-52ca-4827-b752-aafda02d06a0"
      },
      "outputs": [
        {
          "output_type": "display_data",
          "data": {
            "text/plain": [
              "<IPython.core.display.HTML object>"
            ],
            "text/html": [
              "\n",
              "  <style>\n",
              "    pre {\n",
              "        white-space: pre-wrap;\n",
              "    }\n",
              "  </style>\n",
              "  "
            ]
          },
          "metadata": {}
        },
        {
          "output_type": "display_data",
          "data": {
            "text/plain": [
              "<IPython.core.display.HTML object>"
            ],
            "text/html": [
              "\n",
              "  <style>\n",
              "    pre {\n",
              "        white-space: pre-wrap;\n",
              "    }\n",
              "  </style>\n",
              "  "
            ]
          },
          "metadata": {}
        },
        {
          "output_type": "stream",
          "name": "stdout",
          "text": [
            "(706016001, 706016002)\n",
            "time: 8.36 ms (started: 2022-05-04 10:38:12 +00:00)\n"
          ]
        }
      ],
      "source": [
        "print(list(pairs.items())[0])"
      ]
    },
    {
      "cell_type": "markdown",
      "metadata": {
        "id": "zUlLZG8bquDp"
      },
      "source": [
        "## Explore Items"
      ]
    },
    {
      "cell_type": "code",
      "execution_count": null,
      "metadata": {
        "colab": {
          "base_uri": "https://localhost:8080/",
          "height": 35
        },
        "id": "GmaBg7Utqve6",
        "outputId": "5fd9d4d9-ed56-4424-d094-a1f166f66c6e"
      },
      "outputs": [
        {
          "output_type": "display_data",
          "data": {
            "text/plain": [
              "<IPython.core.display.HTML object>"
            ],
            "text/html": [
              "\n",
              "  <style>\n",
              "    pre {\n",
              "        white-space: pre-wrap;\n",
              "    }\n",
              "  </style>\n",
              "  "
            ]
          },
          "metadata": {}
        },
        {
          "output_type": "stream",
          "name": "stdout",
          "text": [
            "time: 1.43 s (started: 2022-05-04 07:19:31 +00:00)\n"
          ]
        }
      ],
      "source": [
        "image_feats = np.load(\"/content/drive/MyDrive/CSCI_567_ML/Data/H&M_image_encoding_dict_50.pkl\", allow_pickle=True)#[()]"
      ]
    },
    {
      "cell_type": "markdown",
      "source": [
        "### Helper functions"
      ],
      "metadata": {
        "id": "0NdyfPvKzDKm"
      }
    },
    {
      "cell_type": "code",
      "execution_count": null,
      "metadata": {
        "colab": {
          "base_uri": "https://localhost:8080/"
        },
        "id": "3D3oe9V2_Ekx",
        "outputId": "e2187554-4d35-48cc-b9ff-d42f6bf7427a"
      },
      "outputs": [
        {
          "output_type": "display_data",
          "data": {
            "text/plain": [
              "<IPython.core.display.HTML object>"
            ],
            "text/html": [
              "\n",
              "  <style>\n",
              "    pre {\n",
              "        white-space: pre-wrap;\n",
              "    }\n",
              "  </style>\n",
              "  "
            ]
          },
          "metadata": {}
        },
        {
          "output_type": "stream",
          "name": "stdout",
          "text": [
            "time: 23.6 s (started: 2022-05-04 07:19:32 +00:00)\n"
          ]
        }
      ],
      "source": [
        "from sentence_transformers import SentenceTransformer, util\n",
        "import spacy\n",
        "import pandas as pd\n",
        "import plotly\n",
        "import plotly.graph_objs as go\n",
        "import matplotlib.pyplot as plt\n",
        "from tqdm import tqdm\n",
        "tqdm.pandas()\n",
        "import numpy as np\n",
        "import heapq\n",
        "\n",
        "\n",
        "model = SentenceTransformer('stsb-roberta-large', device='cuda')"
      ]
    },
    {
      "cell_type": "code",
      "execution_count": null,
      "metadata": {
        "colab": {
          "base_uri": "https://localhost:8080/"
        },
        "id": "H19GR869AGuW",
        "outputId": "df1a1103-4f0d-4ef4-993e-99d55e249edc"
      },
      "outputs": [
        {
          "output_type": "display_data",
          "data": {
            "text/plain": [
              "<IPython.core.display.HTML object>"
            ],
            "text/html": [
              "\n",
              "  <style>\n",
              "    pre {\n",
              "        white-space: pre-wrap;\n",
              "    }\n",
              "  </style>\n",
              "  "
            ]
          },
          "metadata": {}
        },
        {
          "output_type": "stream",
          "name": "stdout",
          "text": [
            "time: 2.26 ms (started: 2022-05-04 07:19:56 +00:00)\n"
          ]
        }
      ],
      "source": [
        "def description_embeddings(sentence):\n",
        "  sentence = str(sentence)\n",
        "  if sentence == str(np.nan):\n",
        "    return np.nan\n",
        "  else:\n",
        "    # print(sentence)\n",
        "    embeddings = model.encode(sentence)\n",
        "    return embeddings   "
      ]
    },
    {
      "cell_type": "code",
      "execution_count": null,
      "metadata": {
        "colab": {
          "base_uri": "https://localhost:8080/"
        },
        "id": "CBHwKCBGXu1Q",
        "outputId": "30c1d47a-070a-4d20-a800-dd1e54988ab3"
      },
      "outputs": [
        {
          "output_type": "display_data",
          "data": {
            "text/plain": [
              "<IPython.core.display.HTML object>"
            ],
            "text/html": [
              "\n",
              "  <style>\n",
              "    pre {\n",
              "        white-space: pre-wrap;\n",
              "    }\n",
              "  </style>\n",
              "  "
            ]
          },
          "metadata": {}
        },
        {
          "output_type": "stream",
          "name": "stdout",
          "text": [
            "time: 88.8 ms (started: 2022-05-04 07:19:56 +00:00)\n"
          ]
        }
      ],
      "source": [
        "corrected_image_feats = { k.split(\"/\")[-1].split(\".\")[0][1:]: v for k, v in image_feats.items() }"
      ]
    },
    {
      "cell_type": "code",
      "source": [
        "product_id_to_image_fp = { k.split(\"/\")[-1].split(\".\")[0][1:]: k for k, v in image_feats.items() }"
      ],
      "metadata": {
        "colab": {
          "base_uri": "https://localhost:8080/"
        },
        "id": "-JDYXbHeGEem",
        "outputId": "99a73981-51dc-4d15-e297-f13aa9c93856"
      },
      "execution_count": null,
      "outputs": [
        {
          "output_type": "display_data",
          "data": {
            "text/plain": [
              "<IPython.core.display.HTML object>"
            ],
            "text/html": [
              "\n",
              "  <style>\n",
              "    pre {\n",
              "        white-space: pre-wrap;\n",
              "    }\n",
              "  </style>\n",
              "  "
            ]
          },
          "metadata": {}
        },
        {
          "output_type": "stream",
          "name": "stdout",
          "text": [
            "time: 71.1 ms (started: 2022-05-04 07:19:56 +00:00)\n"
          ]
        }
      ]
    },
    {
      "cell_type": "code",
      "execution_count": null,
      "metadata": {
        "colab": {
          "base_uri": "https://localhost:8080/"
        },
        "id": "m2nIsA1OYRyP",
        "outputId": "bc0dc438-c77f-4706-c753-efb193ecf88d"
      },
      "outputs": [
        {
          "output_type": "display_data",
          "data": {
            "text/plain": [
              "<IPython.core.display.HTML object>"
            ],
            "text/html": [
              "\n",
              "  <style>\n",
              "    pre {\n",
              "        white-space: pre-wrap;\n",
              "    }\n",
              "  </style>\n",
              "  "
            ]
          },
          "metadata": {}
        },
        {
          "output_type": "stream",
          "name": "stdout",
          "text": [
            "time: 954 µs (started: 2022-05-04 07:19:56 +00:00)\n"
          ]
        }
      ],
      "source": [
        "# # verify\n",
        "# print(product_id_to_image_fp[\"451243004\"])\n",
        "# print(corrected_image_feats[\"451243004\"])"
      ]
    },
    {
      "cell_type": "code",
      "source": [
        "def image_fp(article_id):\n",
        "  article_id = str(article_id)\n",
        "  if article_id not in corrected_image_feats:\n",
        "    # print(\"missing image for prod: \", article_id)\n",
        "    return np.nan\n",
        "  else:\n",
        "    return product_id_to_image_fp[article_id]\n",
        "    \n",
        "  # print(article_id, type(article_id)) "
      ],
      "metadata": {
        "colab": {
          "base_uri": "https://localhost:8080/"
        },
        "id": "JU1F7NQdF7Ay",
        "outputId": "cd9660ad-6b39-4e67-a802-0f317aea18fe"
      },
      "execution_count": null,
      "outputs": [
        {
          "output_type": "display_data",
          "data": {
            "text/plain": [
              "<IPython.core.display.HTML object>"
            ],
            "text/html": [
              "\n",
              "  <style>\n",
              "    pre {\n",
              "        white-space: pre-wrap;\n",
              "    }\n",
              "  </style>\n",
              "  "
            ]
          },
          "metadata": {}
        },
        {
          "output_type": "stream",
          "name": "stdout",
          "text": [
            "time: 2.4 ms (started: 2022-05-04 07:19:56 +00:00)\n"
          ]
        }
      ]
    },
    {
      "cell_type": "code",
      "execution_count": null,
      "metadata": {
        "colab": {
          "base_uri": "https://localhost:8080/"
        },
        "id": "6vIVTrrLG5wB",
        "outputId": "15e9b8dc-d382-4dc7-c72f-c3d38a435e5c"
      },
      "outputs": [
        {
          "output_type": "display_data",
          "data": {
            "text/plain": [
              "<IPython.core.display.HTML object>"
            ],
            "text/html": [
              "\n",
              "  <style>\n",
              "    pre {\n",
              "        white-space: pre-wrap;\n",
              "    }\n",
              "  </style>\n",
              "  "
            ]
          },
          "metadata": {}
        },
        {
          "output_type": "stream",
          "name": "stdout",
          "text": [
            "time: 2 ms (started: 2022-05-04 07:19:56 +00:00)\n"
          ]
        }
      ],
      "source": [
        "def image_embeddings(article_id):\n",
        "  article_id = str(article_id)\n",
        "  if article_id not in corrected_image_feats:\n",
        "    # print(\"missing image for prod: \", article_id)\n",
        "    return np.nan\n",
        "  else:\n",
        "    return corrected_image_feats[article_id]\n",
        "    \n",
        "  # print(article_id, type(article_id)) "
      ]
    },
    {
      "cell_type": "markdown",
      "source": [
        "### Test code for visual similarity for a single category"
      ],
      "metadata": {
        "id": "-xpBv4tYx2Rm"
      }
    },
    {
      "cell_type": "code",
      "execution_count": null,
      "metadata": {
        "colab": {
          "base_uri": "https://localhost:8080/"
        },
        "id": "rYMPnIH3AWsI",
        "outputId": "7e95fa02-6057-4613-ed10-0e6112b854ee"
      },
      "outputs": [
        {
          "output_type": "display_data",
          "data": {
            "text/plain": [
              "<IPython.core.display.HTML object>"
            ],
            "text/html": [
              "\n",
              "  <style>\n",
              "    pre {\n",
              "        white-space: pre-wrap;\n",
              "    }\n",
              "  </style>\n",
              "  "
            ]
          },
          "metadata": {}
        },
        {
          "output_type": "stream",
          "name": "stdout",
          "text": [
            "time: 10.3 ms (started: 2022-05-03 11:56:32 +00:00)\n"
          ]
        }
      ],
      "source": [
        "article_sample = article_df[article_df['product_type_name'] == \"Bag\"]"
      ]
    },
    {
      "cell_type": "code",
      "execution_count": null,
      "metadata": {
        "colab": {
          "base_uri": "https://localhost:8080/"
        },
        "id": "CysqcyCM_0dL",
        "outputId": "4702b20f-fccb-4122-9041-3ca8461d4f47"
      },
      "outputs": [
        {
          "output_type": "display_data",
          "data": {
            "text/plain": [
              "<IPython.core.display.HTML object>"
            ],
            "text/html": [
              "\n",
              "  <style>\n",
              "    pre {\n",
              "        white-space: pre-wrap;\n",
              "    }\n",
              "  </style>\n",
              "  "
            ]
          },
          "metadata": {}
        },
        {
          "output_type": "display_data",
          "data": {
            "text/plain": [
              "<IPython.core.display.HTML object>"
            ],
            "text/html": [
              "\n",
              "  <style>\n",
              "    pre {\n",
              "        white-space: pre-wrap;\n",
              "    }\n",
              "  </style>\n",
              "  "
            ]
          },
          "metadata": {}
        },
        {
          "output_type": "stream",
          "name": "stderr",
          "text": [
            "100%|██████████| 1280/1280 [00:00<00:00, 293805.57it/s]\n",
            "/usr/local/lib/python3.7/dist-packages/ipykernel_launcher.py:3: SettingWithCopyWarning: \n",
            "A value is trying to be set on a copy of a slice from a DataFrame.\n",
            "Try using .loc[row_indexer,col_indexer] = value instead\n",
            "\n",
            "See the caveats in the documentation: https://pandas.pydata.org/pandas-docs/stable/user_guide/indexing.html#returning-a-view-versus-a-copy\n",
            "  This is separate from the ipykernel package so we can avoid doing imports until\n"
          ]
        },
        {
          "output_type": "stream",
          "name": "stdout",
          "text": [
            "missing image for prod:  538923001\n",
            "missing image for prod:  560783009\n",
            "missing image for prod:  560783010\n",
            "missing image for prod:  562298002\n",
            "missing image for prod:  567435001\n",
            "missing image for prod:  571716001\n",
            "missing image for prod:  600441002\n"
          ]
        },
        {
          "output_type": "stream",
          "name": "stderr",
          "text": [
            "100%|██████████| 1280/1280 [00:00<00:00, 270178.10it/s]"
          ]
        },
        {
          "output_type": "stream",
          "name": "stdout",
          "text": [
            "time: 27.1 ms (started: 2022-05-03 11:09:54 +00:00)\n"
          ]
        },
        {
          "output_type": "stream",
          "name": "stderr",
          "text": [
            "\n",
            "/usr/local/lib/python3.7/dist-packages/ipykernel_launcher.py:4: SettingWithCopyWarning: \n",
            "A value is trying to be set on a copy of a slice from a DataFrame.\n",
            "Try using .loc[row_indexer,col_indexer] = value instead\n",
            "\n",
            "See the caveats in the documentation: https://pandas.pydata.org/pandas-docs/stable/user_guide/indexing.html#returning-a-view-versus-a-copy\n",
            "  after removing the cwd from sys.path.\n"
          ]
        }
      ],
      "source": [
        "# skip description similarity for now\n",
        "# article_sample['desc_emb'] = article_sample['detail_desc'].progress_apply(description_embeddings)\n",
        "article_sample['img_emb'] = article_sample['article_id'].progress_apply(image_embeddings)\n",
        "article_sample['img_fp'] = article_sample['article_id'].progress_apply(image_fp)"
      ]
    },
    {
      "cell_type": "code",
      "execution_count": null,
      "metadata": {
        "colab": {
          "base_uri": "https://localhost:8080/",
          "height": 121
        },
        "id": "XaVqn2QnbaOK",
        "outputId": "8ccdab82-9745-4c01-bf94-b48a5ea1d39b"
      },
      "outputs": [
        {
          "data": {
            "text/html": [
              "\n",
              "  <style>\n",
              "    pre {\n",
              "        white-space: pre-wrap;\n",
              "    }\n",
              "  </style>\n",
              "  "
            ],
            "text/plain": [
              "<IPython.core.display.HTML object>"
            ]
          },
          "metadata": {},
          "output_type": "display_data"
        },
        {
          "data": {
            "text/html": [
              "\n",
              "  <style>\n",
              "    pre {\n",
              "        white-space: pre-wrap;\n",
              "    }\n",
              "  </style>\n",
              "  "
            ],
            "text/plain": [
              "<IPython.core.display.HTML object>"
            ]
          },
          "metadata": {},
          "output_type": "display_data"
        },
        {
          "name": "stdout",
          "output_type": "stream",
          "text": [
            "time: 6.02 ms (started: 2022-05-03 06:03:14 +00:00)\n"
          ]
        },
        {
          "name": "stderr",
          "output_type": "stream",
          "text": [
            "/usr/local/lib/python3.7/dist-packages/pandas/core/generic.py:6392: SettingWithCopyWarning: \n",
            "A value is trying to be set on a copy of a slice from a DataFrame\n",
            "\n",
            "See the caveats in the documentation: https://pandas.pydata.org/pandas-docs/stable/user_guide/indexing.html#returning-a-view-versus-a-copy\n",
            "  return self._update_inplace(result)\n"
          ]
        }
      ],
      "source": [
        "# # don't fill NaNs with 0 before similarity. We will take care of NaNs later\n",
        "\n",
        "# article_sample['desc_emb'].fillna(0, inplace=True)\n",
        "# article_sample['img_emb'].fillna(0, inplace=True)"
      ]
    },
    {
      "cell_type": "code",
      "execution_count": null,
      "metadata": {
        "colab": {
          "base_uri": "https://localhost:8080/"
        },
        "id": "jR_zHkdVfQh7",
        "outputId": "00d565f8-a4eb-4c6a-9745-475fe6d8e4c2"
      },
      "outputs": [
        {
          "output_type": "display_data",
          "data": {
            "text/plain": [
              "<IPython.core.display.HTML object>"
            ],
            "text/html": [
              "\n",
              "  <style>\n",
              "    pre {\n",
              "        white-space: pre-wrap;\n",
              "    }\n",
              "  </style>\n",
              "  "
            ]
          },
          "metadata": {}
        },
        {
          "output_type": "display_data",
          "data": {
            "text/plain": [
              "<IPython.core.display.HTML object>"
            ],
            "text/html": [
              "\n",
              "  <style>\n",
              "    pre {\n",
              "        white-space: pre-wrap;\n",
              "    }\n",
              "  </style>\n",
              "  "
            ]
          },
          "metadata": {}
        },
        {
          "output_type": "stream",
          "name": "stdout",
          "text": [
            "time: 7.72 ms (started: 2022-05-03 11:09:56 +00:00)\n"
          ]
        }
      ],
      "source": [
        "# We can only compute image similarity for non NaN entries\n",
        "\n",
        "img_embs_not_na_df = article_sample[article_sample['img_emb'].notna()]\n",
        "img_embs = list(img_embs_not_na_df['img_emb'])\n",
        "\n",
        "# # Check how many entries were NaNs\n",
        "# print(len(article_sample['img_emb']))\n",
        "# print(len(img_embs_not_na_df))"
      ]
    },
    {
      "cell_type": "code",
      "source": [
        "# img_embs_not_na_df.head()"
      ],
      "metadata": {
        "id": "62cQRHu38c2R"
      },
      "execution_count": null,
      "outputs": []
    },
    {
      "cell_type": "code",
      "execution_count": null,
      "metadata": {
        "colab": {
          "base_uri": "https://localhost:8080/"
        },
        "id": "aGBugEbxgXV1",
        "outputId": "6b51f7c7-fafc-463e-ab6d-74c86252a141"
      },
      "outputs": [
        {
          "output_type": "display_data",
          "data": {
            "text/plain": [
              "<IPython.core.display.HTML object>"
            ],
            "text/html": [
              "\n",
              "  <style>\n",
              "    pre {\n",
              "        white-space: pre-wrap;\n",
              "    }\n",
              "  </style>\n",
              "  "
            ]
          },
          "metadata": {}
        },
        {
          "output_type": "display_data",
          "data": {
            "text/plain": [
              "<IPython.core.display.HTML object>"
            ],
            "text/html": [
              "\n",
              "  <style>\n",
              "    pre {\n",
              "        white-space: pre-wrap;\n",
              "    }\n",
              "  </style>\n",
              "  "
            ]
          },
          "metadata": {}
        },
        {
          "output_type": "stream",
          "name": "stdout",
          "text": [
            "Cosine-Similarity img: tensor([[1.0000, 0.7970, 0.6525,  ..., 0.7510, 0.7153, 0.7552],\n",
            "        [0.7970, 1.0000, 0.7151,  ..., 0.7054, 0.7458, 0.6692],\n",
            "        [0.6525, 0.7151, 1.0000,  ..., 0.7137, 0.6920, 0.6494],\n",
            "        ...,\n",
            "        [0.7510, 0.7054, 0.7137,  ..., 1.0000, 0.7430, 0.7145],\n",
            "        [0.7153, 0.7458, 0.6920,  ..., 0.7430, 1.0000, 0.7431],\n",
            "        [0.7552, 0.6692, 0.6494,  ..., 0.7145, 0.7431, 1.0000]])\n",
            "time: 411 ms (started: 2022-05-03 11:09:57 +00:00)\n"
          ]
        }
      ],
      "source": [
        "cos_sim_img = util.cos_sim(img_embs, img_embs)\n",
        "print(\"Cosine-Similarity img:\", cos_sim_img)"
      ]
    },
    {
      "cell_type": "code",
      "source": [
        "num = 13 # includes the item itself so we take 12+1 \n",
        "\n",
        "# for idx, row in enumerate(cos_sim_img):\n",
        "#   topN_sim = heapq.nlargest(num, row)\n",
        "#   # print(top4_sim)\n",
        "\n",
        "topN_sim_idx = np.argpartition(cos_sim_img, -num, axis=1)[:, -num:]\n",
        "# print(topN_sim_idx)"
      ],
      "metadata": {
        "colab": {
          "base_uri": "https://localhost:8080/"
        },
        "id": "QQdQy3eq2cVn",
        "outputId": "7a8c22e0-24a7-49e7-ea30-11e20d940518"
      },
      "execution_count": null,
      "outputs": [
        {
          "output_type": "display_data",
          "data": {
            "text/plain": [
              "<IPython.core.display.HTML object>"
            ],
            "text/html": [
              "\n",
              "  <style>\n",
              "    pre {\n",
              "        white-space: pre-wrap;\n",
              "    }\n",
              "  </style>\n",
              "  "
            ]
          },
          "metadata": {}
        },
        {
          "output_type": "display_data",
          "data": {
            "text/plain": [
              "<IPython.core.display.HTML object>"
            ],
            "text/html": [
              "\n",
              "  <style>\n",
              "    pre {\n",
              "        white-space: pre-wrap;\n",
              "    }\n",
              "  </style>\n",
              "  "
            ]
          },
          "metadata": {}
        },
        {
          "output_type": "stream",
          "name": "stdout",
          "text": [
            "time: 21.3 ms (started: 2022-05-03 11:09:58 +00:00)\n"
          ]
        }
      ]
    },
    {
      "cell_type": "code",
      "source": [
        "# topN_sim_classes = [[x for x in topN_sim_idx[row] if x != row] for row in range(len(topN_sim_idx))]\n",
        "# topN_sim_classes_arr = np.asarray(topN_sim_classes)\n",
        "# print(topN_sim_classes_arr.shape)\n",
        "# img_embs_not_na_df['top_sim'] = topN_sim_classes\n",
        "\n",
        "# img_embs_not_na_df = img_embs_not_na_df.assign(column_new_1=np.nan, column_new_2='dogs', column_new_3=3)\n"
      ],
      "metadata": {
        "colab": {
          "base_uri": "https://localhost:8080/"
        },
        "id": "tmmexKo1donQ",
        "outputId": "6fc6aa1a-c502-4ce4-cbb1-14c22e3b5a1f"
      },
      "execution_count": null,
      "outputs": [
        {
          "output_type": "display_data",
          "data": {
            "text/plain": [
              "<IPython.core.display.HTML object>"
            ],
            "text/html": [
              "\n",
              "  <style>\n",
              "    pre {\n",
              "        white-space: pre-wrap;\n",
              "    }\n",
              "  </style>\n",
              "  "
            ]
          },
          "metadata": {}
        },
        {
          "output_type": "display_data",
          "data": {
            "text/plain": [
              "<IPython.core.display.HTML object>"
            ],
            "text/html": [
              "\n",
              "  <style>\n",
              "    pre {\n",
              "        white-space: pre-wrap;\n",
              "    }\n",
              "  </style>\n",
              "  "
            ]
          },
          "metadata": {}
        },
        {
          "output_type": "stream",
          "name": "stdout",
          "text": [
            "(1273, 12)\n",
            "time: 349 ms (started: 2022-05-03 10:38:51 +00:00)\n"
          ]
        },
        {
          "output_type": "stream",
          "name": "stderr",
          "text": [
            "/usr/local/lib/python3.7/dist-packages/ipykernel_launcher.py:4: SettingWithCopyWarning: \n",
            "A value is trying to be set on a copy of a slice from a DataFrame.\n",
            "Try using .loc[row_indexer,col_indexer] = value instead\n",
            "\n",
            "See the caveats in the documentation: https://pandas.pydata.org/pandas-docs/stable/user_guide/indexing.html#returning-a-view-versus-a-copy\n",
            "  after removing the cwd from sys.path.\n"
          ]
        }
      ]
    },
    {
      "cell_type": "code",
      "source": [
        "# For top 12 similar products, add 12 new columns in article_df\n",
        "topN_sim_classes = [[x for x in topN_sim_idx[row] if x != row] for row in range(len(topN_sim_idx))]\n",
        "topN_sim_classes_arr = np.asarray(topN_sim_classes)\n",
        "print(topN_sim_classes_arr.shape)\n",
        "# test[:,0]\n",
        "print(topN_sim_classes_arr[:,-1])\n",
        "img_embs_not_na_df['top_sim'] = topN_sim_classes\n",
        "\n",
        "img_embs_not_na_df = img_embs_not_na_df.assign(sim_1=topN_sim_classes_arr[:,-1], sim_2=topN_sim_classes_arr[:,-2], sim_3=topN_sim_classes_arr[:,-3], sim_4=topN_sim_classes_arr[:,-4], sim_5=topN_sim_classes_arr[:,-5], sim_6=topN_sim_classes_arr[:,-6], \\\n",
        "                                               sim_7=topN_sim_classes_arr[:,-7], sim_8=topN_sim_classes_arr[:,-8], sim_9=topN_sim_classes_arr[:,-9], sim_10=topN_sim_classes_arr[:,-10], sim_11=topN_sim_classes_arr[:,-11], sim_12=topN_sim_classes_arr[:,-12])\n",
        "\n",
        "# img_embs_not_na_df = img_embs_not_na_df.assign(sim_1_prod=img_embs_not_na_df['article_id'].iloc[img_embs_not_na_df['sim_1']])\n",
        "# img_embs_not_na_df = img_embs_not_na_df.assign(sim_1_prod=img_embs_not_na_df['article_id'].iloc[int(img_embs_not_na_df['sim_1'])], sim_2_prod=topN_sim_classes_arr[:,-2], sim_3_prod=topN_sim_classes_arr[:,-3], sim_4_prod=topN_sim_classes_arr[:,-4], sim_5_prod=topN_sim_classes_arr[:,-5], sim_6_prod=topN_sim_classes_arr[:,-6], \\\n",
        "#                                                sim_7_prod=topN_sim_classes_arr[:,-7], sim_8_prod=topN_sim_classes_arr[:,-8], sim_9_prod=topN_sim_classes_arr[:,-9], sim_10_prod=topN_sim_classes_arr[:,-10], sim_11_prod=topN_sim_classes_arr[:,-11], sim_12_prod=topN_sim_classes_arr[:,-12])\n",
        "\n",
        "# img_embs_not_na_df['article_id'].iloc[int(prod)]\n",
        "\n",
        "\n",
        "# img_embs_not_na_df[['sim_1', 'sim_2', 'sim_3', 'sim_4', 'sim_5', 'sim_6', 'sim_7', 'sim_8', 'sim_9', 'sim_10', 'sim_11', 'sim_12']] = img_embs_not_na_df.apply(top12similiar_prods, axis=1)"
      ],
      "metadata": {
        "colab": {
          "base_uri": "https://localhost:8080/"
        },
        "id": "ctdBU6KnZpGc",
        "outputId": "ddb22181-7097-4561-8f7c-73dffe91c63a"
      },
      "execution_count": null,
      "outputs": [
        {
          "output_type": "display_data",
          "data": {
            "text/plain": [
              "<IPython.core.display.HTML object>"
            ],
            "text/html": [
              "\n",
              "  <style>\n",
              "    pre {\n",
              "        white-space: pre-wrap;\n",
              "    }\n",
              "  </style>\n",
              "  "
            ]
          },
          "metadata": {}
        },
        {
          "output_type": "display_data",
          "data": {
            "text/plain": [
              "<IPython.core.display.HTML object>"
            ],
            "text/html": [
              "\n",
              "  <style>\n",
              "    pre {\n",
              "        white-space: pre-wrap;\n",
              "    }\n",
              "  </style>\n",
              "  "
            ]
          },
          "metadata": {}
        },
        {
          "output_type": "stream",
          "name": "stdout",
          "text": [
            "(1273, 12)\n",
            "[ 709  118 1159 ...  505  714  337]\n",
            "time: 117 ms (started: 2022-05-03 11:21:58 +00:00)\n"
          ]
        }
      ]
    },
    {
      "cell_type": "code",
      "source": [
        "# img_embs_not_na_df = img_embs_not_na_df.assign(sim_1_prod=img_embs_not_na_df['article_id'].iloc[img_embs_not_na_df['sim_1']])\n",
        "sim_1_prod = img_embs_not_na_df['article_id'].iloc[img_embs_not_na_df['sim_1']]\n",
        "print(type(sim_1_prod))\n",
        "img_embs_not_na_df['sim_1_prod'] = list(sim_1_prod)"
      ],
      "metadata": {
        "colab": {
          "base_uri": "https://localhost:8080/"
        },
        "id": "RTOH9UWNojRp",
        "outputId": "6e5acb88-e6f3-452f-dc17-c71985bc6087"
      },
      "execution_count": null,
      "outputs": [
        {
          "output_type": "display_data",
          "data": {
            "text/plain": [
              "<IPython.core.display.HTML object>"
            ],
            "text/html": [
              "\n",
              "  <style>\n",
              "    pre {\n",
              "        white-space: pre-wrap;\n",
              "    }\n",
              "  </style>\n",
              "  "
            ]
          },
          "metadata": {}
        },
        {
          "output_type": "display_data",
          "data": {
            "text/plain": [
              "<IPython.core.display.HTML object>"
            ],
            "text/html": [
              "\n",
              "  <style>\n",
              "    pre {\n",
              "        white-space: pre-wrap;\n",
              "    }\n",
              "  </style>\n",
              "  "
            ]
          },
          "metadata": {}
        },
        {
          "output_type": "stream",
          "name": "stdout",
          "text": [
            "<class 'pandas.core.series.Series'>\n",
            "time: 6.35 ms (started: 2022-05-03 11:24:28 +00:00)\n"
          ]
        }
      ]
    },
    {
      "cell_type": "code",
      "source": [
        "# Verify!\n",
        "img_embs_not_na_df.head()\n",
        "\n",
        "# least sim to most for Bags\n",
        "#[tensor(112), tensor(710), tensor(734), tensor(505), tensor(559), tensor(15), tensor(138), tensor(410), tensor(66), tensor(118), tensor(76), tensor(709)]"
      ],
      "metadata": {
        "colab": {
          "base_uri": "https://localhost:8080/"
        },
        "id": "d2Hr-1gjhBjh",
        "outputId": "5f717e6b-0249-4c38-9f5a-2a7efe8c8155"
      },
      "execution_count": null,
      "outputs": [
        {
          "output_type": "display_data",
          "data": {
            "text/plain": [
              "<IPython.core.display.HTML object>"
            ],
            "text/html": [
              "\n",
              "  <style>\n",
              "    pre {\n",
              "        white-space: pre-wrap;\n",
              "    }\n",
              "  </style>\n",
              "  "
            ]
          },
          "metadata": {}
        },
        {
          "output_type": "display_data",
          "data": {
            "text/plain": [
              "<IPython.core.display.HTML object>"
            ],
            "text/html": [
              "\n",
              "  <style>\n",
              "    pre {\n",
              "        white-space: pre-wrap;\n",
              "    }\n",
              "  </style>\n",
              "  "
            ]
          },
          "metadata": {}
        },
        {
          "output_type": "execute_result",
          "data": {
            "text/plain": [
              "      article_id  product_code            prod_name  product_type_no  \\\n",
              "438   241436001   241436        Fix it tote bag      66                \n",
              "439   241436006   241436        Fix it tote bag      66                \n",
              "723   289834016   289834        FANTASTIC SHOPPER    66                \n",
              "1583  360295023   360295        Kardashian shopper   66                \n",
              "1883  380894037   380894        ChloÃ© cosmetic bag  66                \n",
              "\n",
              "     product_type_name product_group_name  graphical_appearance_no  \\\n",
              "438   Bag               Accessories        1010016                   \n",
              "439   Bag               Accessories        1010016                   \n",
              "723   Bag               Accessories        1010014                   \n",
              "1583  Bag               Accessories        1010016                   \n",
              "1883  Bag               Accessories        1010011                   \n",
              "\n",
              "     graphical_appearance_name  colour_group_code colour_group_name  ...  \\\n",
              "438   Solid                     9                  Black             ...   \n",
              "439   Solid                     12                 Light Beige       ...   \n",
              "723   Placement print           11                 Off White         ...   \n",
              "1583  Solid                     8                  Dark Grey         ...   \n",
              "1883  Metallic                  61                 Light Purple      ...   \n",
              "\n",
              "      sim_3 sim_4  sim_5 sim_6  sim_7 sim_8 sim_9 sim_10  sim_11 sim_12  \n",
              "438   118    66    410    138   15     559   505   734    710     112    \n",
              "439   258    71    66     671   212    981   137   11     9       710    \n",
              "723   1152   236   393    518   1231   300   665   1125   897     398    \n",
              "1583  733    975   94     1247  121    17    802   845    1026    1203   \n",
              "1883  1170   142   961    817   518    623   18    444    143     489    \n",
              "\n",
              "[5 rows x 44 columns]"
            ],
            "text/html": [
              "\n",
              "  <div id=\"df-b734f8bf-1d9f-461c-8791-64cf2cce1b1b\">\n",
              "    <div class=\"colab-df-container\">\n",
              "      <div>\n",
              "<style scoped>\n",
              "    .dataframe tbody tr th:only-of-type {\n",
              "        vertical-align: middle;\n",
              "    }\n",
              "\n",
              "    .dataframe tbody tr th {\n",
              "        vertical-align: top;\n",
              "    }\n",
              "\n",
              "    .dataframe thead th {\n",
              "        text-align: right;\n",
              "    }\n",
              "</style>\n",
              "<table border=\"1\" class=\"dataframe\">\n",
              "  <thead>\n",
              "    <tr style=\"text-align: right;\">\n",
              "      <th></th>\n",
              "      <th>article_id</th>\n",
              "      <th>product_code</th>\n",
              "      <th>prod_name</th>\n",
              "      <th>product_type_no</th>\n",
              "      <th>product_type_name</th>\n",
              "      <th>product_group_name</th>\n",
              "      <th>graphical_appearance_no</th>\n",
              "      <th>graphical_appearance_name</th>\n",
              "      <th>colour_group_code</th>\n",
              "      <th>colour_group_name</th>\n",
              "      <th>...</th>\n",
              "      <th>sim_3</th>\n",
              "      <th>sim_4</th>\n",
              "      <th>sim_5</th>\n",
              "      <th>sim_6</th>\n",
              "      <th>sim_7</th>\n",
              "      <th>sim_8</th>\n",
              "      <th>sim_9</th>\n",
              "      <th>sim_10</th>\n",
              "      <th>sim_11</th>\n",
              "      <th>sim_12</th>\n",
              "    </tr>\n",
              "  </thead>\n",
              "  <tbody>\n",
              "    <tr>\n",
              "      <th>438</th>\n",
              "      <td>241436001</td>\n",
              "      <td>241436</td>\n",
              "      <td>Fix it tote bag</td>\n",
              "      <td>66</td>\n",
              "      <td>Bag</td>\n",
              "      <td>Accessories</td>\n",
              "      <td>1010016</td>\n",
              "      <td>Solid</td>\n",
              "      <td>9</td>\n",
              "      <td>Black</td>\n",
              "      <td>...</td>\n",
              "      <td>118</td>\n",
              "      <td>66</td>\n",
              "      <td>410</td>\n",
              "      <td>138</td>\n",
              "      <td>15</td>\n",
              "      <td>559</td>\n",
              "      <td>505</td>\n",
              "      <td>734</td>\n",
              "      <td>710</td>\n",
              "      <td>112</td>\n",
              "    </tr>\n",
              "    <tr>\n",
              "      <th>439</th>\n",
              "      <td>241436006</td>\n",
              "      <td>241436</td>\n",
              "      <td>Fix it tote bag</td>\n",
              "      <td>66</td>\n",
              "      <td>Bag</td>\n",
              "      <td>Accessories</td>\n",
              "      <td>1010016</td>\n",
              "      <td>Solid</td>\n",
              "      <td>12</td>\n",
              "      <td>Light Beige</td>\n",
              "      <td>...</td>\n",
              "      <td>258</td>\n",
              "      <td>71</td>\n",
              "      <td>66</td>\n",
              "      <td>671</td>\n",
              "      <td>212</td>\n",
              "      <td>981</td>\n",
              "      <td>137</td>\n",
              "      <td>11</td>\n",
              "      <td>9</td>\n",
              "      <td>710</td>\n",
              "    </tr>\n",
              "    <tr>\n",
              "      <th>723</th>\n",
              "      <td>289834016</td>\n",
              "      <td>289834</td>\n",
              "      <td>FANTASTIC SHOPPER</td>\n",
              "      <td>66</td>\n",
              "      <td>Bag</td>\n",
              "      <td>Accessories</td>\n",
              "      <td>1010014</td>\n",
              "      <td>Placement print</td>\n",
              "      <td>11</td>\n",
              "      <td>Off White</td>\n",
              "      <td>...</td>\n",
              "      <td>1152</td>\n",
              "      <td>236</td>\n",
              "      <td>393</td>\n",
              "      <td>518</td>\n",
              "      <td>1231</td>\n",
              "      <td>300</td>\n",
              "      <td>665</td>\n",
              "      <td>1125</td>\n",
              "      <td>897</td>\n",
              "      <td>398</td>\n",
              "    </tr>\n",
              "    <tr>\n",
              "      <th>1583</th>\n",
              "      <td>360295023</td>\n",
              "      <td>360295</td>\n",
              "      <td>Kardashian shopper</td>\n",
              "      <td>66</td>\n",
              "      <td>Bag</td>\n",
              "      <td>Accessories</td>\n",
              "      <td>1010016</td>\n",
              "      <td>Solid</td>\n",
              "      <td>8</td>\n",
              "      <td>Dark Grey</td>\n",
              "      <td>...</td>\n",
              "      <td>733</td>\n",
              "      <td>975</td>\n",
              "      <td>94</td>\n",
              "      <td>1247</td>\n",
              "      <td>121</td>\n",
              "      <td>17</td>\n",
              "      <td>802</td>\n",
              "      <td>845</td>\n",
              "      <td>1026</td>\n",
              "      <td>1203</td>\n",
              "    </tr>\n",
              "    <tr>\n",
              "      <th>1883</th>\n",
              "      <td>380894037</td>\n",
              "      <td>380894</td>\n",
              "      <td>ChloÃ© cosmetic bag</td>\n",
              "      <td>66</td>\n",
              "      <td>Bag</td>\n",
              "      <td>Accessories</td>\n",
              "      <td>1010011</td>\n",
              "      <td>Metallic</td>\n",
              "      <td>61</td>\n",
              "      <td>Light Purple</td>\n",
              "      <td>...</td>\n",
              "      <td>1170</td>\n",
              "      <td>142</td>\n",
              "      <td>961</td>\n",
              "      <td>817</td>\n",
              "      <td>518</td>\n",
              "      <td>623</td>\n",
              "      <td>18</td>\n",
              "      <td>444</td>\n",
              "      <td>143</td>\n",
              "      <td>489</td>\n",
              "    </tr>\n",
              "  </tbody>\n",
              "</table>\n",
              "<p>5 rows × 44 columns</p>\n",
              "</div>\n",
              "      <button class=\"colab-df-convert\" onclick=\"convertToInteractive('df-b734f8bf-1d9f-461c-8791-64cf2cce1b1b')\"\n",
              "              title=\"Convert this dataframe to an interactive table.\"\n",
              "              style=\"display:none;\">\n",
              "        \n",
              "  <svg xmlns=\"http://www.w3.org/2000/svg\" height=\"24px\"viewBox=\"0 0 24 24\"\n",
              "       width=\"24px\">\n",
              "    <path d=\"M0 0h24v24H0V0z\" fill=\"none\"/>\n",
              "    <path d=\"M18.56 5.44l.94 2.06.94-2.06 2.06-.94-2.06-.94-.94-2.06-.94 2.06-2.06.94zm-11 1L8.5 8.5l.94-2.06 2.06-.94-2.06-.94L8.5 2.5l-.94 2.06-2.06.94zm10 10l.94 2.06.94-2.06 2.06-.94-2.06-.94-.94-2.06-.94 2.06-2.06.94z\"/><path d=\"M17.41 7.96l-1.37-1.37c-.4-.4-.92-.59-1.43-.59-.52 0-1.04.2-1.43.59L10.3 9.45l-7.72 7.72c-.78.78-.78 2.05 0 2.83L4 21.41c.39.39.9.59 1.41.59.51 0 1.02-.2 1.41-.59l7.78-7.78 2.81-2.81c.8-.78.8-2.07 0-2.86zM5.41 20L4 18.59l7.72-7.72 1.47 1.35L5.41 20z\"/>\n",
              "  </svg>\n",
              "      </button>\n",
              "      \n",
              "  <style>\n",
              "    .colab-df-container {\n",
              "      display:flex;\n",
              "      flex-wrap:wrap;\n",
              "      gap: 12px;\n",
              "    }\n",
              "\n",
              "    .colab-df-convert {\n",
              "      background-color: #E8F0FE;\n",
              "      border: none;\n",
              "      border-radius: 50%;\n",
              "      cursor: pointer;\n",
              "      display: none;\n",
              "      fill: #1967D2;\n",
              "      height: 32px;\n",
              "      padding: 0 0 0 0;\n",
              "      width: 32px;\n",
              "    }\n",
              "\n",
              "    .colab-df-convert:hover {\n",
              "      background-color: #E2EBFA;\n",
              "      box-shadow: 0px 1px 2px rgba(60, 64, 67, 0.3), 0px 1px 3px 1px rgba(60, 64, 67, 0.15);\n",
              "      fill: #174EA6;\n",
              "    }\n",
              "\n",
              "    [theme=dark] .colab-df-convert {\n",
              "      background-color: #3B4455;\n",
              "      fill: #D2E3FC;\n",
              "    }\n",
              "\n",
              "    [theme=dark] .colab-df-convert:hover {\n",
              "      background-color: #434B5C;\n",
              "      box-shadow: 0px 1px 3px 1px rgba(0, 0, 0, 0.15);\n",
              "      filter: drop-shadow(0px 1px 2px rgba(0, 0, 0, 0.3));\n",
              "      fill: #FFFFFF;\n",
              "    }\n",
              "  </style>\n",
              "\n",
              "      <script>\n",
              "        const buttonEl =\n",
              "          document.querySelector('#df-b734f8bf-1d9f-461c-8791-64cf2cce1b1b button.colab-df-convert');\n",
              "        buttonEl.style.display =\n",
              "          google.colab.kernel.accessAllowed ? 'block' : 'none';\n",
              "\n",
              "        async function convertToInteractive(key) {\n",
              "          const element = document.querySelector('#df-b734f8bf-1d9f-461c-8791-64cf2cce1b1b');\n",
              "          const dataTable =\n",
              "            await google.colab.kernel.invokeFunction('convertToInteractive',\n",
              "                                                     [key], {});\n",
              "          if (!dataTable) return;\n",
              "\n",
              "          const docLinkHtml = 'Like what you see? Visit the ' +\n",
              "            '<a target=\"_blank\" href=https://colab.research.google.com/notebooks/data_table.ipynb>data table notebook</a>'\n",
              "            + ' to learn more about interactive tables.';\n",
              "          element.innerHTML = '';\n",
              "          dataTable['output_type'] = 'display_data';\n",
              "          await google.colab.output.renderOutput(dataTable, element);\n",
              "          const docLink = document.createElement('div');\n",
              "          docLink.innerHTML = docLinkHtml;\n",
              "          element.appendChild(docLink);\n",
              "        }\n",
              "      </script>\n",
              "    </div>\n",
              "  </div>\n",
              "  "
            ]
          },
          "metadata": {},
          "execution_count": 319
        },
        {
          "output_type": "stream",
          "name": "stdout",
          "text": [
            "time: 19.4 ms (started: 2022-05-03 10:42:59 +00:00)\n"
          ]
        }
      ]
    },
    {
      "cell_type": "code",
      "source": [
        "article_df = pd.merge(article_df,img_embs_not_na_df[['article_id', 'sim_1', 'sim_2', 'sim_3', 'sim_4', 'sim_5', 'sim_6', 'sim_7', 'sim_8', 'sim_9', 'sim_10', 'sim_11', 'sim_12']],on='article_id', how='left')"
      ],
      "metadata": {
        "colab": {
          "base_uri": "https://localhost:8080/"
        },
        "id": "d_X-gbbpim9S",
        "outputId": "5f0705d4-fecb-4c6a-c6ba-2d2c2b0c5360"
      },
      "execution_count": null,
      "outputs": [
        {
          "output_type": "display_data",
          "data": {
            "text/plain": [
              "<IPython.core.display.HTML object>"
            ],
            "text/html": [
              "\n",
              "  <style>\n",
              "    pre {\n",
              "        white-space: pre-wrap;\n",
              "    }\n",
              "  </style>\n",
              "  "
            ]
          },
          "metadata": {}
        },
        {
          "output_type": "display_data",
          "data": {
            "text/plain": [
              "<IPython.core.display.HTML object>"
            ],
            "text/html": [
              "\n",
              "  <style>\n",
              "    pre {\n",
              "        white-space: pre-wrap;\n",
              "    }\n",
              "  </style>\n",
              "  "
            ]
          },
          "metadata": {}
        },
        {
          "output_type": "stream",
          "name": "stdout",
          "text": [
            "time: 200 ms (started: 2022-05-03 10:50:28 +00:00)\n"
          ]
        }
      ]
    },
    {
      "cell_type": "markdown",
      "source": [
        "### Visual similarity for all categories"
      ],
      "metadata": {
        "id": "0b7MGrhOx96L"
      }
    },
    {
      "cell_type": "code",
      "source": [
        "# Decide product types to compute similarity among\n",
        "pd.options.display.max_rows = None\n",
        "article_df.groupby(['product_group_name', 'product_type_name']).count()['article_id']"
      ],
      "metadata": {
        "colab": {
          "base_uri": "https://localhost:8080/",
          "height": 1000
        },
        "id": "orJfOV7nmBvY",
        "outputId": "6e4ba2ae-3bb8-4b1a-b4fb-9cc8d34a76cb"
      },
      "execution_count": null,
      "outputs": [
        {
          "output_type": "display_data",
          "data": {
            "text/plain": [
              "<IPython.core.display.HTML object>"
            ],
            "text/html": [
              "\n",
              "  <style>\n",
              "    pre {\n",
              "        white-space: pre-wrap;\n",
              "    }\n",
              "  </style>\n",
              "  "
            ]
          },
          "metadata": {}
        },
        {
          "output_type": "display_data",
          "data": {
            "text/plain": [
              "<IPython.core.display.HTML object>"
            ],
            "text/html": [
              "\n",
              "  <style>\n",
              "    pre {\n",
              "        white-space: pre-wrap;\n",
              "    }\n",
              "  </style>\n",
              "  "
            ]
          },
          "metadata": {}
        },
        {
          "output_type": "execute_result",
          "data": {
            "text/plain": [
              "product_group_name     product_type_name       \n",
              "Accessories            Accessories set             7    \n",
              "                       Alice band                  6    \n",
              "                       Baby Bib                    3    \n",
              "                       Bag                         1280 \n",
              "                       Beanie                      56   \n",
              "                       Belt                        458  \n",
              "                       Bracelet                    180  \n",
              "                       Braces                      3    \n",
              "                       Bucket hat                  7    \n",
              "                       Cap                         13   \n",
              "                       Cap/peaked                  573  \n",
              "                       Dog Wear                    20   \n",
              "                       Earring                     1159 \n",
              "                       Earrings                    11   \n",
              "                       Eyeglasses                  2    \n",
              "                       Felt hat                    10   \n",
              "                       Giftbox                     15   \n",
              "                       Gloves                      367  \n",
              "                       Hair clip                   244  \n",
              "                       Hair string                 238  \n",
              "                       Hair ties                   24   \n",
              "                       Hair/alice band             854  \n",
              "                       Hairband                    2    \n",
              "                       Hat/beanie                  1349 \n",
              "                       Hat/brim                    396  \n",
              "                       Headband                    1    \n",
              "                       Necklace                    581  \n",
              "                       Other accessories           1034 \n",
              "                       Ring                        240  \n",
              "                       Scarf                       1013 \n",
              "                       Soft Toys                   46   \n",
              "                       Straw hat                   6    \n",
              "                       Sunglasses                  621  \n",
              "                       Tie                         141  \n",
              "                       Umbrella                    26   \n",
              "                       Wallet                      77   \n",
              "                       Watch                       73   \n",
              "                       Waterbottle                 22   \n",
              "Bags                   Backpack                    6    \n",
              "                       Bumbag                      1    \n",
              "                       Cross-body bag              5    \n",
              "                       Shoulder bag                2    \n",
              "                       Tote bag                    2    \n",
              "                       Weekend/Gym bag             9    \n",
              "Cosmetic               Chem. cosmetics             3    \n",
              "                       Fine cosmetics              46   \n",
              "Fun                    Toy                         2    \n",
              "Furniture              Side table                  13   \n",
              "Garment Full body      Costumes                    90   \n",
              "                       Dress                       10362\n",
              "                       Dungarees                   309  \n",
              "                       Garment Set                 1320 \n",
              "                       Jumpsuit/Playsuit           1147 \n",
              "                       Outdoor overall             64   \n",
              "Garment Lower body     Leggings/Tights             1878 \n",
              "                       Outdoor trousers            130  \n",
              "                       Shorts                      3939 \n",
              "                       Skirt                       2696 \n",
              "                       Trousers                    11169\n",
              "Garment Upper body     Blazer                      1110 \n",
              "                       Blouse                      3979 \n",
              "                       Bodysuit                    913  \n",
              "                       Cardigan                    1550 \n",
              "                       Coat                        460  \n",
              "                       Hoodie                      2356 \n",
              "                       Jacket                      3940 \n",
              "                       Outdoor Waistcoat           154  \n",
              "                       Polo shirt                  449  \n",
              "                       Shirt                       3405 \n",
              "                       Sweater                     9302 \n",
              "                       T-shirt                     7904 \n",
              "                       Tailored Waistcoat          73   \n",
              "                       Top                         4155 \n",
              "                       Vest top                    2991 \n",
              "Garment and Shoe care  Clothing mist               1    \n",
              "                       Sewing kit                  1    \n",
              "                       Stain remover spray         2    \n",
              "                       Washing bag                 1    \n",
              "                       Wood balls                  1    \n",
              "                       Zipper head                 3    \n",
              "Interior textile       Blanket                     1    \n",
              "                       Cushion                     1    \n",
              "                       Towel                       1    \n",
              "Items                  Dog wear                    7    \n",
              "                       Keychain                    1    \n",
              "                       Mobile case                 4    \n",
              "                       Umbrella                    3    \n",
              "                       Wireless earphone case      2    \n",
              "Nightwear              Night gown                  171  \n",
              "                       Pyjama bottom               220  \n",
              "                       Pyjama jumpsuit/playsuit    388  \n",
              "                       Pyjama set                  1120 \n",
              "Shoes                  Ballerinas                  372  \n",
              "                       Bootie                      31   \n",
              "                       Boots                       1028 \n",
              "                       Flat shoe                   165  \n",
              "                       Flat shoes                  10   \n",
              "                       Flip flop                   125  \n",
              "                       Heeled sandals              202  \n",
              "                       Heels                       22   \n",
              "                       Moccasins                   4    \n",
              "                       Other shoe                  395  \n",
              "                       Pre-walkers                 1    \n",
              "                       Pumps                       188  \n",
              "                       Sandals                     757  \n",
              "                       Slippers                    249  \n",
              "                       Sneakers                    1621 \n",
              "                       Wedge                       113  \n",
              "Socks & Tights         Leg warmers                 7    \n",
              "                       Socks                       1889 \n",
              "                       Underwear Tights            546  \n",
              "Stationery             Marker pen                  5    \n",
              "Swimwear               Bikini top                  850  \n",
              "                       Sarong                      66   \n",
              "                       Swimsuit                    662  \n",
              "                       Swimwear bottom             1307 \n",
              "                       Swimwear set                192  \n",
              "                       Swimwear top                50   \n",
              "Underwear              Bra                         2212 \n",
              "                       Bra extender                1    \n",
              "                       Kids Underwear top          96   \n",
              "                       Long John                   30   \n",
              "                       Nipple covers               19   \n",
              "                       Robe                        136  \n",
              "                       Underdress                  20   \n",
              "                       Underwear body              174  \n",
              "                       Underwear bottom            2748 \n",
              "                       Underwear corset            7    \n",
              "                       Underwear set               47   \n",
              "Underwear/nightwear    Sleep Bag                   6    \n",
              "                       Sleeping sack               48   \n",
              "Unknown                Unknown                     121  \n",
              "Name: article_id, dtype: int64"
            ]
          },
          "metadata": {},
          "execution_count": 99
        },
        {
          "output_type": "stream",
          "name": "stdout",
          "text": [
            "time: 105 ms (started: 2022-05-04 05:10:23 +00:00)\n"
          ]
        }
      ]
    },
    {
      "cell_type": "code",
      "source": [
        "product_group_name = list(np.sort(article_df['product_group_name'].unique()))\n",
        "prod_group_wise_item_count  = article_df.groupby(['product_group_name']).count()['article_id'].to_dict()\n",
        "# product_group_name"
      ],
      "metadata": {
        "colab": {
          "base_uri": "https://localhost:8080/",
          "height": 35
        },
        "id": "3gYtE3tVr5aK",
        "outputId": "ef6a4b3b-dec0-426f-8eba-1d207c3b1444"
      },
      "execution_count": null,
      "outputs": [
        {
          "output_type": "display_data",
          "data": {
            "text/plain": [
              "<IPython.core.display.HTML object>"
            ],
            "text/html": [
              "\n",
              "  <style>\n",
              "    pre {\n",
              "        white-space: pre-wrap;\n",
              "    }\n",
              "  </style>\n",
              "  "
            ]
          },
          "metadata": {}
        },
        {
          "output_type": "display_data",
          "data": {
            "text/plain": [
              "<IPython.core.display.HTML object>"
            ],
            "text/html": [
              "\n",
              "  <style>\n",
              "    pre {\n",
              "        white-space: pre-wrap;\n",
              "    }\n",
              "  </style>\n",
              "  "
            ]
          },
          "metadata": {}
        },
        {
          "output_type": "stream",
          "name": "stdout",
          "text": [
            "time: 96 ms (started: 2022-05-04 05:10:23 +00:00)\n"
          ]
        }
      ]
    },
    {
      "cell_type": "code",
      "source": [
        "print(product_group_name)\n",
        "product_group_name.pop(7)\n",
        "print(product_group_name)"
      ],
      "metadata": {
        "colab": {
          "base_uri": "https://localhost:8080/",
          "height": 107
        },
        "id": "k-Vy3Eejtk5W",
        "outputId": "60ae3cc8-2e31-44ce-b594-036a6fec657b"
      },
      "execution_count": null,
      "outputs": [
        {
          "output_type": "display_data",
          "data": {
            "text/plain": [
              "<IPython.core.display.HTML object>"
            ],
            "text/html": [
              "\n",
              "  <style>\n",
              "    pre {\n",
              "        white-space: pre-wrap;\n",
              "    }\n",
              "  </style>\n",
              "  "
            ]
          },
          "metadata": {}
        },
        {
          "output_type": "display_data",
          "data": {
            "text/plain": [
              "<IPython.core.display.HTML object>"
            ],
            "text/html": [
              "\n",
              "  <style>\n",
              "    pre {\n",
              "        white-space: pre-wrap;\n",
              "    }\n",
              "  </style>\n",
              "  "
            ]
          },
          "metadata": {}
        },
        {
          "output_type": "stream",
          "name": "stdout",
          "text": [
            "['Accessories', 'Bags', 'Cosmetic', 'Fun', 'Furniture', 'Garment Full body', 'Garment Lower body', 'Garment Upper body', 'Garment and Shoe care', 'Interior textile', 'Items', 'Nightwear', 'Shoes', 'Socks & Tights', 'Stationery', 'Swimwear', 'Underwear', 'Underwear/nightwear', 'Unknown']\n",
            "['Accessories', 'Bags', 'Cosmetic', 'Fun', 'Furniture', 'Garment Full body', 'Garment Lower body', 'Garment and Shoe care', 'Interior textile', 'Items', 'Nightwear', 'Shoes', 'Socks & Tights', 'Stationery', 'Swimwear', 'Underwear', 'Underwear/nightwear', 'Unknown']\n",
            "time: 3.53 ms (started: 2022-05-04 05:10:23 +00:00)\n"
          ]
        }
      ]
    },
    {
      "cell_type": "code",
      "source": [
        "prod_group_wise_item_count"
      ],
      "metadata": {
        "colab": {
          "base_uri": "https://localhost:8080/",
          "height": 361
        },
        "id": "hNjsU1vTyDwJ",
        "outputId": "f3b163f0-1ac0-4e36-e23d-db13ad0bf6cd"
      },
      "execution_count": null,
      "outputs": [
        {
          "output_type": "display_data",
          "data": {
            "text/plain": [
              "<IPython.core.display.HTML object>"
            ],
            "text/html": [
              "\n",
              "  <style>\n",
              "    pre {\n",
              "        white-space: pre-wrap;\n",
              "    }\n",
              "  </style>\n",
              "  "
            ]
          },
          "metadata": {}
        },
        {
          "output_type": "display_data",
          "data": {
            "text/plain": [
              "<IPython.core.display.HTML object>"
            ],
            "text/html": [
              "\n",
              "  <style>\n",
              "    pre {\n",
              "        white-space: pre-wrap;\n",
              "    }\n",
              "  </style>\n",
              "  "
            ]
          },
          "metadata": {}
        },
        {
          "output_type": "execute_result",
          "data": {
            "text/plain": [
              "{'Accessories': 11158,\n",
              " 'Bags': 25,\n",
              " 'Cosmetic': 49,\n",
              " 'Fun': 2,\n",
              " 'Furniture': 13,\n",
              " 'Garment Full body': 13292,\n",
              " 'Garment Lower body': 19812,\n",
              " 'Garment Upper body': 42741,\n",
              " 'Garment and Shoe care': 9,\n",
              " 'Interior textile': 3,\n",
              " 'Items': 17,\n",
              " 'Nightwear': 1899,\n",
              " 'Shoes': 5283,\n",
              " 'Socks & Tights': 2442,\n",
              " 'Stationery': 5,\n",
              " 'Swimwear': 3127,\n",
              " 'Underwear': 5490,\n",
              " 'Underwear/nightwear': 54,\n",
              " 'Unknown': 121}"
            ]
          },
          "metadata": {},
          "execution_count": 102
        },
        {
          "output_type": "stream",
          "name": "stdout",
          "text": [
            "time: 4.59 ms (started: 2022-05-04 05:10:23 +00:00)\n"
          ]
        }
      ]
    },
    {
      "cell_type": "code",
      "source": [
        "# Everything combined for an item\n",
        "import gc\n",
        "\n",
        "# article_df_new = article_df.copy()\n",
        "\n",
        "appended_data = []\n",
        "\n",
        "for item_group in tqdm(product_group_name):\n",
        "  #1. Create a subset of the df for a product type\n",
        "  print(item_group)\n",
        "  article_sample = article_df[article_df['product_group_name'] == item_group]\n",
        "\n",
        "  #2. Add image embeddings and image file paths for each prod\n",
        "  # skip description similarity for now\n",
        "  # article_sample['desc_emb'] = article_sample['detail_desc'].progress_apply(description_embeddings)\n",
        "  article_sample['img_emb'] = article_sample['article_id'].progress_apply(image_embeddings)\n",
        "  article_sample['img_fp'] = article_sample['article_id'].progress_apply(image_fp)\n",
        "\n",
        "  #3. Remove NaN values from subset df\n",
        "  # We can only compute image similarity for non NaN entries\n",
        "\n",
        "  img_embs_not_na_df = article_sample[article_sample['img_emb'].notna()]\n",
        "  img_embs = list(img_embs_not_na_df['img_emb']) #Create a list to compute cosine sim\n",
        "\n",
        "  #4. compute cosine similarity among all products images in the subset df\n",
        "  cos_sim_img = util.cos_sim(img_embs, img_embs)\n",
        "  # print(\"Cosine-Similarity img:\", cos_sim_img)\n",
        "\n",
        "  #5. Obtain top N similar instances\n",
        "  # num = 13 # includes the item itself so we take 12+1 \n",
        "  num = min(13, prod_group_wise_item_count[item_group])\n",
        "  topN_sim_idx = np.argpartition(cos_sim_img, -num, axis=1)[:, -num:]\n",
        "\n",
        "  #6. Add 12 cols for the top 12 most similar products \n",
        "  topN_sim_classes = [[x for x in topN_sim_idx[row] if x != row] for row in range(len(topN_sim_idx))]\n",
        "  topN_sim_classes_arr = np.asarray(topN_sim_classes)\n",
        "  print(f\"\\n{topN_sim_classes_arr.shape}\")\n",
        "  if topN_sim_classes_arr.shape[1] < 12:\n",
        "    nan_col = np.empty((topN_sim_classes_arr.shape[0],12-topN_sim_classes_arr.shape[1]))\n",
        "    nan_col.fill(np.nan)\n",
        "    topN_sim_classes_arr = np.c_[topN_sim_classes_arr,nan_col]\n",
        "    print(f\"\\nReshaping with NaNs to accomodate for less # of products in category: {item_group}\")\n",
        "    print(topN_sim_classes_arr)\n",
        "\n",
        "\n",
        "  img_embs_not_na_df = img_embs_not_na_df.assign(sim_1=topN_sim_classes_arr[:,-1], sim_2=topN_sim_classes_arr[:,-2], sim_3=topN_sim_classes_arr[:,-3], sim_4=topN_sim_classes_arr[:,-4], sim_5=topN_sim_classes_arr[:,-5], sim_6=topN_sim_classes_arr[:,-6], \\\n",
        "                                                sim_7=topN_sim_classes_arr[:,-7], sim_8=topN_sim_classes_arr[:,-8], sim_9=topN_sim_classes_arr[:,-9], sim_10=topN_sim_classes_arr[:,-10], sim_11=topN_sim_classes_arr[:,-11], sim_12=topN_sim_classes_arr[:,-12])\n",
        "  \n",
        "  img_embs_not_na_df['sim_1_prod'] = pd.Series([], dtype=int)\n",
        "  img_embs_not_na_df['sim_2_prod'] = pd.Series([], dtype=int)\n",
        "  img_embs_not_na_df['sim_3_prod'] = pd.Series([], dtype=int)\n",
        "  img_embs_not_na_df['sim_4_prod'] = pd.Series([], dtype=int)\n",
        "  img_embs_not_na_df['sim_5_prod'] = pd.Series([], dtype=int)\n",
        "  img_embs_not_na_df['sim_6_prod'] = pd.Series([], dtype=int)\n",
        "  img_embs_not_na_df['sim_7_prod'] = pd.Series([], dtype=int)\n",
        "  img_embs_not_na_df['sim_8_prod'] = pd.Series([], dtype=int)\n",
        "  img_embs_not_na_df['sim_9_prod'] = pd.Series([], dtype=int)\n",
        "  img_embs_not_na_df['sim_10_prod'] = pd.Series([], dtype=int)\n",
        "  img_embs_not_na_df['sim_11_prod'] = pd.Series([], dtype=int)\n",
        "  img_embs_not_na_df['sim_12_prod'] = pd.Series([], dtype=int)  \n",
        "\n",
        "  try:\n",
        "    # img_embs_not_na_df.assign(sim_1_prod=list(img_embs_not_na_df['article_id'].iloc[img_embs_not_na_df['sim_1']]))\n",
        "    img_embs_not_na_df['sim_1_prod'] = list(img_embs_not_na_df['article_id'].iloc[img_embs_not_na_df['sim_1']])\n",
        "  except:\n",
        "    img_embs_not_na_df['sim_1_prod'] = np.nan\n",
        "  try:\n",
        "    img_embs_not_na_df['sim_2_prod'] = list(img_embs_not_na_df['article_id'].iloc[img_embs_not_na_df['sim_2']])\n",
        "  except:\n",
        "    img_embs_not_na_df['sim_2_prod'] = np.nan\n",
        "  try:\n",
        "    img_embs_not_na_df['sim_3_prod'] = list(img_embs_not_na_df['article_id'].iloc[img_embs_not_na_df['sim_3']])\n",
        "  except:\n",
        "    img_embs_not_na_df['sim_3_prod'] = np.nan\n",
        "  try:\n",
        "    img_embs_not_na_df['sim_4_prod'] = list(img_embs_not_na_df['article_id'].iloc[img_embs_not_na_df['sim_4']])\n",
        "  except:\n",
        "    img_embs_not_na_df['sim_4_prod'] = np.nan\n",
        "  try:\n",
        "    img_embs_not_na_df['sim_5_prod'] = list(img_embs_not_na_df['article_id'].iloc[img_embs_not_na_df['sim_5']])\n",
        "  except:\n",
        "    img_embs_not_na_df['sim_5_prod'] = np.nan\n",
        "  try:\n",
        "    img_embs_not_na_df['sim_6_prod'] = list(img_embs_not_na_df['article_id'].iloc[img_embs_not_na_df['sim_6']])\n",
        "  except:\n",
        "    img_embs_not_na_df['sim_6_prod'] = np.nan\n",
        "  try:\n",
        "    img_embs_not_na_df['sim_7_prod'] = list(img_embs_not_na_df['article_id'].iloc[img_embs_not_na_df['sim_7']])\n",
        "  except:\n",
        "    img_embs_not_na_df['sim_7_prod'] = np.nan\n",
        "  try:\n",
        "    img_embs_not_na_df['sim_8_prod'] = list(img_embs_not_na_df['article_id'].iloc[img_embs_not_na_df['sim_8']])\n",
        "  except:\n",
        "    img_embs_not_na_df['sim_8_prod'] = np.nan\n",
        "  try:\n",
        "    img_embs_not_na_df['sim_9_prod'] = list(img_embs_not_na_df['article_id'].iloc[img_embs_not_na_df['sim_9']])\n",
        "  except:\n",
        "    img_embs_not_na_df['sim_9_prod'] = np.nan\n",
        "  try:\n",
        "    img_embs_not_na_df['sim_10_prod'] = list(img_embs_not_na_df['article_id'].iloc[img_embs_not_na_df['sim_10']])\n",
        "  except:\n",
        "    img_embs_not_na_df['sim_10_prod'] = np.nan\n",
        "  try:\n",
        "    img_embs_not_na_df['sim_11_prod'] = list(img_embs_not_na_df['article_id'].iloc[img_embs_not_na_df['sim_11']])\n",
        "  except:\n",
        "    img_embs_not_na_df['sim_11_prod'] = np.nan\n",
        "  try:\n",
        "    img_embs_not_na_df['sim_12_prod'] = list(img_embs_not_na_df['article_id'].iloc[img_embs_not_na_df['sim_12']])\n",
        "  except:\n",
        "    img_embs_not_na_df['sim_12_prod'] = np.nan\n",
        "\n",
        "  #7. Merge the new 12 cols with original article_df\n",
        "  # article_df = pd.merge(article_df,img_embs_not_na_df[['article_id', 'sim_1_prod', 'sim_2_prod', 'sim_3_prod', 'sim_4_prod', 'sim_5_prod', 'sim_6_prod', 'sim_7_prod', 'sim_8_prod', 'sim_9_prod', 'sim_10_prod', 'sim_11_prod', 'sim_12_prod']],on='article_id', left_index=True, right_index=True, how=\"outer\", suffixes=('', '_y'))\n",
        "  # article_df_new = pd.merge(article_df_new,img_embs_not_na_df[['article_id', 'sim_1_prod', 'sim_2_prod', 'sim_3_prod', 'sim_4_prod', 'sim_5_prod', 'sim_6_prod', 'sim_7_prod', 'sim_8_prod', 'sim_9_prod', 'sim_10_prod', 'sim_11_prod', 'sim_12_prod']],on='article_id', suffixes=('', '_y'))\n",
        "  # article_df_new.drop(article_df_new.filter(regex='_y$').columns.tolist(),axis=1, inplace=True)\n",
        "\n",
        "  # article_df_new = article_df_new.merge(img_embs_not_na_df[['article_id', 'sim_1_prod', 'sim_2_prod', 'sim_3_prod', 'sim_4_prod', 'sim_5_prod', 'sim_6_prod', 'sim_7_prod', 'sim_8_prod', 'sim_9_prod', 'sim_10_prod', 'sim_11_prod', 'sim_12_prod']], left_index=True, right_index=True, how='outer', suffixes=('', '_y'))\n",
        "  # article_df_new.drop(article_df_new.filter(regex='_y$').columns.tolist(),axis=1, inplace=True)\n",
        "  appended_data.append(img_embs_not_na_df[['article_id', 'sim_1_prod', 'sim_2_prod', 'sim_3_prod', 'sim_4_prod', 'sim_5_prod', 'sim_6_prod', 'sim_7_prod', 'sim_8_prod', 'sim_9_prod', 'sim_10_prod', 'sim_11_prod', 'sim_12_prod']])\n",
        "\n",
        "\n",
        "  del img_embs_not_na_df\n",
        "  gc.collect()"
      ],
      "metadata": {
        "colab": {
          "base_uri": "https://localhost:8080/",
          "height": 1000
        },
        "id": "aChxkw9lkmUs",
        "outputId": "87f39fa8-2249-4141-a038-a7ab404961e1"
      },
      "execution_count": null,
      "outputs": [
        {
          "output_type": "display_data",
          "data": {
            "text/plain": [
              "<IPython.core.display.HTML object>"
            ],
            "text/html": [
              "\n",
              "  <style>\n",
              "    pre {\n",
              "        white-space: pre-wrap;\n",
              "    }\n",
              "  </style>\n",
              "  "
            ]
          },
          "metadata": {}
        },
        {
          "output_type": "display_data",
          "data": {
            "text/plain": [
              "<IPython.core.display.HTML object>"
            ],
            "text/html": [
              "\n",
              "  <style>\n",
              "    pre {\n",
              "        white-space: pre-wrap;\n",
              "    }\n",
              "  </style>\n",
              "  "
            ]
          },
          "metadata": {}
        },
        {
          "output_type": "stream",
          "name": "stderr",
          "text": [
            "\r  0%|          | 0/18 [00:00<?, ?it/s]"
          ]
        },
        {
          "output_type": "stream",
          "name": "stdout",
          "text": [
            "Accessories\n"
          ]
        },
        {
          "output_type": "stream",
          "name": "stderr",
          "text": [
            "\n",
            "100%|██████████| 11158/11158 [00:00<00:00, 511107.22it/s]\n",
            "/usr/local/lib/python3.7/dist-packages/ipykernel_launcher.py:16: SettingWithCopyWarning: \n",
            "A value is trying to be set on a copy of a slice from a DataFrame.\n",
            "Try using .loc[row_indexer,col_indexer] = value instead\n",
            "\n",
            "See the caveats in the documentation: https://pandas.pydata.org/pandas-docs/stable/user_guide/indexing.html#returning-a-view-versus-a-copy\n",
            "  app.launch_new_instance()\n",
            "\n",
            "100%|██████████| 11158/11158 [00:00<00:00, 432772.74it/s]\n",
            "/usr/local/lib/python3.7/dist-packages/ipykernel_launcher.py:17: SettingWithCopyWarning: \n",
            "A value is trying to be set on a copy of a slice from a DataFrame.\n",
            "Try using .loc[row_indexer,col_indexer] = value instead\n",
            "\n",
            "See the caveats in the documentation: https://pandas.pydata.org/pandas-docs/stable/user_guide/indexing.html#returning-a-view-versus-a-copy\n"
          ]
        },
        {
          "output_type": "stream",
          "name": "stdout",
          "text": [
            "\n",
            "(11005, 12)\n"
          ]
        },
        {
          "output_type": "stream",
          "name": "stderr",
          "text": [
            "\r  6%|▌         | 1/18 [00:07<02:07,  7.49s/it]"
          ]
        },
        {
          "output_type": "stream",
          "name": "stdout",
          "text": [
            "Bags\n"
          ]
        },
        {
          "output_type": "stream",
          "name": "stderr",
          "text": [
            "\n",
            "100%|██████████| 25/25 [00:00<00:00, 34595.05it/s]\n",
            "\n",
            "100%|██████████| 25/25 [00:00<00:00, 20900.46it/s]\n"
          ]
        },
        {
          "output_type": "stream",
          "name": "stdout",
          "text": [
            "\n",
            "(25, 12)\n"
          ]
        },
        {
          "output_type": "stream",
          "name": "stderr",
          "text": [
            "\r 11%|█         | 2/18 [00:07<00:52,  3.30s/it]"
          ]
        },
        {
          "output_type": "stream",
          "name": "stdout",
          "text": [
            "Cosmetic\n"
          ]
        },
        {
          "output_type": "stream",
          "name": "stderr",
          "text": [
            "\n",
            "100%|██████████| 49/49 [00:00<00:00, 49202.99it/s]\n",
            "\n",
            "100%|██████████| 49/49 [00:00<00:00, 56617.33it/s]\n"
          ]
        },
        {
          "output_type": "stream",
          "name": "stdout",
          "text": [
            "\n",
            "(48, 12)\n"
          ]
        },
        {
          "output_type": "stream",
          "name": "stderr",
          "text": [
            "\r 17%|█▋        | 3/18 [00:08<00:28,  1.91s/it]"
          ]
        },
        {
          "output_type": "stream",
          "name": "stdout",
          "text": [
            "Fun\n"
          ]
        },
        {
          "output_type": "stream",
          "name": "stderr",
          "text": [
            "\n",
            "100%|██████████| 2/2 [00:00<00:00, 2599.51it/s]\n",
            "\n",
            "100%|██████████| 2/2 [00:00<00:00, 4266.84it/s]\n"
          ]
        },
        {
          "output_type": "stream",
          "name": "stdout",
          "text": [
            "\n",
            "(2, 1)\n",
            "\n",
            "Reshaping with NaNs to accomodate for less # of products in category: Fun\n",
            "[[ 1. nan nan nan nan nan nan nan nan nan nan nan]\n",
            " [ 0. nan nan nan nan nan nan nan nan nan nan nan]]\n"
          ]
        },
        {
          "output_type": "stream",
          "name": "stderr",
          "text": [
            "\r 22%|██▏       | 4/18 [00:08<00:17,  1.25s/it]"
          ]
        },
        {
          "output_type": "stream",
          "name": "stdout",
          "text": [
            "Furniture\n"
          ]
        },
        {
          "output_type": "stream",
          "name": "stderr",
          "text": [
            "\n",
            "100%|██████████| 13/13 [00:00<00:00, 20498.48it/s]\n",
            "\n",
            "100%|██████████| 13/13 [00:00<00:00, 28849.71it/s]\n"
          ]
        },
        {
          "output_type": "stream",
          "name": "stdout",
          "text": [
            "\n",
            "(13, 12)\n"
          ]
        },
        {
          "output_type": "stream",
          "name": "stderr",
          "text": [
            "\r 28%|██▊       | 5/18 [00:08<00:11,  1.13it/s]"
          ]
        },
        {
          "output_type": "stream",
          "name": "stdout",
          "text": [
            "Garment Full body\n"
          ]
        },
        {
          "output_type": "stream",
          "name": "stderr",
          "text": [
            "\n",
            "100%|██████████| 13292/13292 [00:00<00:00, 536642.24it/s]\n",
            "\n",
            "100%|██████████| 13292/13292 [00:00<00:00, 474058.39it/s]\n"
          ]
        },
        {
          "output_type": "stream",
          "name": "stdout",
          "text": [
            "\n",
            "(13276, 12)\n"
          ]
        },
        {
          "output_type": "stream",
          "name": "stderr",
          "text": [
            "\r 33%|███▎      | 6/18 [00:19<00:49,  4.15s/it]"
          ]
        },
        {
          "output_type": "stream",
          "name": "stdout",
          "text": [
            "Garment Lower body\n"
          ]
        },
        {
          "output_type": "stream",
          "name": "stderr",
          "text": [
            "\n",
            "100%|██████████| 19812/19812 [00:00<00:00, 523455.73it/s]\n",
            "\n",
            "100%|██████████| 19812/19812 [00:00<00:00, 480791.22it/s]\n"
          ]
        },
        {
          "output_type": "stream",
          "name": "stdout",
          "text": [
            "\n",
            "(19770, 12)\n"
          ]
        },
        {
          "output_type": "stream",
          "name": "stderr",
          "text": [
            "\r 39%|███▉      | 7/18 [00:38<01:39,  9.08s/it]"
          ]
        },
        {
          "output_type": "stream",
          "name": "stdout",
          "text": [
            "Garment and Shoe care\n"
          ]
        },
        {
          "output_type": "stream",
          "name": "stderr",
          "text": [
            "\n",
            "100%|██████████| 9/9 [00:00<00:00, 14090.61it/s]\n",
            "\n",
            "100%|██████████| 9/9 [00:00<00:00, 17443.96it/s]\n"
          ]
        },
        {
          "output_type": "stream",
          "name": "stdout",
          "text": [
            "\n",
            "(9, 8)\n",
            "\n",
            "Reshaping with NaNs to accomodate for less # of products in category: Garment and Shoe care\n",
            "[[ 2.  1.  3.  4.  5.  6.  7.  8. nan nan nan nan]\n",
            " [ 0.  2.  3.  4.  5.  6.  7.  8. nan nan nan nan]\n",
            " [ 0.  1.  3.  4.  5.  6.  7.  8. nan nan nan nan]\n",
            " [ 0.  1.  2.  4.  5.  6.  7.  8. nan nan nan nan]\n",
            " [ 0.  1.  2.  3.  5.  6.  7.  8. nan nan nan nan]\n",
            " [ 0.  1.  2.  3.  4.  6.  7.  8. nan nan nan nan]\n",
            " [ 0.  1.  2.  3.  4.  5.  7.  8. nan nan nan nan]\n",
            " [ 0.  1.  2.  3.  4.  5.  6.  8. nan nan nan nan]\n",
            " [ 2.  1.  0.  3.  4.  5.  6.  7. nan nan nan nan]]\n"
          ]
        },
        {
          "output_type": "stream",
          "name": "stderr",
          "text": [
            "\r 44%|████▍     | 8/18 [00:38<01:03,  6.34s/it]"
          ]
        },
        {
          "output_type": "stream",
          "name": "stdout",
          "text": [
            "Interior textile\n"
          ]
        },
        {
          "output_type": "stream",
          "name": "stderr",
          "text": [
            "\n",
            "100%|██████████| 3/3 [00:00<00:00, 5456.60it/s]\n",
            "\n",
            "100%|██████████| 3/3 [00:00<00:00, 3823.43it/s]\n"
          ]
        },
        {
          "output_type": "stream",
          "name": "stdout",
          "text": [
            "\n",
            "(3, 2)\n",
            "\n",
            "Reshaping with NaNs to accomodate for less # of products in category: Interior textile\n",
            "[[ 2.  1. nan nan nan nan nan nan nan nan nan nan]\n",
            " [ 2.  0. nan nan nan nan nan nan nan nan nan nan]\n",
            " [ 1.  0. nan nan nan nan nan nan nan nan nan nan]]\n"
          ]
        },
        {
          "output_type": "stream",
          "name": "stderr",
          "text": [
            "\r 50%|█████     | 9/18 [00:39<00:39,  4.43s/it]"
          ]
        },
        {
          "output_type": "stream",
          "name": "stdout",
          "text": [
            "Items\n"
          ]
        },
        {
          "output_type": "stream",
          "name": "stderr",
          "text": [
            "\n",
            "100%|██████████| 17/17 [00:00<00:00, 18273.49it/s]\n",
            "\n",
            "100%|██████████| 17/17 [00:00<00:00, 32307.73it/s]\n"
          ]
        },
        {
          "output_type": "stream",
          "name": "stdout",
          "text": [
            "\n",
            "(17, 12)\n"
          ]
        },
        {
          "output_type": "stream",
          "name": "stderr",
          "text": [
            "\r 56%|█████▌    | 10/18 [00:39<00:25,  3.13s/it]"
          ]
        },
        {
          "output_type": "stream",
          "name": "stdout",
          "text": [
            "Nightwear\n"
          ]
        },
        {
          "output_type": "stream",
          "name": "stderr",
          "text": [
            "\n",
            "100%|██████████| 1899/1899 [00:00<00:00, 371016.55it/s]\n",
            "\n",
            "100%|██████████| 1899/1899 [00:00<00:00, 450380.73it/s]\n"
          ]
        },
        {
          "output_type": "stream",
          "name": "stdout",
          "text": [
            "\n",
            "(1898, 12)\n"
          ]
        },
        {
          "output_type": "stream",
          "name": "stderr",
          "text": [
            "\r 61%|██████    | 11/18 [00:40<00:17,  2.50s/it]"
          ]
        },
        {
          "output_type": "stream",
          "name": "stdout",
          "text": [
            "Shoes\n"
          ]
        },
        {
          "output_type": "stream",
          "name": "stderr",
          "text": [
            "\n",
            "100%|██████████| 5283/5283 [00:00<00:00, 441132.13it/s]\n",
            "\n",
            "100%|██████████| 5283/5283 [00:00<00:00, 408504.47it/s]\n"
          ]
        },
        {
          "output_type": "stream",
          "name": "stdout",
          "text": [
            "\n",
            "(5156, 12)\n"
          ]
        },
        {
          "output_type": "stream",
          "name": "stderr",
          "text": [
            "\r 67%|██████▋   | 12/18 [00:43<00:15,  2.65s/it]"
          ]
        },
        {
          "output_type": "stream",
          "name": "stdout",
          "text": [
            "Socks & Tights\n"
          ]
        },
        {
          "output_type": "stream",
          "name": "stderr",
          "text": [
            "\n",
            "100%|██████████| 2442/2442 [00:00<00:00, 455019.56it/s]\n",
            "\n",
            "100%|██████████| 2442/2442 [00:00<00:00, 390026.67it/s]\n"
          ]
        },
        {
          "output_type": "stream",
          "name": "stdout",
          "text": [
            "\n",
            "(2431, 12)\n"
          ]
        },
        {
          "output_type": "stream",
          "name": "stderr",
          "text": [
            "\r 72%|███████▏  | 13/18 [00:44<00:11,  2.26s/it]"
          ]
        },
        {
          "output_type": "stream",
          "name": "stdout",
          "text": [
            "Stationery\n"
          ]
        },
        {
          "output_type": "stream",
          "name": "stderr",
          "text": [
            "\n",
            "100%|██████████| 5/5 [00:00<00:00, 9300.01it/s]\n",
            "\n",
            "100%|██████████| 5/5 [00:00<00:00, 10640.04it/s]\n"
          ]
        },
        {
          "output_type": "stream",
          "name": "stdout",
          "text": [
            "\n",
            "(5, 4)\n",
            "\n",
            "Reshaping with NaNs to accomodate for less # of products in category: Stationery\n",
            "[[ 4.  1.  2.  3. nan nan nan nan nan nan nan nan]\n",
            " [ 4.  2.  3.  0. nan nan nan nan nan nan nan nan]\n",
            " [ 0.  1.  3.  4. nan nan nan nan nan nan nan nan]\n",
            " [ 0.  1.  2.  4. nan nan nan nan nan nan nan nan]\n",
            " [ 0.  1.  2.  3. nan nan nan nan nan nan nan nan]]\n"
          ]
        },
        {
          "output_type": "stream",
          "name": "stderr",
          "text": [
            "\r 78%|███████▊  | 14/18 [00:44<00:06,  1.65s/it]"
          ]
        },
        {
          "output_type": "stream",
          "name": "stdout",
          "text": [
            "Swimwear\n"
          ]
        },
        {
          "output_type": "stream",
          "name": "stderr",
          "text": [
            "\n",
            "100%|██████████| 3127/3127 [00:00<00:00, 444943.13it/s]\n",
            "\n",
            "100%|██████████| 3127/3127 [00:00<00:00, 398771.32it/s]\n"
          ]
        },
        {
          "output_type": "stream",
          "name": "stdout",
          "text": [
            "\n",
            "(3125, 12)\n"
          ]
        },
        {
          "output_type": "stream",
          "name": "stderr",
          "text": [
            "\r 83%|████████▎ | 15/18 [00:46<00:05,  1.68s/it]"
          ]
        },
        {
          "output_type": "stream",
          "name": "stdout",
          "text": [
            "Underwear\n"
          ]
        },
        {
          "output_type": "stream",
          "name": "stderr",
          "text": [
            "\n",
            "100%|██████████| 5490/5490 [00:00<00:00, 490838.98it/s]\n",
            "\n",
            "100%|██████████| 5490/5490 [00:00<00:00, 341703.70it/s]\n"
          ]
        },
        {
          "output_type": "stream",
          "name": "stdout",
          "text": [
            "\n",
            "(5462, 12)\n"
          ]
        },
        {
          "output_type": "stream",
          "name": "stderr",
          "text": [
            "\r 89%|████████▉ | 16/18 [00:49<00:04,  2.13s/it]"
          ]
        },
        {
          "output_type": "stream",
          "name": "stdout",
          "text": [
            "Underwear/nightwear\n"
          ]
        },
        {
          "output_type": "stream",
          "name": "stderr",
          "text": [
            "\n",
            "100%|██████████| 54/54 [00:00<00:00, 64934.75it/s]\n",
            "\n",
            "100%|██████████| 54/54 [00:00<00:00, 78588.62it/s]\n"
          ]
        },
        {
          "output_type": "stream",
          "name": "stdout",
          "text": [
            "\n",
            "(54, 12)\n"
          ]
        },
        {
          "output_type": "stream",
          "name": "stderr",
          "text": [
            "\r 94%|█████████▍| 17/18 [00:50<00:01,  1.59s/it]"
          ]
        },
        {
          "output_type": "stream",
          "name": "stdout",
          "text": [
            "Unknown\n"
          ]
        },
        {
          "output_type": "stream",
          "name": "stderr",
          "text": [
            "\n",
            "100%|██████████| 121/121 [00:00<00:00, 85396.40it/s]\n",
            "\n",
            "100%|██████████| 121/121 [00:00<00:00, 124848.90it/s]\n"
          ]
        },
        {
          "output_type": "stream",
          "name": "stdout",
          "text": [
            "\n",
            "(121, 12)\n"
          ]
        },
        {
          "output_type": "stream",
          "name": "stderr",
          "text": [
            "100%|██████████| 18/18 [00:50<00:00,  2.80s/it]"
          ]
        },
        {
          "output_type": "stream",
          "name": "stdout",
          "text": [
            "time: 50.6 s (started: 2022-05-04 05:15:47 +00:00)\n"
          ]
        },
        {
          "output_type": "stream",
          "name": "stderr",
          "text": [
            "\n"
          ]
        }
      ]
    },
    {
      "cell_type": "code",
      "source": [
        "# special handling for garment_upper_body\n",
        "garment_upper_body = article_df[article_df['product_group_name'] == \"Garment Upper body\"].groupby(['product_type_name']).count()['article_id']\n",
        "garment_upper_body_type_wise_item_count  = garment_upper_body.to_dict()\n",
        "garment_upper_body_list = list(garment_upper_body.keys())"
      ],
      "metadata": {
        "colab": {
          "base_uri": "https://localhost:8080/",
          "height": 35
        },
        "id": "5QdB9E7Y0M4D",
        "outputId": "a64337a7-f3a8-40e3-97d0-739d0e95201b"
      },
      "execution_count": null,
      "outputs": [
        {
          "output_type": "display_data",
          "data": {
            "text/plain": [
              "<IPython.core.display.HTML object>"
            ],
            "text/html": [
              "\n",
              "  <style>\n",
              "    pre {\n",
              "        white-space: pre-wrap;\n",
              "    }\n",
              "  </style>\n",
              "  "
            ]
          },
          "metadata": {}
        },
        {
          "output_type": "display_data",
          "data": {
            "text/plain": [
              "<IPython.core.display.HTML object>"
            ],
            "text/html": [
              "\n",
              "  <style>\n",
              "    pre {\n",
              "        white-space: pre-wrap;\n",
              "    }\n",
              "  </style>\n",
              "  "
            ]
          },
          "metadata": {}
        },
        {
          "output_type": "stream",
          "name": "stdout",
          "text": [
            "time: 57.4 ms (started: 2022-05-04 05:16:39 +00:00)\n"
          ]
        }
      ]
    },
    {
      "cell_type": "code",
      "source": [
        "# Everything combined for an item\n",
        "import gc\n",
        "\n",
        "\n",
        "\n",
        "\n",
        "# article_df_new = article_df.copy()\n",
        "\n",
        "for item_type in tqdm(garment_upper_body_list):\n",
        "  #1. Create a subset of the df for a product type\n",
        "  print(item_type)\n",
        "  article_sample = article_df[article_df['product_type_name'] == item_type]\n",
        "\n",
        "  #2. Add image embeddings and image file paths for each prod\n",
        "  # skip description similarity for now\n",
        "  # article_sample['desc_emb'] = article_sample['detail_desc'].progress_apply(description_embeddings)\n",
        "  article_sample['img_emb'] = article_sample['article_id'].progress_apply(image_embeddings)\n",
        "  article_sample['img_fp'] = article_sample['article_id'].progress_apply(image_fp)\n",
        "\n",
        "  #3. Remove NaN values from subset df\n",
        "  # We can only compute image similarity for non NaN entries\n",
        "\n",
        "  img_embs_not_na_df = article_sample[article_sample['img_emb'].notna()]\n",
        "  img_embs = list(img_embs_not_na_df['img_emb']) #Create a list to compute cosine sim\n",
        "\n",
        "  #4. compute cosine similarity among all products images in the subset df\n",
        "  cos_sim_img = util.cos_sim(img_embs, img_embs)\n",
        "  # print(\"Cosine-Similarity img:\", cos_sim_img)\n",
        "\n",
        "  #5. Obtain top N similar instances\n",
        "  # num = 13 # includes the item itself so we take 12+1 \n",
        "  num = min(13, garment_upper_body_type_wise_item_count[item_type])\n",
        "  topN_sim_idx = np.argpartition(cos_sim_img, -num, axis=1)[:, -num:]\n",
        "\n",
        "  #6. Add 12 cols for the top 12 most similar products \n",
        "  topN_sim_classes = [[x for x in topN_sim_idx[row] if x != row] for row in range(len(topN_sim_idx))]\n",
        "  topN_sim_classes_arr = np.asarray(topN_sim_classes)\n",
        "  print(f\"\\n{topN_sim_classes_arr.shape}\")\n",
        "  if topN_sim_classes_arr.shape[1] < 12:\n",
        "    nan_col = np.empty((topN_sim_classes_arr.shape[0],12-topN_sim_classes_arr.shape[1]))\n",
        "    nan_col.fill(np.nan)\n",
        "    topN_sim_classes_arr = np.c_[topN_sim_classes_arr,nan_col]\n",
        "    print(f\"\\nReshaping with NaNs to accomodate for less # of products in category: {item_type}\")\n",
        "    print(topN_sim_classes_arr)\n",
        "\n",
        "\n",
        "  img_embs_not_na_df = img_embs_not_na_df.assign(sim_1=topN_sim_classes_arr[:,-1], sim_2=topN_sim_classes_arr[:,-2], sim_3=topN_sim_classes_arr[:,-3], sim_4=topN_sim_classes_arr[:,-4], sim_5=topN_sim_classes_arr[:,-5], sim_6=topN_sim_classes_arr[:,-6], \\\n",
        "                                                sim_7=topN_sim_classes_arr[:,-7], sim_8=topN_sim_classes_arr[:,-8], sim_9=topN_sim_classes_arr[:,-9], sim_10=topN_sim_classes_arr[:,-10], sim_11=topN_sim_classes_arr[:,-11], sim_12=topN_sim_classes_arr[:,-12])\n",
        "\n",
        "  try:\n",
        "    # img_embs_not_na_df.assign(sim_1_prod=list(img_embs_not_na_df['article_id'].iloc[img_embs_not_na_df['sim_1']]))\n",
        "    img_embs_not_na_df['sim_1_prod'] = list(img_embs_not_na_df['article_id'].iloc[img_embs_not_na_df['sim_1']])\n",
        "  except:\n",
        "    img_embs_not_na_df['sim_1_prod'] = np.nan\n",
        "  try:\n",
        "    img_embs_not_na_df['sim_2_prod'] = list(img_embs_not_na_df['article_id'].iloc[img_embs_not_na_df['sim_2']])\n",
        "  except:\n",
        "    img_embs_not_na_df['sim_2_prod'] = np.nan\n",
        "  try:\n",
        "    img_embs_not_na_df['sim_3_prod'] = list(img_embs_not_na_df['article_id'].iloc[img_embs_not_na_df['sim_3']])\n",
        "  except:\n",
        "    img_embs_not_na_df['sim_3_prod'] = np.nan\n",
        "  try:\n",
        "    img_embs_not_na_df['sim_4_prod'] = list(img_embs_not_na_df['article_id'].iloc[img_embs_not_na_df['sim_4']])\n",
        "  except:\n",
        "    img_embs_not_na_df['sim_4_prod'] = np.nan\n",
        "  try:\n",
        "    img_embs_not_na_df['sim_5_prod'] = list(img_embs_not_na_df['article_id'].iloc[img_embs_not_na_df['sim_5']])\n",
        "  except:\n",
        "    img_embs_not_na_df['sim_5_prod'] = np.nan\n",
        "  try:\n",
        "    img_embs_not_na_df['sim_6_prod'] = list(img_embs_not_na_df['article_id'].iloc[img_embs_not_na_df['sim_6']])\n",
        "  except:\n",
        "    img_embs_not_na_df['sim_6_prod'] = np.nan\n",
        "  try:\n",
        "    img_embs_not_na_df['sim_7_prod'] = list(img_embs_not_na_df['article_id'].iloc[img_embs_not_na_df['sim_7']])\n",
        "  except:\n",
        "    img_embs_not_na_df['sim_7_prod'] = np.nan\n",
        "  try:\n",
        "    img_embs_not_na_df['sim_8_prod'] = list(img_embs_not_na_df['article_id'].iloc[img_embs_not_na_df['sim_8']])\n",
        "  except:\n",
        "    img_embs_not_na_df['sim_8_prod'] = np.nan\n",
        "  try:\n",
        "    img_embs_not_na_df['sim_9_prod'] = list(img_embs_not_na_df['article_id'].iloc[img_embs_not_na_df['sim_9']])\n",
        "  except:\n",
        "    img_embs_not_na_df['sim_9_prod'] = np.nan\n",
        "  try:\n",
        "    img_embs_not_na_df['sim_10_prod'] = list(img_embs_not_na_df['article_id'].iloc[img_embs_not_na_df['sim_10']])\n",
        "  except:\n",
        "    img_embs_not_na_df['sim_10_prod'] = np.nan\n",
        "  try:\n",
        "    img_embs_not_na_df['sim_11_prod'] = list(img_embs_not_na_df['article_id'].iloc[img_embs_not_na_df['sim_11']])\n",
        "  except:\n",
        "    img_embs_not_na_df['sim_11_prod'] = np.nan\n",
        "  try:\n",
        "    img_embs_not_na_df['sim_12_prod'] = list(img_embs_not_na_df['article_id'].iloc[img_embs_not_na_df['sim_12']])\n",
        "  except:\n",
        "    img_embs_not_na_df['sim_12_prod'] = np.nan\n",
        "\n",
        "  #7. Merge the new 12 cols with original article_df\n",
        "  # article_df = pd.merge(article_df,img_embs_not_na_df[['article_id', 'sim_1_prod', 'sim_2_prod', 'sim_3_prod', 'sim_4_prod', 'sim_5_prod', 'sim_6_prod', 'sim_7_prod', 'sim_8_prod', 'sim_9_prod', 'sim_10_prod', 'sim_11_prod', 'sim_12_prod']],on='article_id', left_index=True, right_index=True, how=\"outer\", suffixes=('', '_y'))\n",
        "  # article_df_new = pd.merge(article_df_new,img_embs_not_na_df[['article_id', 'sim_1_prod', 'sim_2_prod', 'sim_3_prod', 'sim_4_prod', 'sim_5_prod', 'sim_6_prod', 'sim_7_prod', 'sim_8_prod', 'sim_9_prod', 'sim_10_prod', 'sim_11_prod', 'sim_12_prod']],on='article_id', suffixes=('', '_y'))\n",
        "  # article_df_new.drop(article_df_new.filter(regex='_y$').columns.tolist(),axis=1, inplace=True)\n",
        "\n",
        "  # article_df_new = article_df_new.merge(img_embs_not_na_df[['article_id', 'sim_1_prod', 'sim_2_prod', 'sim_3_prod', 'sim_4_prod', 'sim_5_prod', 'sim_6_prod', 'sim_7_prod', 'sim_8_prod', 'sim_9_prod', 'sim_10_prod', 'sim_11_prod', 'sim_12_prod']], left_index=True, right_index=True, how='outer', suffixes=('', '_y'))\n",
        "  # article_df_new.drop(article_df_new.filter(regex='_y$').columns.tolist(),axis=1, inplace=True)\n",
        "  appended_data.append(img_embs_not_na_df[['article_id', 'sim_1_prod', 'sim_2_prod', 'sim_3_prod', 'sim_4_prod', 'sim_5_prod', 'sim_6_prod', 'sim_7_prod', 'sim_8_prod', 'sim_9_prod', 'sim_10_prod', 'sim_11_prod', 'sim_12_prod']])\n",
        "\n",
        "\n",
        "  del img_embs_not_na_df\n",
        "  gc.collect()"
      ],
      "metadata": {
        "colab": {
          "base_uri": "https://localhost:8080/",
          "height": 1000
        },
        "id": "x3iJ7P9f0KNK",
        "outputId": "51b3e55d-3402-4e1d-b94d-beea5e23e2a1"
      },
      "execution_count": null,
      "outputs": [
        {
          "output_type": "display_data",
          "data": {
            "text/plain": [
              "<IPython.core.display.HTML object>"
            ],
            "text/html": [
              "\n",
              "  <style>\n",
              "    pre {\n",
              "        white-space: pre-wrap;\n",
              "    }\n",
              "  </style>\n",
              "  "
            ]
          },
          "metadata": {}
        },
        {
          "output_type": "display_data",
          "data": {
            "text/plain": [
              "<IPython.core.display.HTML object>"
            ],
            "text/html": [
              "\n",
              "  <style>\n",
              "    pre {\n",
              "        white-space: pre-wrap;\n",
              "    }\n",
              "  </style>\n",
              "  "
            ]
          },
          "metadata": {}
        },
        {
          "output_type": "stream",
          "name": "stderr",
          "text": [
            "\r  0%|          | 0/15 [00:00<?, ?it/s]"
          ]
        },
        {
          "output_type": "stream",
          "name": "stdout",
          "text": [
            "Blazer\n"
          ]
        },
        {
          "output_type": "stream",
          "name": "stderr",
          "text": [
            "\n",
            "100%|██████████| 1110/1110 [00:00<00:00, 360821.32it/s]\n",
            "/usr/local/lib/python3.7/dist-packages/ipykernel_launcher.py:17: SettingWithCopyWarning: \n",
            "A value is trying to be set on a copy of a slice from a DataFrame.\n",
            "Try using .loc[row_indexer,col_indexer] = value instead\n",
            "\n",
            "See the caveats in the documentation: https://pandas.pydata.org/pandas-docs/stable/user_guide/indexing.html#returning-a-view-versus-a-copy\n",
            "\n",
            "100%|██████████| 1110/1110 [00:00<00:00, 362930.89it/s]\n",
            "/usr/local/lib/python3.7/dist-packages/ipykernel_launcher.py:18: SettingWithCopyWarning: \n",
            "A value is trying to be set on a copy of a slice from a DataFrame.\n",
            "Try using .loc[row_indexer,col_indexer] = value instead\n",
            "\n",
            "See the caveats in the documentation: https://pandas.pydata.org/pandas-docs/stable/user_guide/indexing.html#returning-a-view-versus-a-copy\n"
          ]
        },
        {
          "output_type": "stream",
          "name": "stdout",
          "text": [
            "\n",
            "(1108, 12)\n"
          ]
        },
        {
          "output_type": "stream",
          "name": "stderr",
          "text": [
            "\r  7%|▋         | 1/15 [00:00<00:09,  1.43it/s]"
          ]
        },
        {
          "output_type": "stream",
          "name": "stdout",
          "text": [
            "Blouse\n"
          ]
        },
        {
          "output_type": "stream",
          "name": "stderr",
          "text": [
            "\n",
            "100%|██████████| 3979/3979 [00:00<00:00, 481135.17it/s]\n",
            "\n",
            "100%|██████████| 3979/3979 [00:00<00:00, 410900.52it/s]\n"
          ]
        },
        {
          "output_type": "stream",
          "name": "stdout",
          "text": [
            "\n",
            "(3975, 12)\n"
          ]
        },
        {
          "output_type": "stream",
          "name": "stderr",
          "text": [
            "\r 13%|█▎        | 2/15 [00:02<00:20,  1.59s/it]"
          ]
        },
        {
          "output_type": "stream",
          "name": "stdout",
          "text": [
            "Bodysuit\n"
          ]
        },
        {
          "output_type": "stream",
          "name": "stderr",
          "text": [
            "\n",
            "100%|██████████| 913/913 [00:00<00:00, 342461.06it/s]\n",
            "\n",
            "100%|██████████| 913/913 [00:00<00:00, 346865.90it/s]\n"
          ]
        },
        {
          "output_type": "stream",
          "name": "stdout",
          "text": [
            "\n",
            "(911, 12)\n"
          ]
        },
        {
          "output_type": "stream",
          "name": "stderr",
          "text": [
            "\r 20%|██        | 3/15 [00:03<00:13,  1.15s/it]"
          ]
        },
        {
          "output_type": "stream",
          "name": "stdout",
          "text": [
            "Cardigan\n"
          ]
        },
        {
          "output_type": "stream",
          "name": "stderr",
          "text": [
            "\n",
            "100%|██████████| 1550/1550 [00:00<00:00, 408390.68it/s]\n",
            "\n",
            "100%|██████████| 1550/1550 [00:00<00:00, 385277.42it/s]\n"
          ]
        },
        {
          "output_type": "stream",
          "name": "stdout",
          "text": [
            "\n",
            "(1546, 12)\n"
          ]
        },
        {
          "output_type": "stream",
          "name": "stderr",
          "text": [
            "\r 27%|██▋       | 4/15 [00:04<00:11,  1.04s/it]"
          ]
        },
        {
          "output_type": "stream",
          "name": "stdout",
          "text": [
            "Coat\n"
          ]
        },
        {
          "output_type": "stream",
          "name": "stderr",
          "text": [
            "\n",
            "100%|██████████| 460/460 [00:00<00:00, 243947.38it/s]\n",
            "\n",
            "100%|██████████| 460/460 [00:00<00:00, 281949.41it/s]\n"
          ]
        },
        {
          "output_type": "stream",
          "name": "stdout",
          "text": [
            "\n",
            "(460, 12)\n"
          ]
        },
        {
          "output_type": "stream",
          "name": "stderr",
          "text": [
            "\r 33%|███▎      | 5/15 [00:04<00:08,  1.22it/s]"
          ]
        },
        {
          "output_type": "stream",
          "name": "stdout",
          "text": [
            "Hoodie\n"
          ]
        },
        {
          "output_type": "stream",
          "name": "stderr",
          "text": [
            "\n",
            "100%|██████████| 2356/2356 [00:00<00:00, 430803.92it/s]\n",
            "\n",
            "100%|██████████| 2356/2356 [00:00<00:00, 421020.84it/s]\n"
          ]
        },
        {
          "output_type": "stream",
          "name": "stdout",
          "text": [
            "\n",
            "(2356, 12)\n"
          ]
        },
        {
          "output_type": "stream",
          "name": "stderr",
          "text": [
            "\r 40%|████      | 6/15 [00:06<00:09,  1.01s/it]"
          ]
        },
        {
          "output_type": "stream",
          "name": "stdout",
          "text": [
            "Jacket\n"
          ]
        },
        {
          "output_type": "stream",
          "name": "stderr",
          "text": [
            "\n",
            "100%|██████████| 3940/3940 [00:00<00:00, 411554.46it/s]\n",
            "\n",
            "100%|██████████| 3940/3940 [00:00<00:00, 326617.87it/s]\n"
          ]
        },
        {
          "output_type": "stream",
          "name": "stdout",
          "text": [
            "\n",
            "(3940, 12)\n"
          ]
        },
        {
          "output_type": "stream",
          "name": "stderr",
          "text": [
            "\r 47%|████▋     | 7/15 [00:08<00:11,  1.42s/it]"
          ]
        },
        {
          "output_type": "stream",
          "name": "stdout",
          "text": [
            "Outdoor Waistcoat\n"
          ]
        },
        {
          "output_type": "stream",
          "name": "stderr",
          "text": [
            "\n",
            "100%|██████████| 154/154 [00:00<00:00, 132036.55it/s]\n",
            "\n",
            "100%|██████████| 154/154 [00:00<00:00, 151981.84it/s]\n"
          ]
        },
        {
          "output_type": "stream",
          "name": "stdout",
          "text": [
            "\n",
            "(154, 12)\n"
          ]
        },
        {
          "output_type": "stream",
          "name": "stderr",
          "text": [
            "\r 53%|█████▎    | 8/15 [00:08<00:07,  1.08s/it]"
          ]
        },
        {
          "output_type": "stream",
          "name": "stdout",
          "text": [
            "Polo shirt\n"
          ]
        },
        {
          "output_type": "stream",
          "name": "stderr",
          "text": [
            "\n",
            "100%|██████████| 449/449 [00:00<00:00, 278133.58it/s]\n",
            "\n",
            "100%|██████████| 449/449 [00:00<00:00, 142281.84it/s]\n"
          ]
        },
        {
          "output_type": "stream",
          "name": "stdout",
          "text": [
            "\n",
            "(448, 12)\n"
          ]
        },
        {
          "output_type": "stream",
          "name": "stderr",
          "text": [
            "\r 60%|██████    | 9/15 [00:09<00:05,  1.15it/s]"
          ]
        },
        {
          "output_type": "stream",
          "name": "stdout",
          "text": [
            "Shirt\n"
          ]
        },
        {
          "output_type": "stream",
          "name": "stderr",
          "text": [
            "\n",
            "100%|██████████| 3405/3405 [00:00<00:00, 423422.13it/s]\n",
            "\n",
            "100%|██████████| 3405/3405 [00:00<00:00, 414668.71it/s]\n"
          ]
        },
        {
          "output_type": "stream",
          "name": "stdout",
          "text": [
            "\n",
            "(3403, 12)\n"
          ]
        },
        {
          "output_type": "stream",
          "name": "stderr",
          "text": [
            "\r 67%|██████▋   | 10/15 [00:11<00:05,  1.17s/it]"
          ]
        },
        {
          "output_type": "stream",
          "name": "stdout",
          "text": [
            "Sweater\n"
          ]
        },
        {
          "output_type": "stream",
          "name": "stderr",
          "text": [
            "\n",
            "100%|██████████| 9302/9302 [00:00<00:00, 550117.25it/s]\n",
            "\n",
            "100%|██████████| 9302/9302 [00:00<00:00, 503190.98it/s]\n"
          ]
        },
        {
          "output_type": "stream",
          "name": "stdout",
          "text": [
            "\n",
            "(9295, 12)\n"
          ]
        },
        {
          "output_type": "stream",
          "name": "stderr",
          "text": [
            "\r 73%|███████▎  | 11/15 [00:16<00:10,  2.61s/it]"
          ]
        },
        {
          "output_type": "stream",
          "name": "stdout",
          "text": [
            "T-shirt\n"
          ]
        },
        {
          "output_type": "stream",
          "name": "stderr",
          "text": [
            "\n",
            "100%|██████████| 7904/7904 [00:00<00:00, 529919.74it/s]\n",
            "\n",
            "100%|██████████| 7904/7904 [00:00<00:00, 526519.58it/s]\n"
          ]
        },
        {
          "output_type": "stream",
          "name": "stdout",
          "text": [
            "\n",
            "(7880, 12)\n"
          ]
        },
        {
          "output_type": "stream",
          "name": "stderr",
          "text": [
            "\r 80%|████████  | 12/15 [00:21<00:09,  3.29s/it]"
          ]
        },
        {
          "output_type": "stream",
          "name": "stdout",
          "text": [
            "Tailored Waistcoat\n"
          ]
        },
        {
          "output_type": "stream",
          "name": "stderr",
          "text": [
            "\n",
            "100%|██████████| 73/73 [00:00<00:00, 78913.45it/s]\n",
            "\n",
            "100%|██████████| 73/73 [00:00<00:00, 106166.50it/s]\n"
          ]
        },
        {
          "output_type": "stream",
          "name": "stdout",
          "text": [
            "\n",
            "(73, 12)\n"
          ]
        },
        {
          "output_type": "stream",
          "name": "stderr",
          "text": [
            "\r 87%|████████▋ | 13/15 [00:22<00:04,  2.40s/it]"
          ]
        },
        {
          "output_type": "stream",
          "name": "stdout",
          "text": [
            "Top\n"
          ]
        },
        {
          "output_type": "stream",
          "name": "stderr",
          "text": [
            "\n",
            "100%|██████████| 4155/4155 [00:00<00:00, 486933.03it/s]\n",
            "\n",
            "100%|██████████| 4155/4155 [00:00<00:00, 466845.25it/s]\n"
          ]
        },
        {
          "output_type": "stream",
          "name": "stdout",
          "text": [
            "\n",
            "(4152, 12)\n"
          ]
        },
        {
          "output_type": "stream",
          "name": "stderr",
          "text": [
            "\r 93%|█████████▎| 14/15 [00:24<00:02,  2.36s/it]"
          ]
        },
        {
          "output_type": "stream",
          "name": "stdout",
          "text": [
            "Vest top\n"
          ]
        },
        {
          "output_type": "stream",
          "name": "stderr",
          "text": [
            "\n",
            "100%|██████████| 2991/2991 [00:00<00:00, 493670.84it/s]\n",
            "\n",
            "100%|██████████| 2991/2991 [00:00<00:00, 412032.82it/s]\n"
          ]
        },
        {
          "output_type": "stream",
          "name": "stdout",
          "text": [
            "\n",
            "(2979, 12)\n"
          ]
        },
        {
          "output_type": "stream",
          "name": "stderr",
          "text": [
            "100%|██████████| 15/15 [00:26<00:00,  1.74s/it]"
          ]
        },
        {
          "output_type": "stream",
          "name": "stdout",
          "text": [
            "time: 26.2 s (started: 2022-05-04 05:16:39 +00:00)\n"
          ]
        },
        {
          "output_type": "stream",
          "name": "stderr",
          "text": [
            "\n"
          ]
        }
      ]
    },
    {
      "cell_type": "code",
      "source": [
        "article_df_new = pd.concat(appended_data)\n",
        "print(len(article_df_new))"
      ],
      "metadata": {
        "colab": {
          "base_uri": "https://localhost:8080/",
          "height": 53
        },
        "id": "ot26clqgND0i",
        "outputId": "0d0fd210-a53b-4a53-d66d-ae4ca9aa5156"
      },
      "execution_count": null,
      "outputs": [
        {
          "output_type": "display_data",
          "data": {
            "text/plain": [
              "<IPython.core.display.HTML object>"
            ],
            "text/html": [
              "\n",
              "  <style>\n",
              "    pre {\n",
              "        white-space: pre-wrap;\n",
              "    }\n",
              "  </style>\n",
              "  "
            ]
          },
          "metadata": {}
        },
        {
          "output_type": "display_data",
          "data": {
            "text/plain": [
              "<IPython.core.display.HTML object>"
            ],
            "text/html": [
              "\n",
              "  <style>\n",
              "    pre {\n",
              "        white-space: pre-wrap;\n",
              "    }\n",
              "  </style>\n",
              "  "
            ]
          },
          "metadata": {}
        },
        {
          "output_type": "stream",
          "name": "stdout",
          "text": [
            "105100\n",
            "time: 15.7 ms (started: 2022-05-04 05:17:05 +00:00)\n"
          ]
        }
      ]
    },
    {
      "cell_type": "code",
      "source": [
        "# for col in article_df.columns:\n",
        "#   print(col)"
      ],
      "metadata": {
        "colab": {
          "base_uri": "https://localhost:8080/",
          "height": 35
        },
        "id": "SAWGeupYNcJA",
        "outputId": "fd61066d-574b-4f4e-a818-12a04c9fc8be"
      },
      "execution_count": null,
      "outputs": [
        {
          "output_type": "display_data",
          "data": {
            "text/plain": [
              "<IPython.core.display.HTML object>"
            ],
            "text/html": [
              "\n",
              "  <style>\n",
              "    pre {\n",
              "        white-space: pre-wrap;\n",
              "    }\n",
              "  </style>\n",
              "  "
            ]
          },
          "metadata": {}
        },
        {
          "output_type": "stream",
          "name": "stdout",
          "text": [
            "time: 844 µs (started: 2022-05-03 13:57:01 +00:00)\n"
          ]
        }
      ]
    },
    {
      "cell_type": "code",
      "source": [
        "for col in article_df_new.columns:\n",
        "  print(col)"
      ],
      "metadata": {
        "colab": {
          "base_uri": "https://localhost:8080/",
          "height": 270
        },
        "id": "v2KrUyLoNVVe",
        "outputId": "07f12b74-18a5-4f57-f2c5-23c645674e75"
      },
      "execution_count": null,
      "outputs": [
        {
          "output_type": "display_data",
          "data": {
            "text/plain": [
              "<IPython.core.display.HTML object>"
            ],
            "text/html": [
              "\n",
              "  <style>\n",
              "    pre {\n",
              "        white-space: pre-wrap;\n",
              "    }\n",
              "  </style>\n",
              "  "
            ]
          },
          "metadata": {}
        },
        {
          "output_type": "display_data",
          "data": {
            "text/plain": [
              "<IPython.core.display.HTML object>"
            ],
            "text/html": [
              "\n",
              "  <style>\n",
              "    pre {\n",
              "        white-space: pre-wrap;\n",
              "    }\n",
              "  </style>\n",
              "  "
            ]
          },
          "metadata": {}
        },
        {
          "output_type": "stream",
          "name": "stdout",
          "text": [
            "article_id\n",
            "sim_1_prod\n",
            "sim_2_prod\n",
            "sim_3_prod\n",
            "sim_4_prod\n",
            "sim_5_prod\n",
            "sim_6_prod\n",
            "sim_7_prod\n",
            "sim_8_prod\n",
            "sim_9_prod\n",
            "sim_10_prod\n",
            "sim_11_prod\n",
            "sim_12_prod\n",
            "time: 2.72 ms (started: 2022-05-04 06:41:28 +00:00)\n"
          ]
        }
      ]
    },
    {
      "cell_type": "code",
      "source": [
        "print(len(article_df))\n",
        "print(len(article_df_new))"
      ],
      "metadata": {
        "colab": {
          "base_uri": "https://localhost:8080/",
          "height": 71
        },
        "id": "66-9zMN-N4dQ",
        "outputId": "84e950ec-4e9f-4ee2-e4ec-ee32ba8355a2"
      },
      "execution_count": null,
      "outputs": [
        {
          "output_type": "display_data",
          "data": {
            "text/plain": [
              "<IPython.core.display.HTML object>"
            ],
            "text/html": [
              "\n",
              "  <style>\n",
              "    pre {\n",
              "        white-space: pre-wrap;\n",
              "    }\n",
              "  </style>\n",
              "  "
            ]
          },
          "metadata": {}
        },
        {
          "output_type": "display_data",
          "data": {
            "text/plain": [
              "<IPython.core.display.HTML object>"
            ],
            "text/html": [
              "\n",
              "  <style>\n",
              "    pre {\n",
              "        white-space: pre-wrap;\n",
              "    }\n",
              "  </style>\n",
              "  "
            ]
          },
          "metadata": {}
        },
        {
          "output_type": "stream",
          "name": "stdout",
          "text": [
            "105542\n",
            "105100\n",
            "time: 3.27 ms (started: 2022-05-04 05:17:05 +00:00)\n"
          ]
        }
      ]
    },
    {
      "cell_type": "code",
      "source": [
        "# article_df = pd.merge(article_df,article_df_new[['article_id', 'sim_1_prod', 'sim_2_prod', 'sim_3_prod', 'sim_4_prod', 'sim_5_prod', 'sim_6_prod', 'sim_7_prod', 'sim_8_prod', 'sim_9_prod', 'sim_10_prod', 'sim_11_prod', 'sim_12_prod']],on='article_id', left_index=True, right_index=True, how=\"outer\", suffixes=('', '_y'))\n",
        "# article_df = pd.merge(article_df,article_df_new[['article_id', 'sim_1_prod', 'sim_2_prod', 'sim_3_prod', 'sim_4_prod', 'sim_5_prod', 'sim_6_prod', 'sim_7_prod', 'sim_8_prod', 'sim_9_prod', 'sim_10_prod', 'sim_11_prod', 'sim_12_prod']],on='article_id')\n",
        "article_df = article_df.merge(article_df_new, on='article_id', how='outer')\n"
      ],
      "metadata": {
        "colab": {
          "base_uri": "https://localhost:8080/",
          "height": 35
        },
        "id": "6X4S8IP_NegI",
        "outputId": "0ddf6dbe-8957-4e33-efc1-2451f1c74ab5"
      },
      "execution_count": null,
      "outputs": [
        {
          "output_type": "display_data",
          "data": {
            "text/plain": [
              "<IPython.core.display.HTML object>"
            ],
            "text/html": [
              "\n",
              "  <style>\n",
              "    pre {\n",
              "        white-space: pre-wrap;\n",
              "    }\n",
              "  </style>\n",
              "  "
            ]
          },
          "metadata": {}
        },
        {
          "output_type": "display_data",
          "data": {
            "text/plain": [
              "<IPython.core.display.HTML object>"
            ],
            "text/html": [
              "\n",
              "  <style>\n",
              "    pre {\n",
              "        white-space: pre-wrap;\n",
              "    }\n",
              "  </style>\n",
              "  "
            ]
          },
          "metadata": {}
        },
        {
          "output_type": "stream",
          "name": "stdout",
          "text": [
            "time: 210 ms (started: 2022-05-04 05:17:05 +00:00)\n"
          ]
        }
      ]
    },
    {
      "cell_type": "code",
      "source": [
        "print(len(article_df))"
      ],
      "metadata": {
        "colab": {
          "base_uri": "https://localhost:8080/",
          "height": 53
        },
        "id": "H7luyZ19Nt77",
        "outputId": "333f94c4-53b1-4815-ae28-45153fcb6895"
      },
      "execution_count": null,
      "outputs": [
        {
          "output_type": "display_data",
          "data": {
            "text/plain": [
              "<IPython.core.display.HTML object>"
            ],
            "text/html": [
              "\n",
              "  <style>\n",
              "    pre {\n",
              "        white-space: pre-wrap;\n",
              "    }\n",
              "  </style>\n",
              "  "
            ]
          },
          "metadata": {}
        },
        {
          "output_type": "display_data",
          "data": {
            "text/plain": [
              "<IPython.core.display.HTML object>"
            ],
            "text/html": [
              "\n",
              "  <style>\n",
              "    pre {\n",
              "        white-space: pre-wrap;\n",
              "    }\n",
              "  </style>\n",
              "  "
            ]
          },
          "metadata": {}
        },
        {
          "output_type": "stream",
          "name": "stdout",
          "text": [
            "105542\n",
            "time: 4.36 ms (started: 2022-05-04 06:41:16 +00:00)\n"
          ]
        }
      ]
    },
    {
      "cell_type": "code",
      "source": [
        "print(article_df.head())"
      ],
      "metadata": {
        "colab": {
          "base_uri": "https://localhost:8080/",
          "height": 1000
        },
        "id": "suIPGaiPO2G4",
        "outputId": "ab806a93-b044-4048-fd61-8befe11cedf3"
      },
      "execution_count": null,
      "outputs": [
        {
          "output_type": "display_data",
          "data": {
            "text/plain": [
              "<IPython.core.display.HTML object>"
            ],
            "text/html": [
              "\n",
              "  <style>\n",
              "    pre {\n",
              "        white-space: pre-wrap;\n",
              "    }\n",
              "  </style>\n",
              "  "
            ]
          },
          "metadata": {}
        },
        {
          "output_type": "display_data",
          "data": {
            "text/plain": [
              "<IPython.core.display.HTML object>"
            ],
            "text/html": [
              "\n",
              "  <style>\n",
              "    pre {\n",
              "        white-space: pre-wrap;\n",
              "    }\n",
              "  </style>\n",
              "  "
            ]
          },
          "metadata": {}
        },
        {
          "output_type": "stream",
          "name": "stdout",
          "text": [
            "   article_id  product_code          prod_name  product_type_no  \\\n",
            "0  108775015   108775        Strap top          253               \n",
            "1  108775044   108775        Strap top          253               \n",
            "2  108775051   108775        Strap top (1)      253               \n",
            "3  110065001   110065        OP T-shirt (Idro)  306               \n",
            "4  110065002   110065        OP T-shirt (Idro)  306               \n",
            "\n",
            "  product_type_name  product_group_name  graphical_appearance_no  \\\n",
            "0  Vest top          Garment Upper body  1010016                   \n",
            "1  Vest top          Garment Upper body  1010016                   \n",
            "2  Vest top          Garment Upper body  1010017                   \n",
            "3  Bra               Underwear           1010016                   \n",
            "4  Bra               Underwear           1010016                   \n",
            "\n",
            "  graphical_appearance_name  colour_group_code colour_group_name  \\\n",
            "0  Solid                     9                  Black              \n",
            "1  Solid                     10                 White              \n",
            "2  Stripe                    11                 Off White          \n",
            "3  Solid                     9                  Black              \n",
            "4  Solid                     10                 White              \n",
            "\n",
            "   perceived_colour_value_id perceived_colour_value_name  \\\n",
            "0  4                          Dark                         \n",
            "1  3                          Light                        \n",
            "2  1                          Dusty Light                  \n",
            "3  4                          Dark                         \n",
            "4  3                          Light                        \n",
            "\n",
            "   perceived_colour_master_id perceived_colour_master_name  department_no  \\\n",
            "0  5                           Black                        1676            \n",
            "1  9                           White                        1676            \n",
            "2  9                           White                        1676            \n",
            "3  5                           Black                        1339            \n",
            "4  9                           White                        1339            \n",
            "\n",
            "  department_name index_code        index_name  index_group_no  \\\n",
            "0  Jersey Basic    A          Ladieswear        1                \n",
            "1  Jersey Basic    A          Ladieswear        1                \n",
            "2  Jersey Basic    A          Ladieswear        1                \n",
            "3  Clean Lingerie  B          Lingeries/Tights  1                \n",
            "4  Clean Lingerie  B          Lingeries/Tights  1                \n",
            "\n",
            "  index_group_name  section_no            section_name  garment_group_no  \\\n",
            "0  Ladieswear       16          Womens Everyday Basics  1002               \n",
            "1  Ladieswear       16          Womens Everyday Basics  1002               \n",
            "2  Ladieswear       16          Womens Everyday Basics  1002               \n",
            "3  Ladieswear       61          Womens Lingerie         1017               \n",
            "4  Ladieswear       61          Womens Lingerie         1017               \n",
            "\n",
            "  garment_group_name  \\\n",
            "0  Jersey Basic        \n",
            "1  Jersey Basic        \n",
            "2  Jersey Basic        \n",
            "3  Under-, Nightwear   \n",
            "4  Under-, Nightwear   \n",
            "\n",
            "                                                                                                                                                                                                                                        detail_desc  \\\n",
            "0  Jersey top with narrow shoulder straps.                                                                                                                                                                                                            \n",
            "1  Jersey top with narrow shoulder straps.                                                                                                                                                                                                            \n",
            "2  Jersey top with narrow shoulder straps.                                                                                                                                                                                                            \n",
            "3  Microfibre T-shirt bra with underwired, moulded, lightly padded cups that shape the bust and provide good support. Narrow adjustable shoulder straps and a narrow hook-and-eye fastening at the back. Without visible seams for greater comfort.   \n",
            "4  Microfibre T-shirt bra with underwired, moulded, lightly padded cups that shape the bust and provide good support. Narrow adjustable shoulder straps and a narrow hook-and-eye fastening at the back. Without visible seams for greater comfort.   \n",
            "\n",
            "    sim_1_prod_x   sim_2_prod_x   sim_3_prod_x   sim_4_prod_x   sim_5_prod_x  \\\n",
            "0 626366003.0000 765773003.0000 586307013.0000 626366002.0000 394803004.0000   \n",
            "1 871655001.0000 775313001.0000 362997005.0000 538699007.0000 565379002.0000   \n",
            "2 355569046.0000 510465010.0000 565379021.0000 686419018.0000 655043001.0000   \n",
            "3 253448001.0000 920274001.0000 745686002.0000 524607001.0000 649038001.0000   \n",
            "4 696410002.0000 701244002.0000 800245001.0000 792817004.0000 771806001.0000   \n",
            "\n",
            "    sim_6_prod_x   sim_7_prod_x   sim_8_prod_x   sim_9_prod_x  sim_10_prod_x  \\\n",
            "0 646265001.0000 712216001.0000 621336003.0000 780188002.0000 652203002.0000   \n",
            "1 678321002.0000 572799002.0000 656728002.0000 639834002.0000 502456006.0000   \n",
            "2 804537002.0000 734851002.0000 658880002.0000 671519011.0000 734851001.0000   \n",
            "3 555109001.0000 679204001.0000 599641001.0000 580041001.0000 696410006.0000   \n",
            "4 854193001.0000 733378001.0000 736923002.0000 443000001.0000 832795001.0000   \n",
            "\n",
            "   sim_11_prod_x  sim_12_prod_x   sim_1_prod_y   sim_2_prod_y   sim_3_prod_y  \\\n",
            "0 743562002.0000 886470003.0000 626366003.0000 765773003.0000 586307013.0000   \n",
            "1 355072002.0000 804537002.0000 871655001.0000 775313001.0000 362997005.0000   \n",
            "2 822926001.0000 875469008.0000 355569046.0000 510465010.0000 565379021.0000   \n",
            "3 679287002.0000 893942002.0000 253448001.0000 920274001.0000 745686002.0000   \n",
            "4 796806002.0000 654564002.0000 696410002.0000 701244002.0000 800245001.0000   \n",
            "\n",
            "    sim_4_prod_y   sim_5_prod_y   sim_6_prod_y   sim_7_prod_y   sim_8_prod_y  \\\n",
            "0 626366002.0000 394803004.0000 646265001.0000 712216001.0000 621336003.0000   \n",
            "1 538699007.0000 565379002.0000 678321002.0000 572799002.0000 656728002.0000   \n",
            "2 686419018.0000 655043001.0000 804537002.0000 734851002.0000 658880002.0000   \n",
            "3 524607001.0000 649038001.0000 555109001.0000 679204001.0000 599641001.0000   \n",
            "4 792817004.0000 771806001.0000 854193001.0000 733378001.0000 736923002.0000   \n",
            "\n",
            "    sim_9_prod_y  sim_10_prod_y  sim_11_prod_y  sim_12_prod_y  \n",
            "0 780188002.0000 652203002.0000 743562002.0000 886470003.0000  \n",
            "1 639834002.0000 502456006.0000 355072002.0000 804537002.0000  \n",
            "2 671519011.0000 734851001.0000 822926001.0000 875469008.0000  \n",
            "3 580041001.0000 696410006.0000 679287002.0000 893942002.0000  \n",
            "4 443000001.0000 832795001.0000 796806002.0000 654564002.0000  \n",
            "time: 15.9 ms (started: 2022-05-04 06:41:18 +00:00)\n"
          ]
        }
      ]
    },
    {
      "cell_type": "code",
      "source": [
        "article_df.to_csv(\"/content/drive/MyDrive/CSCI_567_ML/Data/articles_with_top12_similar_images.csv\")"
      ],
      "metadata": {
        "colab": {
          "base_uri": "https://localhost:8080/",
          "height": 35
        },
        "id": "u1w4ElryO8zt",
        "outputId": "774b7316-843a-46d5-a9f6-7bf841368ed5"
      },
      "execution_count": null,
      "outputs": [
        {
          "output_type": "display_data",
          "data": {
            "text/plain": [
              "<IPython.core.display.HTML object>"
            ],
            "text/html": [
              "\n",
              "  <style>\n",
              "    pre {\n",
              "        white-space: pre-wrap;\n",
              "    }\n",
              "  </style>\n",
              "  "
            ]
          },
          "metadata": {}
        },
        {
          "output_type": "display_data",
          "data": {
            "text/plain": [
              "<IPython.core.display.HTML object>"
            ],
            "text/html": [
              "\n",
              "  <style>\n",
              "    pre {\n",
              "        white-space: pre-wrap;\n",
              "    }\n",
              "  </style>\n",
              "  "
            ]
          },
          "metadata": {}
        },
        {
          "output_type": "stream",
          "name": "stdout",
          "text": [
            "time: 2.58 s (started: 2022-05-03 14:04:18 +00:00)\n"
          ]
        }
      ]
    },
    {
      "cell_type": "code",
      "source": [
        "# # Delete the instances of the index in sim matrix if it matches with row index\n",
        "# topN_sim_classes = [[x for x in topN_sim_idx[row] if x != row] for row in range(len(topN_sim_idx))]\n",
        "\n",
        "# for idx, row in enumerate(topN_sim_classes[:5]):\n",
        "#   print(f\"prod_id: {img_embs_not_na_df['article_id'].iloc[idx]}, fp: {img_embs_not_na_df['img_fp'].iloc[idx]}, prod: {img_embs_not_na_df['colour_group_name'].iloc[idx]}, {img_embs_not_na_df['prod_name'].iloc[idx]}, desc: {img_embs_not_na_df['detail_desc'].iloc[idx]}\")\n",
        "#   print(row)\n",
        "#   for idx_prod, prod in enumerate(row[::-1]):\n",
        "#     print(f\"Sim_{idx_prod} - prod_id: {img_embs_not_na_df['article_id'].iloc[int(prod)]}, fp: {img_embs_not_na_df['img_fp'].iloc[int(prod)]}, prod: {img_embs_not_na_df['colour_group_name'].iloc[idx]}, {img_embs_not_na_df['prod_name'].iloc[int(prod)]}, desc: {img_embs_not_na_df['detail_desc'].iloc[int(prod)]}\")\n",
        "#   print(\"\\n\")"
      ],
      "metadata": {
        "id": "GdHyLCvD_h_U"
      },
      "execution_count": null,
      "outputs": []
    },
    {
      "cell_type": "code",
      "execution_count": null,
      "metadata": {
        "colab": {
          "base_uri": "https://localhost:8080/",
          "height": 34
        },
        "id": "IG9ImxjHclOu",
        "outputId": "62e0d61c-3a1f-4dca-f981-3cc663208bdf"
      },
      "outputs": [
        {
          "data": {
            "text/html": [
              "\n",
              "  <style>\n",
              "    pre {\n",
              "        white-space: pre-wrap;\n",
              "    }\n",
              "  </style>\n",
              "  "
            ],
            "text/plain": [
              "<IPython.core.display.HTML object>"
            ]
          },
          "metadata": {},
          "output_type": "display_data"
        },
        {
          "data": {
            "text/html": [
              "\n",
              "  <style>\n",
              "    pre {\n",
              "        white-space: pre-wrap;\n",
              "    }\n",
              "  </style>\n",
              "  "
            ],
            "text/plain": [
              "<IPython.core.display.HTML object>"
            ]
          },
          "metadata": {},
          "output_type": "display_data"
        },
        {
          "name": "stdout",
          "output_type": "stream",
          "text": [
            "time: 4.98 ms (started: 2022-05-03 05:44:31 +00:00)\n"
          ]
        }
      ],
      "source": [
        "desc_embs = [x for x in article_sample['desc_emb']]"
      ]
    },
    {
      "cell_type": "code",
      "execution_count": null,
      "metadata": {
        "id": "QZ6LuSPRdWzS"
      },
      "outputs": [],
      "source": [
        "print(desc_embs)"
      ]
    },
    {
      "cell_type": "code",
      "execution_count": null,
      "metadata": {
        "id": "QaWFie0YbV5s"
      },
      "outputs": [],
      "source": [
        "# # cos_sim_text = util.cos_sim(desc_embs, desc_embs)\n",
        "# cos_sim_img = util.cos_sim(article_sample['img_emb'], article_sample['img_emb'])\n",
        "# # print(\"Cosine-Similarity text:\", cos_sim_text)\n",
        "# print(\"Cosine-Similarity img:\", cos_sim_img)"
      ]
    },
    {
      "cell_type": "code",
      "execution_count": null,
      "metadata": {
        "colab": {
          "base_uri": "https://localhost:8080/",
          "height": 52
        },
        "id": "mNcBQyViX57w",
        "outputId": "2dcae011-fd07-47a9-9bac-862dd599c178"
      },
      "outputs": [
        {
          "data": {
            "text/html": [
              "\n",
              "  <style>\n",
              "    pre {\n",
              "        white-space: pre-wrap;\n",
              "    }\n",
              "  </style>\n",
              "  "
            ],
            "text/plain": [
              "<IPython.core.display.HTML object>"
            ]
          },
          "metadata": {},
          "output_type": "display_data"
        },
        {
          "data": {
            "text/html": [
              "\n",
              "  <style>\n",
              "    pre {\n",
              "        white-space: pre-wrap;\n",
              "    }\n",
              "  </style>\n",
              "  "
            ],
            "text/plain": [
              "<IPython.core.display.HTML object>"
            ]
          },
          "metadata": {},
          "output_type": "display_data"
        },
        {
          "name": "stdout",
          "output_type": "stream",
          "text": [
            "2048\n",
            "time: 3.35 ms (started: 2022-05-03 05:28:09 +00:00)\n"
          ]
        }
      ],
      "source": [
        "# # image embedding length\n",
        "# print(len(article_sample['img_emb'].iloc[0]))\n",
        "\n",
        "# # description embedding length\n",
        "# print(len(article_sample['desc_emb'].iloc[0]))"
      ]
    },
    {
      "cell_type": "markdown",
      "source": [
        "### Visual similarity for all categories based on price"
      ],
      "metadata": {
        "id": "K2GVDm_Q1Ll2"
      }
    },
    {
      "cell_type": "code",
      "source": [
        "# Decide product types to compute similarity among\n",
        "pd.options.display.max_rows = None\n",
        "article_df.groupby(['product_group_name', 'product_type_name']).count()['article_id']"
      ],
      "metadata": {
        "id": "q-y-HFu41ngX"
      },
      "execution_count": null,
      "outputs": []
    },
    {
      "cell_type": "code",
      "source": [
        "product_group_name = list(np.sort(article_df['product_group_name'].unique()))\n",
        "prod_group_wise_item_count  = article_df.groupby(['product_group_name']).count()['article_id'].to_dict()\n",
        "print(product_group_name)\n",
        "product_group_name.pop(7)\n",
        "print(product_group_name)"
      ],
      "metadata": {
        "colab": {
          "base_uri": "https://localhost:8080/",
          "height": 35
        },
        "outputId": "d2ce4a93-9c16-499c-e2c0-ea2f66a6437f",
        "id": "cNeAV_d61nga"
      },
      "execution_count": null,
      "outputs": [
        {
          "output_type": "display_data",
          "data": {
            "text/plain": [
              "<IPython.core.display.HTML object>"
            ],
            "text/html": [
              "\n",
              "  <style>\n",
              "    pre {\n",
              "        white-space: pre-wrap;\n",
              "    }\n",
              "  </style>\n",
              "  "
            ]
          },
          "metadata": {}
        },
        {
          "output_type": "stream",
          "name": "stdout",
          "text": [
            "time: 85.3 ms (started: 2022-05-04 07:19:56 +00:00)\n"
          ]
        }
      ]
    },
    {
      "cell_type": "code",
      "source": [
        "for col in transaction_df.columns:\n",
        "  print(col)"
      ],
      "metadata": {
        "colab": {
          "base_uri": "https://localhost:8080/",
          "height": 126
        },
        "id": "WlAKNTXP10wk",
        "outputId": "b4720fb9-117d-40b2-cfab-67102287b7e7"
      },
      "execution_count": null,
      "outputs": [
        {
          "output_type": "display_data",
          "data": {
            "text/plain": [
              "<IPython.core.display.HTML object>"
            ],
            "text/html": [
              "\n",
              "  <style>\n",
              "    pre {\n",
              "        white-space: pre-wrap;\n",
              "    }\n",
              "  </style>\n",
              "  "
            ]
          },
          "metadata": {}
        },
        {
          "output_type": "stream",
          "name": "stdout",
          "text": [
            "t_dat\n",
            "customer_id\n",
            "article_id\n",
            "price\n",
            "sales_channel_id\n",
            "time: 1.03 ms (started: 2022-05-04 07:19:56 +00:00)\n"
          ]
        }
      ]
    },
    {
      "cell_type": "code",
      "source": [
        "# min_price_item = transaction_df.nlargest(2,['price'])['article_id']"
      ],
      "metadata": {
        "colab": {
          "base_uri": "https://localhost:8080/",
          "height": 53
        },
        "id": "pDWYlDjt14yW",
        "outputId": "1ec1b3dd-c2dd-473b-8336-d1f03242d0e8"
      },
      "execution_count": null,
      "outputs": [
        {
          "output_type": "display_data",
          "data": {
            "text/plain": [
              "<IPython.core.display.HTML object>"
            ],
            "text/html": [
              "\n",
              "  <style>\n",
              "    pre {\n",
              "        white-space: pre-wrap;\n",
              "    }\n",
              "  </style>\n",
              "  "
            ]
          },
          "metadata": {}
        },
        {
          "output_type": "stream",
          "name": "stdout",
          "text": [
            "697511001\n",
            "time: 2.34 s (started: 2022-05-04 07:19:56 +00:00)\n"
          ]
        }
      ]
    },
    {
      "cell_type": "code",
      "source": [
        "transactions_by_article_id = transaction_df.groupby('article_id').mean()\n",
        "print(len(transactions_by_article_id))"
      ],
      "metadata": {
        "colab": {
          "base_uri": "https://localhost:8080/",
          "height": 35
        },
        "id": "Nb2BM_t07VCp",
        "outputId": "1c7164d7-6498-45cc-a083-ce191dde8a6d"
      },
      "execution_count": null,
      "outputs": [
        {
          "output_type": "display_data",
          "data": {
            "text/plain": [
              "<IPython.core.display.HTML object>"
            ],
            "text/html": [
              "\n",
              "  <style>\n",
              "    pre {\n",
              "        white-space: pre-wrap;\n",
              "    }\n",
              "  </style>\n",
              "  "
            ]
          },
          "metadata": {}
        },
        {
          "output_type": "stream",
          "name": "stdout",
          "text": [
            "time: 2.08 s (started: 2022-05-04 07:31:08 +00:00)\n"
          ]
        }
      ]
    },
    {
      "cell_type": "code",
      "source": [
        "transactions_by_article_id['price'].head()"
      ],
      "metadata": {
        "colab": {
          "base_uri": "https://localhost:8080/",
          "height": 144
        },
        "id": "6APUuMfQ-w1E",
        "outputId": "1a11a486-af6c-485f-849d-dbeaf6a4d6c4"
      },
      "execution_count": null,
      "outputs": [
        {
          "output_type": "display_data",
          "data": {
            "text/plain": [
              "<IPython.core.display.HTML object>"
            ],
            "text/html": [
              "\n",
              "  <style>\n",
              "    pre {\n",
              "        white-space: pre-wrap;\n",
              "    }\n",
              "  </style>\n",
              "  "
            ]
          },
          "metadata": {}
        },
        {
          "output_type": "execute_result",
          "data": {
            "text/plain": [
              "article_id\n",
              "108775015   0.0081\n",
              "108775044   0.0081\n",
              "108775051   0.0050\n",
              "110065001   0.0202\n",
              "110065002   0.0182\n",
              "Name: price, dtype: float64"
            ]
          },
          "metadata": {},
          "execution_count": 58
        },
        {
          "output_type": "stream",
          "name": "stdout",
          "text": [
            "time: 6.39 ms (started: 2022-05-04 07:37:12 +00:00)\n"
          ]
        }
      ]
    },
    {
      "cell_type": "code",
      "source": [
        "articles_for_merge = article_df[['article_id', 'prod_name', 'product_type_name', 'product_group_name', 'colour_group_name', 'index_name', 'detail_desc']]\n",
        "print(len(articles_for_merge))"
      ],
      "metadata": {
        "colab": {
          "base_uri": "https://localhost:8080/",
          "height": 35
        },
        "id": "jlinHLVV2irV",
        "outputId": "a53be011-ed05-46f5-f437-69daf93af256"
      },
      "execution_count": null,
      "outputs": [
        {
          "output_type": "display_data",
          "data": {
            "text/plain": [
              "<IPython.core.display.HTML object>"
            ],
            "text/html": [
              "\n",
              "  <style>\n",
              "    pre {\n",
              "        white-space: pre-wrap;\n",
              "    }\n",
              "  </style>\n",
              "  "
            ]
          },
          "metadata": {}
        },
        {
          "output_type": "stream",
          "name": "stdout",
          "text": [
            "time: 8.57 ms (started: 2022-05-04 07:38:49 +00:00)\n"
          ]
        }
      ]
    },
    {
      "cell_type": "code",
      "source": [
        "articles_with_prices = articles_for_merge.merge(transactions_by_article_id['price'], on='article_id', how=\"outer\")\n",
        "articles_with_prices = articles_with_prices.sort_values(by='price', ascending=False)\n",
        "print(len(articles_with_prices))"
      ],
      "metadata": {
        "colab": {
          "base_uri": "https://localhost:8080/",
          "height": 35
        },
        "id": "OhUbClLP7SI1",
        "outputId": "d94caaac-603e-442a-82e1-61280b3c68ec"
      },
      "execution_count": null,
      "outputs": [
        {
          "output_type": "display_data",
          "data": {
            "text/plain": [
              "<IPython.core.display.HTML object>"
            ],
            "text/html": [
              "\n",
              "  <style>\n",
              "    pre {\n",
              "        white-space: pre-wrap;\n",
              "    }\n",
              "  </style>\n",
              "  "
            ]
          },
          "metadata": {}
        },
        {
          "output_type": "stream",
          "name": "stdout",
          "text": [
            "time: 35.2 ms (started: 2022-05-04 07:39:44 +00:00)\n"
          ]
        }
      ]
    },
    {
      "cell_type": "code",
      "source": [
        "articles_with_prices_not_na = articles_with_prices.dropna()"
      ],
      "metadata": {
        "colab": {
          "base_uri": "https://localhost:8080/",
          "height": 35
        },
        "id": "2qZjTaD7POmt",
        "outputId": "46815563-9a8f-4351-d306-4ed34818ae54"
      },
      "execution_count": null,
      "outputs": [
        {
          "output_type": "display_data",
          "data": {
            "text/plain": [
              "<IPython.core.display.HTML object>"
            ],
            "text/html": [
              "\n",
              "  <style>\n",
              "    pre {\n",
              "        white-space: pre-wrap;\n",
              "    }\n",
              "  </style>\n",
              "  "
            ]
          },
          "metadata": {}
        },
        {
          "output_type": "stream",
          "name": "stdout",
          "text": [
            "time: 46.7 ms (started: 2022-05-04 09:19:00 +00:00)\n"
          ]
        }
      ]
    },
    {
      "cell_type": "code",
      "source": [
        "print(len(articles_with_prices))\n",
        "print(len(articles_with_prices_not_na))"
      ],
      "metadata": {
        "colab": {
          "base_uri": "https://localhost:8080/",
          "height": 71
        },
        "id": "VLtfQSmtRig_",
        "outputId": "5cad9f2e-f2b4-4b66-87e2-002c16f0088d"
      },
      "execution_count": null,
      "outputs": [
        {
          "output_type": "display_data",
          "data": {
            "text/plain": [
              "<IPython.core.display.HTML object>"
            ],
            "text/html": [
              "\n",
              "  <style>\n",
              "    pre {\n",
              "        white-space: pre-wrap;\n",
              "    }\n",
              "  </style>\n",
              "  "
            ]
          },
          "metadata": {}
        },
        {
          "output_type": "stream",
          "name": "stdout",
          "text": [
            "105542\n",
            "104131\n",
            "time: 1.58 ms (started: 2022-05-04 10:24:26 +00:00)\n"
          ]
        }
      ]
    },
    {
      "cell_type": "code",
      "source": [
        "# Everything combined for an item\n",
        "import gc\n",
        "\n",
        "# article_df_new = article_df.copy()\n",
        "\n",
        "appended_data = []\n",
        "\n",
        "for item_group in tqdm(product_group_name):\n",
        "  #1. Create a subset of the df for a product type\n",
        "  print(item_group)\n",
        "  # article_sample = article_df[article_df['product_group_name'] == item_group]\n",
        "  print(len(articles_with_prices))\n",
        "  article_sample = articles_with_prices[articles_with_prices['product_group_name'] == item_group]\n",
        "  print(len(article_sample))\n",
        "  #2. Add image embeddings and image file paths for each prod\n",
        "  # skip description similarity for now\n",
        "  # article_sample['desc_emb'] = article_sample['detail_desc'].progress_apply(description_embeddings)\n",
        "  article_sample['img_emb'] = article_sample['article_id'].progress_apply(image_embeddings)\n",
        "  article_sample['img_fp'] = article_sample['article_id'].progress_apply(image_fp)\n",
        "\n",
        "  #3. Remove NaN values from subset df\n",
        "  # We can only compute image similarity for non NaN entries\n",
        "\n",
        "  articles_sample_with_prices_not_na = article_sample.dropna()\n",
        "\n",
        "  df_where_img_embs_not_na = articles_sample_with_prices_not_na[articles_sample_with_prices_not_na['img_emb'].notna()]\n",
        "\n",
        "\n",
        "  # articles_sample_with_prices_not_na = img_embs_not_na_df.dropna()\n",
        "  kmeans = KMeans(n_clusters=2, random_state=0).fit(df_where_img_embs_not_na['price'].values.reshape(-1, 1))\n",
        "  df_where_img_embs_not_na[\"price_cluster\"] = kmeans.labels_\n",
        "\n",
        "  exp_df = df_where_img_embs_not_na[df_where_img_embs_not_na['price_cluster'] == 1]\n",
        "  cheap_df = df_where_img_embs_not_na[df_where_img_embs_not_na['price_cluster'] == 0]\n",
        "  print(f\"\\n\\nexp_df len: {len(exp_df)}, cheap_df len: {len(cheap_df)}\")\n",
        "\n",
        "  for img_embs_not_na_df in [exp_df, cheap_df]:\n",
        "    img_embs = list(img_embs_not_na_df['img_emb'])\n",
        "\n",
        "\n",
        "    # img_embs = list(img_embs_not_na_df['img_emb']) #Create a list to compute cosine sim\n",
        "\n",
        "    #4. compute cosine similarity among all products images in the subset df\n",
        "    cos_sim_img = util.cos_sim(img_embs, img_embs)\n",
        "    # print(\"Cosine-Similarity img:\", cos_sim_img)\n",
        "\n",
        "    #5. Obtain top N similar instances\n",
        "    # num = 13 # includes the item itself so we take 12+1 \n",
        "    num = min(13, len(exp_df), len(cheap_df))\n",
        "    topN_sim_idx = np.argpartition(cos_sim_img, -num, axis=1)[:, -num:]\n",
        "\n",
        "    #6. Add 12 cols for the top 12 most similar products \n",
        "    topN_sim_classes = [[x for x in topN_sim_idx[row] if x != row] for row in range(len(topN_sim_idx))]\n",
        "    topN_sim_classes_arr = np.asarray(topN_sim_classes)\n",
        "    print(f\"\\n{topN_sim_classes_arr.shape}\")\n",
        "    if topN_sim_classes_arr.shape[1] < 12:\n",
        "      nan_col = np.empty((topN_sim_classes_arr.shape[0],12-topN_sim_classes_arr.shape[1]))\n",
        "      nan_col.fill(np.nan)\n",
        "      topN_sim_classes_arr = np.c_[topN_sim_classes_arr,nan_col]\n",
        "      print(f\"\\nReshaping with NaNs to accomodate for less # of products in category: {item_group}\")\n",
        "      print(topN_sim_classes_arr)\n",
        "\n",
        "\n",
        "    img_embs_not_na_df = img_embs_not_na_df.assign(sim_1=topN_sim_classes_arr[:,-1], sim_2=topN_sim_classes_arr[:,-2], sim_3=topN_sim_classes_arr[:,-3], sim_4=topN_sim_classes_arr[:,-4], sim_5=topN_sim_classes_arr[:,-5], sim_6=topN_sim_classes_arr[:,-6], \\\n",
        "                                                  sim_7=topN_sim_classes_arr[:,-7], sim_8=topN_sim_classes_arr[:,-8], sim_9=topN_sim_classes_arr[:,-9], sim_10=topN_sim_classes_arr[:,-10], sim_11=topN_sim_classes_arr[:,-11], sim_12=topN_sim_classes_arr[:,-12])\n",
        "    \n",
        "    try:\n",
        "      # img_embs_not_na_df.assign(sim_1_prod=list(img_embs_not_na_df['article_id'].iloc[img_embs_not_na_df['sim_1']]))\n",
        "      img_embs_not_na_df['sim_1_prod'] = list(img_embs_not_na_df['article_id'].iloc[img_embs_not_na_df['sim_1']])\n",
        "    except:\n",
        "      img_embs_not_na_df['sim_1_prod'] = np.nan\n",
        "    try:\n",
        "      img_embs_not_na_df['sim_2_prod'] = list(img_embs_not_na_df['article_id'].iloc[img_embs_not_na_df['sim_2']])\n",
        "    except:\n",
        "      img_embs_not_na_df['sim_2_prod'] = np.nan\n",
        "    try:\n",
        "      img_embs_not_na_df['sim_3_prod'] = list(img_embs_not_na_df['article_id'].iloc[img_embs_not_na_df['sim_3']])\n",
        "    except:\n",
        "      img_embs_not_na_df['sim_3_prod'] = np.nan\n",
        "    try:\n",
        "      img_embs_not_na_df['sim_4_prod'] = list(img_embs_not_na_df['article_id'].iloc[img_embs_not_na_df['sim_4']])\n",
        "    except:\n",
        "      img_embs_not_na_df['sim_4_prod'] = np.nan\n",
        "    try:\n",
        "      img_embs_not_na_df['sim_5_prod'] = list(img_embs_not_na_df['article_id'].iloc[img_embs_not_na_df['sim_5']])\n",
        "    except:\n",
        "      img_embs_not_na_df['sim_5_prod'] = np.nan\n",
        "    try:\n",
        "      img_embs_not_na_df['sim_6_prod'] = list(img_embs_not_na_df['article_id'].iloc[img_embs_not_na_df['sim_6']])\n",
        "    except:\n",
        "      img_embs_not_na_df['sim_6_prod'] = np.nan\n",
        "    try:\n",
        "      img_embs_not_na_df['sim_7_prod'] = list(img_embs_not_na_df['article_id'].iloc[img_embs_not_na_df['sim_7']])\n",
        "    except:\n",
        "      img_embs_not_na_df['sim_7_prod'] = np.nan\n",
        "    try:\n",
        "      img_embs_not_na_df['sim_8_prod'] = list(img_embs_not_na_df['article_id'].iloc[img_embs_not_na_df['sim_8']])\n",
        "    except:\n",
        "      img_embs_not_na_df['sim_8_prod'] = np.nan\n",
        "    try:\n",
        "      img_embs_not_na_df['sim_9_prod'] = list(img_embs_not_na_df['article_id'].iloc[img_embs_not_na_df['sim_9']])\n",
        "    except:\n",
        "      img_embs_not_na_df['sim_9_prod'] = np.nan\n",
        "    try:\n",
        "      img_embs_not_na_df['sim_10_prod'] = list(img_embs_not_na_df['article_id'].iloc[img_embs_not_na_df['sim_10']])\n",
        "    except:\n",
        "      img_embs_not_na_df['sim_10_prod'] = np.nan\n",
        "    try:\n",
        "      img_embs_not_na_df['sim_11_prod'] = list(img_embs_not_na_df['article_id'].iloc[img_embs_not_na_df['sim_11']])\n",
        "    except:\n",
        "      img_embs_not_na_df['sim_11_prod'] = np.nan\n",
        "    try:\n",
        "      img_embs_not_na_df['sim_12_prod'] = list(img_embs_not_na_df['article_id'].iloc[img_embs_not_na_df['sim_12']])\n",
        "    except:\n",
        "      img_embs_not_na_df['sim_12_prod'] = np.nan\n",
        "\n",
        "    #7. Merge the new 12 cols with original article_df\n",
        "    # article_df = pd.merge(article_df,img_embs_not_na_df[['article_id', 'sim_1_prod', 'sim_2_prod', 'sim_3_prod', 'sim_4_prod', 'sim_5_prod', 'sim_6_prod', 'sim_7_prod', 'sim_8_prod', 'sim_9_prod', 'sim_10_prod', 'sim_11_prod', 'sim_12_prod']],on='article_id', left_index=True, right_index=True, how=\"outer\", suffixes=('', '_y'))\n",
        "    # article_df_new = pd.merge(article_df_new,img_embs_not_na_df[['article_id', 'sim_1_prod', 'sim_2_prod', 'sim_3_prod', 'sim_4_prod', 'sim_5_prod', 'sim_6_prod', 'sim_7_prod', 'sim_8_prod', 'sim_9_prod', 'sim_10_prod', 'sim_11_prod', 'sim_12_prod']],on='article_id', suffixes=('', '_y'))\n",
        "    # article_df_new.drop(article_df_new.filter(regex='_y$').columns.tolist(),axis=1, inplace=True)\n",
        "\n",
        "    # article_df_new = article_df_new.merge(img_embs_not_na_df[['article_id', 'sim_1_prod', 'sim_2_prod', 'sim_3_prod', 'sim_4_prod', 'sim_5_prod', 'sim_6_prod', 'sim_7_prod', 'sim_8_prod', 'sim_9_prod', 'sim_10_prod', 'sim_11_prod', 'sim_12_prod']], left_index=True, right_index=True, how='outer', suffixes=('', '_y'))\n",
        "    # article_df_new.drop(article_df_new.filter(regex='_y$').columns.tolist(),axis=1, inplace=True)\n",
        "    appended_data.append(img_embs_not_na_df[['article_id', 'sim_1_prod', 'sim_2_prod', 'sim_3_prod', 'sim_4_prod', 'sim_5_prod', 'sim_6_prod', 'sim_7_prod', 'sim_8_prod', 'sim_9_prod', 'sim_10_prod', 'sim_11_prod', 'sim_12_prod']])\n",
        "\n",
        "\n",
        "  del img_embs_not_na_df\n",
        "  gc.collect()"
      ],
      "metadata": {
        "colab": {
          "base_uri": "https://localhost:8080/",
          "height": 1000
        },
        "outputId": "bf5fd584-8613-438c-9c49-2dc988778e6a",
        "id": "lG-QnDnc1ngb"
      },
      "execution_count": null,
      "outputs": [
        {
          "output_type": "display_data",
          "data": {
            "text/plain": [
              "<IPython.core.display.HTML object>"
            ],
            "text/html": [
              "\n",
              "  <style>\n",
              "    pre {\n",
              "        white-space: pre-wrap;\n",
              "    }\n",
              "  </style>\n",
              "  "
            ]
          },
          "metadata": {}
        },
        {
          "output_type": "stream",
          "name": "stderr",
          "text": [
            "\r  0%|          | 0/18 [00:00<?, ?it/s]"
          ]
        },
        {
          "output_type": "stream",
          "name": "stdout",
          "text": [
            "Accessories\n",
            "105542\n",
            "11158\n"
          ]
        },
        {
          "output_type": "stream",
          "name": "stderr",
          "text": [
            "\n",
            "100%|██████████| 11158/11158 [00:00<00:00, 511677.21it/s]\n",
            "/usr/local/lib/python3.7/dist-packages/ipykernel_launcher.py:18: SettingWithCopyWarning: \n",
            "A value is trying to be set on a copy of a slice from a DataFrame.\n",
            "Try using .loc[row_indexer,col_indexer] = value instead\n",
            "\n",
            "See the caveats in the documentation: https://pandas.pydata.org/pandas-docs/stable/user_guide/indexing.html#returning-a-view-versus-a-copy\n",
            "\n",
            "100%|██████████| 11158/11158 [00:00<00:00, 556672.86it/s]\n",
            "/usr/local/lib/python3.7/dist-packages/ipykernel_launcher.py:19: SettingWithCopyWarning: \n",
            "A value is trying to be set on a copy of a slice from a DataFrame.\n",
            "Try using .loc[row_indexer,col_indexer] = value instead\n",
            "\n",
            "See the caveats in the documentation: https://pandas.pydata.org/pandas-docs/stable/user_guide/indexing.html#returning-a-view-versus-a-copy\n"
          ]
        },
        {
          "output_type": "stream",
          "name": "stdout",
          "text": [
            "\n",
            "\n",
            "exp_df len: 672, cheap_df len: 10181\n",
            "\n",
            "(672, 12)\n",
            "\n",
            "(10181, 12)\n"
          ]
        },
        {
          "output_type": "stream",
          "name": "stderr",
          "text": [
            "\r  6%|▌         | 1/18 [00:10<02:52, 10.16s/it]"
          ]
        },
        {
          "output_type": "stream",
          "name": "stdout",
          "text": [
            "Bags\n",
            "105542\n",
            "25\n"
          ]
        },
        {
          "output_type": "stream",
          "name": "stderr",
          "text": [
            "\n",
            "100%|██████████| 25/25 [00:00<00:00, 34503.98it/s]\n",
            "/usr/local/lib/python3.7/dist-packages/ipykernel_launcher.py:18: SettingWithCopyWarning: \n",
            "A value is trying to be set on a copy of a slice from a DataFrame.\n",
            "Try using .loc[row_indexer,col_indexer] = value instead\n",
            "\n",
            "See the caveats in the documentation: https://pandas.pydata.org/pandas-docs/stable/user_guide/indexing.html#returning-a-view-versus-a-copy\n",
            "\n",
            "100%|██████████| 25/25 [00:00<00:00, 23526.50it/s]\n",
            "/usr/local/lib/python3.7/dist-packages/ipykernel_launcher.py:19: SettingWithCopyWarning: \n",
            "A value is trying to be set on a copy of a slice from a DataFrame.\n",
            "Try using .loc[row_indexer,col_indexer] = value instead\n",
            "\n",
            "See the caveats in the documentation: https://pandas.pydata.org/pandas-docs/stable/user_guide/indexing.html#returning-a-view-versus-a-copy\n"
          ]
        },
        {
          "output_type": "stream",
          "name": "stdout",
          "text": [
            "\n",
            "\n",
            "exp_df len: 4, cheap_df len: 21\n",
            "\n",
            "(4, 3)\n",
            "\n",
            "Reshaping with NaNs to accomodate for less # of products in category: Bags\n",
            "[[ 2.  1.  3. nan nan nan nan nan nan nan nan nan]\n",
            " [ 3.  2.  0. nan nan nan nan nan nan nan nan nan]\n",
            " [ 3.  1.  0. nan nan nan nan nan nan nan nan nan]\n",
            " [ 2.  1.  0. nan nan nan nan nan nan nan nan nan]]\n",
            "\n",
            "(21, 3)\n",
            "\n",
            "Reshaping with NaNs to accomodate for less # of products in category: Bags\n",
            "[[ 1. 20. 15. nan nan nan nan nan nan nan nan nan]\n",
            " [16.  6. 15. nan nan nan nan nan nan nan nan nan]\n",
            " [ 4. 11. 17. nan nan nan nan nan nan nan nan nan]\n",
            " [ 6.  7.  1. nan nan nan nan nan nan nan nan nan]\n",
            " [ 0.  9. 19. nan nan nan nan nan nan nan nan nan]\n",
            " [16. 15.  1. nan nan nan nan nan nan nan nan nan]\n",
            " [ 0.  3.  1. nan nan nan nan nan nan nan nan nan]\n",
            " [15. 10.  9. nan nan nan nan nan nan nan nan nan]\n",
            " [ 9.  3.  4. nan nan nan nan nan nan nan nan nan]\n",
            " [13.  4. 15. nan nan nan nan nan nan nan nan nan]\n",
            " [ 3. 15.  7. nan nan nan nan nan nan nan nan nan]\n",
            " [20.  1. 16. nan nan nan nan nan nan nan nan nan]\n",
            " [ 0.  1. 14. nan nan nan nan nan nan nan nan nan]\n",
            " [ 1. 15.  9. nan nan nan nan nan nan nan nan nan]\n",
            " [ 1.  9. 12. nan nan nan nan nan nan nan nan nan]\n",
            " [ 1.  9.  0. nan nan nan nan nan nan nan nan nan]\n",
            " [11. 13.  1. nan nan nan nan nan nan nan nan nan]\n",
            " [ 1.  0.  2. nan nan nan nan nan nan nan nan nan]\n",
            " [13. 16.  9. nan nan nan nan nan nan nan nan nan]\n",
            " [20.  4. 15. nan nan nan nan nan nan nan nan nan]\n",
            " [11. 15.  0. nan nan nan nan nan nan nan nan nan]]\n"
          ]
        },
        {
          "output_type": "stream",
          "name": "stderr",
          "text": [
            "\r 11%|█         | 2/18 [00:10<01:10,  4.39s/it]"
          ]
        },
        {
          "output_type": "stream",
          "name": "stdout",
          "text": [
            "Cosmetic\n",
            "105542\n",
            "49\n"
          ]
        },
        {
          "output_type": "stream",
          "name": "stderr",
          "text": [
            "\n",
            "100%|██████████| 49/49 [00:00<00:00, 68736.09it/s]\n",
            "/usr/local/lib/python3.7/dist-packages/ipykernel_launcher.py:18: SettingWithCopyWarning: \n",
            "A value is trying to be set on a copy of a slice from a DataFrame.\n",
            "Try using .loc[row_indexer,col_indexer] = value instead\n",
            "\n",
            "See the caveats in the documentation: https://pandas.pydata.org/pandas-docs/stable/user_guide/indexing.html#returning-a-view-versus-a-copy\n",
            "\n",
            "100%|██████████| 49/49 [00:00<00:00, 66944.92it/s]\n",
            "/usr/local/lib/python3.7/dist-packages/ipykernel_launcher.py:19: SettingWithCopyWarning: \n",
            "A value is trying to be set on a copy of a slice from a DataFrame.\n",
            "Try using .loc[row_indexer,col_indexer] = value instead\n",
            "\n",
            "See the caveats in the documentation: https://pandas.pydata.org/pandas-docs/stable/user_guide/indexing.html#returning-a-view-versus-a-copy\n"
          ]
        },
        {
          "output_type": "stream",
          "name": "stdout",
          "text": [
            "\n",
            "\n",
            "exp_df len: 18, cheap_df len: 29\n",
            "\n",
            "(18, 12)\n",
            "\n",
            "(29, 12)\n"
          ]
        },
        {
          "output_type": "stream",
          "name": "stderr",
          "text": [
            "\r 17%|█▋        | 3/18 [00:10<00:37,  2.52s/it]"
          ]
        },
        {
          "output_type": "stream",
          "name": "stdout",
          "text": [
            "Fun\n",
            "105542\n",
            "2\n"
          ]
        },
        {
          "output_type": "stream",
          "name": "stderr",
          "text": [
            "\n",
            "100%|██████████| 2/2 [00:00<00:00, 3247.62it/s]\n",
            "/usr/local/lib/python3.7/dist-packages/ipykernel_launcher.py:18: SettingWithCopyWarning: \n",
            "A value is trying to be set on a copy of a slice from a DataFrame.\n",
            "Try using .loc[row_indexer,col_indexer] = value instead\n",
            "\n",
            "See the caveats in the documentation: https://pandas.pydata.org/pandas-docs/stable/user_guide/indexing.html#returning-a-view-versus-a-copy\n",
            "\n",
            "100%|██████████| 2/2 [00:00<00:00, 3067.13it/s]\n",
            "/usr/local/lib/python3.7/dist-packages/ipykernel_launcher.py:19: SettingWithCopyWarning: \n",
            "A value is trying to be set on a copy of a slice from a DataFrame.\n",
            "Try using .loc[row_indexer,col_indexer] = value instead\n",
            "\n",
            "See the caveats in the documentation: https://pandas.pydata.org/pandas-docs/stable/user_guide/indexing.html#returning-a-view-versus-a-copy\n"
          ]
        },
        {
          "output_type": "stream",
          "name": "stdout",
          "text": [
            "\n",
            "\n",
            "exp_df len: 1, cheap_df len: 1\n",
            "\n",
            "(1, 0)\n",
            "\n",
            "Reshaping with NaNs to accomodate for less # of products in category: Fun\n",
            "[[nan nan nan nan nan nan nan nan nan nan nan nan]]\n",
            "\n",
            "(1, 0)\n",
            "\n",
            "Reshaping with NaNs to accomodate for less # of products in category: Fun\n",
            "[[nan nan nan nan nan nan nan nan nan nan nan nan]]\n"
          ]
        },
        {
          "output_type": "stream",
          "name": "stderr",
          "text": [
            "\r 22%|██▏       | 4/18 [00:11<00:22,  1.62s/it]"
          ]
        },
        {
          "output_type": "stream",
          "name": "stdout",
          "text": [
            "Furniture\n",
            "105542\n",
            "13\n"
          ]
        },
        {
          "output_type": "stream",
          "name": "stderr",
          "text": [
            "\n",
            "100%|██████████| 13/13 [00:00<00:00, 21093.21it/s]\n",
            "/usr/local/lib/python3.7/dist-packages/ipykernel_launcher.py:18: SettingWithCopyWarning: \n",
            "A value is trying to be set on a copy of a slice from a DataFrame.\n",
            "Try using .loc[row_indexer,col_indexer] = value instead\n",
            "\n",
            "See the caveats in the documentation: https://pandas.pydata.org/pandas-docs/stable/user_guide/indexing.html#returning-a-view-versus-a-copy\n",
            "\n",
            "100%|██████████| 13/13 [00:00<00:00, 20915.21it/s]\n",
            "/usr/local/lib/python3.7/dist-packages/ipykernel_launcher.py:19: SettingWithCopyWarning: \n",
            "A value is trying to be set on a copy of a slice from a DataFrame.\n",
            "Try using .loc[row_indexer,col_indexer] = value instead\n",
            "\n",
            "See the caveats in the documentation: https://pandas.pydata.org/pandas-docs/stable/user_guide/indexing.html#returning-a-view-versus-a-copy\n"
          ]
        },
        {
          "output_type": "stream",
          "name": "stdout",
          "text": [
            "\n",
            "\n",
            "exp_df len: 1, cheap_df len: 12\n",
            "\n",
            "(1, 0)\n",
            "\n",
            "Reshaping with NaNs to accomodate for less # of products in category: Furniture\n",
            "[[nan nan nan nan nan nan nan nan nan nan nan nan]]\n",
            "\n",
            "(12, 0)\n",
            "\n",
            "Reshaping with NaNs to accomodate for less # of products in category: Furniture\n",
            "[[nan nan nan nan nan nan nan nan nan nan nan nan]\n",
            " [nan nan nan nan nan nan nan nan nan nan nan nan]\n",
            " [nan nan nan nan nan nan nan nan nan nan nan nan]\n",
            " [nan nan nan nan nan nan nan nan nan nan nan nan]\n",
            " [nan nan nan nan nan nan nan nan nan nan nan nan]\n",
            " [nan nan nan nan nan nan nan nan nan nan nan nan]\n",
            " [nan nan nan nan nan nan nan nan nan nan nan nan]\n",
            " [nan nan nan nan nan nan nan nan nan nan nan nan]\n",
            " [nan nan nan nan nan nan nan nan nan nan nan nan]\n",
            " [nan nan nan nan nan nan nan nan nan nan nan nan]\n",
            " [nan nan nan nan nan nan nan nan nan nan nan nan]\n",
            " [nan nan nan nan nan nan nan nan nan nan nan nan]]\n"
          ]
        },
        {
          "output_type": "stream",
          "name": "stderr",
          "text": [
            "\r 28%|██▊       | 5/18 [00:11<00:14,  1.13s/it]"
          ]
        },
        {
          "output_type": "stream",
          "name": "stdout",
          "text": [
            "Garment Full body\n",
            "105542\n",
            "13292\n"
          ]
        },
        {
          "output_type": "stream",
          "name": "stderr",
          "text": [
            "\n",
            "100%|██████████| 13292/13292 [00:00<00:00, 528994.11it/s]\n",
            "/usr/local/lib/python3.7/dist-packages/ipykernel_launcher.py:18: SettingWithCopyWarning: \n",
            "A value is trying to be set on a copy of a slice from a DataFrame.\n",
            "Try using .loc[row_indexer,col_indexer] = value instead\n",
            "\n",
            "See the caveats in the documentation: https://pandas.pydata.org/pandas-docs/stable/user_guide/indexing.html#returning-a-view-versus-a-copy\n",
            "\n",
            "100%|██████████| 13292/13292 [00:00<00:00, 473929.43it/s]\n",
            "/usr/local/lib/python3.7/dist-packages/ipykernel_launcher.py:19: SettingWithCopyWarning: \n",
            "A value is trying to be set on a copy of a slice from a DataFrame.\n",
            "Try using .loc[row_indexer,col_indexer] = value instead\n",
            "\n",
            "See the caveats in the documentation: https://pandas.pydata.org/pandas-docs/stable/user_guide/indexing.html#returning-a-view-versus-a-copy\n"
          ]
        },
        {
          "output_type": "stream",
          "name": "stdout",
          "text": [
            "\n",
            "\n",
            "exp_df len: 941, cheap_df len: 12156\n",
            "\n",
            "(941, 12)\n",
            "\n",
            "(12156, 12)\n"
          ]
        },
        {
          "output_type": "stream",
          "name": "stderr",
          "text": [
            "\r 33%|███▎      | 6/18 [00:24<01:02,  5.21s/it]"
          ]
        },
        {
          "output_type": "stream",
          "name": "stdout",
          "text": [
            "Garment Lower body\n",
            "105542\n",
            "19812\n"
          ]
        },
        {
          "output_type": "stream",
          "name": "stderr",
          "text": [
            "\n",
            "100%|██████████| 19812/19812 [00:00<00:00, 550632.16it/s]\n",
            "/usr/local/lib/python3.7/dist-packages/ipykernel_launcher.py:18: SettingWithCopyWarning: \n",
            "A value is trying to be set on a copy of a slice from a DataFrame.\n",
            "Try using .loc[row_indexer,col_indexer] = value instead\n",
            "\n",
            "See the caveats in the documentation: https://pandas.pydata.org/pandas-docs/stable/user_guide/indexing.html#returning-a-view-versus-a-copy\n",
            "\n",
            "100%|██████████| 19812/19812 [00:00<00:00, 474198.24it/s]\n",
            "/usr/local/lib/python3.7/dist-packages/ipykernel_launcher.py:19: SettingWithCopyWarning: \n",
            "A value is trying to be set on a copy of a slice from a DataFrame.\n",
            "Try using .loc[row_indexer,col_indexer] = value instead\n",
            "\n",
            "See the caveats in the documentation: https://pandas.pydata.org/pandas-docs/stable/user_guide/indexing.html#returning-a-view-versus-a-copy\n"
          ]
        },
        {
          "output_type": "stream",
          "name": "stdout",
          "text": [
            "\n",
            "\n",
            "exp_df len: 1663, cheap_df len: 17908\n",
            "\n",
            "(1663, 12)\n",
            "\n",
            "(17908, 12)\n"
          ]
        },
        {
          "output_type": "stream",
          "name": "stderr",
          "text": [
            "\r 39%|███▉      | 7/18 [00:46<01:58, 10.75s/it]"
          ]
        },
        {
          "output_type": "stream",
          "name": "stdout",
          "text": [
            "Garment and Shoe care\n",
            "105542\n",
            "9\n"
          ]
        },
        {
          "output_type": "stream",
          "name": "stderr",
          "text": [
            "\n",
            "100%|██████████| 9/9 [00:00<00:00, 17034.63it/s]\n",
            "/usr/local/lib/python3.7/dist-packages/ipykernel_launcher.py:18: SettingWithCopyWarning: \n",
            "A value is trying to be set on a copy of a slice from a DataFrame.\n",
            "Try using .loc[row_indexer,col_indexer] = value instead\n",
            "\n",
            "See the caveats in the documentation: https://pandas.pydata.org/pandas-docs/stable/user_guide/indexing.html#returning-a-view-versus-a-copy\n",
            "\n",
            "100%|██████████| 9/9 [00:00<00:00, 16762.32it/s]\n",
            "/usr/local/lib/python3.7/dist-packages/ipykernel_launcher.py:19: SettingWithCopyWarning: \n",
            "A value is trying to be set on a copy of a slice from a DataFrame.\n",
            "Try using .loc[row_indexer,col_indexer] = value instead\n",
            "\n",
            "See the caveats in the documentation: https://pandas.pydata.org/pandas-docs/stable/user_guide/indexing.html#returning-a-view-versus-a-copy\n",
            " 44%|████▍     | 8/18 [00:47<01:14,  7.46s/it]"
          ]
        },
        {
          "output_type": "stream",
          "name": "stdout",
          "text": [
            "\n",
            "\n",
            "exp_df len: 2, cheap_df len: 7\n",
            "\n",
            "(2, 1)\n",
            "\n",
            "Reshaping with NaNs to accomodate for less # of products in category: Garment and Shoe care\n",
            "[[ 1. nan nan nan nan nan nan nan nan nan nan nan]\n",
            " [ 0. nan nan nan nan nan nan nan nan nan nan nan]]\n",
            "\n",
            "(7, 1)\n",
            "\n",
            "Reshaping with NaNs to accomodate for less # of products in category: Garment and Shoe care\n",
            "[[ 1. nan nan nan nan nan nan nan nan nan nan nan]\n",
            " [ 0. nan nan nan nan nan nan nan nan nan nan nan]\n",
            " [ 6. nan nan nan nan nan nan nan nan nan nan nan]\n",
            " [ 4. nan nan nan nan nan nan nan nan nan nan nan]\n",
            " [ 3. nan nan nan nan nan nan nan nan nan nan nan]\n",
            " [ 4. nan nan nan nan nan nan nan nan nan nan nan]\n",
            " [ 4. nan nan nan nan nan nan nan nan nan nan nan]]\n",
            "Interior textile\n",
            "105542\n",
            "3\n"
          ]
        },
        {
          "output_type": "stream",
          "name": "stderr",
          "text": [
            "\n",
            "100%|██████████| 3/3 [00:00<00:00, 4655.17it/s]\n",
            "/usr/local/lib/python3.7/dist-packages/ipykernel_launcher.py:18: SettingWithCopyWarning: \n",
            "A value is trying to be set on a copy of a slice from a DataFrame.\n",
            "Try using .loc[row_indexer,col_indexer] = value instead\n",
            "\n",
            "See the caveats in the documentation: https://pandas.pydata.org/pandas-docs/stable/user_guide/indexing.html#returning-a-view-versus-a-copy\n",
            "\n",
            "100%|██████████| 3/3 [00:00<00:00, 4602.38it/s]"
          ]
        },
        {
          "output_type": "stream",
          "name": "stdout",
          "text": [
            "\n",
            "\n",
            "exp_df len: 2, cheap_df len: 1\n",
            "\n",
            "(2, 0)\n",
            "\n",
            "Reshaping with NaNs to accomodate for less # of products in category: Interior textile\n",
            "[[nan nan nan nan nan nan nan nan nan nan nan nan]\n",
            " [nan nan nan nan nan nan nan nan nan nan nan nan]]\n",
            "\n",
            "(1, 0)\n",
            "\n",
            "Reshaping with NaNs to accomodate for less # of products in category: Interior textile\n",
            "[[nan nan nan nan nan nan nan nan nan nan nan nan]]\n"
          ]
        },
        {
          "output_type": "stream",
          "name": "stderr",
          "text": [
            "\n",
            "/usr/local/lib/python3.7/dist-packages/ipykernel_launcher.py:19: SettingWithCopyWarning: \n",
            "A value is trying to be set on a copy of a slice from a DataFrame.\n",
            "Try using .loc[row_indexer,col_indexer] = value instead\n",
            "\n",
            "See the caveats in the documentation: https://pandas.pydata.org/pandas-docs/stable/user_guide/indexing.html#returning-a-view-versus-a-copy\n",
            " 50%|█████     | 9/18 [00:47<00:46,  5.20s/it]"
          ]
        },
        {
          "output_type": "stream",
          "name": "stdout",
          "text": [
            "Items\n",
            "105542\n",
            "17\n"
          ]
        },
        {
          "output_type": "stream",
          "name": "stderr",
          "text": [
            "\n",
            "100%|██████████| 17/17 [00:00<00:00, 26457.58it/s]\n",
            "/usr/local/lib/python3.7/dist-packages/ipykernel_launcher.py:18: SettingWithCopyWarning: \n",
            "A value is trying to be set on a copy of a slice from a DataFrame.\n",
            "Try using .loc[row_indexer,col_indexer] = value instead\n",
            "\n",
            "See the caveats in the documentation: https://pandas.pydata.org/pandas-docs/stable/user_guide/indexing.html#returning-a-view-versus-a-copy\n",
            "\n",
            "100%|██████████| 17/17 [00:00<00:00, 37927.22it/s]\n",
            "/usr/local/lib/python3.7/dist-packages/ipykernel_launcher.py:19: SettingWithCopyWarning: \n",
            "A value is trying to be set on a copy of a slice from a DataFrame.\n",
            "Try using .loc[row_indexer,col_indexer] = value instead\n",
            "\n",
            "See the caveats in the documentation: https://pandas.pydata.org/pandas-docs/stable/user_guide/indexing.html#returning-a-view-versus-a-copy\n"
          ]
        },
        {
          "output_type": "stream",
          "name": "stdout",
          "text": [
            "\n",
            "\n",
            "exp_df len: 3, cheap_df len: 12\n",
            "\n",
            "(3, 2)\n",
            "\n",
            "Reshaping with NaNs to accomodate for less # of products in category: Items\n",
            "[[ 2.  1. nan nan nan nan nan nan nan nan nan nan]\n",
            " [ 0.  2. nan nan nan nan nan nan nan nan nan nan]\n",
            " [ 0.  1. nan nan nan nan nan nan nan nan nan nan]]\n",
            "\n",
            "(12, 2)\n",
            "\n",
            "Reshaping with NaNs to accomodate for less # of products in category: Items\n",
            "[[ 9.  1. nan nan nan nan nan nan nan nan nan nan]\n",
            " [11.  0. nan nan nan nan nan nan nan nan nan nan]\n",
            " [ 5.  6. nan nan nan nan nan nan nan nan nan nan]\n",
            " [ 0. 10. nan nan nan nan nan nan nan nan nan nan]\n",
            " [10.  5. nan nan nan nan nan nan nan nan nan nan]\n",
            " [10.  4. nan nan nan nan nan nan nan nan nan nan]\n",
            " [ 7.  8. nan nan nan nan nan nan nan nan nan nan]\n",
            " [ 6.  8. nan nan nan nan nan nan nan nan nan nan]\n",
            " [ 6.  7. nan nan nan nan nan nan nan nan nan nan]\n",
            " [10. 11. nan nan nan nan nan nan nan nan nan nan]\n",
            " [ 4.  9. nan nan nan nan nan nan nan nan nan nan]\n",
            " [ 6.  9. nan nan nan nan nan nan nan nan nan nan]]\n"
          ]
        },
        {
          "output_type": "stream",
          "name": "stderr",
          "text": [
            "\r 56%|█████▌    | 10/18 [00:47<00:29,  3.67s/it]"
          ]
        },
        {
          "output_type": "stream",
          "name": "stdout",
          "text": [
            "Nightwear\n",
            "105542\n",
            "1899\n"
          ]
        },
        {
          "output_type": "stream",
          "name": "stderr",
          "text": [
            "\n",
            "100%|██████████| 1899/1899 [00:00<00:00, 372613.37it/s]\n",
            "/usr/local/lib/python3.7/dist-packages/ipykernel_launcher.py:18: SettingWithCopyWarning: \n",
            "A value is trying to be set on a copy of a slice from a DataFrame.\n",
            "Try using .loc[row_indexer,col_indexer] = value instead\n",
            "\n",
            "See the caveats in the documentation: https://pandas.pydata.org/pandas-docs/stable/user_guide/indexing.html#returning-a-view-versus-a-copy\n",
            "\n",
            "100%|██████████| 1899/1899 [00:00<00:00, 290576.17it/s]\n",
            "/usr/local/lib/python3.7/dist-packages/ipykernel_launcher.py:19: SettingWithCopyWarning: \n",
            "A value is trying to be set on a copy of a slice from a DataFrame.\n",
            "Try using .loc[row_indexer,col_indexer] = value instead\n",
            "\n",
            "See the caveats in the documentation: https://pandas.pydata.org/pandas-docs/stable/user_guide/indexing.html#returning-a-view-versus-a-copy\n"
          ]
        },
        {
          "output_type": "stream",
          "name": "stdout",
          "text": [
            "\n",
            "\n",
            "exp_df len: 693, cheap_df len: 1188\n",
            "\n",
            "(693, 12)\n"
          ]
        },
        {
          "output_type": "stream",
          "name": "stderr",
          "text": [
            "\r 61%|██████    | 11/18 [00:48<00:20,  2.96s/it]"
          ]
        },
        {
          "output_type": "stream",
          "name": "stdout",
          "text": [
            "\n",
            "(1188, 12)\n",
            "Shoes\n",
            "105542\n",
            "5283\n"
          ]
        },
        {
          "output_type": "stream",
          "name": "stderr",
          "text": [
            "\n",
            "100%|██████████| 5283/5283 [00:00<00:00, 542582.04it/s]\n",
            "/usr/local/lib/python3.7/dist-packages/ipykernel_launcher.py:18: SettingWithCopyWarning: \n",
            "A value is trying to be set on a copy of a slice from a DataFrame.\n",
            "Try using .loc[row_indexer,col_indexer] = value instead\n",
            "\n",
            "See the caveats in the documentation: https://pandas.pydata.org/pandas-docs/stable/user_guide/indexing.html#returning-a-view-versus-a-copy\n",
            "\n",
            "100%|██████████| 5283/5283 [00:00<00:00, 514883.08it/s]\n",
            "/usr/local/lib/python3.7/dist-packages/ipykernel_launcher.py:19: SettingWithCopyWarning: \n",
            "A value is trying to be set on a copy of a slice from a DataFrame.\n",
            "Try using .loc[row_indexer,col_indexer] = value instead\n",
            "\n",
            "See the caveats in the documentation: https://pandas.pydata.org/pandas-docs/stable/user_guide/indexing.html#returning-a-view-versus-a-copy\n"
          ]
        },
        {
          "output_type": "stream",
          "name": "stdout",
          "text": [
            "\n",
            "\n",
            "exp_df len: 915, cheap_df len: 4110\n",
            "\n",
            "(915, 12)\n",
            "\n",
            "(4110, 12)\n"
          ]
        },
        {
          "output_type": "stream",
          "name": "stderr",
          "text": [
            "\r 67%|██████▋   | 12/18 [00:52<00:19,  3.17s/it]"
          ]
        },
        {
          "output_type": "stream",
          "name": "stdout",
          "text": [
            "Socks & Tights\n",
            "105542\n",
            "2442\n"
          ]
        },
        {
          "output_type": "stream",
          "name": "stderr",
          "text": [
            "\n",
            "100%|██████████| 2442/2442 [00:00<00:00, 288821.88it/s]\n",
            "/usr/local/lib/python3.7/dist-packages/ipykernel_launcher.py:18: SettingWithCopyWarning: \n",
            "A value is trying to be set on a copy of a slice from a DataFrame.\n",
            "Try using .loc[row_indexer,col_indexer] = value instead\n",
            "\n",
            "See the caveats in the documentation: https://pandas.pydata.org/pandas-docs/stable/user_guide/indexing.html#returning-a-view-versus-a-copy\n",
            "\n",
            "100%|██████████| 2442/2442 [00:00<00:00, 457049.99it/s]\n",
            "/usr/local/lib/python3.7/dist-packages/ipykernel_launcher.py:19: SettingWithCopyWarning: \n",
            "A value is trying to be set on a copy of a slice from a DataFrame.\n",
            "Try using .loc[row_indexer,col_indexer] = value instead\n",
            "\n",
            "See the caveats in the documentation: https://pandas.pydata.org/pandas-docs/stable/user_guide/indexing.html#returning-a-view-versus-a-copy\n"
          ]
        },
        {
          "output_type": "stream",
          "name": "stdout",
          "text": [
            "\n",
            "\n",
            "exp_df len: 1241, cheap_df len: 1164\n",
            "\n",
            "(1241, 12)\n",
            "\n",
            "(1164, 12)\n"
          ]
        },
        {
          "output_type": "stream",
          "name": "stderr",
          "text": [
            "\r 72%|███████▏  | 13/18 [00:54<00:13,  2.70s/it]"
          ]
        },
        {
          "output_type": "stream",
          "name": "stdout",
          "text": [
            "Stationery\n",
            "105542\n",
            "5\n"
          ]
        },
        {
          "output_type": "stream",
          "name": "stderr",
          "text": [
            "\n",
            "100%|██████████| 5/5 [00:00<00:00, 5469.88it/s]\n",
            "/usr/local/lib/python3.7/dist-packages/ipykernel_launcher.py:18: SettingWithCopyWarning: \n",
            "A value is trying to be set on a copy of a slice from a DataFrame.\n",
            "Try using .loc[row_indexer,col_indexer] = value instead\n",
            "\n",
            "See the caveats in the documentation: https://pandas.pydata.org/pandas-docs/stable/user_guide/indexing.html#returning-a-view-versus-a-copy\n",
            "\n",
            "100%|██████████| 5/5 [00:00<00:00, 8848.74it/s]\n",
            "/usr/local/lib/python3.7/dist-packages/ipykernel_launcher.py:19: SettingWithCopyWarning: \n",
            "A value is trying to be set on a copy of a slice from a DataFrame.\n",
            "Try using .loc[row_indexer,col_indexer] = value instead\n",
            "\n",
            "See the caveats in the documentation: https://pandas.pydata.org/pandas-docs/stable/user_guide/indexing.html#returning-a-view-versus-a-copy\n"
          ]
        },
        {
          "output_type": "stream",
          "name": "stdout",
          "text": [
            "\n",
            "\n",
            "exp_df len: 4, cheap_df len: 1\n",
            "\n",
            "(4, 0)\n",
            "\n",
            "Reshaping with NaNs to accomodate for less # of products in category: Stationery\n",
            "[[nan nan nan nan nan nan nan nan nan nan nan nan]\n",
            " [nan nan nan nan nan nan nan nan nan nan nan nan]\n",
            " [nan nan nan nan nan nan nan nan nan nan nan nan]\n",
            " [nan nan nan nan nan nan nan nan nan nan nan nan]]\n",
            "\n",
            "(1, 0)\n",
            "\n",
            "Reshaping with NaNs to accomodate for less # of products in category: Stationery\n",
            "[[nan nan nan nan nan nan nan nan nan nan nan nan]]\n"
          ]
        },
        {
          "output_type": "stream",
          "name": "stderr",
          "text": [
            "\r 78%|███████▊  | 14/18 [00:54<00:07,  1.96s/it]"
          ]
        },
        {
          "output_type": "stream",
          "name": "stdout",
          "text": [
            "Swimwear\n",
            "105542\n",
            "3127\n"
          ]
        },
        {
          "output_type": "stream",
          "name": "stderr",
          "text": [
            "\n",
            "100%|██████████| 3127/3127 [00:00<00:00, 439825.24it/s]\n",
            "/usr/local/lib/python3.7/dist-packages/ipykernel_launcher.py:18: SettingWithCopyWarning: \n",
            "A value is trying to be set on a copy of a slice from a DataFrame.\n",
            "Try using .loc[row_indexer,col_indexer] = value instead\n",
            "\n",
            "See the caveats in the documentation: https://pandas.pydata.org/pandas-docs/stable/user_guide/indexing.html#returning-a-view-versus-a-copy\n",
            "\n",
            "100%|██████████| 3127/3127 [00:00<00:00, 466813.38it/s]\n",
            "/usr/local/lib/python3.7/dist-packages/ipykernel_launcher.py:19: SettingWithCopyWarning: \n",
            "A value is trying to be set on a copy of a slice from a DataFrame.\n",
            "Try using .loc[row_indexer,col_indexer] = value instead\n",
            "\n",
            "See the caveats in the documentation: https://pandas.pydata.org/pandas-docs/stable/user_guide/indexing.html#returning-a-view-versus-a-copy\n"
          ]
        },
        {
          "output_type": "stream",
          "name": "stdout",
          "text": [
            "\n",
            "\n",
            "exp_df len: 628, cheap_df len: 2474\n",
            "\n",
            "(628, 12)\n",
            "\n",
            "(2474, 12)\n"
          ]
        },
        {
          "output_type": "stream",
          "name": "stderr",
          "text": [
            "\r 83%|████████▎ | 15/18 [00:56<00:06,  2.02s/it]"
          ]
        },
        {
          "output_type": "stream",
          "name": "stdout",
          "text": [
            "Underwear\n",
            "105542\n",
            "5490\n"
          ]
        },
        {
          "output_type": "stream",
          "name": "stderr",
          "text": [
            "\n",
            "100%|██████████| 5490/5490 [00:00<00:00, 385023.73it/s]\n",
            "/usr/local/lib/python3.7/dist-packages/ipykernel_launcher.py:18: SettingWithCopyWarning: \n",
            "A value is trying to be set on a copy of a slice from a DataFrame.\n",
            "Try using .loc[row_indexer,col_indexer] = value instead\n",
            "\n",
            "See the caveats in the documentation: https://pandas.pydata.org/pandas-docs/stable/user_guide/indexing.html#returning-a-view-versus-a-copy\n",
            "\n",
            "100%|██████████| 5490/5490 [00:00<00:00, 390985.99it/s]\n",
            "/usr/local/lib/python3.7/dist-packages/ipykernel_launcher.py:19: SettingWithCopyWarning: \n",
            "A value is trying to be set on a copy of a slice from a DataFrame.\n",
            "Try using .loc[row_indexer,col_indexer] = value instead\n",
            "\n",
            "See the caveats in the documentation: https://pandas.pydata.org/pandas-docs/stable/user_guide/indexing.html#returning-a-view-versus-a-copy\n"
          ]
        },
        {
          "output_type": "stream",
          "name": "stdout",
          "text": [
            "\n",
            "\n",
            "exp_df len: 1940, cheap_df len: 3439\n",
            "\n",
            "(1940, 12)\n",
            "\n",
            "(3439, 12)\n"
          ]
        },
        {
          "output_type": "stream",
          "name": "stderr",
          "text": [
            "\r 89%|████████▉ | 16/18 [01:00<00:05,  2.51s/it]"
          ]
        },
        {
          "output_type": "stream",
          "name": "stdout",
          "text": [
            "Underwear/nightwear\n",
            "105542\n",
            "54\n"
          ]
        },
        {
          "output_type": "stream",
          "name": "stderr",
          "text": [
            "\n",
            "100%|██████████| 54/54 [00:00<00:00, 68426.71it/s]\n",
            "/usr/local/lib/python3.7/dist-packages/ipykernel_launcher.py:18: SettingWithCopyWarning: \n",
            "A value is trying to be set on a copy of a slice from a DataFrame.\n",
            "Try using .loc[row_indexer,col_indexer] = value instead\n",
            "\n",
            "See the caveats in the documentation: https://pandas.pydata.org/pandas-docs/stable/user_guide/indexing.html#returning-a-view-versus-a-copy\n",
            "\n",
            "100%|██████████| 54/54 [00:00<00:00, 74041.33it/s]\n",
            "/usr/local/lib/python3.7/dist-packages/ipykernel_launcher.py:19: SettingWithCopyWarning: \n",
            "A value is trying to be set on a copy of a slice from a DataFrame.\n",
            "Try using .loc[row_indexer,col_indexer] = value instead\n",
            "\n",
            "See the caveats in the documentation: https://pandas.pydata.org/pandas-docs/stable/user_guide/indexing.html#returning-a-view-versus-a-copy\n"
          ]
        },
        {
          "output_type": "stream",
          "name": "stdout",
          "text": [
            "\n",
            "\n",
            "exp_df len: 41, cheap_df len: 12\n",
            "\n",
            "(41, 11)\n",
            "\n",
            "Reshaping with NaNs to accomodate for less # of products in category: Underwear/nightwear\n",
            "[[ 4. 13. 17. 28. 29. 10. 40. 23. 15.  7. 39. nan]\n",
            " [34. 16.  7. 35. 21. 10. 32.  2. 38.  5. 25. nan]\n",
            " [ 5. 29. 10.  4. 25. 18.  9.  7. 26. 12. 33. nan]\n",
            " [ 4. 13. 36. 10. 40. 28. 18. 23. 24.  2. 27. nan]\n",
            " [ 0. 26. 23. 16. 33. 29. 10. 36.  7.  2. 12. nan]\n",
            " [25. 16.  4. 10. 14.  9. 36. 29.  2. 39. 20. nan]\n",
            " [40. 17. 31. 32. 19. 16. 13. 10.  8. 23. 24. nan]\n",
            " [32. 12. 10. 16. 40. 33. 26. 23.  4.  2.  0. nan]\n",
            " [24.  0. 31. 19. 17. 16. 35. 15.  6. 39. 40. nan]\n",
            " [30.  7. 18. 21. 15. 10. 14.  5. 25.  2. 20. nan]\n",
            " [ 9.  4.  7. 40. 26. 30. 33. 21. 23.  2. 15. nan]\n",
            " [26. 30. 16. 32. 40. 31. 24.  7. 22.  2. 23. nan]\n",
            " [ 0. 29. 26. 33. 10.  7. 36. 27.  4.  2. 23. nan]\n",
            " [10. 21. 33.  0. 29. 27. 36.  6. 23. 17. 19. nan]\n",
            " [30. 25. 10. 28. 20. 18.  9. 22.  5.  2. 23. nan]\n",
            " [18. 22. 40. 28. 10.  9.  8.  7.  2. 39.  0. nan]\n",
            " [23. 34. 29. 17. 33. 31. 10.  7. 19.  6. 40. nan]\n",
            " [29. 39. 10. 36. 40. 23. 19. 16. 13.  6.  0. nan]\n",
            " [20. 25. 22. 32. 14.  9.  7.  5.  3.  2. 40. nan]\n",
            " [23. 31.  8. 27. 40. 32. 13. 16.  6. 17. 24. nan]\n",
            " [ 0. 14. 17. 40. 23.  9.  7.  5.  4.  2. 39. nan]\n",
            " [ 5.  0. 30. 29. 13. 10.  9.  7. 23.  2. 33. nan]\n",
            " [ 8. 39. 15.  2.  7. 28. 30. 11. 14. 18. 40. nan]\n",
            " [13. 17. 20.  7. 33. 28.  4. 29. 40. 10.  0. nan]\n",
            " [21. 23.  8. 32. 31.  6.  3. 37. 19.  2. 16. nan]\n",
            " [ 0. 21. 15. 14. 10.  9.  7. 18.  5.  2.  1. nan]\n",
            " [27. 40. 12. 23. 10.  7. 36. 29.  4.  2. 33. nan]\n",
            " [ 5. 23. 19. 26. 33. 29. 13. 36.  4.  3. 12. nan]\n",
            " [10. 16. 13. 22. 33.  7. 15. 23.  3.  2.  0. nan]\n",
            " [13.  0. 12. 33. 10.  7. 36. 26.  4.  2. 23. nan]\n",
            " [17. 13. 33. 16. 22.  9. 23. 10. 29. 21. 40. nan]\n",
            " [17. 16. 32.  7. 34.  8. 24. 11. 38. 19.  6. nan]\n",
            " [ 2. 33. 16. 24. 10. 34. 19. 38.  7. 37. 31. nan]\n",
            " [16. 27. 23. 29. 26. 10. 36.  7.  4.  2. 12. nan]\n",
            " [19.  1.  8. 40. 32. 31. 16. 37. 38.  2.  7. nan]\n",
            " [ 1. 21. 20. 10. 40. 23.  8.  7.  2. 39.  0. nan]\n",
            " [16. 23. 17.  5. 26. 13. 33. 12. 29.  4. 27. nan]\n",
            " [15. 23. 38. 39. 10. 40.  2. 24.  7. 32. 34. nan]\n",
            " [21. 20.  5. 32.  7. 34. 35.  2. 37.  1. 31. nan]\n",
            " [ 2. 15. 35. 10. 17.  5. 40. 23.  7.  0. 20. nan]\n",
            " [ 4. 33. 17.  8.  0. 30. 23. 16. 10.  7. 39. nan]]\n",
            "\n",
            "(12, 11)\n",
            "\n",
            "Reshaping with NaNs to accomodate for less # of products in category: Underwear/nightwear\n",
            "[[ 7.  1.  2.  3.  4.  5.  6.  8.  9. 10. 11. nan]\n",
            " [ 7.  2.  3.  4.  5.  6.  0.  8.  9. 10. 11. nan]\n",
            " [ 7.  1.  3.  4.  5.  6.  0.  8.  9. 10. 11. nan]\n",
            " [ 7.  1.  2.  4.  5.  6.  0.  8.  9. 10. 11. nan]\n",
            " [ 8.  1.  2.  3.  5.  6.  7.  0.  9. 10. 11. nan]\n",
            " [ 7.  1.  2.  3.  4.  6.  0.  8.  9. 10. 11. nan]\n",
            " [11.  1.  2.  3.  4.  5.  7.  8.  9. 10.  0. nan]\n",
            " [ 0.  1.  2.  3.  4.  5.  6.  8.  9. 10. 11. nan]\n",
            " [ 7.  1.  2.  3.  4.  5.  6.  0.  9. 10. 11. nan]\n",
            " [ 7.  1.  2.  3.  4.  5.  6.  0.  8. 10. 11. nan]\n",
            " [ 5.  1.  2.  3.  4.  0.  6.  7.  8.  9. 11. nan]\n",
            " [ 7.  1.  2.  3.  4.  5.  6.  0.  8.  9. 10. nan]]\n"
          ]
        },
        {
          "output_type": "stream",
          "name": "stderr",
          "text": [
            "\r 94%|█████████▍| 17/18 [01:00<00:01,  1.84s/it]"
          ]
        },
        {
          "output_type": "stream",
          "name": "stdout",
          "text": [
            "Unknown\n",
            "105542\n",
            "121\n"
          ]
        },
        {
          "output_type": "stream",
          "name": "stderr",
          "text": [
            "\n",
            "100%|██████████| 121/121 [00:00<00:00, 132960.65it/s]\n",
            "/usr/local/lib/python3.7/dist-packages/ipykernel_launcher.py:18: SettingWithCopyWarning: \n",
            "A value is trying to be set on a copy of a slice from a DataFrame.\n",
            "Try using .loc[row_indexer,col_indexer] = value instead\n",
            "\n",
            "See the caveats in the documentation: https://pandas.pydata.org/pandas-docs/stable/user_guide/indexing.html#returning-a-view-versus-a-copy\n",
            "\n",
            "100%|██████████| 121/121 [00:00<00:00, 128908.00it/s]\n",
            "/usr/local/lib/python3.7/dist-packages/ipykernel_launcher.py:19: SettingWithCopyWarning: \n",
            "A value is trying to be set on a copy of a slice from a DataFrame.\n",
            "Try using .loc[row_indexer,col_indexer] = value instead\n",
            "\n",
            "See the caveats in the documentation: https://pandas.pydata.org/pandas-docs/stable/user_guide/indexing.html#returning-a-view-versus-a-copy\n"
          ]
        },
        {
          "output_type": "stream",
          "name": "stdout",
          "text": [
            "\n",
            "\n",
            "exp_df len: 15, cheap_df len: 98\n",
            "\n",
            "(15, 12)\n",
            "\n",
            "(98, 12)\n"
          ]
        },
        {
          "output_type": "stream",
          "name": "stderr",
          "text": [
            "100%|██████████| 18/18 [01:00<00:00,  3.38s/it]"
          ]
        },
        {
          "output_type": "stream",
          "name": "stdout",
          "text": [
            "time: 1min (started: 2022-05-04 10:02:29 +00:00)\n"
          ]
        },
        {
          "output_type": "stream",
          "name": "stderr",
          "text": [
            "\n"
          ]
        }
      ]
    },
    {
      "cell_type": "code",
      "source": [
        "# special handling for garment_upper_body\n",
        "garment_upper_body = articles_with_prices[articles_with_prices['product_group_name'] == \"Garment Upper body\"].groupby(['product_type_name']).count()['article_id']\n",
        "garment_upper_body_type_wise_item_count  = garment_upper_body.to_dict()\n",
        "garment_upper_body_list = list(garment_upper_body.keys())"
      ],
      "metadata": {
        "colab": {
          "base_uri": "https://localhost:8080/",
          "height": 35
        },
        "id": "LwBwWaFXgIss",
        "outputId": "358ce59a-1c4e-43a5-bd3a-e9bb8f357c7d"
      },
      "execution_count": null,
      "outputs": [
        {
          "output_type": "display_data",
          "data": {
            "text/plain": [
              "<IPython.core.display.HTML object>"
            ],
            "text/html": [
              "\n",
              "  <style>\n",
              "    pre {\n",
              "        white-space: pre-wrap;\n",
              "    }\n",
              "  </style>\n",
              "  "
            ]
          },
          "metadata": {}
        },
        {
          "output_type": "stream",
          "name": "stdout",
          "text": [
            "time: 34.9 ms (started: 2022-05-04 10:03:30 +00:00)\n"
          ]
        }
      ]
    },
    {
      "cell_type": "code",
      "source": [
        "# Everything combined for an item\n",
        "import gc\n",
        "\n",
        "# article_df_new = article_df.copy()\n",
        "\n",
        "for item_type in tqdm(garment_upper_body_list):\n",
        "  #1. Create a subset of the df for a product type\n",
        "  print(item_type)\n",
        "  # article_sample = article_df[article_df['product_group_name'] == item_group]\n",
        "  print(len(articles_with_prices))\n",
        "  article_sample = articles_with_prices[articles_with_prices['product_type_name'] == item_type]\n",
        "  print(len(article_sample))\n",
        "  #2. Add image embeddings and image file paths for each prod\n",
        "  # skip description similarity for now\n",
        "  # article_sample['desc_emb'] = article_sample['detail_desc'].progress_apply(description_embeddings)\n",
        "  article_sample['img_emb'] = article_sample['article_id'].progress_apply(image_embeddings)\n",
        "  article_sample['img_fp'] = article_sample['article_id'].progress_apply(image_fp)\n",
        "\n",
        "  #3. Remove NaN values from subset df\n",
        "  # We can only compute image similarity for non NaN entries\n",
        "\n",
        "  articles_sample_with_prices_not_na = article_sample.dropna()\n",
        "\n",
        "  df_where_img_embs_not_na = articles_sample_with_prices_not_na[articles_sample_with_prices_not_na['img_emb'].notna()]\n",
        "\n",
        "\n",
        "  # articles_sample_with_prices_not_na = img_embs_not_na_df.dropna()\n",
        "  kmeans = KMeans(n_clusters=2, random_state=0).fit(df_where_img_embs_not_na['price'].values.reshape(-1, 1))\n",
        "  df_where_img_embs_not_na[\"price_cluster\"] = kmeans.labels_\n",
        "\n",
        "  exp_df = df_where_img_embs_not_na[df_where_img_embs_not_na['price_cluster'] == 1]\n",
        "  cheap_df = df_where_img_embs_not_na[df_where_img_embs_not_na['price_cluster'] == 0]\n",
        "  print(f\"\\n\\nexp_df len: {len(exp_df)}, cheap_df len: {len(cheap_df)}\")\n",
        "\n",
        "  for img_embs_not_na_df in [exp_df, cheap_df]:\n",
        "    img_embs = list(img_embs_not_na_df['img_emb'])\n",
        "\n",
        "\n",
        "    # img_embs = list(img_embs_not_na_df['img_emb']) #Create a list to compute cosine sim\n",
        "\n",
        "    #4. compute cosine similarity among all products images in the subset df\n",
        "    cos_sim_img = util.cos_sim(img_embs, img_embs)\n",
        "    # print(\"Cosine-Similarity img:\", cos_sim_img)\n",
        "\n",
        "    #5. Obtain top N similar instances\n",
        "    # num = 13 # includes the item itself so we take 12+1 \n",
        "    num = min(13, len(exp_df), len(cheap_df))\n",
        "    topN_sim_idx = np.argpartition(cos_sim_img, -num, axis=1)[:, -num:]\n",
        "\n",
        "    #6. Add 12 cols for the top 12 most similar products \n",
        "    topN_sim_classes = [[x for x in topN_sim_idx[row] if x != row] for row in range(len(topN_sim_idx))]\n",
        "    topN_sim_classes_arr = np.asarray(topN_sim_classes)\n",
        "    print(f\"\\n{topN_sim_classes_arr.shape}\")\n",
        "    if topN_sim_classes_arr.shape[1] < 12:\n",
        "      nan_col = np.empty((topN_sim_classes_arr.shape[0],12-topN_sim_classes_arr.shape[1]))\n",
        "      nan_col.fill(np.nan)\n",
        "      topN_sim_classes_arr = np.c_[topN_sim_classes_arr,nan_col]\n",
        "      print(f\"\\nReshaping with NaNs to accomodate for less # of products in category: {item_group}\")\n",
        "      print(topN_sim_classes_arr)\n",
        "\n",
        "\n",
        "    img_embs_not_na_df = img_embs_not_na_df.assign(sim_1=topN_sim_classes_arr[:,-1], sim_2=topN_sim_classes_arr[:,-2], sim_3=topN_sim_classes_arr[:,-3], sim_4=topN_sim_classes_arr[:,-4], sim_5=topN_sim_classes_arr[:,-5], sim_6=topN_sim_classes_arr[:,-6], \\\n",
        "                                                  sim_7=topN_sim_classes_arr[:,-7], sim_8=topN_sim_classes_arr[:,-8], sim_9=topN_sim_classes_arr[:,-9], sim_10=topN_sim_classes_arr[:,-10], sim_11=topN_sim_classes_arr[:,-11], sim_12=topN_sim_classes_arr[:,-12])\n",
        "    \n",
        "    try:\n",
        "      # img_embs_not_na_df.assign(sim_1_prod=list(img_embs_not_na_df['article_id'].iloc[img_embs_not_na_df['sim_1']]))\n",
        "      img_embs_not_na_df['sim_1_prod'] = list(img_embs_not_na_df['article_id'].iloc[img_embs_not_na_df['sim_1']])\n",
        "    except:\n",
        "      img_embs_not_na_df['sim_1_prod'] = np.nan\n",
        "    try:\n",
        "      img_embs_not_na_df['sim_2_prod'] = list(img_embs_not_na_df['article_id'].iloc[img_embs_not_na_df['sim_2']])\n",
        "    except:\n",
        "      img_embs_not_na_df['sim_2_prod'] = np.nan\n",
        "    try:\n",
        "      img_embs_not_na_df['sim_3_prod'] = list(img_embs_not_na_df['article_id'].iloc[img_embs_not_na_df['sim_3']])\n",
        "    except:\n",
        "      img_embs_not_na_df['sim_3_prod'] = np.nan\n",
        "    try:\n",
        "      img_embs_not_na_df['sim_4_prod'] = list(img_embs_not_na_df['article_id'].iloc[img_embs_not_na_df['sim_4']])\n",
        "    except:\n",
        "      img_embs_not_na_df['sim_4_prod'] = np.nan\n",
        "    try:\n",
        "      img_embs_not_na_df['sim_5_prod'] = list(img_embs_not_na_df['article_id'].iloc[img_embs_not_na_df['sim_5']])\n",
        "    except:\n",
        "      img_embs_not_na_df['sim_5_prod'] = np.nan\n",
        "    try:\n",
        "      img_embs_not_na_df['sim_6_prod'] = list(img_embs_not_na_df['article_id'].iloc[img_embs_not_na_df['sim_6']])\n",
        "    except:\n",
        "      img_embs_not_na_df['sim_6_prod'] = np.nan\n",
        "    try:\n",
        "      img_embs_not_na_df['sim_7_prod'] = list(img_embs_not_na_df['article_id'].iloc[img_embs_not_na_df['sim_7']])\n",
        "    except:\n",
        "      img_embs_not_na_df['sim_7_prod'] = np.nan\n",
        "    try:\n",
        "      img_embs_not_na_df['sim_8_prod'] = list(img_embs_not_na_df['article_id'].iloc[img_embs_not_na_df['sim_8']])\n",
        "    except:\n",
        "      img_embs_not_na_df['sim_8_prod'] = np.nan\n",
        "    try:\n",
        "      img_embs_not_na_df['sim_9_prod'] = list(img_embs_not_na_df['article_id'].iloc[img_embs_not_na_df['sim_9']])\n",
        "    except:\n",
        "      img_embs_not_na_df['sim_9_prod'] = np.nan\n",
        "    try:\n",
        "      img_embs_not_na_df['sim_10_prod'] = list(img_embs_not_na_df['article_id'].iloc[img_embs_not_na_df['sim_10']])\n",
        "    except:\n",
        "      img_embs_not_na_df['sim_10_prod'] = np.nan\n",
        "    try:\n",
        "      img_embs_not_na_df['sim_11_prod'] = list(img_embs_not_na_df['article_id'].iloc[img_embs_not_na_df['sim_11']])\n",
        "    except:\n",
        "      img_embs_not_na_df['sim_11_prod'] = np.nan\n",
        "    try:\n",
        "      img_embs_not_na_df['sim_12_prod'] = list(img_embs_not_na_df['article_id'].iloc[img_embs_not_na_df['sim_12']])\n",
        "    except:\n",
        "      img_embs_not_na_df['sim_12_prod'] = np.nan\n",
        "\n",
        "    #7. Merge the new 12 cols with original article_df\n",
        "    # article_df = pd.merge(article_df,img_embs_not_na_df[['article_id', 'sim_1_prod', 'sim_2_prod', 'sim_3_prod', 'sim_4_prod', 'sim_5_prod', 'sim_6_prod', 'sim_7_prod', 'sim_8_prod', 'sim_9_prod', 'sim_10_prod', 'sim_11_prod', 'sim_12_prod']],on='article_id', left_index=True, right_index=True, how=\"outer\", suffixes=('', '_y'))\n",
        "    # article_df_new = pd.merge(article_df_new,img_embs_not_na_df[['article_id', 'sim_1_prod', 'sim_2_prod', 'sim_3_prod', 'sim_4_prod', 'sim_5_prod', 'sim_6_prod', 'sim_7_prod', 'sim_8_prod', 'sim_9_prod', 'sim_10_prod', 'sim_11_prod', 'sim_12_prod']],on='article_id', suffixes=('', '_y'))\n",
        "    # article_df_new.drop(article_df_new.filter(regex='_y$').columns.tolist(),axis=1, inplace=True)\n",
        "\n",
        "    # article_df_new = article_df_new.merge(img_embs_not_na_df[['article_id', 'sim_1_prod', 'sim_2_prod', 'sim_3_prod', 'sim_4_prod', 'sim_5_prod', 'sim_6_prod', 'sim_7_prod', 'sim_8_prod', 'sim_9_prod', 'sim_10_prod', 'sim_11_prod', 'sim_12_prod']], left_index=True, right_index=True, how='outer', suffixes=('', '_y'))\n",
        "    # article_df_new.drop(article_df_new.filter(regex='_y$').columns.tolist(),axis=1, inplace=True)\n",
        "    appended_data.append(img_embs_not_na_df[['article_id', 'sim_1_prod', 'sim_2_prod', 'sim_3_prod', 'sim_4_prod', 'sim_5_prod', 'sim_6_prod', 'sim_7_prod', 'sim_8_prod', 'sim_9_prod', 'sim_10_prod', 'sim_11_prod', 'sim_12_prod']])\n",
        "\n",
        "\n",
        "  del img_embs_not_na_df\n",
        "  gc.collect()"
      ],
      "metadata": {
        "colab": {
          "base_uri": "https://localhost:8080/",
          "height": 1000
        },
        "id": "tc_5ffEngJhl",
        "outputId": "e0b1f93b-cb3d-4457-f87c-49d3b6dedac8"
      },
      "execution_count": null,
      "outputs": [
        {
          "output_type": "display_data",
          "data": {
            "text/plain": [
              "<IPython.core.display.HTML object>"
            ],
            "text/html": [
              "\n",
              "  <style>\n",
              "    pre {\n",
              "        white-space: pre-wrap;\n",
              "    }\n",
              "  </style>\n",
              "  "
            ]
          },
          "metadata": {}
        },
        {
          "output_type": "stream",
          "name": "stderr",
          "text": [
            "\r  0%|          | 0/15 [00:00<?, ?it/s]"
          ]
        },
        {
          "output_type": "stream",
          "name": "stdout",
          "text": [
            "Blazer\n",
            "105542\n",
            "1110\n"
          ]
        },
        {
          "output_type": "stream",
          "name": "stderr",
          "text": [
            "\n",
            "100%|██████████| 1110/1110 [00:00<00:00, 312650.42it/s]\n",
            "/usr/local/lib/python3.7/dist-packages/ipykernel_launcher.py:16: SettingWithCopyWarning: \n",
            "A value is trying to be set on a copy of a slice from a DataFrame.\n",
            "Try using .loc[row_indexer,col_indexer] = value instead\n",
            "\n",
            "See the caveats in the documentation: https://pandas.pydata.org/pandas-docs/stable/user_guide/indexing.html#returning-a-view-versus-a-copy\n",
            "  app.launch_new_instance()\n",
            "\n",
            "100%|██████████| 1110/1110 [00:00<00:00, 328721.14it/s]\n",
            "/usr/local/lib/python3.7/dist-packages/ipykernel_launcher.py:17: SettingWithCopyWarning: \n",
            "A value is trying to be set on a copy of a slice from a DataFrame.\n",
            "Try using .loc[row_indexer,col_indexer] = value instead\n",
            "\n",
            "See the caveats in the documentation: https://pandas.pydata.org/pandas-docs/stable/user_guide/indexing.html#returning-a-view-versus-a-copy\n"
          ]
        },
        {
          "output_type": "stream",
          "name": "stdout",
          "text": [
            "\n",
            "\n",
            "exp_df len: 145, cheap_df len: 952\n",
            "\n",
            "(145, 12)\n"
          ]
        },
        {
          "output_type": "stream",
          "name": "stderr",
          "text": [
            "\r  7%|▋         | 1/15 [00:00<00:12,  1.13it/s]"
          ]
        },
        {
          "output_type": "stream",
          "name": "stdout",
          "text": [
            "\n",
            "(952, 12)\n",
            "Blouse\n",
            "105542\n",
            "3979\n"
          ]
        },
        {
          "output_type": "stream",
          "name": "stderr",
          "text": [
            "\n",
            "100%|██████████| 3979/3979 [00:00<00:00, 497011.10it/s]\n",
            "/usr/local/lib/python3.7/dist-packages/ipykernel_launcher.py:16: SettingWithCopyWarning: \n",
            "A value is trying to be set on a copy of a slice from a DataFrame.\n",
            "Try using .loc[row_indexer,col_indexer] = value instead\n",
            "\n",
            "See the caveats in the documentation: https://pandas.pydata.org/pandas-docs/stable/user_guide/indexing.html#returning-a-view-versus-a-copy\n",
            "  app.launch_new_instance()\n",
            "\n",
            "100%|██████████| 3979/3979 [00:00<00:00, 478486.64it/s]\n",
            "/usr/local/lib/python3.7/dist-packages/ipykernel_launcher.py:17: SettingWithCopyWarning: \n",
            "A value is trying to be set on a copy of a slice from a DataFrame.\n",
            "Try using .loc[row_indexer,col_indexer] = value instead\n",
            "\n",
            "See the caveats in the documentation: https://pandas.pydata.org/pandas-docs/stable/user_guide/indexing.html#returning-a-view-versus-a-copy\n"
          ]
        },
        {
          "output_type": "stream",
          "name": "stdout",
          "text": [
            "\n",
            "\n",
            "exp_df len: 281, cheap_df len: 3641\n",
            "\n",
            "(281, 12)\n",
            "\n",
            "(3641, 12)\n"
          ]
        },
        {
          "output_type": "stream",
          "name": "stderr",
          "text": [
            "\r 13%|█▎        | 2/15 [00:03<00:26,  2.04s/it]"
          ]
        },
        {
          "output_type": "stream",
          "name": "stdout",
          "text": [
            "Bodysuit\n",
            "105542\n",
            "913\n"
          ]
        },
        {
          "output_type": "stream",
          "name": "stderr",
          "text": [
            "\n",
            "100%|██████████| 913/913 [00:00<00:00, 385639.43it/s]\n",
            "/usr/local/lib/python3.7/dist-packages/ipykernel_launcher.py:16: SettingWithCopyWarning: \n",
            "A value is trying to be set on a copy of a slice from a DataFrame.\n",
            "Try using .loc[row_indexer,col_indexer] = value instead\n",
            "\n",
            "See the caveats in the documentation: https://pandas.pydata.org/pandas-docs/stable/user_guide/indexing.html#returning-a-view-versus-a-copy\n",
            "  app.launch_new_instance()\n",
            "\n",
            "100%|██████████| 913/913 [00:00<00:00, 351256.61it/s]\n",
            "/usr/local/lib/python3.7/dist-packages/ipykernel_launcher.py:17: SettingWithCopyWarning: \n",
            "A value is trying to be set on a copy of a slice from a DataFrame.\n",
            "Try using .loc[row_indexer,col_indexer] = value instead\n",
            "\n",
            "See the caveats in the documentation: https://pandas.pydata.org/pandas-docs/stable/user_guide/indexing.html#returning-a-view-versus-a-copy\n"
          ]
        },
        {
          "output_type": "stream",
          "name": "stdout",
          "text": [
            "\n",
            "\n",
            "exp_df len: 283, cheap_df len: 618\n",
            "\n",
            "(283, 12)\n"
          ]
        },
        {
          "output_type": "stream",
          "name": "stderr",
          "text": [
            "\r 20%|██        | 3/15 [00:04<00:17,  1.45s/it]"
          ]
        },
        {
          "output_type": "stream",
          "name": "stdout",
          "text": [
            "\n",
            "(618, 12)\n",
            "Cardigan\n",
            "105542\n",
            "1550\n"
          ]
        },
        {
          "output_type": "stream",
          "name": "stderr",
          "text": [
            "\n",
            "100%|██████████| 1550/1550 [00:00<00:00, 351547.68it/s]\n",
            "/usr/local/lib/python3.7/dist-packages/ipykernel_launcher.py:16: SettingWithCopyWarning: \n",
            "A value is trying to be set on a copy of a slice from a DataFrame.\n",
            "Try using .loc[row_indexer,col_indexer] = value instead\n",
            "\n",
            "See the caveats in the documentation: https://pandas.pydata.org/pandas-docs/stable/user_guide/indexing.html#returning-a-view-versus-a-copy\n",
            "  app.launch_new_instance()\n",
            "\n",
            "100%|██████████| 1550/1550 [00:00<00:00, 318653.62it/s]\n",
            "/usr/local/lib/python3.7/dist-packages/ipykernel_launcher.py:17: SettingWithCopyWarning: \n",
            "A value is trying to be set on a copy of a slice from a DataFrame.\n",
            "Try using .loc[row_indexer,col_indexer] = value instead\n",
            "\n",
            "See the caveats in the documentation: https://pandas.pydata.org/pandas-docs/stable/user_guide/indexing.html#returning-a-view-versus-a-copy\n"
          ]
        },
        {
          "output_type": "stream",
          "name": "stdout",
          "text": [
            "\n",
            "\n",
            "exp_df len: 85, cheap_df len: 1427\n",
            "\n",
            "(85, 12)\n"
          ]
        },
        {
          "output_type": "stream",
          "name": "stderr",
          "text": [
            "\r 27%|██▋       | 4/15 [00:05<00:14,  1.33s/it]"
          ]
        },
        {
          "output_type": "stream",
          "name": "stdout",
          "text": [
            "\n",
            "(1427, 12)\n",
            "Coat\n",
            "105542\n",
            "460\n"
          ]
        },
        {
          "output_type": "stream",
          "name": "stderr",
          "text": [
            "\n",
            "100%|██████████| 460/460 [00:00<00:00, 206593.84it/s]\n",
            "/usr/local/lib/python3.7/dist-packages/ipykernel_launcher.py:16: SettingWithCopyWarning: \n",
            "A value is trying to be set on a copy of a slice from a DataFrame.\n",
            "Try using .loc[row_indexer,col_indexer] = value instead\n",
            "\n",
            "See the caveats in the documentation: https://pandas.pydata.org/pandas-docs/stable/user_guide/indexing.html#returning-a-view-versus-a-copy\n",
            "  app.launch_new_instance()\n",
            "\n",
            "100%|██████████| 460/460 [00:00<00:00, 236820.90it/s]\n",
            "/usr/local/lib/python3.7/dist-packages/ipykernel_launcher.py:17: SettingWithCopyWarning: \n",
            "A value is trying to be set on a copy of a slice from a DataFrame.\n",
            "Try using .loc[row_indexer,col_indexer] = value instead\n",
            "\n",
            "See the caveats in the documentation: https://pandas.pydata.org/pandas-docs/stable/user_guide/indexing.html#returning-a-view-versus-a-copy\n"
          ]
        },
        {
          "output_type": "stream",
          "name": "stdout",
          "text": [
            "\n",
            "\n",
            "exp_df len: 122, cheap_df len: 323\n",
            "\n",
            "(122, 12)\n"
          ]
        },
        {
          "output_type": "stream",
          "name": "stderr",
          "text": [
            "\r 33%|███▎      | 5/15 [00:06<00:10,  1.04s/it]"
          ]
        },
        {
          "output_type": "stream",
          "name": "stdout",
          "text": [
            "\n",
            "(323, 12)\n",
            "Hoodie\n",
            "105542\n",
            "2356\n"
          ]
        },
        {
          "output_type": "stream",
          "name": "stderr",
          "text": [
            "\n",
            "100%|██████████| 2356/2356 [00:00<00:00, 442533.82it/s]\n",
            "/usr/local/lib/python3.7/dist-packages/ipykernel_launcher.py:16: SettingWithCopyWarning: \n",
            "A value is trying to be set on a copy of a slice from a DataFrame.\n",
            "Try using .loc[row_indexer,col_indexer] = value instead\n",
            "\n",
            "See the caveats in the documentation: https://pandas.pydata.org/pandas-docs/stable/user_guide/indexing.html#returning-a-view-versus-a-copy\n",
            "  app.launch_new_instance()\n",
            "\n",
            "100%|██████████| 2356/2356 [00:00<00:00, 474196.47it/s]\n",
            "/usr/local/lib/python3.7/dist-packages/ipykernel_launcher.py:17: SettingWithCopyWarning: \n",
            "A value is trying to be set on a copy of a slice from a DataFrame.\n",
            "Try using .loc[row_indexer,col_indexer] = value instead\n",
            "\n",
            "See the caveats in the documentation: https://pandas.pydata.org/pandas-docs/stable/user_guide/indexing.html#returning-a-view-versus-a-copy\n"
          ]
        },
        {
          "output_type": "stream",
          "name": "stdout",
          "text": [
            "\n",
            "\n",
            "exp_df len: 571, cheap_df len: 1756\n",
            "\n",
            "(571, 12)\n",
            "\n",
            "(1756, 12)\n"
          ]
        },
        {
          "output_type": "stream",
          "name": "stderr",
          "text": [
            "\r 40%|████      | 6/15 [00:07<00:11,  1.29s/it]"
          ]
        },
        {
          "output_type": "stream",
          "name": "stdout",
          "text": [
            "Jacket\n",
            "105542\n",
            "3940\n"
          ]
        },
        {
          "output_type": "stream",
          "name": "stderr",
          "text": [
            "\n",
            "100%|██████████| 3940/3940 [00:00<00:00, 442403.97it/s]\n",
            "/usr/local/lib/python3.7/dist-packages/ipykernel_launcher.py:16: SettingWithCopyWarning: \n",
            "A value is trying to be set on a copy of a slice from a DataFrame.\n",
            "Try using .loc[row_indexer,col_indexer] = value instead\n",
            "\n",
            "See the caveats in the documentation: https://pandas.pydata.org/pandas-docs/stable/user_guide/indexing.html#returning-a-view-versus-a-copy\n",
            "  app.launch_new_instance()\n",
            "\n",
            "100%|██████████| 3940/3940 [00:00<00:00, 332975.17it/s]\n",
            "/usr/local/lib/python3.7/dist-packages/ipykernel_launcher.py:17: SettingWithCopyWarning: \n",
            "A value is trying to be set on a copy of a slice from a DataFrame.\n",
            "Try using .loc[row_indexer,col_indexer] = value instead\n",
            "\n",
            "See the caveats in the documentation: https://pandas.pydata.org/pandas-docs/stable/user_guide/indexing.html#returning-a-view-versus-a-copy\n"
          ]
        },
        {
          "output_type": "stream",
          "name": "stdout",
          "text": [
            "\n",
            "\n",
            "exp_df len: 133, cheap_df len: 3726\n",
            "\n",
            "(133, 12)\n",
            "\n",
            "(3726, 12)\n"
          ]
        },
        {
          "output_type": "stream",
          "name": "stderr",
          "text": [
            "\r 47%|████▋     | 7/15 [00:11<00:15,  1.92s/it]"
          ]
        },
        {
          "output_type": "stream",
          "name": "stdout",
          "text": [
            "Outdoor Waistcoat\n",
            "105542\n",
            "154\n"
          ]
        },
        {
          "output_type": "stream",
          "name": "stderr",
          "text": [
            "\n",
            "100%|██████████| 154/154 [00:00<00:00, 68979.37it/s]\n",
            "/usr/local/lib/python3.7/dist-packages/ipykernel_launcher.py:16: SettingWithCopyWarning: \n",
            "A value is trying to be set on a copy of a slice from a DataFrame.\n",
            "Try using .loc[row_indexer,col_indexer] = value instead\n",
            "\n",
            "See the caveats in the documentation: https://pandas.pydata.org/pandas-docs/stable/user_guide/indexing.html#returning-a-view-versus-a-copy\n",
            "  app.launch_new_instance()\n",
            "\n",
            "100%|██████████| 154/154 [00:00<00:00, 121872.23it/s]\n",
            "/usr/local/lib/python3.7/dist-packages/ipykernel_launcher.py:17: SettingWithCopyWarning: \n",
            "A value is trying to be set on a copy of a slice from a DataFrame.\n",
            "Try using .loc[row_indexer,col_indexer] = value instead\n",
            "\n",
            "See the caveats in the documentation: https://pandas.pydata.org/pandas-docs/stable/user_guide/indexing.html#returning-a-view-versus-a-copy\n"
          ]
        },
        {
          "output_type": "stream",
          "name": "stdout",
          "text": [
            "\n",
            "\n",
            "exp_df len: 15, cheap_df len: 135\n",
            "\n",
            "(15, 12)\n",
            "\n",
            "(135, 12)\n"
          ]
        },
        {
          "output_type": "stream",
          "name": "stderr",
          "text": [
            "\r 53%|█████▎    | 8/15 [00:11<00:09,  1.43s/it]"
          ]
        },
        {
          "output_type": "stream",
          "name": "stdout",
          "text": [
            "Polo shirt\n",
            "105542\n",
            "449\n"
          ]
        },
        {
          "output_type": "stream",
          "name": "stderr",
          "text": [
            "\n",
            "100%|██████████| 449/449 [00:00<00:00, 215498.63it/s]\n",
            "/usr/local/lib/python3.7/dist-packages/ipykernel_launcher.py:16: SettingWithCopyWarning: \n",
            "A value is trying to be set on a copy of a slice from a DataFrame.\n",
            "Try using .loc[row_indexer,col_indexer] = value instead\n",
            "\n",
            "See the caveats in the documentation: https://pandas.pydata.org/pandas-docs/stable/user_guide/indexing.html#returning-a-view-versus-a-copy\n",
            "  app.launch_new_instance()\n",
            "\n",
            "100%|██████████| 449/449 [00:00<00:00, 191250.38it/s]\n",
            "/usr/local/lib/python3.7/dist-packages/ipykernel_launcher.py:17: SettingWithCopyWarning: \n",
            "A value is trying to be set on a copy of a slice from a DataFrame.\n",
            "Try using .loc[row_indexer,col_indexer] = value instead\n",
            "\n",
            "See the caveats in the documentation: https://pandas.pydata.org/pandas-docs/stable/user_guide/indexing.html#returning-a-view-versus-a-copy\n"
          ]
        },
        {
          "output_type": "stream",
          "name": "stdout",
          "text": [
            "\n",
            "\n",
            "exp_df len: 69, cheap_df len: 378\n",
            "\n",
            "(69, 12)\n",
            "\n",
            "(378, 12)\n"
          ]
        },
        {
          "output_type": "stream",
          "name": "stderr",
          "text": [
            "\r 60%|██████    | 9/15 [00:12<00:06,  1.15s/it]"
          ]
        },
        {
          "output_type": "stream",
          "name": "stdout",
          "text": [
            "Shirt\n",
            "105542\n",
            "3405\n"
          ]
        },
        {
          "output_type": "stream",
          "name": "stderr",
          "text": [
            "\n",
            "100%|██████████| 3405/3405 [00:00<00:00, 475641.28it/s]\n",
            "/usr/local/lib/python3.7/dist-packages/ipykernel_launcher.py:16: SettingWithCopyWarning: \n",
            "A value is trying to be set on a copy of a slice from a DataFrame.\n",
            "Try using .loc[row_indexer,col_indexer] = value instead\n",
            "\n",
            "See the caveats in the documentation: https://pandas.pydata.org/pandas-docs/stable/user_guide/indexing.html#returning-a-view-versus-a-copy\n",
            "  app.launch_new_instance()\n",
            "\n",
            "100%|██████████| 3405/3405 [00:00<00:00, 432566.18it/s]\n",
            "/usr/local/lib/python3.7/dist-packages/ipykernel_launcher.py:17: SettingWithCopyWarning: \n",
            "A value is trying to be set on a copy of a slice from a DataFrame.\n",
            "Try using .loc[row_indexer,col_indexer] = value instead\n",
            "\n",
            "See the caveats in the documentation: https://pandas.pydata.org/pandas-docs/stable/user_guide/indexing.html#returning-a-view-versus-a-copy\n"
          ]
        },
        {
          "output_type": "stream",
          "name": "stdout",
          "text": [
            "\n",
            "\n",
            "exp_df len: 120, cheap_df len: 3261\n",
            "\n",
            "(120, 12)\n",
            "\n",
            "(3261, 12)\n"
          ]
        },
        {
          "output_type": "stream",
          "name": "stderr",
          "text": [
            "\r 67%|██████▋   | 10/15 [00:14<00:07,  1.55s/it]"
          ]
        },
        {
          "output_type": "stream",
          "name": "stdout",
          "text": [
            "Sweater\n",
            "105542\n",
            "9302\n"
          ]
        },
        {
          "output_type": "stream",
          "name": "stderr",
          "text": [
            "\n",
            "100%|██████████| 9302/9302 [00:00<00:00, 520774.92it/s]\n",
            "/usr/local/lib/python3.7/dist-packages/ipykernel_launcher.py:16: SettingWithCopyWarning: \n",
            "A value is trying to be set on a copy of a slice from a DataFrame.\n",
            "Try using .loc[row_indexer,col_indexer] = value instead\n",
            "\n",
            "See the caveats in the documentation: https://pandas.pydata.org/pandas-docs/stable/user_guide/indexing.html#returning-a-view-versus-a-copy\n",
            "  app.launch_new_instance()\n",
            "\n",
            "100%|██████████| 9302/9302 [00:00<00:00, 490161.89it/s]\n",
            "/usr/local/lib/python3.7/dist-packages/ipykernel_launcher.py:17: SettingWithCopyWarning: \n",
            "A value is trying to be set on a copy of a slice from a DataFrame.\n",
            "Try using .loc[row_indexer,col_indexer] = value instead\n",
            "\n",
            "See the caveats in the documentation: https://pandas.pydata.org/pandas-docs/stable/user_guide/indexing.html#returning-a-view-versus-a-copy\n"
          ]
        },
        {
          "output_type": "stream",
          "name": "stdout",
          "text": [
            "\n",
            "\n",
            "exp_df len: 470, cheap_df len: 8665\n",
            "\n",
            "(470, 12)\n",
            "\n",
            "(8665, 12)\n"
          ]
        },
        {
          "output_type": "stream",
          "name": "stderr",
          "text": [
            "\r 73%|███████▎  | 11/15 [00:22<00:13,  3.43s/it]"
          ]
        },
        {
          "output_type": "stream",
          "name": "stdout",
          "text": [
            "T-shirt\n",
            "105542\n",
            "7904\n"
          ]
        },
        {
          "output_type": "stream",
          "name": "stderr",
          "text": [
            "\n",
            "100%|██████████| 7904/7904 [00:00<00:00, 538256.87it/s]\n",
            "/usr/local/lib/python3.7/dist-packages/ipykernel_launcher.py:16: SettingWithCopyWarning: \n",
            "A value is trying to be set on a copy of a slice from a DataFrame.\n",
            "Try using .loc[row_indexer,col_indexer] = value instead\n",
            "\n",
            "See the caveats in the documentation: https://pandas.pydata.org/pandas-docs/stable/user_guide/indexing.html#returning-a-view-versus-a-copy\n",
            "  app.launch_new_instance()\n",
            "\n",
            "100%|██████████| 7904/7904 [00:00<00:00, 525693.02it/s]\n",
            "/usr/local/lib/python3.7/dist-packages/ipykernel_launcher.py:17: SettingWithCopyWarning: \n",
            "A value is trying to be set on a copy of a slice from a DataFrame.\n",
            "Try using .loc[row_indexer,col_indexer] = value instead\n",
            "\n",
            "See the caveats in the documentation: https://pandas.pydata.org/pandas-docs/stable/user_guide/indexing.html#returning-a-view-versus-a-copy\n"
          ]
        },
        {
          "output_type": "stream",
          "name": "stdout",
          "text": [
            "\n",
            "\n",
            "exp_df len: 6083, cheap_df len: 1711\n",
            "\n",
            "(6083, 12)\n",
            "\n",
            "(1711, 12)\n"
          ]
        },
        {
          "output_type": "stream",
          "name": "stderr",
          "text": [
            "\r 80%|████████  | 12/15 [00:28<00:12,  4.18s/it]"
          ]
        },
        {
          "output_type": "stream",
          "name": "stdout",
          "text": [
            "Tailored Waistcoat\n",
            "105542\n",
            "73\n"
          ]
        },
        {
          "output_type": "stream",
          "name": "stderr",
          "text": [
            "\n",
            "100%|██████████| 73/73 [00:00<00:00, 47192.38it/s]\n",
            "/usr/local/lib/python3.7/dist-packages/ipykernel_launcher.py:16: SettingWithCopyWarning: \n",
            "A value is trying to be set on a copy of a slice from a DataFrame.\n",
            "Try using .loc[row_indexer,col_indexer] = value instead\n",
            "\n",
            "See the caveats in the documentation: https://pandas.pydata.org/pandas-docs/stable/user_guide/indexing.html#returning-a-view-versus-a-copy\n",
            "  app.launch_new_instance()\n",
            "\n",
            "100%|██████████| 73/73 [00:00<00:00, 54891.39it/s]\n",
            "/usr/local/lib/python3.7/dist-packages/ipykernel_launcher.py:17: SettingWithCopyWarning: \n",
            "A value is trying to be set on a copy of a slice from a DataFrame.\n",
            "Try using .loc[row_indexer,col_indexer] = value instead\n",
            "\n",
            "See the caveats in the documentation: https://pandas.pydata.org/pandas-docs/stable/user_guide/indexing.html#returning-a-view-versus-a-copy\n"
          ]
        },
        {
          "output_type": "stream",
          "name": "stdout",
          "text": [
            "\n",
            "\n",
            "exp_df len: 10, cheap_df len: 63\n",
            "\n",
            "(10, 9)\n",
            "\n",
            "Reshaping with NaNs to accomodate for less # of products in category: Unknown\n",
            "[[ 4.  1.  2.  3.  5.  6.  7.  8.  9. nan nan nan]\n",
            " [ 0.  2.  3.  4.  5.  6.  7.  8.  9. nan nan nan]\n",
            " [ 0.  1.  3.  4.  5.  6.  7.  8.  9. nan nan nan]\n",
            " [ 0.  1.  2.  4.  5.  6.  7.  8.  9. nan nan nan]\n",
            " [ 0.  1.  2.  3.  5.  6.  7.  8.  9. nan nan nan]\n",
            " [ 2.  1.  0.  3.  4.  6.  7.  8.  9. nan nan nan]\n",
            " [ 8.  1.  2.  3.  4.  5.  7.  0.  9. nan nan nan]\n",
            " [ 0.  1.  2.  3.  4.  5.  6.  8.  9. nan nan nan]\n",
            " [ 0.  1.  2.  3.  4.  5.  6.  7.  9. nan nan nan]\n",
            " [ 2.  1.  0.  3.  4.  5.  6.  7.  8. nan nan nan]]\n",
            "\n",
            "(63, 9)\n",
            "\n",
            "Reshaping with NaNs to accomodate for less # of products in category: Unknown\n",
            "[[23.  8. 47. 28. 61.  1.  3.  2.  9. nan nan nan]\n",
            " [24. 12. 54.  9. 40. 37.  3.  2. 19. nan nan nan]\n",
            " [61. 11. 47.  1.  9. 36.  3. 23.  0. nan nan nan]\n",
            " [51. 40.  0.  1. 43. 54.  2. 61.  9. nan nan nan]\n",
            " [13. 33. 28. 25. 35. 11. 10.  6. 42. nan nan nan]\n",
            " [21. 52. 62. 13. 42. 16. 30. 34. 20. nan nan nan]\n",
            " [11. 33. 42. 20. 35. 10.  8.  4. 62. nan nan nan]\n",
            " [42. 31. 21. 12. 11. 13. 16. 47. 40. nan nan nan]\n",
            " [62. 61. 23.  6. 35. 10. 28. 21. 11. nan nan nan]\n",
            " [61.  8. 47. 19.  1.  3.  2. 12.  0. nan nan nan]\n",
            " [16. 47. 31. 35. 11.  8.  6.  4. 13. nan nan nan]\n",
            " [10. 21. 36. 47.  6. 42.  7.  8. 28. nan nan nan]\n",
            " [36.  9. 37. 40.  7. 54. 13. 21. 16. nan nan nan]\n",
            " [ 7. 47. 42. 29. 10. 12. 16. 20. 45. nan nan nan]\n",
            " [31. 54. 43. 51. 23. 25. 33. 36. 61. nan nan nan]\n",
            " [18. 10. 29. 47. 43. 51. 39. 45. 27. nan nan nan]\n",
            " [62. 20. 10. 38. 13. 12.  7. 21. 47. nan nan nan]\n",
            " [16. 47. 21. 38. 37. 12. 13. 22. 26. nan nan nan]\n",
            " [23. 35. 28. 27. 10. 31. 47. 30. 21. nan nan nan]\n",
            " [39. 11.  2.  1. 13. 47.  9. 44. 12. nan nan nan]\n",
            " [34. 35. 30. 21. 42. 13.  6.  5. 47. nan nan nan]\n",
            " [62. 47. 42. 40. 28. 16. 12.  8. 31. nan nan nan]\n",
            " [38. 17. 16. 13. 12.  7. 37. 26. 21. nan nan nan]\n",
            " [42. 41.  8. 30. 36. 40. 28. 31. 62. nan nan nan]\n",
            " [36.  7. 48. 12. 62. 54. 23. 40. 37. nan nan nan]\n",
            " [36. 20. 11. 23. 33.  7. 37.  4. 42. nan nan nan]\n",
            " [20. 12. 37. 21. 38. 34. 13. 17. 22. nan nan nan]\n",
            " [51. 23.  6. 47. 29. 10. 31. 35. 62. nan nan nan]\n",
            " [54. 30. 11. 61. 23. 21. 36.  8. 31. nan nan nan]\n",
            " [51. 21. 45. 13. 43. 28. 50. 61. 62. nan nan nan]\n",
            " [18. 62. 42. 28. 23. 21. 20. 13. 31. nan nan nan]\n",
            " [43.  8. 10.  7. 62. 30. 28. 23. 21. nan nan nan]\n",
            " [42. 28. 50.  4. 35. 61.  6. 49. 33. nan nan nan]\n",
            " [14. 42. 35. 32. 28. 25.  6.  4. 61. nan nan nan]\n",
            " [21. 52. 26. 42. 13. 16.  6.  5. 20. nan nan nan]\n",
            " [49. 20. 27. 42. 10.  8.  6.  4. 62. nan nan nan]\n",
            " [21. 12. 61. 31. 11. 40. 23. 28. 54. nan nan nan]\n",
            " [45. 25.  7. 40. 23. 22. 12. 13. 24. nan nan nan]\n",
            " [22. 17. 47. 37. 30. 13. 12. 16. 21. nan nan nan]\n",
            " [37. 11. 51. 56.  8.  7.  6. 61. 23. nan nan nan]\n",
            " [62. 54. 21. 53. 24. 28. 37.  7. 23. nan nan nan]\n",
            " [54. 28. 62. 45. 40. 30. 23. 21. 31. nan nan nan]\n",
            " [30. 49. 20. 11. 21. 62. 35.  6.  4. nan nan nan]\n",
            " [40. 23. 54. 14. 31. 51. 29. 61. 28. nan nan nan]\n",
            " [30. 33. 10.  8.  6.  4. 47. 11. 19. nan nan nan]\n",
            " [47. 37. 29. 20. 41. 53. 21. 40. 13. nan nan nan]\n",
            " [ 1. 10. 55. 19. 28.  7. 47. 60. 44. nan nan nan]\n",
            " [28. 31. 10. 11. 13. 21.  7. 20. 16. nan nan nan]\n",
            " [ 7. 40. 11. 21.  6. 50. 42. 49. 62. nan nan nan]\n",
            " [21. 13. 62. 52. 11.  6. 35. 48. 42. nan nan nan]\n",
            " [ 8. 36. 23. 54. 13. 28. 53. 48. 29. nan nan nan]\n",
            " [14. 54.  8. 33. 40. 29. 39. 43. 61. nan nan nan]\n",
            " [11. 21. 62. 10. 20. 42. 49. 35. 13. nan nan nan]\n",
            " [28. 29. 23. 62. 21. 40.  8. 54. 50. nan nan nan]\n",
            " [53. 50. 14. 12. 21. 43. 28. 36. 40. nan nan nan]\n",
            " [29. 27. 10. 56. 59. 46. 58. 60. 57. nan nan nan]\n",
            " [23. 39. 30. 13. 37. 10.  6. 40. 35. nan nan nan]\n",
            " [23. 41. 62. 55. 29. 10. 60. 13. 45. nan nan nan]\n",
            " [20. 29. 10. 62. 57. 55. 27. 46. 45. nan nan nan]\n",
            " [62. 46. 55. 45. 57. 29. 30. 42. 15. nan nan nan]\n",
            " [16. 11. 55. 10. 57. 49. 48. 47. 46. nan nan nan]\n",
            " [14. 33. 35. 43. 29. 28. 40.  8. 51. nan nan nan]\n",
            " [ 8. 48. 31. 42. 35. 28. 23. 21.  6. nan nan nan]]\n"
          ]
        },
        {
          "output_type": "stream",
          "name": "stderr",
          "text": [
            "\r 87%|████████▋ | 13/15 [00:28<00:06,  3.01s/it]"
          ]
        },
        {
          "output_type": "stream",
          "name": "stdout",
          "text": [
            "Top\n",
            "105542\n",
            "4155\n"
          ]
        },
        {
          "output_type": "stream",
          "name": "stderr",
          "text": [
            "\n",
            "100%|██████████| 4155/4155 [00:00<00:00, 510227.58it/s]\n",
            "/usr/local/lib/python3.7/dist-packages/ipykernel_launcher.py:16: SettingWithCopyWarning: \n",
            "A value is trying to be set on a copy of a slice from a DataFrame.\n",
            "Try using .loc[row_indexer,col_indexer] = value instead\n",
            "\n",
            "See the caveats in the documentation: https://pandas.pydata.org/pandas-docs/stable/user_guide/indexing.html#returning-a-view-versus-a-copy\n",
            "  app.launch_new_instance()\n",
            "\n",
            "100%|██████████| 4155/4155 [00:00<00:00, 394667.51it/s]\n",
            "/usr/local/lib/python3.7/dist-packages/ipykernel_launcher.py:17: SettingWithCopyWarning: \n",
            "A value is trying to be set on a copy of a slice from a DataFrame.\n",
            "Try using .loc[row_indexer,col_indexer] = value instead\n",
            "\n",
            "See the caveats in the documentation: https://pandas.pydata.org/pandas-docs/stable/user_guide/indexing.html#returning-a-view-versus-a-copy\n"
          ]
        },
        {
          "output_type": "stream",
          "name": "stdout",
          "text": [
            "\n",
            "\n",
            "exp_df len: 405, cheap_df len: 3685\n",
            "\n",
            "(405, 12)\n",
            "\n",
            "(3685, 12)\n"
          ]
        },
        {
          "output_type": "stream",
          "name": "stderr",
          "text": [
            "\r 93%|█████████▎| 14/15 [00:31<00:02,  2.98s/it]"
          ]
        },
        {
          "output_type": "stream",
          "name": "stdout",
          "text": [
            "Vest top\n",
            "105542\n",
            "2991\n"
          ]
        },
        {
          "output_type": "stream",
          "name": "stderr",
          "text": [
            "\n",
            "100%|██████████| 2991/2991 [00:00<00:00, 468347.77it/s]\n",
            "/usr/local/lib/python3.7/dist-packages/ipykernel_launcher.py:16: SettingWithCopyWarning: \n",
            "A value is trying to be set on a copy of a slice from a DataFrame.\n",
            "Try using .loc[row_indexer,col_indexer] = value instead\n",
            "\n",
            "See the caveats in the documentation: https://pandas.pydata.org/pandas-docs/stable/user_guide/indexing.html#returning-a-view-versus-a-copy\n",
            "  app.launch_new_instance()\n",
            "\n",
            "100%|██████████| 2991/2991 [00:00<00:00, 377570.68it/s]\n",
            "/usr/local/lib/python3.7/dist-packages/ipykernel_launcher.py:17: SettingWithCopyWarning: \n",
            "A value is trying to be set on a copy of a slice from a DataFrame.\n",
            "Try using .loc[row_indexer,col_indexer] = value instead\n",
            "\n",
            "See the caveats in the documentation: https://pandas.pydata.org/pandas-docs/stable/user_guide/indexing.html#returning-a-view-versus-a-copy\n"
          ]
        },
        {
          "output_type": "stream",
          "name": "stdout",
          "text": [
            "\n",
            "\n",
            "exp_df len: 2172, cheap_df len: 799\n",
            "\n",
            "(2172, 12)\n",
            "\n",
            "(799, 12)\n"
          ]
        },
        {
          "output_type": "stream",
          "name": "stderr",
          "text": [
            "100%|██████████| 15/15 [00:33<00:00,  2.22s/it]"
          ]
        },
        {
          "output_type": "stream",
          "name": "stdout",
          "text": [
            "time: 33.5 s (started: 2022-05-04 10:03:30 +00:00)\n"
          ]
        },
        {
          "output_type": "stream",
          "name": "stderr",
          "text": [
            "\n"
          ]
        }
      ]
    },
    {
      "cell_type": "code",
      "source": [
        "article_df_new = pd.concat(appended_data)\n",
        "print(len(article_df_new))"
      ],
      "metadata": {
        "colab": {
          "base_uri": "https://localhost:8080/",
          "height": 53
        },
        "id": "cmVDeMzjgiEn",
        "outputId": "82a14dda-0a9a-4c1f-b547-54bf6f06c495"
      },
      "execution_count": null,
      "outputs": [
        {
          "output_type": "display_data",
          "data": {
            "text/plain": [
              "<IPython.core.display.HTML object>"
            ],
            "text/html": [
              "\n",
              "  <style>\n",
              "    pre {\n",
              "        white-space: pre-wrap;\n",
              "    }\n",
              "  </style>\n",
              "  "
            ]
          },
          "metadata": {}
        },
        {
          "output_type": "stream",
          "name": "stdout",
          "text": [
            "103702\n",
            "time: 18.8 ms (started: 2022-05-04 10:04:04 +00:00)\n"
          ]
        }
      ]
    },
    {
      "cell_type": "code",
      "source": [
        "article_df_merged_with_sim_and_prices = article_df.merge(article_df_new, on='article_id', how='outer')"
      ],
      "metadata": {
        "colab": {
          "base_uri": "https://localhost:8080/",
          "height": 35
        },
        "id": "lxRgz9w6jAeC",
        "outputId": "98a03e11-760c-45e2-8b3d-c7da8bc0bf62"
      },
      "execution_count": null,
      "outputs": [
        {
          "output_type": "display_data",
          "data": {
            "text/plain": [
              "<IPython.core.display.HTML object>"
            ],
            "text/html": [
              "\n",
              "  <style>\n",
              "    pre {\n",
              "        white-space: pre-wrap;\n",
              "    }\n",
              "  </style>\n",
              "  "
            ]
          },
          "metadata": {}
        },
        {
          "output_type": "stream",
          "name": "stdout",
          "text": [
            "time: 194 ms (started: 2022-05-04 10:10:54 +00:00)\n"
          ]
        }
      ]
    },
    {
      "cell_type": "code",
      "source": [
        "for col in article_df_merged_with_sim_and_prices.columns:\n",
        "  print(col)"
      ],
      "metadata": {
        "colab": {
          "base_uri": "https://localhost:8080/",
          "height": 705
        },
        "id": "-B9KMtcHm0jm",
        "outputId": "409c5ee2-f4a9-4684-cc9b-535cd1e6653c"
      },
      "execution_count": null,
      "outputs": [
        {
          "output_type": "display_data",
          "data": {
            "text/plain": [
              "<IPython.core.display.HTML object>"
            ],
            "text/html": [
              "\n",
              "  <style>\n",
              "    pre {\n",
              "        white-space: pre-wrap;\n",
              "    }\n",
              "  </style>\n",
              "  "
            ]
          },
          "metadata": {}
        },
        {
          "output_type": "stream",
          "name": "stdout",
          "text": [
            "article_id\n",
            "product_code\n",
            "prod_name\n",
            "product_type_no\n",
            "product_type_name\n",
            "product_group_name\n",
            "graphical_appearance_no\n",
            "graphical_appearance_name\n",
            "colour_group_code\n",
            "colour_group_name\n",
            "perceived_colour_value_id\n",
            "perceived_colour_value_name\n",
            "perceived_colour_master_id\n",
            "perceived_colour_master_name\n",
            "department_no\n",
            "department_name\n",
            "index_code\n",
            "index_name\n",
            "index_group_no\n",
            "index_group_name\n",
            "section_no\n",
            "section_name\n",
            "garment_group_no\n",
            "garment_group_name\n",
            "detail_desc\n",
            "sim_1_prod\n",
            "sim_2_prod\n",
            "sim_3_prod\n",
            "sim_4_prod\n",
            "sim_5_prod\n",
            "sim_6_prod\n",
            "sim_7_prod\n",
            "sim_8_prod\n",
            "sim_9_prod\n",
            "sim_10_prod\n",
            "sim_11_prod\n",
            "sim_12_prod\n",
            "time: 4.57 ms (started: 2022-05-04 10:26:41 +00:00)\n"
          ]
        }
      ]
    },
    {
      "cell_type": "code",
      "source": [
        "article_df_merged_with_sim_and_prices.to_csv(\"/content/drive/MyDrive/CSCI_567_ML/Data/articles_with_top12_similar_images_based_on_price.csv\")"
      ],
      "metadata": {
        "colab": {
          "base_uri": "https://localhost:8080/",
          "height": 35
        },
        "id": "BCDxZ9qmjJl0",
        "outputId": "974e06c5-f915-4761-e8c2-8e04e624b84d"
      },
      "execution_count": null,
      "outputs": [
        {
          "output_type": "display_data",
          "data": {
            "text/plain": [
              "<IPython.core.display.HTML object>"
            ],
            "text/html": [
              "\n",
              "  <style>\n",
              "    pre {\n",
              "        white-space: pre-wrap;\n",
              "    }\n",
              "  </style>\n",
              "  "
            ]
          },
          "metadata": {}
        },
        {
          "output_type": "stream",
          "name": "stdout",
          "text": [
            "time: 2.43 s (started: 2022-05-04 10:10:55 +00:00)\n"
          ]
        }
      ]
    },
    {
      "cell_type": "markdown",
      "source": [
        "## Exploring articles based on product similarity"
      ],
      "metadata": {
        "id": "gpm-VTkj9YnH"
      }
    },
    {
      "cell_type": "code",
      "source": [
        "article_sim_df = pd.read_csv(\"/content/drive/MyDrive/CSCI_567_ML/Data/articles_with_top12_similar_images.csv\")"
      ],
      "metadata": {
        "colab": {
          "base_uri": "https://localhost:8080/",
          "height": 35
        },
        "id": "EZhTe4ul9cGq",
        "outputId": "aa62a962-5f5a-42a4-c7a7-540239d05a66"
      },
      "execution_count": null,
      "outputs": [
        {
          "output_type": "display_data",
          "data": {
            "text/plain": [
              "<IPython.core.display.HTML object>"
            ],
            "text/html": [
              "\n",
              "  <style>\n",
              "    pre {\n",
              "        white-space: pre-wrap;\n",
              "    }\n",
              "  </style>\n",
              "  "
            ]
          },
          "metadata": {}
        },
        {
          "output_type": "stream",
          "name": "stdout",
          "text": [
            "time: 2.79 s (started: 2022-05-04 22:47:22 +00:00)\n"
          ]
        }
      ]
    },
    {
      "cell_type": "code",
      "source": [
        "print(len(article_sim_df))"
      ],
      "metadata": {
        "colab": {
          "base_uri": "https://localhost:8080/",
          "height": 53
        },
        "id": "nAOBfMY79oMk",
        "outputId": "85fb9e46-b400-4a42-d540-4744dc418efc"
      },
      "execution_count": null,
      "outputs": [
        {
          "output_type": "display_data",
          "data": {
            "text/plain": [
              "<IPython.core.display.HTML object>"
            ],
            "text/html": [
              "\n",
              "  <style>\n",
              "    pre {\n",
              "        white-space: pre-wrap;\n",
              "    }\n",
              "  </style>\n",
              "  "
            ]
          },
          "metadata": {}
        },
        {
          "output_type": "stream",
          "name": "stdout",
          "text": [
            "105542\n",
            "time: 2.88 ms (started: 2022-05-04 22:47:25 +00:00)\n"
          ]
        }
      ]
    },
    {
      "cell_type": "code",
      "source": [
        "for col in article_sim_df.columns:\n",
        "  print(col)"
      ],
      "metadata": {
        "colab": {
          "base_uri": "https://localhost:8080/",
          "height": 723
        },
        "id": "3HPIKFd3Ks5g",
        "outputId": "f4e01539-7b29-4fec-d307-7f5312362ee9"
      },
      "execution_count": null,
      "outputs": [
        {
          "output_type": "display_data",
          "data": {
            "text/plain": [
              "<IPython.core.display.HTML object>"
            ],
            "text/html": [
              "\n",
              "  <style>\n",
              "    pre {\n",
              "        white-space: pre-wrap;\n",
              "    }\n",
              "  </style>\n",
              "  "
            ]
          },
          "metadata": {}
        },
        {
          "output_type": "stream",
          "name": "stdout",
          "text": [
            "Unnamed: 0\n",
            "article_id\n",
            "product_code\n",
            "prod_name\n",
            "product_type_no\n",
            "product_type_name\n",
            "product_group_name\n",
            "graphical_appearance_no\n",
            "graphical_appearance_name\n",
            "colour_group_code\n",
            "colour_group_name\n",
            "perceived_colour_value_id\n",
            "perceived_colour_value_name\n",
            "perceived_colour_master_id\n",
            "perceived_colour_master_name\n",
            "department_no\n",
            "department_name\n",
            "index_code\n",
            "index_name\n",
            "index_group_no\n",
            "index_group_name\n",
            "section_no\n",
            "section_name\n",
            "garment_group_no\n",
            "garment_group_name\n",
            "detail_desc\n",
            "sim_1_prod\n",
            "sim_2_prod\n",
            "sim_3_prod\n",
            "sim_4_prod\n",
            "sim_5_prod\n",
            "sim_6_prod\n",
            "sim_7_prod\n",
            "sim_8_prod\n",
            "sim_9_prod\n",
            "sim_10_prod\n",
            "sim_11_prod\n",
            "sim_12_prod\n",
            "time: 7.7 ms (started: 2022-05-04 22:47:25 +00:00)\n"
          ]
        }
      ]
    },
    {
      "cell_type": "code",
      "source": [
        "for col in transaction_df.columns:\n",
        "  print(col)"
      ],
      "metadata": {
        "colab": {
          "base_uri": "https://localhost:8080/",
          "height": 126
        },
        "id": "8-pccnB5K7BW",
        "outputId": "0efb3c80-d481-42aa-af55-2082223e52c6"
      },
      "execution_count": null,
      "outputs": [
        {
          "output_type": "display_data",
          "data": {
            "text/plain": [
              "<IPython.core.display.HTML object>"
            ],
            "text/html": [
              "\n",
              "  <style>\n",
              "    pre {\n",
              "        white-space: pre-wrap;\n",
              "    }\n",
              "  </style>\n",
              "  "
            ]
          },
          "metadata": {}
        },
        {
          "output_type": "stream",
          "name": "stdout",
          "text": [
            "t_dat\n",
            "customer_id\n",
            "article_id\n",
            "price\n",
            "sales_channel_id\n",
            "time: 1.61 ms (started: 2022-05-04 22:47:25 +00:00)\n"
          ]
        }
      ]
    },
    {
      "cell_type": "code",
      "source": [
        "min_price_item = transaction_df.nlargest(2,['price'])['article_id']\n",
        "print(min_price_item.iloc[0])\n",
        "\n",
        "print(article_sim_df[article_sim_df['article_id'] == min_price_item.iloc[0]])\n",
        "print(article_sim_df[article_sim_df['article_id'] == min_price_item.iloc[1]])"
      ],
      "metadata": {
        "id": "jH4cmS-PK_sF"
      },
      "execution_count": null,
      "outputs": []
    },
    {
      "cell_type": "code",
      "source": [
        "# pd.set_option('display.float_format', '{:.4f}'.format)\n",
        "# transaction_df.describe()['price']"
      ],
      "metadata": {
        "id": "XZWERv1DxKZP"
      },
      "execution_count": null,
      "outputs": []
    },
    {
      "cell_type": "code",
      "source": [
        "# transactions_byid = transaction_df.groupby('customer_id').count()"
      ],
      "metadata": {
        "id": "BKKXuuT5xRpf"
      },
      "execution_count": null,
      "outputs": []
    },
    {
      "cell_type": "code",
      "source": [
        "# transactions_byid.sort_values(by='price', ascending=False)['price'][:10]"
      ],
      "metadata": {
        "id": "pdR1ByR1xWZk"
      },
      "execution_count": null,
      "outputs": []
    },
    {
      "cell_type": "code",
      "source": [
        "articles_for_merge = article_sim_df[['article_id', 'prod_name', 'product_type_name', 'product_group_name', 'index_name', 'colour_group_name', 'detail_desc', 'sim_1_prod', 'sim_2_prod', 'sim_3_prod', 'sim_4_prod', 'sim_5_prod', 'sim_6_prod', 'sim_7_prod', 'sim_8_prod', 'sim_9_prod', 'sim_10_prod', 'sim_11_prod', 'sim_12_prod']]"
      ],
      "metadata": {
        "id": "lUFLycj1xs8M",
        "colab": {
          "base_uri": "https://localhost:8080/",
          "height": 35
        },
        "outputId": "cd37ce7e-92a4-42ef-c9d3-239de6f72abd"
      },
      "execution_count": null,
      "outputs": [
        {
          "output_type": "display_data",
          "data": {
            "text/plain": [
              "<IPython.core.display.HTML object>"
            ],
            "text/html": [
              "\n",
              "  <style>\n",
              "    pre {\n",
              "        white-space: pre-wrap;\n",
              "    }\n",
              "  </style>\n",
              "  "
            ]
          },
          "metadata": {}
        },
        {
          "output_type": "stream",
          "name": "stdout",
          "text": [
            "time: 50.9 ms (started: 2022-05-04 22:47:25 +00:00)\n"
          ]
        }
      ]
    },
    {
      "cell_type": "code",
      "source": [
        "articles_for_merge = transaction_df[['customer_id', 'article_id', 'price', 't_dat']].merge(articles_for_merge, on='article_id', how='left')"
      ],
      "metadata": {
        "colab": {
          "base_uri": "https://localhost:8080/",
          "height": 35
        },
        "id": "12664gqkykjN",
        "outputId": "1ad44155-aca6-476b-9eb8-c9d784ff5678"
      },
      "execution_count": null,
      "outputs": [
        {
          "output_type": "display_data",
          "data": {
            "text/plain": [
              "<IPython.core.display.HTML object>"
            ],
            "text/html": [
              "\n",
              "  <style>\n",
              "    pre {\n",
              "        white-space: pre-wrap;\n",
              "    }\n",
              "  </style>\n",
              "  "
            ]
          },
          "metadata": {}
        },
        {
          "output_type": "stream",
          "name": "stdout",
          "text": [
            "time: 18.7 s (started: 2022-05-04 22:47:25 +00:00)\n"
          ]
        }
      ]
    },
    {
      "cell_type": "code",
      "source": [
        "# articles_for_merge = articles_for_merge.merge(article_df_new, on='article_id', how='outer')"
      ],
      "metadata": {
        "colab": {
          "base_uri": "https://localhost:8080/",
          "height": 35
        },
        "id": "dVrlo-s6zZ-f",
        "outputId": "b0c9cb6f-febf-4a1f-df43-b47d1cebe1cc"
      },
      "execution_count": null,
      "outputs": [
        {
          "output_type": "display_data",
          "data": {
            "text/plain": [
              "<IPython.core.display.HTML object>"
            ],
            "text/html": [
              "\n",
              "  <style>\n",
              "    pre {\n",
              "        white-space: pre-wrap;\n",
              "    }\n",
              "  </style>\n",
              "  "
            ]
          },
          "metadata": {}
        },
        {
          "output_type": "display_data",
          "data": {
            "text/plain": [
              "<IPython.core.display.HTML object>"
            ],
            "text/html": [
              "\n",
              "  <style>\n",
              "    pre {\n",
              "        white-space: pre-wrap;\n",
              "    }\n",
              "  </style>\n",
              "  "
            ]
          },
          "metadata": {}
        },
        {
          "output_type": "stream",
          "name": "stdout",
          "text": [
            "time: 725 µs (started: 2022-05-04 10:42:38 +00:00)\n"
          ]
        }
      ]
    },
    {
      "cell_type": "code",
      "source": [
        "articles_for_merge.head()"
      ],
      "metadata": {
        "id": "rFiee1Qlyj9z",
        "colab": {
          "base_uri": "https://localhost:8080/",
          "height": 1000
        },
        "outputId": "54ccadf6-80e1-4a79-d221-9936006974be"
      },
      "execution_count": null,
      "outputs": [
        {
          "output_type": "display_data",
          "data": {
            "text/plain": [
              "<IPython.core.display.HTML object>"
            ],
            "text/html": [
              "\n",
              "  <style>\n",
              "    pre {\n",
              "        white-space: pre-wrap;\n",
              "    }\n",
              "  </style>\n",
              "  "
            ]
          },
          "metadata": {}
        },
        {
          "output_type": "execute_result",
          "data": {
            "text/plain": [
              "                                                        customer_id  \\\n",
              "0  000058a12d5b43e67d225668fa1f8d618c13dc232df0cad8ffe7ad4a1091e318   \n",
              "1  000058a12d5b43e67d225668fa1f8d618c13dc232df0cad8ffe7ad4a1091e318   \n",
              "2  00007d2de826758b65a93dd24ce629ed66842531df6699338c5570910a014cc2   \n",
              "3  00007d2de826758b65a93dd24ce629ed66842531df6699338c5570910a014cc2   \n",
              "4  00007d2de826758b65a93dd24ce629ed66842531df6699338c5570910a014cc2   \n",
              "\n",
              "   article_id     price       t_dat                 prod_name  \\\n",
              "0  663713001   0.050831  2018-09-20  Atlanta Push Body Harlow   \n",
              "1  541518023   0.030492  2018-09-20  Rae Push (Melbourne) 2p    \n",
              "2  505221004   0.015237  2018-09-20  Inca Jumper                \n",
              "3  685687003   0.016932  2018-09-20  W YODA KNIT OL OFFER       \n",
              "4  685687004   0.016932  2018-09-20  W YODA KNIT OL OFFER       \n",
              "\n",
              "  product_type_name  product_group_name        index_name colour_group_name  \\\n",
              "0  Underwear body    Underwear           Lingeries/Tights  Black              \n",
              "1  Bra               Underwear           Lingeries/Tights  Light Pink         \n",
              "2  Sweater           Garment Upper body  Divided           Pink               \n",
              "3  Sweater           Garment Upper body  Ladieswear        Pink               \n",
              "4  Sweater           Garment Upper body  Ladieswear        Dark Green         \n",
              "\n",
              "                                                                                                                                                                                                                              detail_desc  \\\n",
              "0  Lace push-up body with underwired, moulded, padded cups for a larger bust and fuller cleavage. Narrow, adjustable shoulder straps, an opening with a hook-and-eye fastening at the back and a lined gusset with concealed press-studs.   \n",
              "1  Lace push-up bras with underwired, moulded, padded cups for a larger bust and fuller cleavage. Adjustable shoulder straps and a narrow fastening at the back with two pairs of hooks and eyes.                                           \n",
              "2  Jumper in rib-knit cotton with hard-worn details, a wide, roll-edge neckline, and gently dropped shoulders.                                                                                                                              \n",
              "3  V-neck knitted jumper with long sleeves and ribbing around the neckline, cuffs and hem.                                                                                                                                                  \n",
              "4  V-neck knitted jumper with long sleeves and ribbing around the neckline, cuffs and hem.                                                                                                                                                  \n",
              "\n",
              "    sim_1_prod   sim_2_prod   sim_3_prod   sim_4_prod   sim_5_prod  \\\n",
              "0  667641001.0  874620001.0  804666001.0  703416001.0  809487001.0   \n",
              "1  699253004.0  610926002.0  351933041.0  569594001.0  492853004.0   \n",
              "2  642155001.0  693243009.0  677956001.0  788237001.0  522374002.0   \n",
              "3  708531002.0  568864003.0  636935002.0  675581008.0  690222004.0   \n",
              "4  676090001.0  911870005.0  903276001.0  674448003.0  893350002.0   \n",
              "\n",
              "    sim_6_prod   sim_7_prod   sim_8_prod   sim_9_prod  sim_10_prod  \\\n",
              "0  622031002.0  783830001.0  650040001.0  650037001.0  813613001.0   \n",
              "1  560389011.0  325087044.0  633142004.0  647822002.0  820572005.0   \n",
              "2  832819001.0  564358036.0  678942047.0  845427009.0  870518010.0   \n",
              "3  782758002.0  636935010.0  516903015.0  725216004.0  794797003.0   \n",
              "4  825688002.0  532578028.0  696996005.0  592172007.0  762619003.0   \n",
              "\n",
              "   sim_11_prod  sim_12_prod  \n",
              "0  812428001.0  802529001.0  \n",
              "1  481110019.0  639525002.0  \n",
              "2  844932002.0  801123004.0  \n",
              "3  543054019.0  636389002.0  \n",
              "4  519712006.0  906100001.0  "
            ],
            "text/html": [
              "\n",
              "  <div id=\"df-6298123e-78ca-4dde-8e45-2b1986465cd3\">\n",
              "    <div class=\"colab-df-container\">\n",
              "      <div>\n",
              "<style scoped>\n",
              "    .dataframe tbody tr th:only-of-type {\n",
              "        vertical-align: middle;\n",
              "    }\n",
              "\n",
              "    .dataframe tbody tr th {\n",
              "        vertical-align: top;\n",
              "    }\n",
              "\n",
              "    .dataframe thead th {\n",
              "        text-align: right;\n",
              "    }\n",
              "</style>\n",
              "<table border=\"1\" class=\"dataframe\">\n",
              "  <thead>\n",
              "    <tr style=\"text-align: right;\">\n",
              "      <th></th>\n",
              "      <th>customer_id</th>\n",
              "      <th>article_id</th>\n",
              "      <th>price</th>\n",
              "      <th>t_dat</th>\n",
              "      <th>prod_name</th>\n",
              "      <th>product_type_name</th>\n",
              "      <th>product_group_name</th>\n",
              "      <th>index_name</th>\n",
              "      <th>colour_group_name</th>\n",
              "      <th>detail_desc</th>\n",
              "      <th>sim_1_prod</th>\n",
              "      <th>sim_2_prod</th>\n",
              "      <th>sim_3_prod</th>\n",
              "      <th>sim_4_prod</th>\n",
              "      <th>sim_5_prod</th>\n",
              "      <th>sim_6_prod</th>\n",
              "      <th>sim_7_prod</th>\n",
              "      <th>sim_8_prod</th>\n",
              "      <th>sim_9_prod</th>\n",
              "      <th>sim_10_prod</th>\n",
              "      <th>sim_11_prod</th>\n",
              "      <th>sim_12_prod</th>\n",
              "    </tr>\n",
              "  </thead>\n",
              "  <tbody>\n",
              "    <tr>\n",
              "      <th>0</th>\n",
              "      <td>000058a12d5b43e67d225668fa1f8d618c13dc232df0cad8ffe7ad4a1091e318</td>\n",
              "      <td>663713001</td>\n",
              "      <td>0.050831</td>\n",
              "      <td>2018-09-20</td>\n",
              "      <td>Atlanta Push Body Harlow</td>\n",
              "      <td>Underwear body</td>\n",
              "      <td>Underwear</td>\n",
              "      <td>Lingeries/Tights</td>\n",
              "      <td>Black</td>\n",
              "      <td>Lace push-up body with underwired, moulded, padded cups for a larger bust and fuller cleavage. Narrow, adjustable shoulder straps, an opening with a hook-and-eye fastening at the back and a lined gusset with concealed press-studs.</td>\n",
              "      <td>667641001.0</td>\n",
              "      <td>874620001.0</td>\n",
              "      <td>804666001.0</td>\n",
              "      <td>703416001.0</td>\n",
              "      <td>809487001.0</td>\n",
              "      <td>622031002.0</td>\n",
              "      <td>783830001.0</td>\n",
              "      <td>650040001.0</td>\n",
              "      <td>650037001.0</td>\n",
              "      <td>813613001.0</td>\n",
              "      <td>812428001.0</td>\n",
              "      <td>802529001.0</td>\n",
              "    </tr>\n",
              "    <tr>\n",
              "      <th>1</th>\n",
              "      <td>000058a12d5b43e67d225668fa1f8d618c13dc232df0cad8ffe7ad4a1091e318</td>\n",
              "      <td>541518023</td>\n",
              "      <td>0.030492</td>\n",
              "      <td>2018-09-20</td>\n",
              "      <td>Rae Push (Melbourne) 2p</td>\n",
              "      <td>Bra</td>\n",
              "      <td>Underwear</td>\n",
              "      <td>Lingeries/Tights</td>\n",
              "      <td>Light Pink</td>\n",
              "      <td>Lace push-up bras with underwired, moulded, padded cups for a larger bust and fuller cleavage. Adjustable shoulder straps and a narrow fastening at the back with two pairs of hooks and eyes.</td>\n",
              "      <td>699253004.0</td>\n",
              "      <td>610926002.0</td>\n",
              "      <td>351933041.0</td>\n",
              "      <td>569594001.0</td>\n",
              "      <td>492853004.0</td>\n",
              "      <td>560389011.0</td>\n",
              "      <td>325087044.0</td>\n",
              "      <td>633142004.0</td>\n",
              "      <td>647822002.0</td>\n",
              "      <td>820572005.0</td>\n",
              "      <td>481110019.0</td>\n",
              "      <td>639525002.0</td>\n",
              "    </tr>\n",
              "    <tr>\n",
              "      <th>2</th>\n",
              "      <td>00007d2de826758b65a93dd24ce629ed66842531df6699338c5570910a014cc2</td>\n",
              "      <td>505221004</td>\n",
              "      <td>0.015237</td>\n",
              "      <td>2018-09-20</td>\n",
              "      <td>Inca Jumper</td>\n",
              "      <td>Sweater</td>\n",
              "      <td>Garment Upper body</td>\n",
              "      <td>Divided</td>\n",
              "      <td>Pink</td>\n",
              "      <td>Jumper in rib-knit cotton with hard-worn details, a wide, roll-edge neckline, and gently dropped shoulders.</td>\n",
              "      <td>642155001.0</td>\n",
              "      <td>693243009.0</td>\n",
              "      <td>677956001.0</td>\n",
              "      <td>788237001.0</td>\n",
              "      <td>522374002.0</td>\n",
              "      <td>832819001.0</td>\n",
              "      <td>564358036.0</td>\n",
              "      <td>678942047.0</td>\n",
              "      <td>845427009.0</td>\n",
              "      <td>870518010.0</td>\n",
              "      <td>844932002.0</td>\n",
              "      <td>801123004.0</td>\n",
              "    </tr>\n",
              "    <tr>\n",
              "      <th>3</th>\n",
              "      <td>00007d2de826758b65a93dd24ce629ed66842531df6699338c5570910a014cc2</td>\n",
              "      <td>685687003</td>\n",
              "      <td>0.016932</td>\n",
              "      <td>2018-09-20</td>\n",
              "      <td>W YODA KNIT OL OFFER</td>\n",
              "      <td>Sweater</td>\n",
              "      <td>Garment Upper body</td>\n",
              "      <td>Ladieswear</td>\n",
              "      <td>Pink</td>\n",
              "      <td>V-neck knitted jumper with long sleeves and ribbing around the neckline, cuffs and hem.</td>\n",
              "      <td>708531002.0</td>\n",
              "      <td>568864003.0</td>\n",
              "      <td>636935002.0</td>\n",
              "      <td>675581008.0</td>\n",
              "      <td>690222004.0</td>\n",
              "      <td>782758002.0</td>\n",
              "      <td>636935010.0</td>\n",
              "      <td>516903015.0</td>\n",
              "      <td>725216004.0</td>\n",
              "      <td>794797003.0</td>\n",
              "      <td>543054019.0</td>\n",
              "      <td>636389002.0</td>\n",
              "    </tr>\n",
              "    <tr>\n",
              "      <th>4</th>\n",
              "      <td>00007d2de826758b65a93dd24ce629ed66842531df6699338c5570910a014cc2</td>\n",
              "      <td>685687004</td>\n",
              "      <td>0.016932</td>\n",
              "      <td>2018-09-20</td>\n",
              "      <td>W YODA KNIT OL OFFER</td>\n",
              "      <td>Sweater</td>\n",
              "      <td>Garment Upper body</td>\n",
              "      <td>Ladieswear</td>\n",
              "      <td>Dark Green</td>\n",
              "      <td>V-neck knitted jumper with long sleeves and ribbing around the neckline, cuffs and hem.</td>\n",
              "      <td>676090001.0</td>\n",
              "      <td>911870005.0</td>\n",
              "      <td>903276001.0</td>\n",
              "      <td>674448003.0</td>\n",
              "      <td>893350002.0</td>\n",
              "      <td>825688002.0</td>\n",
              "      <td>532578028.0</td>\n",
              "      <td>696996005.0</td>\n",
              "      <td>592172007.0</td>\n",
              "      <td>762619003.0</td>\n",
              "      <td>519712006.0</td>\n",
              "      <td>906100001.0</td>\n",
              "    </tr>\n",
              "  </tbody>\n",
              "</table>\n",
              "</div>\n",
              "      <button class=\"colab-df-convert\" onclick=\"convertToInteractive('df-6298123e-78ca-4dde-8e45-2b1986465cd3')\"\n",
              "              title=\"Convert this dataframe to an interactive table.\"\n",
              "              style=\"display:none;\">\n",
              "        \n",
              "  <svg xmlns=\"http://www.w3.org/2000/svg\" height=\"24px\"viewBox=\"0 0 24 24\"\n",
              "       width=\"24px\">\n",
              "    <path d=\"M0 0h24v24H0V0z\" fill=\"none\"/>\n",
              "    <path d=\"M18.56 5.44l.94 2.06.94-2.06 2.06-.94-2.06-.94-.94-2.06-.94 2.06-2.06.94zm-11 1L8.5 8.5l.94-2.06 2.06-.94-2.06-.94L8.5 2.5l-.94 2.06-2.06.94zm10 10l.94 2.06.94-2.06 2.06-.94-2.06-.94-.94-2.06-.94 2.06-2.06.94z\"/><path d=\"M17.41 7.96l-1.37-1.37c-.4-.4-.92-.59-1.43-.59-.52 0-1.04.2-1.43.59L10.3 9.45l-7.72 7.72c-.78.78-.78 2.05 0 2.83L4 21.41c.39.39.9.59 1.41.59.51 0 1.02-.2 1.41-.59l7.78-7.78 2.81-2.81c.8-.78.8-2.07 0-2.86zM5.41 20L4 18.59l7.72-7.72 1.47 1.35L5.41 20z\"/>\n",
              "  </svg>\n",
              "      </button>\n",
              "      \n",
              "  <style>\n",
              "    .colab-df-container {\n",
              "      display:flex;\n",
              "      flex-wrap:wrap;\n",
              "      gap: 12px;\n",
              "    }\n",
              "\n",
              "    .colab-df-convert {\n",
              "      background-color: #E8F0FE;\n",
              "      border: none;\n",
              "      border-radius: 50%;\n",
              "      cursor: pointer;\n",
              "      display: none;\n",
              "      fill: #1967D2;\n",
              "      height: 32px;\n",
              "      padding: 0 0 0 0;\n",
              "      width: 32px;\n",
              "    }\n",
              "\n",
              "    .colab-df-convert:hover {\n",
              "      background-color: #E2EBFA;\n",
              "      box-shadow: 0px 1px 2px rgba(60, 64, 67, 0.3), 0px 1px 3px 1px rgba(60, 64, 67, 0.15);\n",
              "      fill: #174EA6;\n",
              "    }\n",
              "\n",
              "    [theme=dark] .colab-df-convert {\n",
              "      background-color: #3B4455;\n",
              "      fill: #D2E3FC;\n",
              "    }\n",
              "\n",
              "    [theme=dark] .colab-df-convert:hover {\n",
              "      background-color: #434B5C;\n",
              "      box-shadow: 0px 1px 3px 1px rgba(0, 0, 0, 0.15);\n",
              "      filter: drop-shadow(0px 1px 2px rgba(0, 0, 0, 0.3));\n",
              "      fill: #FFFFFF;\n",
              "    }\n",
              "  </style>\n",
              "\n",
              "      <script>\n",
              "        const buttonEl =\n",
              "          document.querySelector('#df-6298123e-78ca-4dde-8e45-2b1986465cd3 button.colab-df-convert');\n",
              "        buttonEl.style.display =\n",
              "          google.colab.kernel.accessAllowed ? 'block' : 'none';\n",
              "\n",
              "        async function convertToInteractive(key) {\n",
              "          const element = document.querySelector('#df-6298123e-78ca-4dde-8e45-2b1986465cd3');\n",
              "          const dataTable =\n",
              "            await google.colab.kernel.invokeFunction('convertToInteractive',\n",
              "                                                     [key], {});\n",
              "          if (!dataTable) return;\n",
              "\n",
              "          const docLinkHtml = 'Like what you see? Visit the ' +\n",
              "            '<a target=\"_blank\" href=https://colab.research.google.com/notebooks/data_table.ipynb>data table notebook</a>'\n",
              "            + ' to learn more about interactive tables.';\n",
              "          element.innerHTML = '';\n",
              "          dataTable['output_type'] = 'display_data';\n",
              "          await google.colab.output.renderOutput(dataTable, element);\n",
              "          const docLink = document.createElement('div');\n",
              "          docLink.innerHTML = docLinkHtml;\n",
              "          element.appendChild(docLink);\n",
              "        }\n",
              "      </script>\n",
              "    </div>\n",
              "  </div>\n",
              "  "
            ]
          },
          "metadata": {},
          "execution_count": 14
        },
        {
          "output_type": "stream",
          "name": "stdout",
          "text": [
            "time: 52.3 ms (started: 2022-05-04 22:47:44 +00:00)\n"
          ]
        }
      ]
    },
    {
      "cell_type": "code",
      "source": [
        "print(len(articles_for_merge))"
      ],
      "metadata": {
        "colab": {
          "base_uri": "https://localhost:8080/",
          "height": 53
        },
        "id": "AKF-ajrszCIA",
        "outputId": "32bd7946-5438-46bd-bcf4-66a464dd1e4d"
      },
      "execution_count": null,
      "outputs": [
        {
          "output_type": "display_data",
          "data": {
            "text/plain": [
              "<IPython.core.display.HTML object>"
            ],
            "text/html": [
              "\n",
              "  <style>\n",
              "    pre {\n",
              "        white-space: pre-wrap;\n",
              "    }\n",
              "  </style>\n",
              "  "
            ]
          },
          "metadata": {}
        },
        {
          "output_type": "stream",
          "name": "stdout",
          "text": [
            "31788324\n",
            "time: 1.45 ms (started: 2022-05-04 22:47:44 +00:00)\n"
          ]
        }
      ]
    },
    {
      "cell_type": "code",
      "source": [
        "min_price_item = transaction_df.nsmallest(2,['price'])"
      ],
      "metadata": {
        "colab": {
          "base_uri": "https://localhost:8080/",
          "height": 35
        },
        "id": "Ruw8xne1bbVV",
        "outputId": "913ae626-a305-4023-dfa4-6410aeb12f59"
      },
      "execution_count": null,
      "outputs": [
        {
          "output_type": "display_data",
          "data": {
            "text/plain": [
              "<IPython.core.display.HTML object>"
            ],
            "text/html": [
              "\n",
              "  <style>\n",
              "    pre {\n",
              "        white-space: pre-wrap;\n",
              "    }\n",
              "  </style>\n",
              "  "
            ]
          },
          "metadata": {}
        },
        {
          "output_type": "stream",
          "name": "stdout",
          "text": [
            "time: 1.68 s (started: 2022-05-04 11:51:30 +00:00)\n"
          ]
        }
      ]
    },
    {
      "cell_type": "markdown",
      "metadata": {
        "id": "smb6Ar-9ReJT"
      },
      "source": [
        "## Explore Trending"
      ]
    },
    {
      "cell_type": "code",
      "source": [
        "import gc\n",
        "import pandas as pd\n",
        "\n",
        "del [[article_sim_df,transaction_df]]\n",
        "gc.collect()\n",
        "article_sim_df=pd.DataFrame()\n",
        "transaction_df=pd.DataFrame()"
      ],
      "metadata": {
        "colab": {
          "base_uri": "https://localhost:8080/",
          "height": 35
        },
        "id": "HX0wCkxdsBsL",
        "outputId": "77aa0481-5293-4afe-d0b8-e9887ab5c37a"
      },
      "execution_count": null,
      "outputs": [
        {
          "output_type": "display_data",
          "data": {
            "text/plain": [
              "<IPython.core.display.HTML object>"
            ],
            "text/html": [
              "\n",
              "  <style>\n",
              "    pre {\n",
              "        white-space: pre-wrap;\n",
              "    }\n",
              "  </style>\n",
              "  "
            ]
          },
          "metadata": {}
        },
        {
          "output_type": "stream",
          "name": "stdout",
          "text": [
            "time: 652 ms (started: 2022-05-04 22:47:44 +00:00)\n"
          ]
        }
      ]
    },
    {
      "cell_type": "code",
      "execution_count": null,
      "metadata": {
        "colab": {
          "base_uri": "https://localhost:8080/",
          "height": 35
        },
        "id": "hghiWfWmR9ec",
        "outputId": "e6def502-b344-443c-8854-43931500bdb4"
      },
      "outputs": [
        {
          "output_type": "display_data",
          "data": {
            "text/plain": [
              "<IPython.core.display.HTML object>"
            ],
            "text/html": [
              "\n",
              "  <style>\n",
              "    pre {\n",
              "        white-space: pre-wrap;\n",
              "    }\n",
              "  </style>\n",
              "  "
            ]
          },
          "metadata": {}
        },
        {
          "output_type": "stream",
          "name": "stdout",
          "text": [
            "time: 3.35 ms (started: 2022-05-04 22:47:45 +00:00)\n"
          ]
        }
      ],
      "source": [
        "import pandas as pd\n",
        "import numpy as np\n",
        "from math import sqrt\n",
        "from pathlib import Path\n",
        "from tqdm import tqdm\n",
        "tqdm.pandas()\n",
        "\n",
        "N = 12"
      ]
    },
    {
      "cell_type": "code",
      "source": [
        "# # Last month transactions\n",
        "\n",
        "# transaction_df['t_dat'] = pd.to_datetime(transaction_df['t_dat'])\n",
        "# last_ts = transaction_df['t_dat'].max()\n",
        "# print(\"last_ts\", last_ts)\n",
        "# mask = (transaction_df['t_dat'] > '2020-08-22') & (transaction_df['t_dat'] <= '2020-09-22')\n",
        "# last_month_transactions = transaction_df.loc[mask]"
      ],
      "metadata": {
        "id": "MuPiCt8ppzYM"
      },
      "execution_count": null,
      "outputs": []
    },
    {
      "cell_type": "code",
      "execution_count": null,
      "metadata": {
        "colab": {
          "base_uri": "https://localhost:8080/",
          "height": 35
        },
        "id": "-UEMW5phRdc4",
        "outputId": "f9b7e5b2-bb6a-4bd3-f17d-293b8c0f3529"
      },
      "outputs": [
        {
          "output_type": "display_data",
          "data": {
            "text/plain": [
              "<IPython.core.display.HTML object>"
            ],
            "text/html": [
              "\n",
              "  <style>\n",
              "    pre {\n",
              "        white-space: pre-wrap;\n",
              "    }\n",
              "  </style>\n",
              "  "
            ]
          },
          "metadata": {}
        },
        {
          "output_type": "stream",
          "name": "stdout",
          "text": [
            "time: 35.2 s (started: 2022-05-04 10:28:25 +00:00)\n"
          ]
        }
      ],
      "source": [
        "# df_trans = pd.read_csv('/kaggle/input/h-and-m-personalized-fashion-recommendations/transactions_train.csv',dtype={'article_id': str})\n",
        "# df_trans = pd.read_csv(\"/content/drive/MyDrive/CSCI_567_ML/Data/transactions_train.csv\",dtype={'article_id': str})"
      ]
    },
    {
      "cell_type": "code",
      "source": [
        "df = articles_for_merge[:10]"
      ],
      "metadata": {
        "colab": {
          "base_uri": "https://localhost:8080/",
          "height": 35
        },
        "id": "ruMBY8zPpdt3",
        "outputId": "60558cd6-ae6c-4346-c2ba-b67486f22fd3"
      },
      "execution_count": null,
      "outputs": [
        {
          "output_type": "display_data",
          "data": {
            "text/plain": [
              "<IPython.core.display.HTML object>"
            ],
            "text/html": [
              "\n",
              "  <style>\n",
              "    pre {\n",
              "        white-space: pre-wrap;\n",
              "    }\n",
              "  </style>\n",
              "  "
            ]
          },
          "metadata": {}
        },
        {
          "output_type": "stream",
          "name": "stdout",
          "text": [
            "time: 2.06 ms (started: 2022-05-04 22:48:37 +00:00)\n"
          ]
        }
      ]
    },
    {
      "cell_type": "code",
      "execution_count": null,
      "metadata": {
        "colab": {
          "base_uri": "https://localhost:8080/",
          "height": 144
        },
        "id": "hWynvbjIRpoA",
        "outputId": "1f1fe578-3315-41a4-991d-8934407649a6"
      },
      "outputs": [
        {
          "output_type": "display_data",
          "data": {
            "text/plain": [
              "<IPython.core.display.HTML object>"
            ],
            "text/html": [
              "\n",
              "  <style>\n",
              "    pre {\n",
              "        white-space: pre-wrap;\n",
              "    }\n",
              "  </style>\n",
              "  "
            ]
          },
          "metadata": {}
        },
        {
          "output_type": "stream",
          "name": "stdout",
          "text": [
            "time: 14.4 ms (started: 2022-05-04 22:48:38 +00:00)\n"
          ]
        },
        {
          "output_type": "stream",
          "name": "stderr",
          "text": [
            "/usr/local/lib/python3.7/dist-packages/ipykernel_launcher.py:1: SettingWithCopyWarning: \n",
            "A value is trying to be set on a copy of a slice from a DataFrame.\n",
            "Try using .loc[row_indexer,col_indexer] = value instead\n",
            "\n",
            "See the caveats in the documentation: https://pandas.pydata.org/pandas-docs/stable/user_guide/indexing.html#returning-a-view-versus-a-copy\n",
            "  \"\"\"Entry point for launching an IPython kernel.\n"
          ]
        }
      ],
      "source": [
        "df['t_dat'] = pd.to_datetime(df['t_dat'])"
      ]
    },
    {
      "cell_type": "code",
      "source": [
        "print(len(articles_for_merge))\n",
        "print(len(df))"
      ],
      "metadata": {
        "colab": {
          "base_uri": "https://localhost:8080/",
          "height": 71
        },
        "id": "lxwVQs8JnvZa",
        "outputId": "b4617bb1-1b6e-47da-e2f8-84a79d2f866a"
      },
      "execution_count": null,
      "outputs": [
        {
          "output_type": "display_data",
          "data": {
            "text/plain": [
              "<IPython.core.display.HTML object>"
            ],
            "text/html": [
              "\n",
              "  <style>\n",
              "    pre {\n",
              "        white-space: pre-wrap;\n",
              "    }\n",
              "  </style>\n",
              "  "
            ]
          },
          "metadata": {}
        },
        {
          "output_type": "stream",
          "name": "stdout",
          "text": [
            "31788324\n",
            "10\n",
            "time: 2.4 ms (started: 2022-05-04 22:48:41 +00:00)\n"
          ]
        }
      ]
    },
    {
      "cell_type": "code",
      "execution_count": null,
      "metadata": {
        "colab": {
          "base_uri": "https://localhost:8080/",
          "height": 1000
        },
        "id": "QTIooavyRtD-",
        "outputId": "2d9566ab-2192-4c14-c8e4-4da3e0718694"
      },
      "outputs": [
        {
          "output_type": "display_data",
          "data": {
            "text/plain": [
              "<IPython.core.display.HTML object>"
            ],
            "text/html": [
              "\n",
              "  <style>\n",
              "    pre {\n",
              "        white-space: pre-wrap;\n",
              "    }\n",
              "  </style>\n",
              "  "
            ]
          },
          "metadata": {}
        },
        {
          "output_type": "stream",
          "name": "stdout",
          "text": [
            "last_ts 2018-09-20 00:00:00\n"
          ]
        },
        {
          "output_type": "stream",
          "name": "stderr",
          "text": [
            "100%|██████████| 10/10 [00:00<00:00, 836.15it/s]"
          ]
        },
        {
          "output_type": "stream",
          "name": "stdout",
          "text": [
            "\n",
            "\n",
            "                       t_dat\n",
            "ldbw       article_id       \n",
            "2018-09-20 501323011   1    \n",
            "           505221001   1    \n",
            "           505221004   1    \n",
            "           541518023   1    \n",
            "           598859003   1    \n",
            "                       count\n",
            "ldbw       article_id       \n",
            "2018-09-20 501323011   1    \n",
            "           505221001   1    \n",
            "           505221004   1    \n",
            "           541518023   1    \n",
            "           598859003   1    \n",
            "                                                        customer_id  \\\n",
            "0  000058a12d5b43e67d225668fa1f8d618c13dc232df0cad8ffe7ad4a1091e318   \n",
            "1  000058a12d5b43e67d225668fa1f8d618c13dc232df0cad8ffe7ad4a1091e318   \n",
            "2  00007d2de826758b65a93dd24ce629ed66842531df6699338c5570910a014cc2   \n",
            "3  00007d2de826758b65a93dd24ce629ed66842531df6699338c5570910a014cc2   \n",
            "4  00007d2de826758b65a93dd24ce629ed66842531df6699338c5570910a014cc2   \n",
            "\n",
            "   article_id     price      t_dat                 prod_name  \\\n",
            "0  663713001   0.050831 2018-09-20  Atlanta Push Body Harlow   \n",
            "1  541518023   0.030492 2018-09-20  Rae Push (Melbourne) 2p    \n",
            "2  505221004   0.015237 2018-09-20  Inca Jumper                \n",
            "3  685687003   0.016932 2018-09-20  W YODA KNIT OL OFFER       \n",
            "4  685687004   0.016932 2018-09-20  W YODA KNIT OL OFFER       \n",
            "\n",
            "  product_type_name  product_group_name        index_name colour_group_name  \\\n",
            "0  Underwear body    Underwear           Lingeries/Tights  Black              \n",
            "1  Bra               Underwear           Lingeries/Tights  Light Pink         \n",
            "2  Sweater           Garment Upper body  Divided           Pink               \n",
            "3  Sweater           Garment Upper body  Ladieswear        Pink               \n",
            "4  Sweater           Garment Upper body  Ladieswear        Dark Green         \n",
            "\n",
            "                                                                                                                                                                                                                              detail_desc  \\\n",
            "0  Lace push-up body with underwired, moulded, padded cups for a larger bust and fuller cleavage. Narrow, adjustable shoulder straps, an opening with a hook-and-eye fastening at the back and a lined gusset with concealed press-studs.   \n",
            "1  Lace push-up bras with underwired, moulded, padded cups for a larger bust and fuller cleavage. Adjustable shoulder straps and a narrow fastening at the back with two pairs of hooks and eyes.                                           \n",
            "2  Jumper in rib-knit cotton with hard-worn details, a wide, roll-edge neckline, and gently dropped shoulders.                                                                                                                              \n",
            "3  V-neck knitted jumper with long sleeves and ribbing around the neckline, cuffs and hem.                                                                                                                                                  \n",
            "4  V-neck knitted jumper with long sleeves and ribbing around the neckline, cuffs and hem.                                                                                                                                                  \n",
            "\n",
            "    sim_1_prod   sim_2_prod   sim_3_prod   sim_4_prod   sim_5_prod  \\\n",
            "0  667641001.0  874620001.0  804666001.0  703416001.0  809487001.0   \n",
            "1  699253004.0  610926002.0  351933041.0  569594001.0  492853004.0   \n",
            "2  642155001.0  693243009.0  677956001.0  788237001.0  522374002.0   \n",
            "3  708531002.0  568864003.0  636935002.0  675581008.0  690222004.0   \n",
            "4  676090001.0  911870005.0  903276001.0  674448003.0  893350002.0   \n",
            "\n",
            "    sim_6_prod   sim_7_prod   sim_8_prod   sim_9_prod  sim_10_prod  \\\n",
            "0  622031002.0  783830001.0  650040001.0  650037001.0  813613001.0   \n",
            "1  560389011.0  325087044.0  633142004.0  647822002.0  820572005.0   \n",
            "2  832819001.0  564358036.0  678942047.0  845427009.0  870518010.0   \n",
            "3  782758002.0  636935010.0  516903015.0  725216004.0  794797003.0   \n",
            "4  825688002.0  532578028.0  696996005.0  592172007.0  762619003.0   \n",
            "\n",
            "   sim_11_prod  sim_12_prod       ldbw  count  \n",
            "0  812428001.0  802529001.0 2018-09-20  1      \n",
            "1  481110019.0  639525002.0 2018-09-20  1      \n",
            "2  844932002.0  801123004.0 2018-09-20  1      \n",
            "3  543054019.0  636389002.0 2018-09-20  1      \n",
            "4  519712006.0  906100001.0 2018-09-20  1      \n"
          ]
        },
        {
          "output_type": "stream",
          "name": "stderr",
          "text": [
            "\n",
            "/usr/local/lib/python3.7/dist-packages/ipykernel_launcher.py:32: SettingWithCopyWarning: \n",
            "A value is trying to be set on a copy of a slice from a DataFrame.\n",
            "Try using .loc[row_indexer,col_indexer] = value instead\n",
            "\n",
            "See the caveats in the documentation: https://pandas.pydata.org/pandas-docs/stable/user_guide/indexing.html#returning-a-view-versus-a-copy\n"
          ]
        },
        {
          "output_type": "stream",
          "name": "stdout",
          "text": [
            "time: 287 ms (started: 2022-05-04 22:48:52 +00:00)\n"
          ]
        }
      ],
      "source": [
        "last_ts = df['t_dat'].max()\n",
        "print(\"last_ts\", last_ts)\n",
        "df['ldbw'] = df['t_dat'].progress_apply(lambda d: last_ts - (last_ts - d).floor('7D')) #~50 mins to exec this line\n",
        "weekly_sales = df.drop(['customer_id', 'prod_name', 'product_type_name', 'product_group_name', 'index_name', 'colour_group_name', 'detail_desc', 'sim_1_prod', 'sim_2_prod', 'sim_3_prod', 'sim_4_prod', 'sim_5_prod', 'sim_6_prod', 'sim_7_prod', 'sim_8_prod', 'sim_9_prod', 'sim_10_prod', 'sim_11_prod', 'sim_12_prod', 'price'], axis=1).groupby(['ldbw', 'article_id']).count()\n",
        "print(\"\\n\")\n",
        "print(weekly_sales.head())\n",
        "weekly_sales = weekly_sales.rename(columns={'t_dat': 'count'})\n",
        "print(weekly_sales.head())\n",
        "df = df.join(weekly_sales, on=['ldbw', 'article_id'])\n",
        "print(df.head())\n",
        "weekly_sales = weekly_sales.reset_index().set_index('article_id')\n",
        "last_day = last_ts.strftime('%Y-%m-%d')\n",
        "\n",
        "df = df.join(\n",
        "    weekly_sales.loc[weekly_sales['ldbw']==last_day, ['count']],\n",
        "    on='article_id', rsuffix=\"_targ\")\n",
        "\n",
        "df['count_targ'].fillna(0, inplace=True)\n",
        "del weekly_sales\n",
        "gc.collect()\n",
        "weekly_sales=pd.DataFrame()\n",
        "\n",
        "df['quotient'] = df['count_targ'] / df['count']\n",
        "\n",
        "\n"
      ]
    },
    {
      "cell_type": "code",
      "source": [
        "print(df)"
      ],
      "metadata": {
        "colab": {
          "base_uri": "https://localhost:8080/",
          "height": 1000
        },
        "id": "QfePSaJ7Q0h3",
        "outputId": "7cf5793a-915a-4f6a-fe99-039316a4c013"
      },
      "execution_count": null,
      "outputs": [
        {
          "output_type": "display_data",
          "data": {
            "text/plain": [
              "<IPython.core.display.HTML object>"
            ],
            "text/html": [
              "\n",
              "  <style>\n",
              "    pre {\n",
              "        white-space: pre-wrap;\n",
              "    }\n",
              "  </style>\n",
              "  "
            ]
          },
          "metadata": {}
        },
        {
          "output_type": "stream",
          "name": "stdout",
          "text": [
            "                                                        customer_id  \\\n",
            "0  000058a12d5b43e67d225668fa1f8d618c13dc232df0cad8ffe7ad4a1091e318   \n",
            "1  000058a12d5b43e67d225668fa1f8d618c13dc232df0cad8ffe7ad4a1091e318   \n",
            "2  00007d2de826758b65a93dd24ce629ed66842531df6699338c5570910a014cc2   \n",
            "3  00007d2de826758b65a93dd24ce629ed66842531df6699338c5570910a014cc2   \n",
            "4  00007d2de826758b65a93dd24ce629ed66842531df6699338c5570910a014cc2   \n",
            "5  00007d2de826758b65a93dd24ce629ed66842531df6699338c5570910a014cc2   \n",
            "6  00007d2de826758b65a93dd24ce629ed66842531df6699338c5570910a014cc2   \n",
            "7  00083cda041544b2fbb0e0d2905ad17da7cf1007526fb4c73235dccbbc132280   \n",
            "8  00083cda041544b2fbb0e0d2905ad17da7cf1007526fb4c73235dccbbc132280   \n",
            "9  00083cda041544b2fbb0e0d2905ad17da7cf1007526fb4c73235dccbbc132280   \n",
            "\n",
            "   article_id     price      t_dat                 prod_name  \\\n",
            "0  663713001   0.050831 2018-09-20  Atlanta Push Body Harlow   \n",
            "1  541518023   0.030492 2018-09-20  Rae Push (Melbourne) 2p    \n",
            "2  505221004   0.015237 2018-09-20  Inca Jumper                \n",
            "3  685687003   0.016932 2018-09-20  W YODA KNIT OL OFFER       \n",
            "4  685687004   0.016932 2018-09-20  W YODA KNIT OL OFFER       \n",
            "5  685687001   0.016932 2018-09-20  W YODA KNIT OL OFFER       \n",
            "6  505221001   0.020322 2018-09-20  Inca jumper                \n",
            "7  688873012   0.030492 2018-09-20  Gyda!                      \n",
            "8  501323011   0.053373 2018-09-20  Thomas paperbag wide       \n",
            "9  598859003   0.045746 2018-09-20  Fiona Wide                 \n",
            "\n",
            "  product_type_name  product_group_name        index_name colour_group_name  \\\n",
            "0  Underwear body    Underwear           Lingeries/Tights  Black              \n",
            "1  Bra               Underwear           Lingeries/Tights  Light Pink         \n",
            "2  Sweater           Garment Upper body  Divided           Pink               \n",
            "3  Sweater           Garment Upper body  Ladieswear        Pink               \n",
            "4  Sweater           Garment Upper body  Ladieswear        Dark Green         \n",
            "5  Sweater           Garment Upper body  Ladieswear        Dark Grey          \n",
            "6  Sweater           Garment Upper body  Divided           Grey               \n",
            "7  Blouse            Garment Upper body  Ladieswear        Light Beige        \n",
            "8  Trousers          Garment Lower body  Ladieswear        Black              \n",
            "9  Trousers          Garment Lower body  Ladieswear        Dark Red           \n",
            "\n",
            "                                                                                                                                                                                                                              detail_desc  \\\n",
            "0  Lace push-up body with underwired, moulded, padded cups for a larger bust and fuller cleavage. Narrow, adjustable shoulder straps, an opening with a hook-and-eye fastening at the back and a lined gusset with concealed press-studs.   \n",
            "1  Lace push-up bras with underwired, moulded, padded cups for a larger bust and fuller cleavage. Adjustable shoulder straps and a narrow fastening at the back with two pairs of hooks and eyes.                                           \n",
            "2  Jumper in rib-knit cotton with hard-worn details, a wide, roll-edge neckline, and gently dropped shoulders.                                                                                                                              \n",
            "3  V-neck knitted jumper with long sleeves and ribbing around the neckline, cuffs and hem.                                                                                                                                                  \n",
            "4  V-neck knitted jumper with long sleeves and ribbing around the neckline, cuffs and hem.                                                                                                                                                  \n",
            "5  V-neck knitted jumper with long sleeves and ribbing around the neckline, cuffs and hem.                                                                                                                                                  \n",
            "6  Jumper in rib-knit cotton with hard-worn details, a wide, roll-edge neckline, and gently dropped shoulders.                                                                                                                              \n",
            "7  Blouse in a soft weave with a narrow collar, concealed buttons down the front, long sleeves with buttoned cuffs and a rounded hem.                                                                                                       \n",
            "8  Trousers in woven fabric with a high, paper bag waist with a tie belt. Zip fly, side pockets, welt back pockets and straight, wide legs.                                                                                                 \n",
            "9  Trousers in woven fabric with a high waist, concealed hook-and-eye fastener, zip fly and straight, wide legs with creases.                                                                                                               \n",
            "\n",
            "    sim_1_prod   sim_2_prod   sim_3_prod   sim_4_prod   sim_5_prod  \\\n",
            "0  667641001.0  874620001.0  804666001.0  703416001.0  809487001.0   \n",
            "1  699253004.0  610926002.0  351933041.0  569594001.0  492853004.0   \n",
            "2  642155001.0  693243009.0  677956001.0  788237001.0  522374002.0   \n",
            "3  708531002.0  568864003.0  636935002.0  675581008.0  690222004.0   \n",
            "4  676090001.0  911870005.0  903276001.0  674448003.0  893350002.0   \n",
            "5  874754003.0  718747002.0  866665002.0  399036011.0  879088001.0   \n",
            "6  826500002.0  574304002.0  675581002.0  707324002.0  651461001.0   \n",
            "7  672625007.0  642296002.0  752379004.0  820821003.0  615182007.0   \n",
            "8  827687001.0  549257001.0  690935001.0  664647030.0  466599008.0   \n",
            "9  732874001.0  680186002.0  681913006.0  936428002.0  649671005.0   \n",
            "\n",
            "    sim_6_prod   sim_7_prod   sim_8_prod   sim_9_prod  sim_10_prod  \\\n",
            "0  622031002.0  783830001.0  650040001.0  650037001.0  813613001.0   \n",
            "1  560389011.0  325087044.0  633142004.0  647822002.0  820572005.0   \n",
            "2  832819001.0  564358036.0  678942047.0  845427009.0  870518010.0   \n",
            "3  782758002.0  636935010.0  516903015.0  725216004.0  794797003.0   \n",
            "4  825688002.0  532578028.0  696996005.0  592172007.0  762619003.0   \n",
            "5  570579003.0  882613002.0  771759002.0  636935001.0  842245001.0   \n",
            "6  568862004.0  873279002.0  850581001.0  788327004.0  591333003.0   \n",
            "7  584104004.0  611479008.0  639573001.0  511965001.0  926432001.0   \n",
            "8  839482002.0  843537001.0  466599001.0  910449004.0  543729003.0   \n",
            "9  761501004.0  749615002.0  751706002.0  926825001.0  616632001.0   \n",
            "\n",
            "   sim_11_prod  sim_12_prod       ldbw  count  count_targ  quotient  \n",
            "0  812428001.0  802529001.0 2018-09-20  1      1           1.0       \n",
            "1  481110019.0  639525002.0 2018-09-20  1      1           1.0       \n",
            "2  844932002.0  801123004.0 2018-09-20  1      1           1.0       \n",
            "3  543054019.0  636389002.0 2018-09-20  1      1           1.0       \n",
            "4  519712006.0  906100001.0 2018-09-20  1      1           1.0       \n",
            "5  788490001.0  738943004.0 2018-09-20  1      1           1.0       \n",
            "6  785665001.0  636096001.0 2018-09-20  1      1           1.0       \n",
            "7  731689002.0  869567006.0 2018-09-20  1      1           1.0       \n",
            "8  766402008.0  718942001.0 2018-09-20  1      1           1.0       \n",
            "9  599502001.0  490176013.0 2018-09-20  1      1           1.0       \n",
            "time: 23 ms (started: 2022-05-04 22:49:14 +00:00)\n"
          ]
        }
      ]
    },
    {
      "cell_type": "code",
      "source": [
        "print(len(df))"
      ],
      "metadata": {
        "id": "5XexLJDEmuua",
        "colab": {
          "base_uri": "https://localhost:8080/",
          "height": 53
        },
        "outputId": "77a879a8-cd7b-4083-865c-84a61931e856"
      },
      "execution_count": null,
      "outputs": [
        {
          "output_type": "display_data",
          "data": {
            "text/plain": [
              "<IPython.core.display.HTML object>"
            ],
            "text/html": [
              "\n",
              "  <style>\n",
              "    pre {\n",
              "        white-space: pre-wrap;\n",
              "    }\n",
              "  </style>\n",
              "  "
            ]
          },
          "metadata": {}
        },
        {
          "output_type": "stream",
          "name": "stdout",
          "text": [
            "31788324\n",
            "time: 1.57 ms (started: 2022-05-04 16:44:47 +00:00)\n"
          ]
        }
      ]
    },
    {
      "cell_type": "code",
      "source": [
        "# df.to_csv(\"/content/drive/MyDrive/CSCI_567_ML/Data/DF_7D.csv\")"
      ],
      "metadata": {
        "id": "VKCMjVDim3CP",
        "colab": {
          "base_uri": "https://localhost:8080/",
          "height": 35
        },
        "outputId": "34db6d57-0666-49fb-87cf-1f3754206498"
      },
      "execution_count": null,
      "outputs": [
        {
          "output_type": "display_data",
          "data": {
            "text/plain": [
              "<IPython.core.display.HTML object>"
            ],
            "text/html": [
              "\n",
              "  <style>\n",
              "    pre {\n",
              "        white-space: pre-wrap;\n",
              "    }\n",
              "  </style>\n",
              "  "
            ]
          },
          "metadata": {}
        },
        {
          "output_type": "stream",
          "name": "stdout",
          "text": [
            "time: 20min 13s (started: 2022-05-04 16:44:47 +00:00)\n"
          ]
        }
      ]
    },
    {
      "cell_type": "code",
      "source": [
        "# purchase_dict = {}\n",
        "# #~35 mins for the loop\n",
        "# for i in tqdm(df.index):\n",
        "#     cust_id = df.at[i, 'customer_id']\n",
        "#     art_id = df.at[i, 'article_id']\n",
        "#     t_dat = df.at[i, 't_dat']\n",
        "\n",
        "#     if cust_id not in purchase_dict:\n",
        "#         purchase_dict[cust_id] = {}\n",
        "\n",
        "#     if art_id not in purchase_dict[cust_id]:\n",
        "#         purchase_dict[cust_id][art_id] = 0\n",
        "    \n",
        "#     x = max(1, (last_ts - t_dat).days)\n",
        "\n",
        "#     a, b, c, d = 2.5e4, 1.5e5, 2e-1, 1e3\n",
        "#     y = a / np.sqrt(x) + b * np.exp(-c*x) - d\n",
        "\n",
        "#     value = df.at[i, 'quotient'] * max(0, y)\n",
        "#     purchase_dict[cust_id][art_id] += value\n",
        "\n",
        "# target_sales = df.drop('customer_id', axis=1).groupby('article_id')['quotient'].sum()\n",
        "# general_pred = target_sales.nlargest(N).index.tolist()\n",
        "\n",
        "\n",
        "purchase_dict = {}\n",
        "#~35 mins for the loop\n",
        "for i in tqdm(df.index):\n",
        "    cust_id = df.at[i, 'customer_id']\n",
        "    art_id = df.at[i, 'article_id']\n",
        "    t_dat = df.at[i, 't_dat']\n",
        "\n",
        "    if cust_id not in purchase_dict:\n",
        "        purchase_dict[cust_id] = {}\n",
        "\n",
        "    if art_id not in purchase_dict[cust_id]:\n",
        "        purchase_dict[cust_id][art_id] = 0\n",
        "    \n",
        "    x = max(1, (last_ts - t_dat).days)\n",
        "\n",
        "    a, b, c, d = 2.5e4, 1.5e5, 2e-1, 1e3\n",
        "    y = a / np.sqrt(x) + b * np.exp(-c*x) - d\n",
        "\n",
        "    value = df.at[i, 'quotient'] * max(0, y)\n",
        "    purchase_dict[cust_id][art_id] += value\n",
        "\n",
        "target_sales = df.drop('customer_id', axis=1).groupby('article_id')['quotient'].sum()\n",
        "general_pred = target_sales.nlargest(N).index.tolist()"
      ],
      "metadata": {
        "id": "G303klCy53oW",
        "colab": {
          "base_uri": "https://localhost:8080/",
          "height": 53
        },
        "outputId": "7dc60ed4-e6bd-4ab4-da97-ac5ac428d050"
      },
      "execution_count": null,
      "outputs": [
        {
          "output_type": "display_data",
          "data": {
            "text/plain": [
              "<IPython.core.display.HTML object>"
            ],
            "text/html": [
              "\n",
              "  <style>\n",
              "    pre {\n",
              "        white-space: pre-wrap;\n",
              "    }\n",
              "  </style>\n",
              "  "
            ]
          },
          "metadata": {}
        },
        {
          "output_type": "stream",
          "name": "stderr",
          "text": [
            "100%|██████████| 10/10 [00:00<00:00, 2511.26it/s]"
          ]
        },
        {
          "output_type": "stream",
          "name": "stdout",
          "text": [
            "time: 46.4 ms (started: 2022-05-04 22:49:54 +00:00)\n"
          ]
        },
        {
          "output_type": "stream",
          "name": "stderr",
          "text": [
            "\n"
          ]
        }
      ]
    },
    {
      "cell_type": "code",
      "source": [
        "# Try trending with 2 weeks\n",
        "# ldbw = last day of billing week\n",
        "\n",
        "# df = df_trans[['t_dat', 'customer_id', 'article_id']].copy()\n",
        "# df = df_trans.copy()\n",
        "last_ts = df['t_dat'].max()\n",
        "print(\"last_ts\", last_ts)\n",
        "df['15d_ldbw'] = df['t_dat'].progress_apply(lambda d: last_ts - (last_ts - d).floor('15D')) #~50 mins to exec this line\n",
        "weekly_sales = df.drop(['customer_id', 'prod_name', 'product_type_name', 'product_group_name', 'index_name', 'colour_group_name', 'detail_desc', 'sim_1_prod', 'sim_2_prod', 'sim_3_prod', 'sim_4_prod', 'sim_5_prod', 'sim_6_prod', 'sim_7_prod', 'sim_8_prod', 'sim_9_prod', 'sim_10_prod', 'sim_11_prod', 'sim_12_prod', 'price'], axis=1).groupby(['15d_ldbw', 'article_id']).count()\n",
        "print(\"\\n\")\n",
        "print(weekly_sales.head())\n",
        "weekly_sales = weekly_sales.rename(columns={'t_dat': 'count'})\n",
        "print(weekly_sales.head())\n",
        "df = df.join(weekly_sales, on=['15d_ldbw', 'article_id'])\n",
        "print(df.head())\n",
        "weekly_sales = weekly_sales.reset_index().set_index('article_id')\n",
        "last_day = last_ts.strftime('%Y-%m-%d')\n",
        "\n",
        "df = df.join(\n",
        "    weekly_sales.loc[weekly_sales['15d_ldbw']==last_day, ['count']],\n",
        "    on='article_id', rsuffix=\"_targ\")\n",
        "\n",
        "df['count_targ'].fillna(0, inplace=True)\n",
        "del weekly_sales\n",
        "df['quotient'] = df['count_targ'] / df['count']\n",
        "\n"
      ],
      "metadata": {
        "id": "rIGCcSbPy95w"
      },
      "execution_count": null,
      "outputs": []
    },
    {
      "cell_type": "code",
      "source": [
        "df.to_csv(\"/content/drive/MyDrive/CSCI_567_ML/Data/trending_15D.csv\")"
      ],
      "metadata": {
        "id": "-g7deB-KDQVA"
      },
      "execution_count": null,
      "outputs": []
    },
    {
      "cell_type": "code",
      "source": [
        "purchase_dict = {}\n",
        "#~35 mins for the loop\n",
        "for i in tqdm(df.index):\n",
        "    cust_id = df.at[i, 'customer_id']\n",
        "    art_id = df.at[i, 'article_id']\n",
        "    t_dat = df.at[i, 't_dat']\n",
        "\n",
        "    if cust_id not in purchase_dict:\n",
        "        purchase_dict[cust_id] = {}\n",
        "\n",
        "    if art_id not in purchase_dict[cust_id]:\n",
        "        purchase_dict[cust_id][art_id] = 0\n",
        "    \n",
        "    x = max(1, (last_ts - t_dat).days)\n",
        "\n",
        "    a, b, c, d = 2.5e4, 1.5e5, 2e-1, 1e3\n",
        "    y = a / np.sqrt(x) + b * np.exp(-c*x) - d\n",
        "\n",
        "    value = df.at[i, 'quotient'] * max(0, y)\n",
        "    purchase_dict[cust_id][art_id] += value\n",
        "\n",
        "target_sales = df.drop('customer_id', axis=1).groupby('article_id')['quotient'].sum()\n",
        "general_pred = target_sales.nlargest(N).index.tolist()"
      ],
      "metadata": {
        "colab": {
          "base_uri": "https://localhost:8080/",
          "height": 53
        },
        "id": "gVoQCMBv6pku",
        "outputId": "3a1a7682-2087-420c-b686-fd0582e5ef9b"
      },
      "execution_count": null,
      "outputs": [
        {
          "output_type": "display_data",
          "data": {
            "text/plain": [
              "<IPython.core.display.HTML object>"
            ],
            "text/html": [
              "\n",
              "  <style>\n",
              "    pre {\n",
              "        white-space: pre-wrap;\n",
              "    }\n",
              "  </style>\n",
              "  "
            ]
          },
          "metadata": {}
        },
        {
          "output_type": "stream",
          "name": "stderr",
          "text": [
            "100%|██████████| 10/10 [00:00<00:00, 6719.49it/s]"
          ]
        },
        {
          "output_type": "stream",
          "name": "stdout",
          "text": [
            "time: 29 ms (started: 2022-05-04 22:50:07 +00:00)\n"
          ]
        },
        {
          "output_type": "stream",
          "name": "stderr",
          "text": [
            "\n"
          ]
        }
      ]
    },
    {
      "cell_type": "code",
      "execution_count": null,
      "metadata": {
        "colab": {
          "base_uri": "https://localhost:8080/",
          "height": 35
        },
        "id": "cS0kPWaxyIRy",
        "outputId": "ecd33062-326c-4c9a-8d0d-6b9258c0e9e5"
      },
      "outputs": [
        {
          "output_type": "display_data",
          "data": {
            "text/plain": [
              "<IPython.core.display.HTML object>"
            ],
            "text/html": [
              "\n",
              "  <style>\n",
              "    pre {\n",
              "        white-space: pre-wrap;\n",
              "    }\n",
              "  </style>\n",
              "  "
            ]
          },
          "metadata": {}
        },
        {
          "output_type": "stream",
          "name": "stdout",
          "text": [
            "time: 1.67 ms (started: 2022-05-04 22:50:09 +00:00)\n"
          ]
        }
      ],
      "source": [
        "customer_list = list(purchase_dict.keys())\n",
        "# for i in purchase_dict.keys():\n",
        "#   customer_list.extend(i)"
      ]
    },
    {
      "cell_type": "code",
      "source": [
        "len(customer_list)"
      ],
      "metadata": {
        "colab": {
          "base_uri": "https://localhost:8080/",
          "height": 35
        },
        "id": "7AiYFtjEN5I2",
        "outputId": "112d04f8-004a-475e-c248-f74a5a5b3334"
      },
      "execution_count": null,
      "outputs": [
        {
          "output_type": "display_data",
          "data": {
            "text/plain": [
              "<IPython.core.display.HTML object>"
            ],
            "text/html": [
              "\n",
              "  <style>\n",
              "    pre {\n",
              "        white-space: pre-wrap;\n",
              "    }\n",
              "  </style>\n",
              "  "
            ]
          },
          "metadata": {}
        },
        {
          "output_type": "execute_result",
          "data": {
            "text/plain": [
              "3"
            ]
          },
          "metadata": {},
          "execution_count": 28
        },
        {
          "output_type": "stream",
          "name": "stdout",
          "text": [
            "time: 3.5 ms (started: 2022-05-04 22:50:10 +00:00)\n"
          ]
        }
      ]
    },
    {
      "cell_type": "code",
      "source": [
        "print(general_pred)"
      ],
      "metadata": {
        "colab": {
          "base_uri": "https://localhost:8080/",
          "height": 53
        },
        "id": "xYDXFpqENurQ",
        "outputId": "68373812-d11c-4e4c-dc72-ffc30596a125"
      },
      "execution_count": null,
      "outputs": [
        {
          "output_type": "display_data",
          "data": {
            "text/plain": [
              "<IPython.core.display.HTML object>"
            ],
            "text/html": [
              "\n",
              "  <style>\n",
              "    pre {\n",
              "        white-space: pre-wrap;\n",
              "    }\n",
              "  </style>\n",
              "  "
            ]
          },
          "metadata": {}
        },
        {
          "output_type": "stream",
          "name": "stdout",
          "text": [
            "[501323011, 505221001, 505221004, 541518023, 598859003, 663713001, 685687001, 685687003, 685687004, 688873012]\n",
            "time: 1.46 ms (started: 2022-05-04 22:50:12 +00:00)\n"
          ]
        }
      ]
    },
    {
      "cell_type": "code",
      "source": [
        "# Step2 & Step3\n",
        "\n",
        "pairs = np.load('/content/drive/MyDrive/CSCI_567_ML/Data/pairs_cudf.npy',allow_pickle=True).item()\n",
        "sub = pd.read_csv('/content/drive/MyDrive/CSCI_567_ML/Data/sample_submission.csv')\n",
        "\n",
        "# sim_prods = df[['sim_1_prod', 'sim_2_prod', 'sim_3_prod', 'sim_4_prod', 'sim_5_prod', 'sim_6_prod', 'sim_7_prod', 'sim_8_prod', 'sim_9_prod', 'sim_10_prod', 'sim_11_prod', 'sim_12_prod']].values[df[\"article_id\"] == int(elm)][0].tolist()\n",
        "# sim_prods = [int(x) for x in sim_prods]\n",
        "# sim_prods\n",
        "\n",
        "# ~15 mins\n",
        "pred_list = []\n",
        "for cust_id in tqdm(sub['customer_id']):\n",
        "    if cust_id in purchase_dict:\n",
        "        series = pd.Series(purchase_dict[cust_id])\n",
        "        series = series[series > 150]\n",
        "        l = series.nlargest(N).index.tolist()\n",
        "        tmp_l = l.copy()\n",
        "        for elm in tmp_l:\n",
        "\n",
        "            # if len(l) < N and int(elm) in pairs.keys():\n",
        "            # print(f\"article_id = {elm}\")\n",
        "            # articles_for_merge\n",
        "            \n",
        "            if len(l) < N and int(elm) in list(df['article_id']):\n",
        "                sim_prods = df[['sim_1_prod']].values[df[\"article_id\"] == int(elm)][0].tolist()\n",
        "                # print(sim_prods)\n",
        "                sim_prods = [int(x) for x in sim_prods if str(x) != \"nan\"]\n",
        "                # print(sim_prods)\n",
        "\n",
        "                if len(sim_prods) == 0:\n",
        "                  # print(\"nan\")\n",
        "                  #for this particular element, add a general prediction\n",
        "                  if int(elm) in pairs.keys():\n",
        "                    itm = pairs[int(elm)]\n",
        "                    l.append(str(itm))\n",
        "                    # print(\"added from general pred\")\n",
        "                else:\n",
        "                  # print(f\"sim prof of {elm} = {sim_prods[0]}\")\n",
        "                  itm = sim_prods[0]\n",
        "                  l.append(str(itm))\n",
        "                  # print(\"added from sim mat\")\n",
        "        if len(l) < N:            \n",
        "            l = l + general_pred[:(N-len(l))]\n",
        "            # print(\"added from general pred\")\n",
        "    else:\n",
        "        l = general_pred\n",
        "    # print(l)\n",
        "    l = ['0'+str(x) for x in l]\n",
        "    pred_list.append(' '.join(l))\n",
        "\n",
        "# sub['prediction'] = pred_list"
      ],
      "metadata": {
        "id": "OfxaadIT0S9e",
        "colab": {
          "base_uri": "https://localhost:8080/",
          "height": 53
        },
        "outputId": "3aeb01c6-3a78-42a8-9728-0d3bfb2f6d8f"
      },
      "execution_count": null,
      "outputs": [
        {
          "output_type": "display_data",
          "data": {
            "text/plain": [
              "<IPython.core.display.HTML object>"
            ],
            "text/html": [
              "\n",
              "  <style>\n",
              "    pre {\n",
              "        white-space: pre-wrap;\n",
              "    }\n",
              "  </style>\n",
              "  "
            ]
          },
          "metadata": {}
        },
        {
          "output_type": "stream",
          "name": "stderr",
          "text": [
            "100%|██████████| 1371980/1371980 [00:06<00:00, 210426.48it/s]"
          ]
        },
        {
          "output_type": "stream",
          "name": "stdout",
          "text": [
            "time: 12.1 s (started: 2022-05-04 22:50:20 +00:00)\n"
          ]
        },
        {
          "output_type": "stream",
          "name": "stderr",
          "text": [
            "\n"
          ]
        }
      ]
    },
    {
      "cell_type": "code",
      "source": [
        "sub['prediction'] = pred_list"
      ],
      "metadata": {
        "id": "X8-7kZs-W0qI"
      },
      "execution_count": null,
      "outputs": []
    },
    {
      "cell_type": "code",
      "source": [
        "for i in pred_list:\n",
        "  print(i.split(\" \"))"
      ],
      "metadata": {
        "id": "AV63VibSUM4v"
      },
      "execution_count": null,
      "outputs": []
    },
    {
      "cell_type": "code",
      "execution_count": null,
      "metadata": {
        "colab": {
          "base_uri": "https://localhost:8080/",
          "height": 52
        },
        "id": "r0p5IcW7SUxb",
        "outputId": "77f334f3-8478-495c-c6ca-2478e68f1436"
      },
      "outputs": [
        {
          "data": {
            "text/html": [
              "\n",
              "  <style>\n",
              "    pre {\n",
              "        white-space: pre-wrap;\n",
              "    }\n",
              "  </style>\n",
              "  "
            ],
            "text/plain": [
              "<IPython.core.display.HTML object>"
            ]
          },
          "metadata": {},
          "output_type": "display_data"
        },
        {
          "name": "stderr",
          "output_type": "stream",
          "text": [
            "100%|██████████| 1371980/1371980 [14:17<00:00, 1599.56it/s]\n"
          ]
        },
        {
          "name": "stdout",
          "output_type": "stream",
          "text": [
            "time: 14min 24s (started: 2022-05-01 12:25:31 +00:00)\n"
          ]
        }
      ],
      "source": [
        "# Step2 & Step3\n",
        "\n",
        "pairs = np.load('/content/pairs_cudf.npy',allow_pickle=True).item()\n",
        "sub = pd.read_csv('/content/drive/MyDrive/CSCI_567_ML/Data/sample_submission.csv')\n",
        "\n",
        "# ~15 mins\n",
        "pred_list = []\n",
        "for cust_id in tqdm(sub['customer_id']):\n",
        "    if cust_id in purchase_dict:\n",
        "        series = pd.Series(purchase_dict[cust_id])\n",
        "        series = series[series > 150]\n",
        "        l = series.nlargest(N).index.tolist()\n",
        "        tmp_l = l.copy()\n",
        "        for elm in tmp_l:\n",
        "            if len(l) < N and int(elm) in pairs.keys():\n",
        "                itm = pairs[int(elm)]\n",
        "                l.append('0' + str(itm))\n",
        "        if len(l) < N:\n",
        "            l = l + general_pred[:(N-len(l))]\n",
        "    else:\n",
        "        l = general_pred\n",
        "    pred_list.append(' '.join(l))\n",
        "\n",
        "sub['prediction'] = pred_list"
      ]
    },
    {
      "cell_type": "code",
      "execution_count": null,
      "metadata": {
        "colab": {
          "base_uri": "https://localhost:8080/",
          "height": 34
        },
        "id": "cXZWPFwWXsgQ",
        "outputId": "62723684-dc37-4c92-b075-ca490f4ec18a"
      },
      "outputs": [
        {
          "data": {
            "text/html": [
              "\n",
              "  <style>\n",
              "    pre {\n",
              "        white-space: pre-wrap;\n",
              "    }\n",
              "  </style>\n",
              "  "
            ],
            "text/plain": [
              "<IPython.core.display.HTML object>"
            ]
          },
          "metadata": {},
          "output_type": "display_data"
        },
        {
          "name": "stdout",
          "output_type": "stream",
          "text": [
            "time: 8.11 s (started: 2022-05-01 12:39:57 +00:00)\n"
          ]
        }
      ],
      "source": [
        "sub.to_csv('/content/drive/MyDrive/CSCI_567_ML/sub_with_sim.csv')"
      ]
    },
    {
      "cell_type": "code",
      "execution_count": null,
      "metadata": {
        "colab": {
          "base_uri": "https://localhost:8080/",
          "height": 231
        },
        "id": "7IWvzadCorZF",
        "outputId": "3bd927d3-7dd3-4fa7-e5fb-e5ce9e582676"
      },
      "outputs": [
        {
          "data": {
            "text/html": [
              "\n",
              "  <style>\n",
              "    pre {\n",
              "        white-space: pre-wrap;\n",
              "    }\n",
              "  </style>\n",
              "  "
            ],
            "text/plain": [
              "<IPython.core.display.HTML object>"
            ]
          },
          "metadata": {},
          "output_type": "display_data"
        },
        {
          "data": {
            "text/html": [
              "\n",
              "  <div id=\"df-067a9abf-b5c9-4107-8655-fe7a5bbde918\">\n",
              "    <div class=\"colab-df-container\">\n",
              "      <div>\n",
              "<style scoped>\n",
              "    .dataframe tbody tr th:only-of-type {\n",
              "        vertical-align: middle;\n",
              "    }\n",
              "\n",
              "    .dataframe tbody tr th {\n",
              "        vertical-align: top;\n",
              "    }\n",
              "\n",
              "    .dataframe thead th {\n",
              "        text-align: right;\n",
              "    }\n",
              "</style>\n",
              "<table border=\"1\" class=\"dataframe\">\n",
              "  <thead>\n",
              "    <tr style=\"text-align: right;\">\n",
              "      <th></th>\n",
              "      <th>customer_id</th>\n",
              "      <th>prediction</th>\n",
              "    </tr>\n",
              "  </thead>\n",
              "  <tbody>\n",
              "    <tr>\n",
              "      <th>0</th>\n",
              "      <td>00000dbacae5abe5e23885899a1fa44253a17956c6d1c3...</td>\n",
              "      <td>0568601043 0568601006 0568601006 0568597006 04...</td>\n",
              "    </tr>\n",
              "    <tr>\n",
              "      <th>1</th>\n",
              "      <td>0000423b00ade91418cceaf3b26c6af3dd342b51fd051e...</td>\n",
              "      <td>0826211002 0800436010 0739590027 0706016001 06...</td>\n",
              "    </tr>\n",
              "    <tr>\n",
              "      <th>2</th>\n",
              "      <td>000058a12d5b43e67d225668fa1f8d618c13dc232df0ca...</td>\n",
              "      <td>0794321007 0852643001 0852643003 0858883002 07...</td>\n",
              "    </tr>\n",
              "    <tr>\n",
              "      <th>3</th>\n",
              "      <td>00005ca1c9ed5f5146b52ac8639a40ca9d57aeff4d1bd2...</td>\n",
              "      <td>0448509014 0573085028 0751471001 0706016001 06...</td>\n",
              "    </tr>\n",
              "    <tr>\n",
              "      <th>4</th>\n",
              "      <td>00006413d8573cd20ed7128e53b7b13819fe5cfc2d801f...</td>\n",
              "      <td>0730683050 0791587015 0896152002 0818320001 09...</td>\n",
              "    </tr>\n",
              "  </tbody>\n",
              "</table>\n",
              "</div>\n",
              "      <button class=\"colab-df-convert\" onclick=\"convertToInteractive('df-067a9abf-b5c9-4107-8655-fe7a5bbde918')\"\n",
              "              title=\"Convert this dataframe to an interactive table.\"\n",
              "              style=\"display:none;\">\n",
              "        \n",
              "  <svg xmlns=\"http://www.w3.org/2000/svg\" height=\"24px\"viewBox=\"0 0 24 24\"\n",
              "       width=\"24px\">\n",
              "    <path d=\"M0 0h24v24H0V0z\" fill=\"none\"/>\n",
              "    <path d=\"M18.56 5.44l.94 2.06.94-2.06 2.06-.94-2.06-.94-.94-2.06-.94 2.06-2.06.94zm-11 1L8.5 8.5l.94-2.06 2.06-.94-2.06-.94L8.5 2.5l-.94 2.06-2.06.94zm10 10l.94 2.06.94-2.06 2.06-.94-2.06-.94-.94-2.06-.94 2.06-2.06.94z\"/><path d=\"M17.41 7.96l-1.37-1.37c-.4-.4-.92-.59-1.43-.59-.52 0-1.04.2-1.43.59L10.3 9.45l-7.72 7.72c-.78.78-.78 2.05 0 2.83L4 21.41c.39.39.9.59 1.41.59.51 0 1.02-.2 1.41-.59l7.78-7.78 2.81-2.81c.8-.78.8-2.07 0-2.86zM5.41 20L4 18.59l7.72-7.72 1.47 1.35L5.41 20z\"/>\n",
              "  </svg>\n",
              "      </button>\n",
              "      \n",
              "  <style>\n",
              "    .colab-df-container {\n",
              "      display:flex;\n",
              "      flex-wrap:wrap;\n",
              "      gap: 12px;\n",
              "    }\n",
              "\n",
              "    .colab-df-convert {\n",
              "      background-color: #E8F0FE;\n",
              "      border: none;\n",
              "      border-radius: 50%;\n",
              "      cursor: pointer;\n",
              "      display: none;\n",
              "      fill: #1967D2;\n",
              "      height: 32px;\n",
              "      padding: 0 0 0 0;\n",
              "      width: 32px;\n",
              "    }\n",
              "\n",
              "    .colab-df-convert:hover {\n",
              "      background-color: #E2EBFA;\n",
              "      box-shadow: 0px 1px 2px rgba(60, 64, 67, 0.3), 0px 1px 3px 1px rgba(60, 64, 67, 0.15);\n",
              "      fill: #174EA6;\n",
              "    }\n",
              "\n",
              "    [theme=dark] .colab-df-convert {\n",
              "      background-color: #3B4455;\n",
              "      fill: #D2E3FC;\n",
              "    }\n",
              "\n",
              "    [theme=dark] .colab-df-convert:hover {\n",
              "      background-color: #434B5C;\n",
              "      box-shadow: 0px 1px 3px 1px rgba(0, 0, 0, 0.15);\n",
              "      filter: drop-shadow(0px 1px 2px rgba(0, 0, 0, 0.3));\n",
              "      fill: #FFFFFF;\n",
              "    }\n",
              "  </style>\n",
              "\n",
              "      <script>\n",
              "        const buttonEl =\n",
              "          document.querySelector('#df-067a9abf-b5c9-4107-8655-fe7a5bbde918 button.colab-df-convert');\n",
              "        buttonEl.style.display =\n",
              "          google.colab.kernel.accessAllowed ? 'block' : 'none';\n",
              "\n",
              "        async function convertToInteractive(key) {\n",
              "          const element = document.querySelector('#df-067a9abf-b5c9-4107-8655-fe7a5bbde918');\n",
              "          const dataTable =\n",
              "            await google.colab.kernel.invokeFunction('convertToInteractive',\n",
              "                                                     [key], {});\n",
              "          if (!dataTable) return;\n",
              "\n",
              "          const docLinkHtml = 'Like what you see? Visit the ' +\n",
              "            '<a target=\"_blank\" href=https://colab.research.google.com/notebooks/data_table.ipynb>data table notebook</a>'\n",
              "            + ' to learn more about interactive tables.';\n",
              "          element.innerHTML = '';\n",
              "          dataTable['output_type'] = 'display_data';\n",
              "          await google.colab.output.renderOutput(dataTable, element);\n",
              "          const docLink = document.createElement('div');\n",
              "          docLink.innerHTML = docLinkHtml;\n",
              "          element.appendChild(docLink);\n",
              "        }\n",
              "      </script>\n",
              "    </div>\n",
              "  </div>\n",
              "  "
            ],
            "text/plain": [
              "                                         customer_id  \\\n",
              "0  00000dbacae5abe5e23885899a1fa44253a17956c6d1c3...   \n",
              "1  0000423b00ade91418cceaf3b26c6af3dd342b51fd051e...   \n",
              "2  000058a12d5b43e67d225668fa1f8d618c13dc232df0ca...   \n",
              "3  00005ca1c9ed5f5146b52ac8639a40ca9d57aeff4d1bd2...   \n",
              "4  00006413d8573cd20ed7128e53b7b13819fe5cfc2d801f...   \n",
              "\n",
              "                                          prediction  \n",
              "0  0568601043 0568601006 0568601006 0568597006 04...  \n",
              "1  0826211002 0800436010 0739590027 0706016001 06...  \n",
              "2  0794321007 0852643001 0852643003 0858883002 07...  \n",
              "3  0448509014 0573085028 0751471001 0706016001 06...  \n",
              "4  0730683050 0791587015 0896152002 0818320001 09...  "
            ]
          },
          "execution_count": 14,
          "metadata": {},
          "output_type": "execute_result"
        },
        {
          "name": "stdout",
          "output_type": "stream",
          "text": [
            "time: 10.9 ms (started: 2022-05-01 12:40:16 +00:00)\n"
          ]
        }
      ],
      "source": [
        "sub.head()"
      ]
    },
    {
      "cell_type": "code",
      "source": [
        "#1. Get last month transactions\n",
        "#2. Merge with customer age, postal, article data\n",
        "#3. Cluster using customer age\n",
        "#4. Create trending predictions per age bucket\n"
      ],
      "metadata": {
        "id": "WGLS3YZ-qB5e"
      },
      "execution_count": null,
      "outputs": []
    },
    {
      "cell_type": "code",
      "source": [
        "# loaded_7d = pd.read_csv(\"/content/drive/MyDrive/CSCI_567_ML/Data/DF_7D.csv\")\n",
        "loaded_7d = pd.read_csv(\"/content/drive/MyDrive/CSCI_567_ML/Data/DF_7D.csv\",header = \"infer\", skiprows=0, nrows=1000)\n",
        "# df = pd.read_csv('matrix.txt',sep=',', header = \"infer\", skiprows= 1000, nrows=1000)\n"
      ],
      "metadata": {
        "colab": {
          "base_uri": "https://localhost:8080/",
          "height": 35
        },
        "id": "c-kvRai7R2OX",
        "outputId": "407e1e86-a705-4520-b620-72ac53f1b9c8"
      },
      "execution_count": null,
      "outputs": [
        {
          "output_type": "display_data",
          "data": {
            "text/plain": [
              "<IPython.core.display.HTML object>"
            ],
            "text/html": [
              "\n",
              "  <style>\n",
              "    pre {\n",
              "        white-space: pre-wrap;\n",
              "    }\n",
              "  </style>\n",
              "  "
            ]
          },
          "metadata": {}
        },
        {
          "output_type": "stream",
          "name": "stdout",
          "text": [
            "time: 21 ms (started: 2022-05-04 23:18:17 +00:00)\n"
          ]
        }
      ]
    },
    {
      "cell_type": "code",
      "source": [
        "loaded_7d.head()"
      ],
      "metadata": {
        "colab": {
          "base_uri": "https://localhost:8080/",
          "height": 1000
        },
        "id": "P0hVJr3hR_j-",
        "outputId": "4a1f00fe-720f-41a8-b585-82cd08ede94f"
      },
      "execution_count": null,
      "outputs": [
        {
          "output_type": "display_data",
          "data": {
            "text/plain": [
              "<IPython.core.display.HTML object>"
            ],
            "text/html": [
              "\n",
              "  <style>\n",
              "    pre {\n",
              "        white-space: pre-wrap;\n",
              "    }\n",
              "  </style>\n",
              "  "
            ]
          },
          "metadata": {}
        },
        {
          "output_type": "execute_result",
          "data": {
            "text/plain": [
              "   Unnamed: 0  \\\n",
              "0  0            \n",
              "1  1            \n",
              "2  2            \n",
              "3  3            \n",
              "4  4            \n",
              "\n",
              "                                                        customer_id  \\\n",
              "0  000058a12d5b43e67d225668fa1f8d618c13dc232df0cad8ffe7ad4a1091e318   \n",
              "1  000058a12d5b43e67d225668fa1f8d618c13dc232df0cad8ffe7ad4a1091e318   \n",
              "2  00007d2de826758b65a93dd24ce629ed66842531df6699338c5570910a014cc2   \n",
              "3  00007d2de826758b65a93dd24ce629ed66842531df6699338c5570910a014cc2   \n",
              "4  00007d2de826758b65a93dd24ce629ed66842531df6699338c5570910a014cc2   \n",
              "\n",
              "   article_id     price       t_dat                 prod_name  \\\n",
              "0  663713001   0.050831  2018-09-20  Atlanta Push Body Harlow   \n",
              "1  541518023   0.030492  2018-09-20  Rae Push (Melbourne) 2p    \n",
              "2  505221004   0.015237  2018-09-20  Inca Jumper                \n",
              "3  685687003   0.016932  2018-09-20  W YODA KNIT OL OFFER       \n",
              "4  685687004   0.016932  2018-09-20  W YODA KNIT OL OFFER       \n",
              "\n",
              "  product_type_name  product_group_name        index_name colour_group_name  \\\n",
              "0  Underwear body    Underwear           Lingeries/Tights  Black              \n",
              "1  Bra               Underwear           Lingeries/Tights  Light Pink         \n",
              "2  Sweater           Garment Upper body  Divided           Pink               \n",
              "3  Sweater           Garment Upper body  Ladieswear        Pink               \n",
              "4  Sweater           Garment Upper body  Ladieswear        Dark Green         \n",
              "\n",
              "                                                                                                                                                                                                                              detail_desc  \\\n",
              "0  Lace push-up body with underwired, moulded, padded cups for a larger bust and fuller cleavage. Narrow, adjustable shoulder straps, an opening with a hook-and-eye fastening at the back and a lined gusset with concealed press-studs.   \n",
              "1  Lace push-up bras with underwired, moulded, padded cups for a larger bust and fuller cleavage. Adjustable shoulder straps and a narrow fastening at the back with two pairs of hooks and eyes.                                           \n",
              "2  Jumper in rib-knit cotton with hard-worn details, a wide, roll-edge neckline, and gently dropped shoulders.                                                                                                                              \n",
              "3  V-neck knitted jumper with long sleeves and ribbing around the neckline, cuffs and hem.                                                                                                                                                  \n",
              "4  V-neck knitted jumper with long sleeves and ribbing around the neckline, cuffs and hem.                                                                                                                                                  \n",
              "\n",
              "    sim_1_prod   sim_2_prod   sim_3_prod   sim_4_prod   sim_5_prod  \\\n",
              "0  667641001.0  874620001.0  804666001.0  703416001.0  809487001.0   \n",
              "1  699253004.0  610926002.0  351933041.0  569594001.0  492853004.0   \n",
              "2  642155001.0  693243009.0  677956001.0  788237001.0  522374002.0   \n",
              "3  708531002.0  568864003.0  636935002.0  675581008.0  690222004.0   \n",
              "4  676090001.0  911870005.0  903276001.0  674448003.0  893350002.0   \n",
              "\n",
              "    sim_6_prod   sim_7_prod   sim_8_prod   sim_9_prod  sim_10_prod  \\\n",
              "0  622031002.0  783830001.0  650040001.0  650037001.0  813613001.0   \n",
              "1  560389011.0  325087044.0  633142004.0  647822002.0  820572005.0   \n",
              "2  832819001.0  564358036.0  678942047.0  845427009.0  870518010.0   \n",
              "3  782758002.0  636935010.0  516903015.0  725216004.0  794797003.0   \n",
              "4  825688002.0  532578028.0  696996005.0  592172007.0  762619003.0   \n",
              "\n",
              "   sim_11_prod  sim_12_prod        ldbw  count  count_targ  quotient  \n",
              "0  812428001.0  802529001.0  2018-09-25  40     0.0         0.0       \n",
              "1  481110019.0  639525002.0  2018-09-25  29     0.0         0.0       \n",
              "2  844932002.0  801123004.0  2018-09-25  15     0.0         0.0       \n",
              "3  543054019.0  636389002.0  2018-09-25  1184   0.0         0.0       \n",
              "4  519712006.0  906100001.0  2018-09-25  1094   0.0         0.0       "
            ],
            "text/html": [
              "<div>\n",
              "<style scoped>\n",
              "    .dataframe tbody tr th:only-of-type {\n",
              "        vertical-align: middle;\n",
              "    }\n",
              "\n",
              "    .dataframe tbody tr th {\n",
              "        vertical-align: top;\n",
              "    }\n",
              "\n",
              "    .dataframe thead th {\n",
              "        text-align: right;\n",
              "    }\n",
              "</style>\n",
              "<table border=\"1\" class=\"dataframe\">\n",
              "  <thead>\n",
              "    <tr style=\"text-align: right;\">\n",
              "      <th></th>\n",
              "      <th>Unnamed: 0</th>\n",
              "      <th>customer_id</th>\n",
              "      <th>article_id</th>\n",
              "      <th>price</th>\n",
              "      <th>t_dat</th>\n",
              "      <th>prod_name</th>\n",
              "      <th>product_type_name</th>\n",
              "      <th>product_group_name</th>\n",
              "      <th>index_name</th>\n",
              "      <th>colour_group_name</th>\n",
              "      <th>detail_desc</th>\n",
              "      <th>sim_1_prod</th>\n",
              "      <th>sim_2_prod</th>\n",
              "      <th>sim_3_prod</th>\n",
              "      <th>sim_4_prod</th>\n",
              "      <th>sim_5_prod</th>\n",
              "      <th>sim_6_prod</th>\n",
              "      <th>sim_7_prod</th>\n",
              "      <th>sim_8_prod</th>\n",
              "      <th>sim_9_prod</th>\n",
              "      <th>sim_10_prod</th>\n",
              "      <th>sim_11_prod</th>\n",
              "      <th>sim_12_prod</th>\n",
              "      <th>ldbw</th>\n",
              "      <th>count</th>\n",
              "      <th>count_targ</th>\n",
              "      <th>quotient</th>\n",
              "    </tr>\n",
              "  </thead>\n",
              "  <tbody>\n",
              "    <tr>\n",
              "      <th>0</th>\n",
              "      <td>0</td>\n",
              "      <td>000058a12d5b43e67d225668fa1f8d618c13dc232df0cad8ffe7ad4a1091e318</td>\n",
              "      <td>663713001</td>\n",
              "      <td>0.050831</td>\n",
              "      <td>2018-09-20</td>\n",
              "      <td>Atlanta Push Body Harlow</td>\n",
              "      <td>Underwear body</td>\n",
              "      <td>Underwear</td>\n",
              "      <td>Lingeries/Tights</td>\n",
              "      <td>Black</td>\n",
              "      <td>Lace push-up body with underwired, moulded, padded cups for a larger bust and fuller cleavage. Narrow, adjustable shoulder straps, an opening with a hook-and-eye fastening at the back and a lined gusset with concealed press-studs.</td>\n",
              "      <td>667641001.0</td>\n",
              "      <td>874620001.0</td>\n",
              "      <td>804666001.0</td>\n",
              "      <td>703416001.0</td>\n",
              "      <td>809487001.0</td>\n",
              "      <td>622031002.0</td>\n",
              "      <td>783830001.0</td>\n",
              "      <td>650040001.0</td>\n",
              "      <td>650037001.0</td>\n",
              "      <td>813613001.0</td>\n",
              "      <td>812428001.0</td>\n",
              "      <td>802529001.0</td>\n",
              "      <td>2018-09-25</td>\n",
              "      <td>40</td>\n",
              "      <td>0.0</td>\n",
              "      <td>0.0</td>\n",
              "    </tr>\n",
              "    <tr>\n",
              "      <th>1</th>\n",
              "      <td>1</td>\n",
              "      <td>000058a12d5b43e67d225668fa1f8d618c13dc232df0cad8ffe7ad4a1091e318</td>\n",
              "      <td>541518023</td>\n",
              "      <td>0.030492</td>\n",
              "      <td>2018-09-20</td>\n",
              "      <td>Rae Push (Melbourne) 2p</td>\n",
              "      <td>Bra</td>\n",
              "      <td>Underwear</td>\n",
              "      <td>Lingeries/Tights</td>\n",
              "      <td>Light Pink</td>\n",
              "      <td>Lace push-up bras with underwired, moulded, padded cups for a larger bust and fuller cleavage. Adjustable shoulder straps and a narrow fastening at the back with two pairs of hooks and eyes.</td>\n",
              "      <td>699253004.0</td>\n",
              "      <td>610926002.0</td>\n",
              "      <td>351933041.0</td>\n",
              "      <td>569594001.0</td>\n",
              "      <td>492853004.0</td>\n",
              "      <td>560389011.0</td>\n",
              "      <td>325087044.0</td>\n",
              "      <td>633142004.0</td>\n",
              "      <td>647822002.0</td>\n",
              "      <td>820572005.0</td>\n",
              "      <td>481110019.0</td>\n",
              "      <td>639525002.0</td>\n",
              "      <td>2018-09-25</td>\n",
              "      <td>29</td>\n",
              "      <td>0.0</td>\n",
              "      <td>0.0</td>\n",
              "    </tr>\n",
              "    <tr>\n",
              "      <th>2</th>\n",
              "      <td>2</td>\n",
              "      <td>00007d2de826758b65a93dd24ce629ed66842531df6699338c5570910a014cc2</td>\n",
              "      <td>505221004</td>\n",
              "      <td>0.015237</td>\n",
              "      <td>2018-09-20</td>\n",
              "      <td>Inca Jumper</td>\n",
              "      <td>Sweater</td>\n",
              "      <td>Garment Upper body</td>\n",
              "      <td>Divided</td>\n",
              "      <td>Pink</td>\n",
              "      <td>Jumper in rib-knit cotton with hard-worn details, a wide, roll-edge neckline, and gently dropped shoulders.</td>\n",
              "      <td>642155001.0</td>\n",
              "      <td>693243009.0</td>\n",
              "      <td>677956001.0</td>\n",
              "      <td>788237001.0</td>\n",
              "      <td>522374002.0</td>\n",
              "      <td>832819001.0</td>\n",
              "      <td>564358036.0</td>\n",
              "      <td>678942047.0</td>\n",
              "      <td>845427009.0</td>\n",
              "      <td>870518010.0</td>\n",
              "      <td>844932002.0</td>\n",
              "      <td>801123004.0</td>\n",
              "      <td>2018-09-25</td>\n",
              "      <td>15</td>\n",
              "      <td>0.0</td>\n",
              "      <td>0.0</td>\n",
              "    </tr>\n",
              "    <tr>\n",
              "      <th>3</th>\n",
              "      <td>3</td>\n",
              "      <td>00007d2de826758b65a93dd24ce629ed66842531df6699338c5570910a014cc2</td>\n",
              "      <td>685687003</td>\n",
              "      <td>0.016932</td>\n",
              "      <td>2018-09-20</td>\n",
              "      <td>W YODA KNIT OL OFFER</td>\n",
              "      <td>Sweater</td>\n",
              "      <td>Garment Upper body</td>\n",
              "      <td>Ladieswear</td>\n",
              "      <td>Pink</td>\n",
              "      <td>V-neck knitted jumper with long sleeves and ribbing around the neckline, cuffs and hem.</td>\n",
              "      <td>708531002.0</td>\n",
              "      <td>568864003.0</td>\n",
              "      <td>636935002.0</td>\n",
              "      <td>675581008.0</td>\n",
              "      <td>690222004.0</td>\n",
              "      <td>782758002.0</td>\n",
              "      <td>636935010.0</td>\n",
              "      <td>516903015.0</td>\n",
              "      <td>725216004.0</td>\n",
              "      <td>794797003.0</td>\n",
              "      <td>543054019.0</td>\n",
              "      <td>636389002.0</td>\n",
              "      <td>2018-09-25</td>\n",
              "      <td>1184</td>\n",
              "      <td>0.0</td>\n",
              "      <td>0.0</td>\n",
              "    </tr>\n",
              "    <tr>\n",
              "      <th>4</th>\n",
              "      <td>4</td>\n",
              "      <td>00007d2de826758b65a93dd24ce629ed66842531df6699338c5570910a014cc2</td>\n",
              "      <td>685687004</td>\n",
              "      <td>0.016932</td>\n",
              "      <td>2018-09-20</td>\n",
              "      <td>W YODA KNIT OL OFFER</td>\n",
              "      <td>Sweater</td>\n",
              "      <td>Garment Upper body</td>\n",
              "      <td>Ladieswear</td>\n",
              "      <td>Dark Green</td>\n",
              "      <td>V-neck knitted jumper with long sleeves and ribbing around the neckline, cuffs and hem.</td>\n",
              "      <td>676090001.0</td>\n",
              "      <td>911870005.0</td>\n",
              "      <td>903276001.0</td>\n",
              "      <td>674448003.0</td>\n",
              "      <td>893350002.0</td>\n",
              "      <td>825688002.0</td>\n",
              "      <td>532578028.0</td>\n",
              "      <td>696996005.0</td>\n",
              "      <td>592172007.0</td>\n",
              "      <td>762619003.0</td>\n",
              "      <td>519712006.0</td>\n",
              "      <td>906100001.0</td>\n",
              "      <td>2018-09-25</td>\n",
              "      <td>1094</td>\n",
              "      <td>0.0</td>\n",
              "      <td>0.0</td>\n",
              "    </tr>\n",
              "  </tbody>\n",
              "</table>\n",
              "</div>"
            ]
          },
          "metadata": {},
          "execution_count": 19
        },
        {
          "output_type": "stream",
          "name": "stdout",
          "text": [
            "time: 32.7 ms (started: 2022-05-04 23:18:19 +00:00)\n"
          ]
        }
      ]
    },
    {
      "cell_type": "code",
      "source": [
        "for cols in loaded_7d.columns:\n",
        "  print(cols)"
      ],
      "metadata": {
        "colab": {
          "base_uri": "https://localhost:8080/",
          "height": 524
        },
        "id": "-mFJ1wZXSDc6",
        "outputId": "0379a1a9-3728-496f-ffca-176acae0b3fa"
      },
      "execution_count": null,
      "outputs": [
        {
          "output_type": "display_data",
          "data": {
            "text/plain": [
              "<IPython.core.display.HTML object>"
            ],
            "text/html": [
              "\n",
              "  <style>\n",
              "    pre {\n",
              "        white-space: pre-wrap;\n",
              "    }\n",
              "  </style>\n",
              "  "
            ]
          },
          "metadata": {}
        },
        {
          "output_type": "stream",
          "name": "stdout",
          "text": [
            "Unnamed: 0\n",
            "customer_id\n",
            "article_id\n",
            "price\n",
            "t_dat\n",
            "prod_name\n",
            "product_type_name\n",
            "product_group_name\n",
            "index_name\n",
            "colour_group_name\n",
            "detail_desc\n",
            "sim_1_prod\n",
            "sim_2_prod\n",
            "sim_3_prod\n",
            "sim_4_prod\n",
            "sim_5_prod\n",
            "sim_6_prod\n",
            "sim_7_prod\n",
            "sim_8_prod\n",
            "sim_9_prod\n",
            "sim_10_prod\n",
            "sim_11_prod\n",
            "sim_12_prod\n",
            "ldbw\n",
            "count\n",
            "count_targ\n",
            "quotient\n",
            "time: 3.24 ms (started: 2022-05-04 23:18:25 +00:00)\n"
          ]
        }
      ]
    },
    {
      "cell_type": "code",
      "source": [
        "print(f'memory usage of dfTransactions : {dfTransactions.memory_usage(index=True).sum() / 1024 ** 2} KB \\n')\n",
        "dfTransactions['price'] = dfTransactions['price'].astype('float32')\n",
        "print(f'memory usage of dfTransactions after change dtype: {dfTransactions.memory_usage(index=True).sum() / 1024 ** 2} KB \\n')"
      ],
      "metadata": {
        "id": "-QYQq7bDS9fP"
      },
      "execution_count": null,
      "outputs": []
    }
  ],
  "metadata": {
    "colab": {
      "collapsed_sections": [
        "JiNFA70T575s",
        "YxS2_qxA590_",
        "YaEdEpzI5_wg",
        "zUlLZG8bquDp",
        "0NdyfPvKzDKm",
        "-xpBv4tYx2Rm",
        "0b7MGrhOx96L",
        "K2GVDm_Q1Ll2"
      ],
      "machine_shape": "hm",
      "name": "CSCI567_team72_H_and_M_fashion_Item_Similarities_with_prices.ipynb",
      "provenance": [],
      "include_colab_link": true
    },
    "kernelspec": {
      "display_name": "Python 3",
      "name": "python3"
    },
    "language_info": {
      "name": "python"
    }
  },
  "nbformat": 4,
  "nbformat_minor": 0
}